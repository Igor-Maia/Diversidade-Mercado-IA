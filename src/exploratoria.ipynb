{
 "cells": [
  {
   "cell_type": "markdown",
   "metadata": {},
   "source": [
    "# Panorama da desigualdade de gênero no mercado de Inteligência Artificial no Brasil\n",
    "\n",
    "## Prof. Dr. Neylson Crepalde"
   ]
  },
  {
   "cell_type": "code",
   "execution_count": 1,
   "metadata": {},
   "outputs": [],
   "source": [
    "import pandas as pd\n",
    "import numpy as np\n",
    "from scipy import stats\n",
    "import statsmodels.api as sm\n",
    "import statsmodels.formula.api as smf\n",
    "from statsmodels.tools.tools import add_constant\n",
    "from statsmodels.graphics.factorplots import interaction_plot\n",
    "from statsmodels.stats.outliers_influence import variance_inflation_factor as vif\n",
    "import matplotlib.pyplot as plt\n",
    "import seaborn as sns\n",
    "from deflatebr import deflate"
   ]
  },
  {
   "cell_type": "code",
   "execution_count": 2,
   "metadata": {},
   "outputs": [
    {
     "name": "stderr",
     "output_type": "stream",
     "text": [
      "C:\\Users\\Neylson\\Anaconda3\\lib\\site-packages\\IPython\\core\\interactiveshell.py:3051: DtypeWarning: Columns (6,14) have mixed types. Specify dtype option on import or set low_memory=False.\n",
      "  interactivity=interactivity, compiler=compiler, result=result)\n"
     ]
    },
    {
     "data": {
      "text/html": [
       "<div>\n",
       "<style scoped>\n",
       "    .dataframe tbody tr th:only-of-type {\n",
       "        vertical-align: middle;\n",
       "    }\n",
       "\n",
       "    .dataframe tbody tr th {\n",
       "        vertical-align: top;\n",
       "    }\n",
       "\n",
       "    .dataframe thead th {\n",
       "        text-align: right;\n",
       "    }\n",
       "</style>\n",
       "<table border=\"1\" class=\"dataframe\">\n",
       "  <thead>\n",
       "    <tr style=\"text-align: right;\">\n",
       "      <th></th>\n",
       "      <th>Ano</th>\n",
       "      <th>CNAE 2.0 Classe</th>\n",
       "      <th>Escolaridade após 2005</th>\n",
       "      <th>Qtd Hora Contr</th>\n",
       "      <th>Idade</th>\n",
       "      <th>Ind Simples</th>\n",
       "      <th>Mun Trab</th>\n",
       "      <th>Município</th>\n",
       "      <th>Nacionalidade</th>\n",
       "      <th>Brasileiro</th>\n",
       "      <th>...</th>\n",
       "      <th>Vl Remun Média Nom</th>\n",
       "      <th>Vl Remun Média (SM)</th>\n",
       "      <th>CNAE 2.0 Subclasse</th>\n",
       "      <th>Sexo Trabalhador</th>\n",
       "      <th>Tamanho Estabelecimento</th>\n",
       "      <th>Tempo Emprego</th>\n",
       "      <th>Tipo Admissão</th>\n",
       "      <th>Tipo Defic</th>\n",
       "      <th>Tipo Salário</th>\n",
       "      <th>Tipo Vínculo</th>\n",
       "    </tr>\n",
       "  </thead>\n",
       "  <tbody>\n",
       "    <tr>\n",
       "      <th>0</th>\n",
       "      <td>2008</td>\n",
       "      <td>62015.0</td>\n",
       "      <td>1.0</td>\n",
       "      <td>44.0</td>\n",
       "      <td>21.0</td>\n",
       "      <td>0.0</td>\n",
       "      <td>0000-1</td>\n",
       "      <td>320530.0</td>\n",
       "      <td>10.0</td>\n",
       "      <td>1</td>\n",
       "      <td>...</td>\n",
       "      <td>1232.62</td>\n",
       "      <td>2.96</td>\n",
       "      <td>6201500.0</td>\n",
       "      <td>Masculino</td>\n",
       "      <td>4.0</td>\n",
       "      <td>4.7</td>\n",
       "      <td>2.0</td>\n",
       "      <td>0.0</td>\n",
       "      <td>NaN</td>\n",
       "      <td>10.0</td>\n",
       "    </tr>\n",
       "    <tr>\n",
       "      <th>1</th>\n",
       "      <td>2008</td>\n",
       "      <td>62015.0</td>\n",
       "      <td>1.0</td>\n",
       "      <td>44.0</td>\n",
       "      <td>23.0</td>\n",
       "      <td>0.0</td>\n",
       "      <td>0000-1</td>\n",
       "      <td>320530.0</td>\n",
       "      <td>10.0</td>\n",
       "      <td>1</td>\n",
       "      <td>...</td>\n",
       "      <td>1173.30</td>\n",
       "      <td>2.82</td>\n",
       "      <td>6201500.0</td>\n",
       "      <td>Masculino</td>\n",
       "      <td>4.0</td>\n",
       "      <td>2.3</td>\n",
       "      <td>1.0</td>\n",
       "      <td>0.0</td>\n",
       "      <td>NaN</td>\n",
       "      <td>10.0</td>\n",
       "    </tr>\n",
       "    <tr>\n",
       "      <th>2</th>\n",
       "      <td>2008</td>\n",
       "      <td>62031.0</td>\n",
       "      <td>2.0</td>\n",
       "      <td>44.0</td>\n",
       "      <td>34.0</td>\n",
       "      <td>0.0</td>\n",
       "      <td>0000-1</td>\n",
       "      <td>320530.0</td>\n",
       "      <td>10.0</td>\n",
       "      <td>1</td>\n",
       "      <td>...</td>\n",
       "      <td>1800.00</td>\n",
       "      <td>4.44</td>\n",
       "      <td>6203100.0</td>\n",
       "      <td>Masculino</td>\n",
       "      <td>5.0</td>\n",
       "      <td>77.9</td>\n",
       "      <td>0.0</td>\n",
       "      <td>0.0</td>\n",
       "      <td>NaN</td>\n",
       "      <td>10.0</td>\n",
       "    </tr>\n",
       "    <tr>\n",
       "      <th>3</th>\n",
       "      <td>2008</td>\n",
       "      <td>62040.0</td>\n",
       "      <td>3.0</td>\n",
       "      <td>44.0</td>\n",
       "      <td>50.0</td>\n",
       "      <td>0.0</td>\n",
       "      <td>320060</td>\n",
       "      <td>320060.0</td>\n",
       "      <td>10.0</td>\n",
       "      <td>1</td>\n",
       "      <td>...</td>\n",
       "      <td>7266.49</td>\n",
       "      <td>19.11</td>\n",
       "      <td>6204000.0</td>\n",
       "      <td>Masculino</td>\n",
       "      <td>5.0</td>\n",
       "      <td>0.3</td>\n",
       "      <td>2.0</td>\n",
       "      <td>0.0</td>\n",
       "      <td>NaN</td>\n",
       "      <td>10.0</td>\n",
       "    </tr>\n",
       "    <tr>\n",
       "      <th>4</th>\n",
       "      <td>2008</td>\n",
       "      <td>62040.0</td>\n",
       "      <td>4.0</td>\n",
       "      <td>44.0</td>\n",
       "      <td>49.0</td>\n",
       "      <td>0.0</td>\n",
       "      <td>320060</td>\n",
       "      <td>320060.0</td>\n",
       "      <td>10.0</td>\n",
       "      <td>1</td>\n",
       "      <td>...</td>\n",
       "      <td>1019.76</td>\n",
       "      <td>2.45</td>\n",
       "      <td>6204000.0</td>\n",
       "      <td>Masculino</td>\n",
       "      <td>5.0</td>\n",
       "      <td>0.1</td>\n",
       "      <td>2.0</td>\n",
       "      <td>0.0</td>\n",
       "      <td>NaN</td>\n",
       "      <td>10.0</td>\n",
       "    </tr>\n",
       "    <tr>\n",
       "      <th>...</th>\n",
       "      <td>...</td>\n",
       "      <td>...</td>\n",
       "      <td>...</td>\n",
       "      <td>...</td>\n",
       "      <td>...</td>\n",
       "      <td>...</td>\n",
       "      <td>...</td>\n",
       "      <td>...</td>\n",
       "      <td>...</td>\n",
       "      <td>...</td>\n",
       "      <td>...</td>\n",
       "      <td>...</td>\n",
       "      <td>...</td>\n",
       "      <td>...</td>\n",
       "      <td>...</td>\n",
       "      <td>...</td>\n",
       "      <td>...</td>\n",
       "      <td>...</td>\n",
       "      <td>...</td>\n",
       "      <td>...</td>\n",
       "      <td>...</td>\n",
       "    </tr>\n",
       "    <tr>\n",
       "      <th>2306533</th>\n",
       "      <td>2017</td>\n",
       "      <td>62015.0</td>\n",
       "      <td>10.0</td>\n",
       "      <td>40.0</td>\n",
       "      <td>54.0</td>\n",
       "      <td>0.0</td>\n",
       "      <td>355030</td>\n",
       "      <td>355030.0</td>\n",
       "      <td>10.0</td>\n",
       "      <td>1</td>\n",
       "      <td>...</td>\n",
       "      <td>9860.01</td>\n",
       "      <td>10.52</td>\n",
       "      <td>6201501.0</td>\n",
       "      <td>Feminino</td>\n",
       "      <td>10.0</td>\n",
       "      <td>8.9</td>\n",
       "      <td>2.0</td>\n",
       "      <td>0.0</td>\n",
       "      <td>NaN</td>\n",
       "      <td>10.0</td>\n",
       "    </tr>\n",
       "    <tr>\n",
       "      <th>2306534</th>\n",
       "      <td>2017</td>\n",
       "      <td>62040.0</td>\n",
       "      <td>10.0</td>\n",
       "      <td>40.0</td>\n",
       "      <td>41.0</td>\n",
       "      <td>0.0</td>\n",
       "      <td>0</td>\n",
       "      <td>355030.0</td>\n",
       "      <td>10.0</td>\n",
       "      <td>1</td>\n",
       "      <td>...</td>\n",
       "      <td>2799.10</td>\n",
       "      <td>2.98</td>\n",
       "      <td>6204000.0</td>\n",
       "      <td>Feminino</td>\n",
       "      <td>4.0</td>\n",
       "      <td>5.9</td>\n",
       "      <td>2.0</td>\n",
       "      <td>0.0</td>\n",
       "      <td>NaN</td>\n",
       "      <td>10.0</td>\n",
       "    </tr>\n",
       "    <tr>\n",
       "      <th>2306535</th>\n",
       "      <td>2017</td>\n",
       "      <td>62015.0</td>\n",
       "      <td>10.0</td>\n",
       "      <td>40.0</td>\n",
       "      <td>35.0</td>\n",
       "      <td>0.0</td>\n",
       "      <td>355030</td>\n",
       "      <td>355030.0</td>\n",
       "      <td>10.0</td>\n",
       "      <td>1</td>\n",
       "      <td>...</td>\n",
       "      <td>6306.81</td>\n",
       "      <td>6.72</td>\n",
       "      <td>6201501.0</td>\n",
       "      <td>Feminino</td>\n",
       "      <td>10.0</td>\n",
       "      <td>23.6</td>\n",
       "      <td>0.0</td>\n",
       "      <td>0.0</td>\n",
       "      <td>NaN</td>\n",
       "      <td>10.0</td>\n",
       "    </tr>\n",
       "    <tr>\n",
       "      <th>2306536</th>\n",
       "      <td>2017</td>\n",
       "      <td>62015.0</td>\n",
       "      <td>10.0</td>\n",
       "      <td>40.0</td>\n",
       "      <td>32.0</td>\n",
       "      <td>0.0</td>\n",
       "      <td>0</td>\n",
       "      <td>350570.0</td>\n",
       "      <td>27.0</td>\n",
       "      <td>0</td>\n",
       "      <td>...</td>\n",
       "      <td>1142.85</td>\n",
       "      <td>1.21</td>\n",
       "      <td>6201501.0</td>\n",
       "      <td>Feminino</td>\n",
       "      <td>7.0</td>\n",
       "      <td>6.3</td>\n",
       "      <td>1.0</td>\n",
       "      <td>0.0</td>\n",
       "      <td>NaN</td>\n",
       "      <td>10.0</td>\n",
       "    </tr>\n",
       "    <tr>\n",
       "      <th>2306537</th>\n",
       "      <td>2017</td>\n",
       "      <td>62015.0</td>\n",
       "      <td>10.0</td>\n",
       "      <td>40.0</td>\n",
       "      <td>49.0</td>\n",
       "      <td>0.0</td>\n",
       "      <td>355030</td>\n",
       "      <td>355030.0</td>\n",
       "      <td>10.0</td>\n",
       "      <td>1</td>\n",
       "      <td>...</td>\n",
       "      <td>5632.08</td>\n",
       "      <td>6.00</td>\n",
       "      <td>6201501.0</td>\n",
       "      <td>Feminino</td>\n",
       "      <td>10.0</td>\n",
       "      <td>9.7</td>\n",
       "      <td>2.0</td>\n",
       "      <td>0.0</td>\n",
       "      <td>NaN</td>\n",
       "      <td>10.0</td>\n",
       "    </tr>\n",
       "  </tbody>\n",
       "</table>\n",
       "<p>2306538 rows × 27 columns</p>\n",
       "</div>"
      ],
      "text/plain": [
       "          Ano  CNAE 2.0 Classe  Escolaridade após 2005  Qtd Hora Contr  Idade  \\\n",
       "0        2008          62015.0                     1.0            44.0   21.0   \n",
       "1        2008          62015.0                     1.0            44.0   23.0   \n",
       "2        2008          62031.0                     2.0            44.0   34.0   \n",
       "3        2008          62040.0                     3.0            44.0   50.0   \n",
       "4        2008          62040.0                     4.0            44.0   49.0   \n",
       "...       ...              ...                     ...             ...    ...   \n",
       "2306533  2017          62015.0                    10.0            40.0   54.0   \n",
       "2306534  2017          62040.0                    10.0            40.0   41.0   \n",
       "2306535  2017          62015.0                    10.0            40.0   35.0   \n",
       "2306536  2017          62015.0                    10.0            40.0   32.0   \n",
       "2306537  2017          62015.0                    10.0            40.0   49.0   \n",
       "\n",
       "         Ind Simples Mun Trab  Município  Nacionalidade  Brasileiro  ...  \\\n",
       "0                0.0   0000-1   320530.0           10.0           1  ...   \n",
       "1                0.0   0000-1   320530.0           10.0           1  ...   \n",
       "2                0.0   0000-1   320530.0           10.0           1  ...   \n",
       "3                0.0   320060   320060.0           10.0           1  ...   \n",
       "4                0.0   320060   320060.0           10.0           1  ...   \n",
       "...              ...      ...        ...            ...         ...  ...   \n",
       "2306533          0.0   355030   355030.0           10.0           1  ...   \n",
       "2306534          0.0        0   355030.0           10.0           1  ...   \n",
       "2306535          0.0   355030   355030.0           10.0           1  ...   \n",
       "2306536          0.0        0   350570.0           27.0           0  ...   \n",
       "2306537          0.0   355030   355030.0           10.0           1  ...   \n",
       "\n",
       "         Vl Remun Média Nom  Vl Remun Média (SM)  CNAE 2.0 Subclasse  \\\n",
       "0                   1232.62                 2.96           6201500.0   \n",
       "1                   1173.30                 2.82           6201500.0   \n",
       "2                   1800.00                 4.44           6203100.0   \n",
       "3                   7266.49                19.11           6204000.0   \n",
       "4                   1019.76                 2.45           6204000.0   \n",
       "...                     ...                  ...                 ...   \n",
       "2306533             9860.01                10.52           6201501.0   \n",
       "2306534             2799.10                 2.98           6204000.0   \n",
       "2306535             6306.81                 6.72           6201501.0   \n",
       "2306536             1142.85                 1.21           6201501.0   \n",
       "2306537             5632.08                 6.00           6201501.0   \n",
       "\n",
       "        Sexo Trabalhador Tamanho Estabelecimento  Tempo Emprego  \\\n",
       "0              Masculino                     4.0            4.7   \n",
       "1              Masculino                     4.0            2.3   \n",
       "2              Masculino                     5.0           77.9   \n",
       "3              Masculino                     5.0            0.3   \n",
       "4              Masculino                     5.0            0.1   \n",
       "...                  ...                     ...            ...   \n",
       "2306533         Feminino                    10.0            8.9   \n",
       "2306534         Feminino                     4.0            5.9   \n",
       "2306535         Feminino                    10.0           23.6   \n",
       "2306536         Feminino                     7.0            6.3   \n",
       "2306537         Feminino                    10.0            9.7   \n",
       "\n",
       "         Tipo Admissão  Tipo Defic  Tipo Salário  Tipo Vínculo  \n",
       "0                  2.0         0.0           NaN          10.0  \n",
       "1                  1.0         0.0           NaN          10.0  \n",
       "2                  0.0         0.0           NaN          10.0  \n",
       "3                  2.0         0.0           NaN          10.0  \n",
       "4                  2.0         0.0           NaN          10.0  \n",
       "...                ...         ...           ...           ...  \n",
       "2306533            2.0         0.0           NaN          10.0  \n",
       "2306534            2.0         0.0           NaN          10.0  \n",
       "2306535            0.0         0.0           NaN          10.0  \n",
       "2306536            1.0         0.0           NaN          10.0  \n",
       "2306537            2.0         0.0           NaN          10.0  \n",
       "\n",
       "[2306538 rows x 27 columns]"
      ]
     },
     "execution_count": 2,
     "metadata": {},
     "output_type": "execute_result"
    }
   ],
   "source": [
    "sud = pd.read_csv(\"../data/processed/rais_2008_2018.csv\", sep='\\t')\n",
    "sud"
   ]
  },
  {
   "cell_type": "code",
   "execution_count": 3,
   "metadata": {},
   "outputs": [
    {
     "data": {
      "text/plain": [
       "Index(['Ano', 'CNAE 2.0 Classe', 'Escolaridade após 2005', 'Qtd Hora Contr',\n",
       "       'Idade', 'Ind Simples', 'Mun Trab', 'Município', 'Nacionalidade',\n",
       "       'Brasileiro', 'Natureza Jurídica', 'Ind Portador Defic',\n",
       "       'Qtd Dias Afastamento', 'Raça Cor', 'Regiões Adm DF',\n",
       "       'Vl Remun Dezembro Nom', 'Vl Remun Dezembro (SM)', 'Vl Remun Média Nom',\n",
       "       'Vl Remun Média (SM)', 'CNAE 2.0 Subclasse', 'Sexo Trabalhador',\n",
       "       'Tamanho Estabelecimento', 'Tempo Emprego', 'Tipo Admissão',\n",
       "       'Tipo Defic', 'Tipo Salário', 'Tipo Vínculo'],\n",
       "      dtype='object')"
      ]
     },
     "execution_count": 3,
     "metadata": {},
     "output_type": "execute_result"
    }
   ],
   "source": [
    "sud.columns"
   ]
  },
  {
   "cell_type": "code",
   "execution_count": 3,
   "metadata": {},
   "outputs": [
    {
     "name": "stdout",
     "output_type": "stream",
     "text": [
      "(2306538, 27)\n"
     ]
    },
    {
     "data": {
      "text/html": [
       "<div>\n",
       "<style scoped>\n",
       "    .dataframe tbody tr th:only-of-type {\n",
       "        vertical-align: middle;\n",
       "    }\n",
       "\n",
       "    .dataframe tbody tr th {\n",
       "        vertical-align: top;\n",
       "    }\n",
       "\n",
       "    .dataframe thead th {\n",
       "        text-align: right;\n",
       "    }\n",
       "</style>\n",
       "<table border=\"1\" class=\"dataframe\">\n",
       "  <thead>\n",
       "    <tr style=\"text-align: right;\">\n",
       "      <th></th>\n",
       "      <th>count</th>\n",
       "      <th>unique</th>\n",
       "      <th>top</th>\n",
       "      <th>freq</th>\n",
       "      <th>mean</th>\n",
       "      <th>std</th>\n",
       "      <th>min</th>\n",
       "      <th>25%</th>\n",
       "      <th>50%</th>\n",
       "      <th>75%</th>\n",
       "      <th>max</th>\n",
       "    </tr>\n",
       "  </thead>\n",
       "  <tbody>\n",
       "    <tr>\n",
       "      <th>Ano</th>\n",
       "      <td>2.30654e+06</td>\n",
       "      <td>NaN</td>\n",
       "      <td>NaN</td>\n",
       "      <td>NaN</td>\n",
       "      <td>2013.46</td>\n",
       "      <td>3.02507</td>\n",
       "      <td>2008</td>\n",
       "      <td>2011</td>\n",
       "      <td>2014</td>\n",
       "      <td>2016</td>\n",
       "      <td>2018</td>\n",
       "    </tr>\n",
       "    <tr>\n",
       "      <th>CNAE 2.0 Classe</th>\n",
       "      <td>2.30654e+06</td>\n",
       "      <td>NaN</td>\n",
       "      <td>NaN</td>\n",
       "      <td>NaN</td>\n",
       "      <td>62027.3</td>\n",
       "      <td>10.9053</td>\n",
       "      <td>62015</td>\n",
       "      <td>62015</td>\n",
       "      <td>62031</td>\n",
       "      <td>62040</td>\n",
       "      <td>62040</td>\n",
       "    </tr>\n",
       "    <tr>\n",
       "      <th>Escolaridade após 2005</th>\n",
       "      <td>2.30654e+06</td>\n",
       "      <td>NaN</td>\n",
       "      <td>NaN</td>\n",
       "      <td>NaN</td>\n",
       "      <td>7.29578</td>\n",
       "      <td>1.06575</td>\n",
       "      <td>0</td>\n",
       "      <td>6</td>\n",
       "      <td>8</td>\n",
       "      <td>8</td>\n",
       "      <td>10</td>\n",
       "    </tr>\n",
       "    <tr>\n",
       "      <th>Qtd Hora Contr</th>\n",
       "      <td>2.30654e+06</td>\n",
       "      <td>NaN</td>\n",
       "      <td>NaN</td>\n",
       "      <td>NaN</td>\n",
       "      <td>40.5478</td>\n",
       "      <td>5.03444</td>\n",
       "      <td>1</td>\n",
       "      <td>40</td>\n",
       "      <td>40</td>\n",
       "      <td>44</td>\n",
       "      <td>44</td>\n",
       "    </tr>\n",
       "    <tr>\n",
       "      <th>Idade</th>\n",
       "      <td>2.30654e+06</td>\n",
       "      <td>NaN</td>\n",
       "      <td>NaN</td>\n",
       "      <td>NaN</td>\n",
       "      <td>32.584</td>\n",
       "      <td>9.53904</td>\n",
       "      <td>18</td>\n",
       "      <td>26</td>\n",
       "      <td>30</td>\n",
       "      <td>37</td>\n",
       "      <td>80</td>\n",
       "    </tr>\n",
       "    <tr>\n",
       "      <th>Ind Simples</th>\n",
       "      <td>2.30654e+06</td>\n",
       "      <td>NaN</td>\n",
       "      <td>NaN</td>\n",
       "      <td>NaN</td>\n",
       "      <td>0.063281</td>\n",
       "      <td>0.243468</td>\n",
       "      <td>0</td>\n",
       "      <td>0</td>\n",
       "      <td>0</td>\n",
       "      <td>0</td>\n",
       "      <td>1</td>\n",
       "    </tr>\n",
       "    <tr>\n",
       "      <th>Mun Trab</th>\n",
       "      <td>2.30654e+06</td>\n",
       "      <td>1235</td>\n",
       "      <td>355030</td>\n",
       "      <td>587693</td>\n",
       "      <td>NaN</td>\n",
       "      <td>NaN</td>\n",
       "      <td>NaN</td>\n",
       "      <td>NaN</td>\n",
       "      <td>NaN</td>\n",
       "      <td>NaN</td>\n",
       "      <td>NaN</td>\n",
       "    </tr>\n",
       "    <tr>\n",
       "      <th>Município</th>\n",
       "      <td>2.30654e+06</td>\n",
       "      <td>NaN</td>\n",
       "      <td>NaN</td>\n",
       "      <td>NaN</td>\n",
       "      <td>344058</td>\n",
       "      <td>15727.5</td>\n",
       "      <td>310010</td>\n",
       "      <td>330455</td>\n",
       "      <td>354340</td>\n",
       "      <td>355030</td>\n",
       "      <td>355730</td>\n",
       "    </tr>\n",
       "    <tr>\n",
       "      <th>Nacionalidade</th>\n",
       "      <td>2.30654e+06</td>\n",
       "      <td>NaN</td>\n",
       "      <td>NaN</td>\n",
       "      <td>NaN</td>\n",
       "      <td>10.1947</td>\n",
       "      <td>2.60638</td>\n",
       "      <td>10</td>\n",
       "      <td>10</td>\n",
       "      <td>10</td>\n",
       "      <td>10</td>\n",
       "      <td>80</td>\n",
       "    </tr>\n",
       "    <tr>\n",
       "      <th>Brasileiro</th>\n",
       "      <td>2.30654e+06</td>\n",
       "      <td>NaN</td>\n",
       "      <td>NaN</td>\n",
       "      <td>NaN</td>\n",
       "      <td>0.992859</td>\n",
       "      <td>0.0841997</td>\n",
       "      <td>0</td>\n",
       "      <td>1</td>\n",
       "      <td>1</td>\n",
       "      <td>1</td>\n",
       "      <td>1</td>\n",
       "    </tr>\n",
       "    <tr>\n",
       "      <th>Natureza Jurídica</th>\n",
       "      <td>2.30654e+06</td>\n",
       "      <td>NaN</td>\n",
       "      <td>NaN</td>\n",
       "      <td>NaN</td>\n",
       "      <td>2074.49</td>\n",
       "      <td>92.868</td>\n",
       "      <td>1015</td>\n",
       "      <td>2054</td>\n",
       "      <td>2062</td>\n",
       "      <td>2062</td>\n",
       "      <td>4120</td>\n",
       "    </tr>\n",
       "    <tr>\n",
       "      <th>Ind Portador Defic</th>\n",
       "      <td>2.30654e+06</td>\n",
       "      <td>NaN</td>\n",
       "      <td>NaN</td>\n",
       "      <td>NaN</td>\n",
       "      <td>0.00770896</td>\n",
       "      <td>0.0874616</td>\n",
       "      <td>0</td>\n",
       "      <td>0</td>\n",
       "      <td>0</td>\n",
       "      <td>0</td>\n",
       "      <td>1</td>\n",
       "    </tr>\n",
       "    <tr>\n",
       "      <th>Qtd Dias Afastamento</th>\n",
       "      <td>2.30654e+06</td>\n",
       "      <td>NaN</td>\n",
       "      <td>NaN</td>\n",
       "      <td>NaN</td>\n",
       "      <td>2.45484</td>\n",
       "      <td>18.87</td>\n",
       "      <td>0</td>\n",
       "      <td>0</td>\n",
       "      <td>0</td>\n",
       "      <td>0</td>\n",
       "      <td>366</td>\n",
       "    </tr>\n",
       "    <tr>\n",
       "      <th>Raça Cor</th>\n",
       "      <td>2306446</td>\n",
       "      <td>6</td>\n",
       "      <td>Branca</td>\n",
       "      <td>1583407</td>\n",
       "      <td>NaN</td>\n",
       "      <td>NaN</td>\n",
       "      <td>NaN</td>\n",
       "      <td>NaN</td>\n",
       "      <td>NaN</td>\n",
       "      <td>NaN</td>\n",
       "      <td>NaN</td>\n",
       "    </tr>\n",
       "    <tr>\n",
       "      <th>Regiões Adm DF</th>\n",
       "      <td>2.30654e+06</td>\n",
       "      <td>3</td>\n",
       "      <td>0</td>\n",
       "      <td>1.94609e+06</td>\n",
       "      <td>NaN</td>\n",
       "      <td>NaN</td>\n",
       "      <td>NaN</td>\n",
       "      <td>NaN</td>\n",
       "      <td>NaN</td>\n",
       "      <td>NaN</td>\n",
       "      <td>NaN</td>\n",
       "    </tr>\n",
       "    <tr>\n",
       "      <th>Vl Remun Dezembro Nom</th>\n",
       "      <td>2.30654e+06</td>\n",
       "      <td>NaN</td>\n",
       "      <td>NaN</td>\n",
       "      <td>NaN</td>\n",
       "      <td>3345.09</td>\n",
       "      <td>5356.41</td>\n",
       "      <td>0</td>\n",
       "      <td>0</td>\n",
       "      <td>1641.01</td>\n",
       "      <td>4325.66</td>\n",
       "      <td>141601</td>\n",
       "    </tr>\n",
       "    <tr>\n",
       "      <th>Vl Remun Dezembro (SM)</th>\n",
       "      <td>2.30654e+06</td>\n",
       "      <td>NaN</td>\n",
       "      <td>NaN</td>\n",
       "      <td>NaN</td>\n",
       "      <td>4.69926</td>\n",
       "      <td>7.33713</td>\n",
       "      <td>0</td>\n",
       "      <td>0</td>\n",
       "      <td>2.38</td>\n",
       "      <td>6.12</td>\n",
       "      <td>149.79</td>\n",
       "    </tr>\n",
       "    <tr>\n",
       "      <th>Vl Remun Média Nom</th>\n",
       "      <td>2.30654e+06</td>\n",
       "      <td>NaN</td>\n",
       "      <td>NaN</td>\n",
       "      <td>NaN</td>\n",
       "      <td>4272.8</td>\n",
       "      <td>5183.47</td>\n",
       "      <td>117.88</td>\n",
       "      <td>1354.06</td>\n",
       "      <td>2503.87</td>\n",
       "      <td>5316.23</td>\n",
       "      <td>133506</td>\n",
       "    </tr>\n",
       "    <tr>\n",
       "      <th>Vl Remun Média (SM)</th>\n",
       "      <td>2.30654e+06</td>\n",
       "      <td>NaN</td>\n",
       "      <td>NaN</td>\n",
       "      <td>NaN</td>\n",
       "      <td>6.03632</td>\n",
       "      <td>7.12183</td>\n",
       "      <td>0.3</td>\n",
       "      <td>1.96</td>\n",
       "      <td>3.61</td>\n",
       "      <td>7.51</td>\n",
       "      <td>149.56</td>\n",
       "    </tr>\n",
       "    <tr>\n",
       "      <th>CNAE 2.0 Subclasse</th>\n",
       "      <td>2.30654e+06</td>\n",
       "      <td>NaN</td>\n",
       "      <td>NaN</td>\n",
       "      <td>NaN</td>\n",
       "      <td>6.20273e+06</td>\n",
       "      <td>1090.36</td>\n",
       "      <td>6.2015e+06</td>\n",
       "      <td>6.2015e+06</td>\n",
       "      <td>6.2031e+06</td>\n",
       "      <td>6.204e+06</td>\n",
       "      <td>6.204e+06</td>\n",
       "    </tr>\n",
       "    <tr>\n",
       "      <th>Sexo Trabalhador</th>\n",
       "      <td>2306538</td>\n",
       "      <td>2</td>\n",
       "      <td>Masculino</td>\n",
       "      <td>1499793</td>\n",
       "      <td>NaN</td>\n",
       "      <td>NaN</td>\n",
       "      <td>NaN</td>\n",
       "      <td>NaN</td>\n",
       "      <td>NaN</td>\n",
       "      <td>NaN</td>\n",
       "      <td>NaN</td>\n",
       "    </tr>\n",
       "    <tr>\n",
       "      <th>Tamanho Estabelecimento</th>\n",
       "      <td>2.30654e+06</td>\n",
       "      <td>NaN</td>\n",
       "      <td>NaN</td>\n",
       "      <td>NaN</td>\n",
       "      <td>6.88176</td>\n",
       "      <td>2.44406</td>\n",
       "      <td>1</td>\n",
       "      <td>5</td>\n",
       "      <td>7</td>\n",
       "      <td>9</td>\n",
       "      <td>10</td>\n",
       "    </tr>\n",
       "    <tr>\n",
       "      <th>Tempo Emprego</th>\n",
       "      <td>2.30654e+06</td>\n",
       "      <td>NaN</td>\n",
       "      <td>NaN</td>\n",
       "      <td>NaN</td>\n",
       "      <td>31.2701</td>\n",
       "      <td>54.2468</td>\n",
       "      <td>0</td>\n",
       "      <td>5.9</td>\n",
       "      <td>15.2</td>\n",
       "      <td>34.8</td>\n",
       "      <td>597.7</td>\n",
       "    </tr>\n",
       "    <tr>\n",
       "      <th>Tipo Admissão</th>\n",
       "      <td>2.30654e+06</td>\n",
       "      <td>NaN</td>\n",
       "      <td>NaN</td>\n",
       "      <td>NaN</td>\n",
       "      <td>0.814918</td>\n",
       "      <td>1.15275</td>\n",
       "      <td>0</td>\n",
       "      <td>0</td>\n",
       "      <td>0</td>\n",
       "      <td>2</td>\n",
       "      <td>9</td>\n",
       "    </tr>\n",
       "    <tr>\n",
       "      <th>Tipo Defic</th>\n",
       "      <td>2.30654e+06</td>\n",
       "      <td>NaN</td>\n",
       "      <td>NaN</td>\n",
       "      <td>NaN</td>\n",
       "      <td>0.0154248</td>\n",
       "      <td>0.209627</td>\n",
       "      <td>0</td>\n",
       "      <td>0</td>\n",
       "      <td>0</td>\n",
       "      <td>0</td>\n",
       "      <td>6</td>\n",
       "    </tr>\n",
       "    <tr>\n",
       "      <th>Tipo Salário</th>\n",
       "      <td>246355</td>\n",
       "      <td>NaN</td>\n",
       "      <td>NaN</td>\n",
       "      <td>NaN</td>\n",
       "      <td>1</td>\n",
       "      <td>0</td>\n",
       "      <td>1</td>\n",
       "      <td>1</td>\n",
       "      <td>1</td>\n",
       "      <td>1</td>\n",
       "      <td>1</td>\n",
       "    </tr>\n",
       "    <tr>\n",
       "      <th>Tipo Vínculo</th>\n",
       "      <td>2.30654e+06</td>\n",
       "      <td>NaN</td>\n",
       "      <td>NaN</td>\n",
       "      <td>NaN</td>\n",
       "      <td>12.5498</td>\n",
       "      <td>13.3533</td>\n",
       "      <td>10</td>\n",
       "      <td>10</td>\n",
       "      <td>10</td>\n",
       "      <td>10</td>\n",
       "      <td>97</td>\n",
       "    </tr>\n",
       "  </tbody>\n",
       "</table>\n",
       "</div>"
      ],
      "text/plain": [
       "                               count unique        top         freq  \\\n",
       "Ano                      2.30654e+06    NaN        NaN          NaN   \n",
       "CNAE 2.0 Classe          2.30654e+06    NaN        NaN          NaN   \n",
       "Escolaridade após 2005   2.30654e+06    NaN        NaN          NaN   \n",
       "Qtd Hora Contr           2.30654e+06    NaN        NaN          NaN   \n",
       "Idade                    2.30654e+06    NaN        NaN          NaN   \n",
       "Ind Simples              2.30654e+06    NaN        NaN          NaN   \n",
       "Mun Trab                 2.30654e+06   1235     355030       587693   \n",
       "Município                2.30654e+06    NaN        NaN          NaN   \n",
       "Nacionalidade            2.30654e+06    NaN        NaN          NaN   \n",
       "Brasileiro               2.30654e+06    NaN        NaN          NaN   \n",
       "Natureza Jurídica        2.30654e+06    NaN        NaN          NaN   \n",
       "Ind Portador Defic       2.30654e+06    NaN        NaN          NaN   \n",
       "Qtd Dias Afastamento     2.30654e+06    NaN        NaN          NaN   \n",
       "Raça Cor                     2306446      6     Branca      1583407   \n",
       "Regiões Adm DF           2.30654e+06      3          0  1.94609e+06   \n",
       "Vl Remun Dezembro Nom    2.30654e+06    NaN        NaN          NaN   \n",
       "Vl Remun Dezembro (SM)   2.30654e+06    NaN        NaN          NaN   \n",
       "Vl Remun Média Nom       2.30654e+06    NaN        NaN          NaN   \n",
       "Vl Remun Média (SM)      2.30654e+06    NaN        NaN          NaN   \n",
       "CNAE 2.0 Subclasse       2.30654e+06    NaN        NaN          NaN   \n",
       "Sexo Trabalhador             2306538      2  Masculino      1499793   \n",
       "Tamanho Estabelecimento  2.30654e+06    NaN        NaN          NaN   \n",
       "Tempo Emprego            2.30654e+06    NaN        NaN          NaN   \n",
       "Tipo Admissão            2.30654e+06    NaN        NaN          NaN   \n",
       "Tipo Defic               2.30654e+06    NaN        NaN          NaN   \n",
       "Tipo Salário                  246355    NaN        NaN          NaN   \n",
       "Tipo Vínculo             2.30654e+06    NaN        NaN          NaN   \n",
       "\n",
       "                                mean        std         min         25%  \\\n",
       "Ano                          2013.46    3.02507        2008        2011   \n",
       "CNAE 2.0 Classe              62027.3    10.9053       62015       62015   \n",
       "Escolaridade após 2005       7.29578    1.06575           0           6   \n",
       "Qtd Hora Contr               40.5478    5.03444           1          40   \n",
       "Idade                         32.584    9.53904          18          26   \n",
       "Ind Simples                 0.063281   0.243468           0           0   \n",
       "Mun Trab                         NaN        NaN         NaN         NaN   \n",
       "Município                     344058    15727.5      310010      330455   \n",
       "Nacionalidade                10.1947    2.60638          10          10   \n",
       "Brasileiro                  0.992859  0.0841997           0           1   \n",
       "Natureza Jurídica            2074.49     92.868        1015        2054   \n",
       "Ind Portador Defic        0.00770896  0.0874616           0           0   \n",
       "Qtd Dias Afastamento         2.45484      18.87           0           0   \n",
       "Raça Cor                         NaN        NaN         NaN         NaN   \n",
       "Regiões Adm DF                   NaN        NaN         NaN         NaN   \n",
       "Vl Remun Dezembro Nom        3345.09    5356.41           0           0   \n",
       "Vl Remun Dezembro (SM)       4.69926    7.33713           0           0   \n",
       "Vl Remun Média Nom            4272.8    5183.47      117.88     1354.06   \n",
       "Vl Remun Média (SM)          6.03632    7.12183         0.3        1.96   \n",
       "CNAE 2.0 Subclasse       6.20273e+06    1090.36  6.2015e+06  6.2015e+06   \n",
       "Sexo Trabalhador                 NaN        NaN         NaN         NaN   \n",
       "Tamanho Estabelecimento      6.88176    2.44406           1           5   \n",
       "Tempo Emprego                31.2701    54.2468           0         5.9   \n",
       "Tipo Admissão               0.814918    1.15275           0           0   \n",
       "Tipo Defic                 0.0154248   0.209627           0           0   \n",
       "Tipo Salário                       1          0           1           1   \n",
       "Tipo Vínculo                 12.5498    13.3533          10          10   \n",
       "\n",
       "                                50%        75%        max  \n",
       "Ano                            2014       2016       2018  \n",
       "CNAE 2.0 Classe               62031      62040      62040  \n",
       "Escolaridade após 2005            8          8         10  \n",
       "Qtd Hora Contr                   40         44         44  \n",
       "Idade                            30         37         80  \n",
       "Ind Simples                       0          0          1  \n",
       "Mun Trab                        NaN        NaN        NaN  \n",
       "Município                    354340     355030     355730  \n",
       "Nacionalidade                    10         10         80  \n",
       "Brasileiro                        1          1          1  \n",
       "Natureza Jurídica              2062       2062       4120  \n",
       "Ind Portador Defic                0          0          1  \n",
       "Qtd Dias Afastamento              0          0        366  \n",
       "Raça Cor                        NaN        NaN        NaN  \n",
       "Regiões Adm DF                  NaN        NaN        NaN  \n",
       "Vl Remun Dezembro Nom       1641.01    4325.66     141601  \n",
       "Vl Remun Dezembro (SM)         2.38       6.12     149.79  \n",
       "Vl Remun Média Nom          2503.87    5316.23     133506  \n",
       "Vl Remun Média (SM)            3.61       7.51     149.56  \n",
       "CNAE 2.0 Subclasse       6.2031e+06  6.204e+06  6.204e+06  \n",
       "Sexo Trabalhador                NaN        NaN        NaN  \n",
       "Tamanho Estabelecimento           7          9         10  \n",
       "Tempo Emprego                  15.2       34.8      597.7  \n",
       "Tipo Admissão                     0          2          9  \n",
       "Tipo Defic                        0          0          6  \n",
       "Tipo Salário                      1          1          1  \n",
       "Tipo Vínculo                     10         10         97  "
      ]
     },
     "execution_count": 3,
     "metadata": {},
     "output_type": "execute_result"
    }
   ],
   "source": [
    "print(sud.shape)\n",
    "sud.describe(include=\"all\").transpose()"
   ]
  },
  {
   "cell_type": "code",
   "execution_count": 4,
   "metadata": {},
   "outputs": [
    {
     "name": "stdout",
     "output_type": "stream",
     "text": [
      "[ 1.  2.  3.  4.  5.  6.  7.  8.  9.  0. 10.]\n"
     ]
    },
    {
     "data": {
      "text/plain": [
       "8.0     1389010\n",
       "6.0      506168\n",
       "7.0      308677\n",
       "5.0       31581\n",
       "4.0       27126\n",
       "9.0       18274\n",
       "3.0       16086\n",
       "2.0        4306\n",
       "10.0       2813\n",
       "1.0        2295\n",
       "0.0         202\n",
       "Name: Escolaridade após 2005, dtype: int64"
      ]
     },
     "execution_count": 4,
     "metadata": {},
     "output_type": "execute_result"
    }
   ],
   "source": [
    "print(sud['Escolaridade após 2005'].unique())\n",
    "sud['Escolaridade após 2005'].value_counts()"
   ]
  },
  {
   "cell_type": "code",
   "execution_count": 5,
   "metadata": {},
   "outputs": [
    {
     "data": {
      "text/plain": [
       "Masculino    1499793\n",
       "Feminino      806745\n",
       "Name: Sexo Trabalhador, dtype: int64"
      ]
     },
     "execution_count": 5,
     "metadata": {},
     "output_type": "execute_result"
    }
   ],
   "source": [
    "sud['Sexo Trabalhador'].value_counts()"
   ]
  },
  {
   "cell_type": "code",
   "execution_count": 6,
   "metadata": {},
   "outputs": [
    {
     "data": {
      "text/plain": [
       "Branca              1583407\n",
       "Parda                467188\n",
       "Não identificada     131076\n",
       "Preta                 85997\n",
       "Amarela               32415\n",
       "Indígena               6363\n",
       "Name: Raça Cor, dtype: int64"
      ]
     },
     "execution_count": 6,
     "metadata": {},
     "output_type": "execute_result"
    }
   ],
   "source": [
    "sud['Raça Cor'].value_counts()"
   ]
  },
  {
   "cell_type": "code",
   "execution_count": 7,
   "metadata": {},
   "outputs": [
    {
     "data": {
      "text/plain": [
       "1    2290068\n",
       "0      16470\n",
       "Name: Brasileiro, dtype: int64"
      ]
     },
     "execution_count": 7,
     "metadata": {},
     "output_type": "execute_result"
    }
   ],
   "source": [
    "sud.Brasileiro.value_counts()"
   ]
  },
  {
   "cell_type": "markdown",
   "metadata": {},
   "source": [
    "Muito pouco estrangeiro trabalhando na área. Talvez não seja uma variável interessante para modelar."
   ]
  },
  {
   "cell_type": "code",
   "execution_count": 8,
   "metadata": {},
   "outputs": [
    {
     "data": {
      "text/html": [
       "<div>\n",
       "<style scoped>\n",
       "    .dataframe tbody tr th:only-of-type {\n",
       "        vertical-align: middle;\n",
       "    }\n",
       "\n",
       "    .dataframe tbody tr th {\n",
       "        vertical-align: top;\n",
       "    }\n",
       "\n",
       "    .dataframe thead th {\n",
       "        text-align: right;\n",
       "    }\n",
       "</style>\n",
       "<table border=\"1\" class=\"dataframe\">\n",
       "  <thead>\n",
       "    <tr style=\"text-align: right;\">\n",
       "      <th></th>\n",
       "      <th>Vl Remun Média Nom</th>\n",
       "    </tr>\n",
       "    <tr>\n",
       "      <th>Brasileiro</th>\n",
       "      <th></th>\n",
       "    </tr>\n",
       "  </thead>\n",
       "  <tbody>\n",
       "    <tr>\n",
       "      <th>0</th>\n",
       "      <td>6298.29</td>\n",
       "    </tr>\n",
       "    <tr>\n",
       "      <th>1</th>\n",
       "      <td>2500.00</td>\n",
       "    </tr>\n",
       "  </tbody>\n",
       "</table>\n",
       "</div>"
      ],
      "text/plain": [
       "            Vl Remun Média Nom\n",
       "Brasileiro                    \n",
       "0                      6298.29\n",
       "1                      2500.00"
      ]
     },
     "execution_count": 8,
     "metadata": {},
     "output_type": "execute_result"
    }
   ],
   "source": [
    "sud.groupby(\"Brasileiro\").agg({\"Vl Remun Média Nom\": \"median\"})"
   ]
  },
  {
   "cell_type": "markdown",
   "metadata": {},
   "source": [
    "Mas a diferença salarial é gritante! Investiguemos."
   ]
  },
  {
   "cell_type": "code",
   "execution_count": 9,
   "metadata": {},
   "outputs": [
    {
     "data": {
      "text/plain": [
       "0           4.7\n",
       "1           2.3\n",
       "2          77.9\n",
       "3           0.3\n",
       "4           0.1\n",
       "           ... \n",
       "2306533     8.9\n",
       "2306534     5.9\n",
       "2306535    23.6\n",
       "2306536     6.3\n",
       "2306537     9.7\n",
       "Name: Tempo Emprego, Length: 2306538, dtype: float64"
      ]
     },
     "execution_count": 9,
     "metadata": {},
     "output_type": "execute_result"
    }
   ],
   "source": [
    "sud['Tempo Emprego']"
   ]
  },
  {
   "cell_type": "code",
   "execution_count": 10,
   "metadata": {},
   "outputs": [
    {
     "data": {
      "text/plain": [
       "(2306538, 27)"
      ]
     },
     "execution_count": 10,
     "metadata": {},
     "output_type": "execute_result"
    }
   ],
   "source": [
    "sud.shape"
   ]
  },
  {
   "cell_type": "code",
   "execution_count": 11,
   "metadata": {},
   "outputs": [
    {
     "data": {
      "text/plain": [
       "Index(['Ano', 'CNAE 2.0 Classe', 'Escolaridade após 2005', 'Qtd Hora Contr',\n",
       "       'Idade', 'Ind Simples', 'Mun Trab', 'Município', 'Nacionalidade',\n",
       "       'Brasileiro', 'Natureza Jurídica', 'Ind Portador Defic',\n",
       "       'Qtd Dias Afastamento', 'Raça Cor', 'Regiões Adm DF',\n",
       "       'Vl Remun Dezembro Nom', 'Vl Remun Dezembro (SM)', 'Vl Remun Média Nom',\n",
       "       'Vl Remun Média (SM)', 'CNAE 2.0 Subclasse', 'Sexo Trabalhador',\n",
       "       'Tamanho Estabelecimento', 'Tempo Emprego', 'Tipo Admissão',\n",
       "       'Tipo Defic', 'Tipo Salário', 'Tipo Vínculo'],\n",
       "      dtype='object')"
      ]
     },
     "execution_count": 11,
     "metadata": {},
     "output_type": "execute_result"
    }
   ],
   "source": [
    "sud.columns"
   ]
  },
  {
   "cell_type": "markdown",
   "metadata": {},
   "source": [
    "#### Variáveis de interesse para trabalhar\n",
    "\n",
    "- Sexo Trabalhador\n",
    "- Idade\n",
    "- Qtd Hora Contrat\n",
    "- Escolaridade após 2005\n",
    "- Município\n",
    "- Nacionalidade\n",
    "- Raça Cor\n",
    "- Vl Remun Dezembro Nom\n",
    "- Vl Remun Média Nom\n",
    "- Tamanho Estabelecimento\n",
    "- Tempo Emprego (em meses)\n",
    "- Brasileiro\n",
    "\n",
    "Verificar as categorias das variáveis e implementar cosntrução de labels."
   ]
  },
  {
   "cell_type": "markdown",
   "metadata": {},
   "source": [
    "---\n",
    "\n",
    "# Análise Exploratória de Dados\n",
    "\n",
    "## Sexo\n",
    "\n",
    "Existem diferenças significativas nas principais variáveis elencadas por sexo?"
   ]
  },
  {
   "cell_type": "code",
   "execution_count": 10,
   "metadata": {},
   "outputs": [
    {
     "name": "stdout",
     "output_type": "stream",
     "text": [
      "Masculino    1499793\n",
      "Feminino      806745\n",
      "Name: Sexo Trabalhador, dtype: int64\n",
      "Masculino    65.02\n",
      "Feminino     34.98\n",
      "Name: Sexo Trabalhador, dtype: float64\n"
     ]
    },
    {
     "data": {
      "image/png": "[encoded data removed]",
      "text/plain": [
       "<Figure size 720x360 with 1 Axes>"
      ]
     },
     "metadata": {},
     "output_type": "display_data"
    }
   ],
   "source": [
    "print(sud['Sexo Trabalhador'].value_counts())\n",
    "print(((sud['Sexo Trabalhador'].value_counts() / sud.shape[0] )*100).round(2))\n",
    "\n",
    "# Gráfico\n",
    "sns.set(style=\"white\")\n",
    "\n",
    "plt.figure(figsize=(10,5))\n",
    "sns.countplot(sud.loc[sud.Ano == 2018,'Sexo Trabalhador'])\n",
    "plt.title(\"Distribuição de Sexo - 2018\")\n",
    "plt.ylabel(\"\")\n",
    "plt.xlabel(\"\")\n",
    "plt.xticks([0,1],[\"Masculino\", \"Feminino\"])\n",
    "plt.show()"
   ]
  },
  {
   "cell_type": "code",
   "execution_count": 12,
   "metadata": {},
   "outputs": [],
   "source": [
    "dist_sexom = []\n",
    "dist_sexof = []\n",
    "for ano in range(2008, 2019):\n",
    "    dist_sexom.append(sud.loc[(sud.Ano == ano), 'Sexo Trabalhador'].value_counts()[0])\n",
    "    dist_sexof.append(sud.loc[(sud.Ano == ano), 'Sexo Trabalhador'].value_counts()[1])"
   ]
  },
  {
   "cell_type": "code",
   "execution_count": 13,
   "metadata": {},
   "outputs": [
    {
     "data": {
      "image/png": "[encoded data removed]",
      "text/plain": [
       "<Figure size 720x360 with 1 Axes>"
      ]
     },
     "metadata": {},
     "output_type": "display_data"
    }
   ],
   "source": [
    "sns.set(style=\"whitegrid\")\n",
    "plt.figure(figsize=(10,5))\n",
    "plt.plot(np.array(list(range(2008, 2019))), dist_sexom, c='blue', label='Masculino')\n",
    "plt.plot(np.array(list(range(2008, 2019))), dist_sexof, c='red', label='Feminino')\n",
    "plt.title(\"Número de profissionais por sexo - 2008 a 2018\")\n",
    "plt.ylabel(\"Frequência\")\n",
    "plt.legend()\n",
    "plt.xticks(np.array(list(range(2008, 2019))))\n",
    "plt.show()"
   ]
  },
  {
   "cell_type": "code",
   "execution_count": 14,
   "metadata": {},
   "outputs": [],
   "source": [
    "prop_sexom = []\n",
    "prop_sexof = []\n",
    "for ano in range(2008, 2019):\n",
    "    prop_sexom.append((sud.loc[(sud.Ano == ano), 'Sexo Trabalhador'].value_counts()[0] / sud.loc[(sud.Ano == ano), 'Sexo Trabalhador'].value_counts().sum())*100)\n",
    "    prop_sexof.append((sud.loc[(sud.Ano == ano), 'Sexo Trabalhador'].value_counts()[1] / sud.loc[(sud.Ano == ano), 'Sexo Trabalhador'].value_counts().sum())*100)"
   ]
  },
  {
   "cell_type": "code",
   "execution_count": 15,
   "metadata": {},
   "outputs": [
    {
     "data": {
      "image/png": "[encoded data removed]",
      "text/plain": [
       "<Figure size 720x360 with 1 Axes>"
      ]
     },
     "metadata": {},
     "output_type": "display_data"
    }
   ],
   "source": [
    "plt.figure(figsize=(10,5))\n",
    "plt.plot(np.array(list(range(2008, 2019))), prop_sexom, c='blue', label='Masculino')\n",
    "plt.plot(np.array(list(range(2008, 2019))), prop_sexof, c='red', label='Feminino')\n",
    "plt.suptitle(\"Proporção de profissionais trabalhando com IA por sexo - 2008 a 2018\", fontweight=\"bold\", fontsize=\"large\")\n",
    "plt.title(\"Fonte: RAIS 2008 a 2018\", loc='left')\n",
    "plt.ylabel(\"%\")\n",
    "plt.legend()\n",
    "plt.xticks(np.array(list(range(2008, 2019))))\n",
    "#plt.ylim((0,100))\n",
    "plt.show()"
   ]
  },
  {
   "cell_type": "markdown",
   "metadata": {},
   "source": [
    "## Idade"
   ]
  },
  {
   "cell_type": "code",
   "execution_count": 17,
   "metadata": {},
   "outputs": [
    {
     "data": {
      "text/plain": [
       "count    246355.000000\n",
       "mean         33.831077\n",
       "std           9.568180\n",
       "min          18.000000\n",
       "25%          27.000000\n",
       "50%          32.000000\n",
       "75%          39.000000\n",
       "max          80.000000\n",
       "Name: Idade, dtype: float64"
      ]
     },
     "execution_count": 17,
     "metadata": {},
     "output_type": "execute_result"
    }
   ],
   "source": [
    "sud.loc[sud.Ano == 2018,\"Idade\"].describe()"
   ]
  },
  {
   "cell_type": "code",
   "execution_count": 18,
   "metadata": {},
   "outputs": [
    {
     "data": {
      "text/html": [
       "<div>\n",
       "<style scoped>\n",
       "    .dataframe tbody tr th:only-of-type {\n",
       "        vertical-align: middle;\n",
       "    }\n",
       "\n",
       "    .dataframe tbody tr th {\n",
       "        vertical-align: top;\n",
       "    }\n",
       "\n",
       "    .dataframe thead th {\n",
       "        text-align: right;\n",
       "    }\n",
       "</style>\n",
       "<table border=\"1\" class=\"dataframe\">\n",
       "  <thead>\n",
       "    <tr style=\"text-align: right;\">\n",
       "      <th></th>\n",
       "      <th>Idade</th>\n",
       "    </tr>\n",
       "    <tr>\n",
       "      <th>Sexo Trabalhador</th>\n",
       "      <th></th>\n",
       "    </tr>\n",
       "  </thead>\n",
       "  <tbody>\n",
       "    <tr>\n",
       "      <th>Feminino</th>\n",
       "      <td>33.536469</td>\n",
       "    </tr>\n",
       "    <tr>\n",
       "      <th>Masculino</th>\n",
       "      <td>33.977516</td>\n",
       "    </tr>\n",
       "  </tbody>\n",
       "</table>\n",
       "</div>"
      ],
      "text/plain": [
       "                      Idade\n",
       "Sexo Trabalhador           \n",
       "Feminino          33.536469\n",
       "Masculino         33.977516"
      ]
     },
     "execution_count": 18,
     "metadata": {},
     "output_type": "execute_result"
    }
   ],
   "source": [
    "sud.loc[sud.Ano == 2018,:].groupby(\"Sexo Trabalhador\").agg({\"Idade\": \"mean\"})"
   ]
  },
  {
   "cell_type": "code",
   "execution_count": 19,
   "metadata": {},
   "outputs": [
    {
     "data": {
      "image/png": "[encoded data removed]",
      "text/plain": [
       "<Figure size 432x288 with 1 Axes>"
      ]
     },
     "metadata": {},
     "output_type": "display_data"
    }
   ],
   "source": [
    "sns.boxplot(x=\"Sexo Trabalhador\", y=\"Idade\", data=sud.loc[sud.Ano == 2018,:])\n",
    "plt.show()"
   ]
  },
  {
   "cell_type": "code",
   "execution_count": 20,
   "metadata": {},
   "outputs": [
    {
     "data": {
      "text/plain": [
       "Ttest_indResult(statistic=10.77712897706621, pvalue=4.476375552602861e-27)"
      ]
     },
     "execution_count": 20,
     "metadata": {},
     "output_type": "execute_result"
    }
   ],
   "source": [
    "stats.ttest_ind(sud.loc[(sud[\"Sexo Trabalhador\"] == \"Masculino\") & (sud.Ano == 2018),\"Idade\"], \n",
    "                sud.loc[(sud[\"Sexo Trabalhador\"] == \"Feminino\") & (sud.Ano == 2018),\"Idade\"])"
   ]
  },
  {
   "cell_type": "markdown",
   "metadata": {},
   "source": [
    "Embora o teste T tenha dado significativo, há razões para desconfiar que o baixo p-valor se deve apenas ao fato de o $n$ ser enorme. Se o $n$ fosse menor, provavelmente essas diferenças não seriam significativas. Vamos testar com 5 mil casos aleatórios e bootstrap."
   ]
  },
  {
   "cell_type": "code",
   "execution_count": 21,
   "metadata": {},
   "outputs": [
    {
     "name": "stdout",
     "output_type": "stream",
     "text": [
      "Média dos p-valores:  0.5157\n"
     ]
    }
   ],
   "source": [
    "pvalores = []\n",
    "for i in range(1000):\n",
    "    res = stats.ttest_ind(sud.loc[(sud[\"Sexo Trabalhador\"] == \"Masculino\") & (sud.Ano == 2018),\"Idade\"].sample(n=10000), \n",
    "                          sud.loc[(sud[\"Sexo Trabalhador\"] == \"Masculino\") & (sud.Ano == 2018),\"Idade\"].sample(n=5000))\n",
    "    pvalores.append(res.pvalue)\n",
    "print(\"Média dos p-valores: \", np.mean(pvalores).round(4))"
   ]
  },
  {
   "cell_type": "code",
   "execution_count": null,
   "metadata": {},
   "outputs": [],
   "source": [
    "# Médias de Idade no tempo"
   ]
  },
  {
   "cell_type": "markdown",
   "metadata": {},
   "source": [
    "## Raça Cor"
   ]
  },
  {
   "cell_type": "code",
   "execution_count": 21,
   "metadata": {},
   "outputs": [
    {
     "data": {
      "text/html": [
       "<div>\n",
       "<style scoped>\n",
       "    .dataframe tbody tr th:only-of-type {\n",
       "        vertical-align: middle;\n",
       "    }\n",
       "\n",
       "    .dataframe tbody tr th {\n",
       "        vertical-align: top;\n",
       "    }\n",
       "\n",
       "    .dataframe thead th {\n",
       "        text-align: right;\n",
       "    }\n",
       "</style>\n",
       "<table border=\"1\" class=\"dataframe\">\n",
       "  <thead>\n",
       "    <tr style=\"text-align: right;\">\n",
       "      <th>Raça Cor</th>\n",
       "      <th>Amarela</th>\n",
       "      <th>Branca</th>\n",
       "      <th>Indígena</th>\n",
       "      <th>Não identificada</th>\n",
       "      <th>Parda</th>\n",
       "      <th>Preta</th>\n",
       "    </tr>\n",
       "    <tr>\n",
       "      <th>Sexo Trabalhador</th>\n",
       "      <th></th>\n",
       "      <th></th>\n",
       "      <th></th>\n",
       "      <th></th>\n",
       "      <th></th>\n",
       "      <th></th>\n",
       "    </tr>\n",
       "  </thead>\n",
       "  <tbody>\n",
       "    <tr>\n",
       "      <th>Feminino</th>\n",
       "      <td>1.617439</td>\n",
       "      <td>63.466429</td>\n",
       "      <td>0.293413</td>\n",
       "      <td>8.491858</td>\n",
       "      <td>21.543841</td>\n",
       "      <td>4.587021</td>\n",
       "    </tr>\n",
       "    <tr>\n",
       "      <th>Masculino</th>\n",
       "      <td>1.505235</td>\n",
       "      <td>64.070637</td>\n",
       "      <td>0.264951</td>\n",
       "      <td>8.456541</td>\n",
       "      <td>21.700424</td>\n",
       "      <td>4.002212</td>\n",
       "    </tr>\n",
       "  </tbody>\n",
       "</table>\n",
       "</div>"
      ],
      "text/plain": [
       "Raça Cor           Amarela     Branca  Indígena  Não identificada      Parda  \\\n",
       "Sexo Trabalhador                                                               \n",
       "Feminino          1.617439  63.466429  0.293413          8.491858  21.543841   \n",
       "Masculino         1.505235  64.070637  0.264951          8.456541  21.700424   \n",
       "\n",
       "Raça Cor             Preta  \n",
       "Sexo Trabalhador            \n",
       "Feminino          4.587021  \n",
       "Masculino         4.002212  "
      ]
     },
     "execution_count": 21,
     "metadata": {},
     "output_type": "execute_result"
    }
   ],
   "source": [
    "t = pd.crosstab(sud.loc[sud.Ano == 2018,'Sexo Trabalhador'], sud.loc[sud.Ano == 2018,'Raça Cor'])\n",
    "t.apply(lambda r: (r/r.sum()*100), axis=1)"
   ]
  },
  {
   "cell_type": "code",
   "execution_count": 22,
   "metadata": {},
   "outputs": [
    {
     "data": {
      "image/png": "[encoded data removed]",
      "text/plain": [
       "<Figure size 720x360 with 1 Axes>"
      ]
     },
     "metadata": {},
     "output_type": "display_data"
    }
   ],
   "source": [
    "sns.set(style=\"whitegrid\")\n",
    "t.apply(lambda r: (r/r.sum()*100), axis=1).plot(kind=\"bar\", figsize=(10,5))\n",
    "plt.xticks([0,1], ['Masculino', 'Feminino'], rotation=0)\n",
    "plt.xlabel(\"\")\n",
    "plt.ylabel(\"%\", rotation=0)\n",
    "plt.title(\"Distribuição de Raça Cor por Sexo - 2018\")\n",
    "plt.show()"
   ]
  },
  {
   "cell_type": "code",
   "execution_count": 40,
   "metadata": {},
   "outputs": [
    {
     "name": "stdout",
     "output_type": "stream",
     "text": [
      "Raça Cor          Amarela  Branca  Indígena  Não identificada  Parda  Preta\n",
      "Sexo Trabalhador                                                           \n",
      "Feminino             1323   51913       240              6946  17622   3752\n",
      "Masculino            2477  105434       436             13916  35710   6586\n"
     ]
    },
    {
     "data": {
      "text/plain": [
       "(54.42405595521234,\n",
       " 1.714683446183853e-10,\n",
       " 5,\n",
       " array([[  1261.69470886,  52243.12561953,    224.44884821,\n",
       "           6926.70395161,  17707.55321386,   3432.47365793],\n",
       "        [  2538.30529114, 105103.87438047,    451.55115179,\n",
       "          13935.29604839,  35624.44678614,   6905.52634207]]))"
      ]
     },
     "execution_count": 40,
     "metadata": {},
     "output_type": "execute_result"
    }
   ],
   "source": [
    "print(t)\n",
    "stats.chi2_contingency(t)"
   ]
  },
  {
   "cell_type": "markdown",
   "metadata": {},
   "source": [
    "Muito embora o teste $\\chi^2$ tenha dado significativo, ao observamos a tabela de valores observados e os valores esperados abaixo, vemos que eles estão bastante próximos. Poderíamos indagar se o $n$ fosse menor, esses valores não seriam significativos. Provavelmente não..."
   ]
  },
  {
   "cell_type": "code",
   "execution_count": 25,
   "metadata": {},
   "outputs": [
    {
     "name": "stdout",
     "output_type": "stream",
     "text": [
      "Média de p-valores chi2 para sexo e raça: 0.3923\n"
     ]
    }
   ],
   "source": [
    "pvalores_chi2 = []\n",
    "for i in range(1000):\n",
    "    subamostra = sud.loc[sud.Ano == 2018,:].sample(5000)\n",
    "    t1 = pd.crosstab(subamostra['Sexo Trabalhador'], subamostra['Raça Cor'])\n",
    "    pvalores_chi2.append(stats.chi2_contingency(t1)[1])\n",
    "print(\"Média de p-valores chi2 para sexo e raça:\", np.mean(pvalores_chi2).round(4))"
   ]
  },
  {
   "cell_type": "markdown",
   "metadata": {},
   "source": [
    "Utilizando bootstrap, o $\\chi^2$ não fica significativo.\n",
    "\n",
    "---"
   ]
  },
  {
   "cell_type": "code",
   "execution_count": 41,
   "metadata": {},
   "outputs": [
    {
     "data": {
      "text/plain": [
       "Ttest_indResult(statistic=23.169395576468037, pvalue=1.2426217854006772e-118)"
      ]
     },
     "execution_count": 41,
     "metadata": {},
     "output_type": "execute_result"
    }
   ],
   "source": [
    "stats.ttest_ind(sud.loc[(sud[\"Sexo Trabalhador\"] == \"Masculino\") & (sud.Ano == 2018),\"Qtd Hora Contr\"],\n",
    "                        sud.loc[(sud[\"Sexo Trabalhador\"] == \"Feminino\") & (sud.Ano == 2018),\"Qtd Hora Contr\"])"
   ]
  },
  {
   "cell_type": "code",
   "execution_count": 43,
   "metadata": {},
   "outputs": [
    {
     "name": "stdout",
     "output_type": "stream",
     "text": [
      "Média dos p-valores para Qtd Hora Contr: 0.0001\n"
     ]
    }
   ],
   "source": [
    "# Testa diferenças nas horas de contrato usando bootstrap\n",
    "pvalores_qtdhoracont = []\n",
    "for i in range(1000):\n",
    "    res = stats.ttest_ind(sud.loc[(sud[\"Sexo Trabalhador\"] == \"Masculino\") & (sud.Ano == 2018),\"Qtd Hora Contr\"].sample(n=10000),\n",
    "                          sud.loc[(sud[\"Sexo Trabalhador\"] == \"Feminino\") & (sud.Ano == 2018),\"Qtd Hora Contr\"].sample(n=5000))\n",
    "    pvalores_qtdhoracont.append(res.pvalue)\n",
    "print(\"Média dos p-valores para Qtd Hora Contr:\", np.mean(pvalores_qtdhoracont).round(4))"
   ]
  },
  {
   "cell_type": "code",
   "execution_count": null,
   "metadata": {},
   "outputs": [],
   "source": []
  },
  {
   "cell_type": "code",
   "execution_count": 5,
   "metadata": {},
   "outputs": [
    {
     "data": {
      "text/html": [
       "<div>\n",
       "<style scoped>\n",
       "    .dataframe tbody tr th:only-of-type {\n",
       "        vertical-align: middle;\n",
       "    }\n",
       "\n",
       "    .dataframe tbody tr th {\n",
       "        vertical-align: top;\n",
       "    }\n",
       "\n",
       "    .dataframe thead th {\n",
       "        text-align: right;\n",
       "    }\n",
       "</style>\n",
       "<table border=\"1\" class=\"dataframe\">\n",
       "  <thead>\n",
       "    <tr style=\"text-align: right;\">\n",
       "      <th></th>\n",
       "      <th>Ano</th>\n",
       "      <th>Sexo Trabalhador</th>\n",
       "      <th>Vl Remun Média Nom</th>\n",
       "      <th>Qtd Hora Contr</th>\n",
       "      <th>Escolaridade após 2005</th>\n",
       "      <th>Tempo Emprego</th>\n",
       "    </tr>\n",
       "  </thead>\n",
       "  <tbody>\n",
       "    <tr>\n",
       "      <th>1</th>\n",
       "      <td>2008</td>\n",
       "      <td>Masculino</td>\n",
       "      <td>1630.740</td>\n",
       "      <td>41.810856</td>\n",
       "      <td>6.842117</td>\n",
       "      <td>10.7</td>\n",
       "    </tr>\n",
       "    <tr>\n",
       "      <th>3</th>\n",
       "      <td>2009</td>\n",
       "      <td>Masculino</td>\n",
       "      <td>1928.425</td>\n",
       "      <td>42.015594</td>\n",
       "      <td>7.131497</td>\n",
       "      <td>11.9</td>\n",
       "    </tr>\n",
       "    <tr>\n",
       "      <th>5</th>\n",
       "      <td>2010</td>\n",
       "      <td>Masculino</td>\n",
       "      <td>1900.800</td>\n",
       "      <td>42.333273</td>\n",
       "      <td>7.226032</td>\n",
       "      <td>11.3</td>\n",
       "    </tr>\n",
       "    <tr>\n",
       "      <th>7</th>\n",
       "      <td>2011</td>\n",
       "      <td>Masculino</td>\n",
       "      <td>2215.060</td>\n",
       "      <td>41.947421</td>\n",
       "      <td>7.253288</td>\n",
       "      <td>12.5</td>\n",
       "    </tr>\n",
       "    <tr>\n",
       "      <th>9</th>\n",
       "      <td>2012</td>\n",
       "      <td>Masculino</td>\n",
       "      <td>2348.640</td>\n",
       "      <td>41.262517</td>\n",
       "      <td>7.278653</td>\n",
       "      <td>12.9</td>\n",
       "    </tr>\n",
       "    <tr>\n",
       "      <th>11</th>\n",
       "      <td>2013</td>\n",
       "      <td>Masculino</td>\n",
       "      <td>2833.355</td>\n",
       "      <td>40.499064</td>\n",
       "      <td>7.429470</td>\n",
       "      <td>15.5</td>\n",
       "    </tr>\n",
       "    <tr>\n",
       "      <th>13</th>\n",
       "      <td>2014</td>\n",
       "      <td>Masculino</td>\n",
       "      <td>3085.970</td>\n",
       "      <td>40.199681</td>\n",
       "      <td>7.464672</td>\n",
       "      <td>15.9</td>\n",
       "    </tr>\n",
       "    <tr>\n",
       "      <th>15</th>\n",
       "      <td>2015</td>\n",
       "      <td>Masculino</td>\n",
       "      <td>3469.200</td>\n",
       "      <td>40.045082</td>\n",
       "      <td>7.507881</td>\n",
       "      <td>17.9</td>\n",
       "    </tr>\n",
       "    <tr>\n",
       "      <th>17</th>\n",
       "      <td>2016</td>\n",
       "      <td>Masculino</td>\n",
       "      <td>3765.260</td>\n",
       "      <td>39.966575</td>\n",
       "      <td>7.542795</td>\n",
       "      <td>20.6</td>\n",
       "    </tr>\n",
       "    <tr>\n",
       "      <th>19</th>\n",
       "      <td>2017</td>\n",
       "      <td>Masculino</td>\n",
       "      <td>4143.380</td>\n",
       "      <td>39.969880</td>\n",
       "      <td>7.574324</td>\n",
       "      <td>21.0</td>\n",
       "    </tr>\n",
       "    <tr>\n",
       "      <th>21</th>\n",
       "      <td>2018</td>\n",
       "      <td>Masculino</td>\n",
       "      <td>4200.000</td>\n",
       "      <td>39.966419</td>\n",
       "      <td>7.596491</td>\n",
       "      <td>17.4</td>\n",
       "    </tr>\n",
       "  </tbody>\n",
       "</table>\n",
       "</div>"
      ],
      "text/plain": [
       "     Ano Sexo Trabalhador  Vl Remun Média Nom  Qtd Hora Contr  \\\n",
       "1   2008        Masculino            1630.740       41.810856   \n",
       "3   2009        Masculino            1928.425       42.015594   \n",
       "5   2010        Masculino            1900.800       42.333273   \n",
       "7   2011        Masculino            2215.060       41.947421   \n",
       "9   2012        Masculino            2348.640       41.262517   \n",
       "11  2013        Masculino            2833.355       40.499064   \n",
       "13  2014        Masculino            3085.970       40.199681   \n",
       "15  2015        Masculino            3469.200       40.045082   \n",
       "17  2016        Masculino            3765.260       39.966575   \n",
       "19  2017        Masculino            4143.380       39.969880   \n",
       "21  2018        Masculino            4200.000       39.966419   \n",
       "\n",
       "    Escolaridade após 2005  Tempo Emprego  \n",
       "1                 6.842117           10.7  \n",
       "3                 7.131497           11.9  \n",
       "5                 7.226032           11.3  \n",
       "7                 7.253288           12.5  \n",
       "9                 7.278653           12.9  \n",
       "11                7.429470           15.5  \n",
       "13                7.464672           15.9  \n",
       "15                7.507881           17.9  \n",
       "17                7.542795           20.6  \n",
       "19                7.574324           21.0  \n",
       "21                7.596491           17.4  "
      ]
     },
     "execution_count": 5,
     "metadata": {},
     "output_type": "execute_result"
    }
   ],
   "source": [
    "ddd = sud.groupby([\"Ano\", \"Sexo Trabalhador\"]).agg({\"Vl Remun Média Nom\": \"median\", \n",
    "                                     \"Qtd Hora Contr\": \"mean\",\n",
    "                                     \"Escolaridade após 2005\": \"mean\",\n",
    "                                     \"Tempo Emprego\": \"median\"\n",
    "                                    }).reset_index()\n",
    "ddd.loc[ddd['Sexo Trabalhador'] == 'Masculino',:]"
   ]
  },
  {
   "cell_type": "code",
   "execution_count": 17,
   "metadata": {},
   "outputs": [
    {
     "data": {
      "image/png": "[encoded data removed]",
      "text/plain": [
       "<Figure size 720x360 with 1 Axes>"
      ]
     },
     "metadata": {},
     "output_type": "display_data"
    }
   ],
   "source": [
    "# Qtd Hora Contr longitudinal\n",
    "datas = ['2008-12-01', '2009-12-01', '2010-12-01', '2011-12-01', '2012-12-01',\n",
    "        '2013-12-01', '2014-12-01', '2015-12-01', '2016-12-01', '2017-12-01', '2018-12-01']\n",
    "plt.figure(figsize=(10,5))\n",
    "plt.plot(list(range(2008, 2019)), ddd.loc[ddd[\"Sexo Trabalhador\"] == \"Masculino\", \"Qtd Hora Contr\"], label='Masculino', c='blue')\n",
    "plt.plot(list(range(2008, 2019)), ddd.loc[ddd[\"Sexo Trabalhador\"] == \"Feminino\", \"Qtd Hora Contr\"], label='Faminino', c='red')\n",
    "plt.xticks(np.array(range(2008, 2019)))\n",
    "plt.suptitle(\"Quantidade média de horas trabalhadas por sexo\", fontweight=\"bold\", fontsize=\"large\")\n",
    "plt.title(\"Fonte: RAIS 2008 a 2018\", loc='left')\n",
    "plt.ylabel(\"Horas trabalhadas\")\n",
    "plt.legend()\n",
    "plt.show()"
   ]
  },
  {
   "cell_type": "code",
   "execution_count": 18,
   "metadata": {},
   "outputs": [
    {
     "name": "stdout",
     "output_type": "stream",
     "text": [
      "Média dos p-valores para Escolaridade: 0.0\n"
     ]
    }
   ],
   "source": [
    "# Testa diferenças de escolaridade usando bootstrap\n",
    "pvalores_esco = []\n",
    "for i in range(1000):\n",
    "    res = stats.ttest_ind(sud.loc[(sud[\"Sexo Trabalhador\"] == \"Masculino\") & (sud.Ano == 2018),\"Escolaridade após 2005\"].sample(n=10000),\n",
    "                          sud.loc[(sud[\"Sexo Trabalhador\"] == \"Feminino\") & (sud.Ano == 2018),\"Escolaridade após 2005\"].sample(n=5000))\n",
    "    pvalores_esco.append(res.pvalue)\n",
    "print(\"Média dos p-valores para Escolaridade:\", np.mean(pvalores_esco).round(4))"
   ]
  },
  {
   "cell_type": "code",
   "execution_count": 23,
   "metadata": {},
   "outputs": [
    {
     "data": {
      "image/png": "[encoded data removed]",
      "text/plain": [
       "<Figure size 720x360 with 1 Axes>"
      ]
     },
     "metadata": {},
     "output_type": "display_data"
    }
   ],
   "source": [
    "# Escolaridade após 2005\n",
    "plt.figure(figsize=(10,5))\n",
    "plt.plot(list(range(2008, 2019)), ddd.loc[ddd[\"Sexo Trabalhador\"] == \"Masculino\", \"Escolaridade após 2005\"], label='Masculino', c='blue')\n",
    "plt.plot(list(range(2008, 2019)), ddd.loc[ddd[\"Sexo Trabalhador\"] == \"Feminino\", \"Escolaridade após 2005\"], label='Faminino', c='red')\n",
    "plt.xticks(np.array(range(2008, 2019)))\n",
    "plt.suptitle(\"Média de anos de Escolaridade após 2005 por sexo\", fontweight=\"bold\", fontsize=\"large\")\n",
    "plt.title(\"Fonte: RAIS 2008 a 2018\", loc='left')\n",
    "plt.ylabel(\"Anos de Escolaridade após 2005\")\n",
    "plt.legend()\n",
    "plt.show()"
   ]
  },
  {
   "cell_type": "code",
   "execution_count": 52,
   "metadata": {},
   "outputs": [
    {
     "name": "stdout",
     "output_type": "stream",
     "text": [
      "Média dos p-valores para Tempo de Emprego: 0.0403\n"
     ]
    }
   ],
   "source": [
    "# Testa diferenças de tempo de emprego usando bootstrap\n",
    "pvalores_tempoemprego = []\n",
    "for i in range(1000):\n",
    "    res = stats.ttest_ind(sud.loc[(sud[\"Sexo Trabalhador\"] == \"Masculino\") & (sud.Ano == 2018),\"Tempo Emprego\"].sample(n=10000),\n",
    "                          sud.loc[(sud[\"Sexo Trabalhador\"] == \"Feminino\") & (sud.Ano == 2018),\"Tempo Emprego\"].sample(n=5000))\n",
    "    pvalores_tempoemprego.append(res.pvalue)\n",
    "print(\"Média dos p-valores para Tempo de Emprego:\", np.mean(pvalores_tempoemprego).round(4))"
   ]
  },
  {
   "cell_type": "code",
   "execution_count": 20,
   "metadata": {},
   "outputs": [
    {
     "data": {
      "image/png": "[encoded data removed]",
      "text/plain": [
       "<Figure size 720x360 with 1 Axes>"
      ]
     },
     "metadata": {},
     "output_type": "display_data"
    }
   ],
   "source": [
    "# Tempo médio de emprego\n",
    "plt.figure(figsize=(10,5))\n",
    "plt.plot(list(range(2008, 2019)), ddd.loc[ddd[\"Sexo Trabalhador\"] == \"Masculino\", \"Tempo Emprego\"], label='Masculino', c='blue')\n",
    "plt.plot(list(range(2008, 2019)), ddd.loc[ddd[\"Sexo Trabalhador\"] == \"Feminino\", \"Tempo Emprego\"], label='Faminino', c='red')\n",
    "plt.xticks(np.array(range(2008, 2019)))\n",
    "plt.suptitle(\"Tempo médio de emprego por sexo\", fontweight=\"bold\", fontsize=\"large\")\n",
    "plt.title(\"Fonte: RAIS 2008 a 2018\", loc='left')\n",
    "plt.ylabel(\"Tempo de emprego em meses\")\n",
    "plt.legend()\n",
    "plt.show()"
   ]
  },
  {
   "cell_type": "code",
   "execution_count": 54,
   "metadata": {},
   "outputs": [
    {
     "name": "stdout",
     "output_type": "stream",
     "text": [
      "Média dos p-valores para Salário médio: 0.0\n"
     ]
    }
   ],
   "source": [
    "# Testa diferenças de salário usando bootstrap\n",
    "pvalores_sal = []\n",
    "for i in range(1000):\n",
    "    res = stats.ttest_ind(sud.loc[(sud[\"Sexo Trabalhador\"] == \"Masculino\") & (sud.Ano == 2018),\"Vl Remun Média Nom\"].sample(n=10000),\n",
    "                          sud.loc[(sud[\"Sexo Trabalhador\"] == \"Feminino\") & (sud.Ano == 2018),\"Vl Remun Média Nom\"].sample(n=5000))\n",
    "    pvalores_sal.append(res.pvalue)\n",
    "print(\"Média dos p-valores para Salário médio:\", np.mean(pvalores_sal).round(4))"
   ]
  },
  {
   "cell_type": "markdown",
   "metadata": {},
   "source": [
    "É possível afirmar que as mulheres trabalham sistematicamente menos, possuem escolaridade mais baixa e possuem salário sistematicamente menor."
   ]
  },
  {
   "cell_type": "markdown",
   "metadata": {},
   "source": [
    "---\n",
    "\n",
    "# Investigando a diferença de salário"
   ]
  },
  {
   "cell_type": "code",
   "execution_count": 3,
   "metadata": {},
   "outputs": [
    {
     "data": {
      "text/html": [
       "<div>\n",
       "<style scoped>\n",
       "    .dataframe tbody tr th:only-of-type {\n",
       "        vertical-align: middle;\n",
       "    }\n",
       "\n",
       "    .dataframe tbody tr th {\n",
       "        vertical-align: top;\n",
       "    }\n",
       "\n",
       "    .dataframe thead th {\n",
       "        text-align: right;\n",
       "    }\n",
       "</style>\n",
       "<table border=\"1\" class=\"dataframe\">\n",
       "  <thead>\n",
       "    <tr style=\"text-align: right;\">\n",
       "      <th></th>\n",
       "      <th>Ano</th>\n",
       "      <th>Sexo Trabalhador</th>\n",
       "      <th>Vl Remun Média Nom</th>\n",
       "    </tr>\n",
       "  </thead>\n",
       "  <tbody>\n",
       "    <tr>\n",
       "      <th>0</th>\n",
       "      <td>2008</td>\n",
       "      <td>Feminino</td>\n",
       "      <td>1936.964426</td>\n",
       "    </tr>\n",
       "    <tr>\n",
       "      <th>1</th>\n",
       "      <td>2008</td>\n",
       "      <td>Masculino</td>\n",
       "      <td>2901.688360</td>\n",
       "    </tr>\n",
       "    <tr>\n",
       "      <th>2</th>\n",
       "      <td>2009</td>\n",
       "      <td>Feminino</td>\n",
       "      <td>2291.503450</td>\n",
       "    </tr>\n",
       "    <tr>\n",
       "      <th>3</th>\n",
       "      <td>2009</td>\n",
       "      <td>Masculino</td>\n",
       "      <td>3283.430501</td>\n",
       "    </tr>\n",
       "    <tr>\n",
       "      <th>4</th>\n",
       "      <td>2010</td>\n",
       "      <td>Feminino</td>\n",
       "      <td>2419.342795</td>\n",
       "    </tr>\n",
       "    <tr>\n",
       "      <th>5</th>\n",
       "      <td>2010</td>\n",
       "      <td>Masculino</td>\n",
       "      <td>3320.918128</td>\n",
       "    </tr>\n",
       "    <tr>\n",
       "      <th>6</th>\n",
       "      <td>2011</td>\n",
       "      <td>Feminino</td>\n",
       "      <td>2709.993539</td>\n",
       "    </tr>\n",
       "    <tr>\n",
       "      <th>7</th>\n",
       "      <td>2011</td>\n",
       "      <td>Masculino</td>\n",
       "      <td>3688.054052</td>\n",
       "    </tr>\n",
       "    <tr>\n",
       "      <th>8</th>\n",
       "      <td>2012</td>\n",
       "      <td>Feminino</td>\n",
       "      <td>2833.185241</td>\n",
       "    </tr>\n",
       "    <tr>\n",
       "      <th>9</th>\n",
       "      <td>2012</td>\n",
       "      <td>Masculino</td>\n",
       "      <td>3965.154136</td>\n",
       "    </tr>\n",
       "    <tr>\n",
       "      <th>10</th>\n",
       "      <td>2013</td>\n",
       "      <td>Feminino</td>\n",
       "      <td>3279.514942</td>\n",
       "    </tr>\n",
       "    <tr>\n",
       "      <th>11</th>\n",
       "      <td>2013</td>\n",
       "      <td>Masculino</td>\n",
       "      <td>4575.237903</td>\n",
       "    </tr>\n",
       "    <tr>\n",
       "      <th>12</th>\n",
       "      <td>2014</td>\n",
       "      <td>Feminino</td>\n",
       "      <td>3482.302831</td>\n",
       "    </tr>\n",
       "    <tr>\n",
       "      <th>13</th>\n",
       "      <td>2014</td>\n",
       "      <td>Masculino</td>\n",
       "      <td>4920.285778</td>\n",
       "    </tr>\n",
       "    <tr>\n",
       "      <th>14</th>\n",
       "      <td>2015</td>\n",
       "      <td>Feminino</td>\n",
       "      <td>3845.550232</td>\n",
       "    </tr>\n",
       "    <tr>\n",
       "      <th>15</th>\n",
       "      <td>2015</td>\n",
       "      <td>Masculino</td>\n",
       "      <td>5401.152760</td>\n",
       "    </tr>\n",
       "    <tr>\n",
       "      <th>16</th>\n",
       "      <td>2016</td>\n",
       "      <td>Feminino</td>\n",
       "      <td>4134.983065</td>\n",
       "    </tr>\n",
       "    <tr>\n",
       "      <th>17</th>\n",
       "      <td>2016</td>\n",
       "      <td>Masculino</td>\n",
       "      <td>5809.506756</td>\n",
       "    </tr>\n",
       "    <tr>\n",
       "      <th>18</th>\n",
       "      <td>2017</td>\n",
       "      <td>Feminino</td>\n",
       "      <td>4448.693723</td>\n",
       "    </tr>\n",
       "    <tr>\n",
       "      <th>19</th>\n",
       "      <td>2017</td>\n",
       "      <td>Masculino</td>\n",
       "      <td>6228.474290</td>\n",
       "    </tr>\n",
       "    <tr>\n",
       "      <th>20</th>\n",
       "      <td>2018</td>\n",
       "      <td>Feminino</td>\n",
       "      <td>4563.071554</td>\n",
       "    </tr>\n",
       "    <tr>\n",
       "      <th>21</th>\n",
       "      <td>2018</td>\n",
       "      <td>Masculino</td>\n",
       "      <td>6310.273135</td>\n",
       "    </tr>\n",
       "  </tbody>\n",
       "</table>\n",
       "</div>"
      ],
      "text/plain": [
       "     Ano Sexo Trabalhador  Vl Remun Média Nom\n",
       "0   2008         Feminino         1936.964426\n",
       "1   2008        Masculino         2901.688360\n",
       "2   2009         Feminino         2291.503450\n",
       "3   2009        Masculino         3283.430501\n",
       "4   2010         Feminino         2419.342795\n",
       "5   2010        Masculino         3320.918128\n",
       "6   2011         Feminino         2709.993539\n",
       "7   2011        Masculino         3688.054052\n",
       "8   2012         Feminino         2833.185241\n",
       "9   2012        Masculino         3965.154136\n",
       "10  2013         Feminino         3279.514942\n",
       "11  2013        Masculino         4575.237903\n",
       "12  2014         Feminino         3482.302831\n",
       "13  2014        Masculino         4920.285778\n",
       "14  2015         Feminino         3845.550232\n",
       "15  2015        Masculino         5401.152760\n",
       "16  2016         Feminino         4134.983065\n",
       "17  2016        Masculino         5809.506756\n",
       "18  2017         Feminino         4448.693723\n",
       "19  2017        Masculino         6228.474290\n",
       "20  2018         Feminino         4563.071554\n",
       "21  2018        Masculino         6310.273135"
      ]
     },
     "execution_count": 3,
     "metadata": {},
     "output_type": "execute_result"
    }
   ],
   "source": [
    "med_salario = sud.groupby([\"Ano\",\"Sexo Trabalhador\"]).agg({\"Vl Remun Média Nom\": \"mean\"}).reset_index()\n",
    "med_salario"
   ]
  },
  {
   "cell_type": "code",
   "execution_count": 6,
   "metadata": {},
   "outputs": [],
   "source": [
    "datas = ['2008-12-01', '2009-12-01', '2010-12-01', '2011-12-01', '2012-12-01',\n",
    "        '2013-12-01', '2014-12-01', '2015-12-01', '2016-12-01', '2017-12-01', '2018-12-01']\n",
    "sal_m = deflate(ddd.loc[ddd['Sexo Trabalhador'] == 'Masculino', 'Vl Remun Média Nom'], datas, '2020-01')\n",
    "sal_f = deflate(ddd.loc[ddd['Sexo Trabalhador'] == 'Feminino', 'Vl Remun Média Nom'], datas, '2020-01')"
   ]
  },
  {
   "cell_type": "code",
   "execution_count": 8,
   "metadata": {},
   "outputs": [
    {
     "data": {
      "image/png": "[encoded data removed]",
      "text/plain": [
       "<Figure size 720x360 with 1 Axes>"
      ]
     },
     "metadata": {},
     "output_type": "display_data"
    }
   ],
   "source": [
    "sns.set(style='whitegrid')\n",
    "plt.figure(figsize=(10,5))\n",
    "plt.plot(list(range(2008, 2019)), sal_m, label='Masculino', c='blue')\n",
    "plt.plot(list(range(2008, 2019)), sal_f, label='Faminino', c='red')\n",
    "plt.xticks(np.array(range(2008, 2019)))\n",
    "plt.suptitle(\"Mediana de Salário por Sexo - profissões relacionadas a IA\", fontweight=\"bold\", fontsize=\"large\")\n",
    "plt.title(\"Fonte: RAIS 2008 a 2018 - Deflacionada com IPCA\", loc='left')\n",
    "plt.ylabel(\"Salário em BRL\")\n",
    "plt.legend()\n",
    "plt.show()"
   ]
  },
  {
   "cell_type": "code",
   "execution_count": 24,
   "metadata": {},
   "outputs": [
    {
     "data": {
      "image/png": "[encoded data removed]",
      "text/plain": [
       "<Figure size 720x360 with 1 Axes>"
      ]
     },
     "metadata": {},
     "output_type": "display_data"
    }
   ],
   "source": [
    "salmed_m = deflate(med_salario.loc[med_salario['Sexo Trabalhador'] == 'Masculino', 'Vl Remun Média Nom'], datas, '2020-01')\n",
    "salmed_f = deflate(med_salario.loc[med_salario['Sexo Trabalhador'] == 'Feminino', 'Vl Remun Média Nom'], datas, '2020-01')\n",
    "plt.figure(figsize=(10,5))\n",
    "plt.plot(list(range(2008, 2019)), salmed_m, label='Masculino', c='blue')\n",
    "plt.plot(list(range(2008, 2019)), salmed_f, label='Faminino', c='red')\n",
    "plt.xticks(np.array(range(2008, 2019)))\n",
    "plt.suptitle(\"Salário Médio por Sexo\", fontweight=\"bold\", fontsize=\"large\")\n",
    "plt.title(\"Fonte: RAIS 2008 a 2018 - Deflacionada com IPCA\", loc='left')\n",
    "plt.ylabel(\"Salário em BRL\")\n",
    "plt.legend()\n",
    "plt.show()"
   ]
  },
  {
   "cell_type": "code",
   "execution_count": 25,
   "metadata": {},
   "outputs": [
    {
     "data": {
      "text/plain": [
       "0.0"
      ]
     },
     "execution_count": 25,
     "metadata": {},
     "output_type": "execute_result"
    }
   ],
   "source": [
    "# Foram filtrados os salários == 0\n",
    "sud.loc[sud[\"Vl Remun Média Nom\"] == 0,'Vl Remun Média Nom'].sum()"
   ]
  },
  {
   "cell_type": "code",
   "execution_count": 26,
   "metadata": {},
   "outputs": [
    {
     "data": {
      "image/png": "[encoded data removed]",
      "text/plain": [
       "<Figure size 432x288 with 1 Axes>"
      ]
     },
     "metadata": {},
     "output_type": "display_data"
    }
   ],
   "source": [
    "plt.hist(np.log(sud['Vl Remun Média Nom']), edgecolor=\"black\")\n",
    "plt.show()"
   ]
  },
  {
   "cell_type": "markdown",
   "metadata": {},
   "source": [
    "Vamos modelar apenas as pessoas que recebem algum tipo de salário."
   ]
  },
  {
   "cell_type": "code",
   "execution_count": 27,
   "metadata": {},
   "outputs": [
    {
     "data": {
      "text/plain": [
       "Index(['Ano', 'CNAE 2.0 Classe', 'Escolaridade após 2005', 'Qtd Hora Contr',\n",
       "       'Idade', 'Ind Simples', 'Mun Trab', 'Município', 'Nacionalidade',\n",
       "       'Brasileiro', 'Natureza Jurídica', 'Ind Portador Defic',\n",
       "       'Qtd Dias Afastamento', 'Raça Cor', 'Regiões Adm DF',\n",
       "       'Vl Remun Dezembro Nom', 'Vl Remun Dezembro (SM)', 'Vl Remun Média Nom',\n",
       "       'Vl Remun Média (SM)', 'CNAE 2.0 Subclasse', 'Sexo Trabalhador',\n",
       "       'Tamanho Estabelecimento', 'Tempo Emprego', 'Tipo Admissão',\n",
       "       'Tipo Defic', 'Tipo Salário', 'Tipo Vínculo'],\n",
       "      dtype='object')"
      ]
     },
     "execution_count": 27,
     "metadata": {},
     "output_type": "execute_result"
    }
   ],
   "source": [
    "sud.columns"
   ]
  },
  {
   "cell_type": "code",
   "execution_count": 3,
   "metadata": {},
   "outputs": [],
   "source": [
    "sud['idadecent'] = sud.Idade - np.mean(sud.Idade)\n",
    "sud['Idade_quad'] = sud.idadecent ** 2"
   ]
  },
  {
   "cell_type": "code",
   "execution_count": 4,
   "metadata": {},
   "outputs": [],
   "source": [
    "# Cria dummy branco\n",
    "sud[\"Branco\"] = sud['Raça Cor'].apply(lambda x: 1 if x in ['Branca', 'Amarela'] else 0)"
   ]
  },
  {
   "cell_type": "code",
   "execution_count": 30,
   "metadata": {},
   "outputs": [
    {
     "data": {
      "text/html": [
       "<div>\n",
       "<style scoped>\n",
       "    .dataframe tbody tr th:only-of-type {\n",
       "        vertical-align: middle;\n",
       "    }\n",
       "\n",
       "    .dataframe tbody tr th {\n",
       "        vertical-align: top;\n",
       "    }\n",
       "\n",
       "    .dataframe thead th {\n",
       "        text-align: right;\n",
       "    }\n",
       "</style>\n",
       "<table border=\"1\" class=\"dataframe\">\n",
       "  <thead>\n",
       "    <tr style=\"text-align: right;\">\n",
       "      <th>Raça Cor</th>\n",
       "      <th>Amarela</th>\n",
       "      <th>Branca</th>\n",
       "      <th>Indígena</th>\n",
       "      <th>Não identificada</th>\n",
       "      <th>Parda</th>\n",
       "      <th>Preta</th>\n",
       "    </tr>\n",
       "    <tr>\n",
       "      <th>Branco</th>\n",
       "      <th></th>\n",
       "      <th></th>\n",
       "      <th></th>\n",
       "      <th></th>\n",
       "      <th></th>\n",
       "      <th></th>\n",
       "    </tr>\n",
       "  </thead>\n",
       "  <tbody>\n",
       "    <tr>\n",
       "      <th>0</th>\n",
       "      <td>0</td>\n",
       "      <td>0</td>\n",
       "      <td>6363</td>\n",
       "      <td>131076</td>\n",
       "      <td>467188</td>\n",
       "      <td>85997</td>\n",
       "    </tr>\n",
       "    <tr>\n",
       "      <th>1</th>\n",
       "      <td>32415</td>\n",
       "      <td>1583407</td>\n",
       "      <td>0</td>\n",
       "      <td>0</td>\n",
       "      <td>0</td>\n",
       "      <td>0</td>\n",
       "    </tr>\n",
       "  </tbody>\n",
       "</table>\n",
       "</div>"
      ],
      "text/plain": [
       "Raça Cor  Amarela   Branca  Indígena  Não identificada   Parda  Preta\n",
       "Branco                                                               \n",
       "0               0        0      6363            131076  467188  85997\n",
       "1           32415  1583407         0                 0       0      0"
      ]
     },
     "execution_count": 30,
     "metadata": {},
     "output_type": "execute_result"
    }
   ],
   "source": [
    "pd.crosstab(sud.Branco, sud[\"Raça Cor\"])"
   ]
  },
  {
   "cell_type": "code",
   "execution_count": 31,
   "metadata": {},
   "outputs": [
    {
     "data": {
      "text/plain": [
       "Index(['Ano', 'CNAE 2.0 Classe', 'Escolaridade após 2005', 'Qtd Hora Contr',\n",
       "       'Idade', 'Ind Simples', 'Mun Trab', 'Município', 'Nacionalidade',\n",
       "       'Brasileiro', 'Natureza Jurídica', 'Ind Portador Defic',\n",
       "       'Qtd Dias Afastamento', 'Raça Cor', 'Regiões Adm DF',\n",
       "       'Vl Remun Dezembro Nom', 'Vl Remun Dezembro (SM)', 'Vl Remun Média Nom',\n",
       "       'Vl Remun Média (SM)', 'CNAE 2.0 Subclasse', 'Sexo Trabalhador',\n",
       "       'Tamanho Estabelecimento', 'Tempo Emprego', 'Tipo Admissão',\n",
       "       'Tipo Defic', 'Tipo Salário', 'Tipo Vínculo', 'idadecent', 'Idade_quad',\n",
       "       'Branco'],\n",
       "      dtype='object')"
      ]
     },
     "execution_count": 31,
     "metadata": {},
     "output_type": "execute_result"
    }
   ],
   "source": [
    "sud.columns"
   ]
  },
  {
   "cell_type": "markdown",
   "metadata": {},
   "source": [
    "---\n",
    "\n",
    "## Modelagem\n"
   ]
  },
  {
   "cell_type": "code",
   "execution_count": 5,
   "metadata": {},
   "outputs": [],
   "source": [
    "sud['Ano'] = sud['Ano'].astype('object')"
   ]
  },
  {
   "cell_type": "code",
   "execution_count": 6,
   "metadata": {},
   "outputs": [],
   "source": [
    "X = pd.get_dummies(sud[['Sexo Trabalhador',\n",
    "                       'Escolaridade após 2005', \n",
    "                       'Qtd Hora Contr', \n",
    "                       'idadecent', 'Idade_quad', \n",
    "                       'Brasileiro', \n",
    "                       'Branco', \n",
    "                       'Tempo Emprego',\n",
    "                       'Ano'\n",
    "                      ]],\n",
    "                  drop_first=True)"
   ]
  },
  {
   "cell_type": "code",
   "execution_count": 7,
   "metadata": {},
   "outputs": [
    {
     "name": "stderr",
     "output_type": "stream",
     "text": [
      "C:\\Users\\Neylson\\Anaconda3\\lib\\site-packages\\ipykernel_launcher.py:4: SettingWithCopyWarning: \n",
      "A value is trying to be set on a copy of a slice from a DataFrame.\n",
      "Try using .loc[row_indexer,col_indexer] = value instead\n",
      "\n",
      "See the caveats in the documentation: http://pandas.pydata.org/pandas-docs/stable/user_guide/indexing.html#returning-a-view-versus-a-copy\n",
      "  after removing the cwd from sys.path.\n",
      "C:\\Users\\Neylson\\Anaconda3\\lib\\site-packages\\ipykernel_launcher.py:5: SettingWithCopyWarning: \n",
      "A value is trying to be set on a copy of a slice from a DataFrame.\n",
      "Try using .loc[row_indexer,col_indexer] = value instead\n",
      "\n",
      "See the caveats in the documentation: http://pandas.pydata.org/pandas-docs/stable/user_guide/indexing.html#returning-a-view-versus-a-copy\n",
      "  \"\"\"\n",
      "C:\\Users\\Neylson\\Anaconda3\\lib\\site-packages\\ipykernel_launcher.py:6: SettingWithCopyWarning: \n",
      "A value is trying to be set on a copy of a slice from a DataFrame.\n",
      "Try using .loc[row_indexer,col_indexer] = value instead\n",
      "\n",
      "See the caveats in the documentation: http://pandas.pydata.org/pandas-docs/stable/user_guide/indexing.html#returning-a-view-versus-a-copy\n",
      "  \n",
      "C:\\Users\\Neylson\\Anaconda3\\lib\\site-packages\\ipykernel_launcher.py:7: SettingWithCopyWarning: \n",
      "A value is trying to be set on a copy of a slice from a DataFrame.\n",
      "Try using .loc[row_indexer,col_indexer] = value instead\n",
      "\n",
      "See the caveats in the documentation: http://pandas.pydata.org/pandas-docs/stable/user_guide/indexing.html#returning-a-view-versus-a-copy\n",
      "  import sys\n"
     ]
    },
    {
     "data": {
      "text/html": [
       "<div>\n",
       "<style scoped>\n",
       "    .dataframe tbody tr th:only-of-type {\n",
       "        vertical-align: middle;\n",
       "    }\n",
       "\n",
       "    .dataframe tbody tr th {\n",
       "        vertical-align: top;\n",
       "    }\n",
       "\n",
       "    .dataframe thead th {\n",
       "        text-align: right;\n",
       "    }\n",
       "</style>\n",
       "<table border=\"1\" class=\"dataframe\">\n",
       "  <thead>\n",
       "    <tr style=\"text-align: right;\">\n",
       "      <th></th>\n",
       "      <th>Ano</th>\n",
       "      <th>Vl Remun Média Nom</th>\n",
       "    </tr>\n",
       "  </thead>\n",
       "  <tbody>\n",
       "    <tr>\n",
       "      <th>0</th>\n",
       "      <td>2008-11-01</td>\n",
       "      <td>1232.62</td>\n",
       "    </tr>\n",
       "    <tr>\n",
       "      <th>1</th>\n",
       "      <td>2008-11-01</td>\n",
       "      <td>1173.30</td>\n",
       "    </tr>\n",
       "    <tr>\n",
       "      <th>2</th>\n",
       "      <td>2008-11-01</td>\n",
       "      <td>1800.00</td>\n",
       "    </tr>\n",
       "    <tr>\n",
       "      <th>3</th>\n",
       "      <td>2008-11-01</td>\n",
       "      <td>7266.49</td>\n",
       "    </tr>\n",
       "    <tr>\n",
       "      <th>4</th>\n",
       "      <td>2008-11-01</td>\n",
       "      <td>1019.76</td>\n",
       "    </tr>\n",
       "    <tr>\n",
       "      <th>...</th>\n",
       "      <td>...</td>\n",
       "      <td>...</td>\n",
       "    </tr>\n",
       "    <tr>\n",
       "      <th>2306533</th>\n",
       "      <td>2017-11-01</td>\n",
       "      <td>9860.01</td>\n",
       "    </tr>\n",
       "    <tr>\n",
       "      <th>2306534</th>\n",
       "      <td>2017-11-01</td>\n",
       "      <td>2799.10</td>\n",
       "    </tr>\n",
       "    <tr>\n",
       "      <th>2306535</th>\n",
       "      <td>2017-11-01</td>\n",
       "      <td>6306.81</td>\n",
       "    </tr>\n",
       "    <tr>\n",
       "      <th>2306536</th>\n",
       "      <td>2017-11-01</td>\n",
       "      <td>1142.85</td>\n",
       "    </tr>\n",
       "    <tr>\n",
       "      <th>2306537</th>\n",
       "      <td>2017-11-01</td>\n",
       "      <td>5632.08</td>\n",
       "    </tr>\n",
       "  </tbody>\n",
       "</table>\n",
       "<p>2306538 rows × 2 columns</p>\n",
       "</div>"
      ],
      "text/plain": [
       "                Ano  Vl Remun Média Nom\n",
       "0        2008-11-01             1232.62\n",
       "1        2008-11-01             1173.30\n",
       "2        2008-11-01             1800.00\n",
       "3        2008-11-01             7266.49\n",
       "4        2008-11-01             1019.76\n",
       "...             ...                 ...\n",
       "2306533  2017-11-01             9860.01\n",
       "2306534  2017-11-01             2799.10\n",
       "2306535  2017-11-01             6306.81\n",
       "2306536  2017-11-01             1142.85\n",
       "2306537  2017-11-01             5632.08\n",
       "\n",
       "[2306538 rows x 2 columns]"
      ]
     },
     "execution_count": 7,
     "metadata": {},
     "output_type": "execute_result"
    }
   ],
   "source": [
    "from datetime import timedelta\n",
    "# Deflaciona salário\n",
    "salarios = sud[['Ano', 'Vl Remun Média Nom']]\n",
    "salarios['Ano'] = pd.to_datetime(salarios.Ano, format=\"%Y\")\n",
    "salarios['Ano'] = salarios.Ano + timedelta(days=330)\n",
    "salarios['Ano'] = salarios['Ano'].apply(lambda x: x.replace(day=1))\n",
    "salarios['Ano'] = salarios.Ano.dt.date.astype(str)\n",
    "salarios\n"
   ]
  },
  {
   "cell_type": "code",
   "execution_count": 8,
   "metadata": {},
   "outputs": [
    {
     "name": "stderr",
     "output_type": "stream",
     "text": [
      "C:\\Users\\Neylson\\Anaconda3\\lib\\site-packages\\tqdm\\std.py:654: FutureWarning: The Panel class is removed from pandas. Accessing it from the top-level namespace will also be removed in the next version\n",
      "  from pandas import Panel\n"
     ]
    },
    {
     "data": {
      "application/vnd.jupyter.widget-view+json": {
       "model_id": "8cd10a9baf794b9d8ae96ae5d10f0a9d",
       "version_major": 2,
       "version_minor": 0
      },
      "text/plain": [
       "HBox(children=(FloatProgress(value=0.0, max=2306538.0), HTML(value='')))"
      ]
     },
     "metadata": {},
     "output_type": "display_data"
    },
    {
     "name": "stdout",
     "output_type": "stream",
     "text": [
      "\n"
     ]
    },
    {
     "name": "stderr",
     "output_type": "stream",
     "text": [
      "C:\\Users\\Neylson\\Anaconda3\\lib\\site-packages\\ipykernel_launcher.py:2: SettingWithCopyWarning: \n",
      "A value is trying to be set on a copy of a slice from a DataFrame.\n",
      "Try using .loc[row_indexer,col_indexer] = value instead\n",
      "\n",
      "See the caveats in the documentation: http://pandas.pydata.org/pandas-docs/stable/user_guide/indexing.html#returning-a-view-versus-a-copy\n",
      "  \n"
     ]
    },
    {
     "data": {
      "text/html": [
       "<div>\n",
       "<style scoped>\n",
       "    .dataframe tbody tr th:only-of-type {\n",
       "        vertical-align: middle;\n",
       "    }\n",
       "\n",
       "    .dataframe tbody tr th {\n",
       "        vertical-align: top;\n",
       "    }\n",
       "\n",
       "    .dataframe thead th {\n",
       "        text-align: right;\n",
       "    }\n",
       "</style>\n",
       "<table border=\"1\" class=\"dataframe\">\n",
       "  <thead>\n",
       "    <tr style=\"text-align: right;\">\n",
       "      <th></th>\n",
       "      <th>Ano</th>\n",
       "      <th>Vl Remun Média Nom</th>\n",
       "      <th>deflacionado</th>\n",
       "    </tr>\n",
       "  </thead>\n",
       "  <tbody>\n",
       "    <tr>\n",
       "      <th>0</th>\n",
       "      <td>2008-11-01</td>\n",
       "      <td>1232.62</td>\n",
       "      <td>2286.232373</td>\n",
       "    </tr>\n",
       "    <tr>\n",
       "      <th>1</th>\n",
       "      <td>2008-11-01</td>\n",
       "      <td>1173.30</td>\n",
       "      <td>2176.207139</td>\n",
       "    </tr>\n",
       "    <tr>\n",
       "      <th>2</th>\n",
       "      <td>2008-11-01</td>\n",
       "      <td>1800.00</td>\n",
       "      <td>3338.594434</td>\n",
       "    </tr>\n",
       "    <tr>\n",
       "      <th>3</th>\n",
       "      <td>2008-11-01</td>\n",
       "      <td>7266.49</td>\n",
       "      <td>13477.701706</td>\n",
       "    </tr>\n",
       "    <tr>\n",
       "      <th>4</th>\n",
       "      <td>2008-11-01</td>\n",
       "      <td>1019.76</td>\n",
       "      <td>1891.425034</td>\n",
       "    </tr>\n",
       "    <tr>\n",
       "      <th>...</th>\n",
       "      <td>...</td>\n",
       "      <td>...</td>\n",
       "      <td>...</td>\n",
       "    </tr>\n",
       "    <tr>\n",
       "      <th>2306533</th>\n",
       "      <td>2017-11-01</td>\n",
       "      <td>9860.01</td>\n",
       "      <td>10769.342794</td>\n",
       "    </tr>\n",
       "    <tr>\n",
       "      <th>2306534</th>\n",
       "      <td>2017-11-01</td>\n",
       "      <td>2799.10</td>\n",
       "      <td>3057.245116</td>\n",
       "    </tr>\n",
       "    <tr>\n",
       "      <th>2306535</th>\n",
       "      <td>2017-11-01</td>\n",
       "      <td>6306.81</td>\n",
       "      <td>6888.451313</td>\n",
       "    </tr>\n",
       "    <tr>\n",
       "      <th>2306536</th>\n",
       "      <td>2017-11-01</td>\n",
       "      <td>1142.85</td>\n",
       "      <td>1248.248573</td>\n",
       "    </tr>\n",
       "    <tr>\n",
       "      <th>2306537</th>\n",
       "      <td>2017-11-01</td>\n",
       "      <td>5632.08</td>\n",
       "      <td>6151.494792</td>\n",
       "    </tr>\n",
       "  </tbody>\n",
       "</table>\n",
       "<p>2306538 rows × 3 columns</p>\n",
       "</div>"
      ],
      "text/plain": [
       "                Ano  Vl Remun Média Nom  deflacionado\n",
       "0        2008-11-01             1232.62   2286.232373\n",
       "1        2008-11-01             1173.30   2176.207139\n",
       "2        2008-11-01             1800.00   3338.594434\n",
       "3        2008-11-01             7266.49  13477.701706\n",
       "4        2008-11-01             1019.76   1891.425034\n",
       "...             ...                 ...           ...\n",
       "2306533  2017-11-01             9860.01  10769.342794\n",
       "2306534  2017-11-01             2799.10   3057.245116\n",
       "2306535  2017-11-01             6306.81   6888.451313\n",
       "2306536  2017-11-01             1142.85   1248.248573\n",
       "2306537  2017-11-01             5632.08   6151.494792\n",
       "\n",
       "[2306538 rows x 3 columns]"
      ]
     },
     "execution_count": 8,
     "metadata": {},
     "output_type": "execute_result"
    }
   ],
   "source": [
    "salarios['deflacionado'] = deflate(nominal_dates=salarios.Ano, nominal_values=salarios['Vl Remun Média Nom'], real_date='2020-01',\n",
    "                                  progress_bar=True, on_jupyter=True)\n",
    "salarios"
   ]
  },
  {
   "cell_type": "code",
   "execution_count": 9,
   "metadata": {},
   "outputs": [],
   "source": [
    "y = np.log(salarios.deflacionado)"
   ]
  },
  {
   "cell_type": "code",
   "execution_count": 10,
   "metadata": {},
   "outputs": [
    {
     "name": "stderr",
     "output_type": "stream",
     "text": [
      "C:\\Users\\Neylson\\Anaconda3\\lib\\site-packages\\numpy\\core\\fromnumeric.py:2495: FutureWarning: Method .ptp is deprecated and will be removed in a future version. Use numpy.ptp instead.\n",
      "  return ptp(axis=axis, out=out, **kwargs)\n"
     ]
    },
    {
     "data": {
      "text/html": [
       "<div>\n",
       "<style scoped>\n",
       "    .dataframe tbody tr th:only-of-type {\n",
       "        vertical-align: middle;\n",
       "    }\n",
       "\n",
       "    .dataframe tbody tr th {\n",
       "        vertical-align: top;\n",
       "    }\n",
       "\n",
       "    .dataframe thead th {\n",
       "        text-align: right;\n",
       "    }\n",
       "</style>\n",
       "<table border=\"1\" class=\"dataframe\">\n",
       "  <thead>\n",
       "    <tr style=\"text-align: right;\">\n",
       "      <th></th>\n",
       "      <th>const</th>\n",
       "      <th>Escolaridade após 2005</th>\n",
       "      <th>Qtd Hora Contr</th>\n",
       "      <th>idadecent</th>\n",
       "      <th>Idade_quad</th>\n",
       "      <th>Brasileiro</th>\n",
       "      <th>Branco</th>\n",
       "      <th>Tempo Emprego</th>\n",
       "      <th>Sexo Trabalhador_Masculino</th>\n",
       "      <th>Ano_2009</th>\n",
       "      <th>Ano_2010</th>\n",
       "      <th>Ano_2011</th>\n",
       "      <th>Ano_2012</th>\n",
       "      <th>Ano_2013</th>\n",
       "      <th>Ano_2014</th>\n",
       "      <th>Ano_2015</th>\n",
       "      <th>Ano_2016</th>\n",
       "      <th>Ano_2017</th>\n",
       "      <th>Ano_2018</th>\n",
       "    </tr>\n",
       "  </thead>\n",
       "  <tbody>\n",
       "    <tr>\n",
       "      <th>0</th>\n",
       "      <td>1.0</td>\n",
       "      <td>1.0</td>\n",
       "      <td>44.0</td>\n",
       "      <td>-11.583958</td>\n",
       "      <td>134.188080</td>\n",
       "      <td>1</td>\n",
       "      <td>0</td>\n",
       "      <td>4.7</td>\n",
       "      <td>1</td>\n",
       "      <td>0</td>\n",
       "      <td>0</td>\n",
       "      <td>0</td>\n",
       "      <td>0</td>\n",
       "      <td>0</td>\n",
       "      <td>0</td>\n",
       "      <td>0</td>\n",
       "      <td>0</td>\n",
       "      <td>0</td>\n",
       "      <td>0</td>\n",
       "    </tr>\n",
       "    <tr>\n",
       "      <th>1</th>\n",
       "      <td>1.0</td>\n",
       "      <td>1.0</td>\n",
       "      <td>44.0</td>\n",
       "      <td>-9.583958</td>\n",
       "      <td>91.852248</td>\n",
       "      <td>1</td>\n",
       "      <td>0</td>\n",
       "      <td>2.3</td>\n",
       "      <td>1</td>\n",
       "      <td>0</td>\n",
       "      <td>0</td>\n",
       "      <td>0</td>\n",
       "      <td>0</td>\n",
       "      <td>0</td>\n",
       "      <td>0</td>\n",
       "      <td>0</td>\n",
       "      <td>0</td>\n",
       "      <td>0</td>\n",
       "      <td>0</td>\n",
       "    </tr>\n",
       "    <tr>\n",
       "      <th>2</th>\n",
       "      <td>1.0</td>\n",
       "      <td>2.0</td>\n",
       "      <td>44.0</td>\n",
       "      <td>1.416042</td>\n",
       "      <td>2.005175</td>\n",
       "      <td>1</td>\n",
       "      <td>0</td>\n",
       "      <td>77.9</td>\n",
       "      <td>1</td>\n",
       "      <td>0</td>\n",
       "      <td>0</td>\n",
       "      <td>0</td>\n",
       "      <td>0</td>\n",
       "      <td>0</td>\n",
       "      <td>0</td>\n",
       "      <td>0</td>\n",
       "      <td>0</td>\n",
       "      <td>0</td>\n",
       "      <td>0</td>\n",
       "    </tr>\n",
       "    <tr>\n",
       "      <th>3</th>\n",
       "      <td>1.0</td>\n",
       "      <td>3.0</td>\n",
       "      <td>44.0</td>\n",
       "      <td>17.416042</td>\n",
       "      <td>303.318524</td>\n",
       "      <td>1</td>\n",
       "      <td>0</td>\n",
       "      <td>0.3</td>\n",
       "      <td>1</td>\n",
       "      <td>0</td>\n",
       "      <td>0</td>\n",
       "      <td>0</td>\n",
       "      <td>0</td>\n",
       "      <td>0</td>\n",
       "      <td>0</td>\n",
       "      <td>0</td>\n",
       "      <td>0</td>\n",
       "      <td>0</td>\n",
       "      <td>0</td>\n",
       "    </tr>\n",
       "    <tr>\n",
       "      <th>4</th>\n",
       "      <td>1.0</td>\n",
       "      <td>4.0</td>\n",
       "      <td>44.0</td>\n",
       "      <td>16.416042</td>\n",
       "      <td>269.486439</td>\n",
       "      <td>1</td>\n",
       "      <td>1</td>\n",
       "      <td>0.1</td>\n",
       "      <td>1</td>\n",
       "      <td>0</td>\n",
       "      <td>0</td>\n",
       "      <td>0</td>\n",
       "      <td>0</td>\n",
       "      <td>0</td>\n",
       "      <td>0</td>\n",
       "      <td>0</td>\n",
       "      <td>0</td>\n",
       "      <td>0</td>\n",
       "      <td>0</td>\n",
       "    </tr>\n",
       "    <tr>\n",
       "      <th>...</th>\n",
       "      <td>...</td>\n",
       "      <td>...</td>\n",
       "      <td>...</td>\n",
       "      <td>...</td>\n",
       "      <td>...</td>\n",
       "      <td>...</td>\n",
       "      <td>...</td>\n",
       "      <td>...</td>\n",
       "      <td>...</td>\n",
       "      <td>...</td>\n",
       "      <td>...</td>\n",
       "      <td>...</td>\n",
       "      <td>...</td>\n",
       "      <td>...</td>\n",
       "      <td>...</td>\n",
       "      <td>...</td>\n",
       "      <td>...</td>\n",
       "      <td>...</td>\n",
       "      <td>...</td>\n",
       "    </tr>\n",
       "    <tr>\n",
       "      <th>2306533</th>\n",
       "      <td>1.0</td>\n",
       "      <td>10.0</td>\n",
       "      <td>40.0</td>\n",
       "      <td>21.416042</td>\n",
       "      <td>458.646861</td>\n",
       "      <td>1</td>\n",
       "      <td>1</td>\n",
       "      <td>8.9</td>\n",
       "      <td>0</td>\n",
       "      <td>0</td>\n",
       "      <td>0</td>\n",
       "      <td>0</td>\n",
       "      <td>0</td>\n",
       "      <td>0</td>\n",
       "      <td>0</td>\n",
       "      <td>0</td>\n",
       "      <td>0</td>\n",
       "      <td>1</td>\n",
       "      <td>0</td>\n",
       "    </tr>\n",
       "    <tr>\n",
       "      <th>2306534</th>\n",
       "      <td>1.0</td>\n",
       "      <td>10.0</td>\n",
       "      <td>40.0</td>\n",
       "      <td>8.416042</td>\n",
       "      <td>70.829765</td>\n",
       "      <td>1</td>\n",
       "      <td>0</td>\n",
       "      <td>5.9</td>\n",
       "      <td>0</td>\n",
       "      <td>0</td>\n",
       "      <td>0</td>\n",
       "      <td>0</td>\n",
       "      <td>0</td>\n",
       "      <td>0</td>\n",
       "      <td>0</td>\n",
       "      <td>0</td>\n",
       "      <td>0</td>\n",
       "      <td>1</td>\n",
       "      <td>0</td>\n",
       "    </tr>\n",
       "    <tr>\n",
       "      <th>2306535</th>\n",
       "      <td>1.0</td>\n",
       "      <td>10.0</td>\n",
       "      <td>40.0</td>\n",
       "      <td>2.416042</td>\n",
       "      <td>5.837260</td>\n",
       "      <td>1</td>\n",
       "      <td>1</td>\n",
       "      <td>23.6</td>\n",
       "      <td>0</td>\n",
       "      <td>0</td>\n",
       "      <td>0</td>\n",
       "      <td>0</td>\n",
       "      <td>0</td>\n",
       "      <td>0</td>\n",
       "      <td>0</td>\n",
       "      <td>0</td>\n",
       "      <td>0</td>\n",
       "      <td>1</td>\n",
       "      <td>0</td>\n",
       "    </tr>\n",
       "    <tr>\n",
       "      <th>2306536</th>\n",
       "      <td>1.0</td>\n",
       "      <td>10.0</td>\n",
       "      <td>40.0</td>\n",
       "      <td>-0.583958</td>\n",
       "      <td>0.341007</td>\n",
       "      <td>0</td>\n",
       "      <td>1</td>\n",
       "      <td>6.3</td>\n",
       "      <td>0</td>\n",
       "      <td>0</td>\n",
       "      <td>0</td>\n",
       "      <td>0</td>\n",
       "      <td>0</td>\n",
       "      <td>0</td>\n",
       "      <td>0</td>\n",
       "      <td>0</td>\n",
       "      <td>0</td>\n",
       "      <td>1</td>\n",
       "      <td>0</td>\n",
       "    </tr>\n",
       "    <tr>\n",
       "      <th>2306537</th>\n",
       "      <td>1.0</td>\n",
       "      <td>10.0</td>\n",
       "      <td>40.0</td>\n",
       "      <td>16.416042</td>\n",
       "      <td>269.486439</td>\n",
       "      <td>1</td>\n",
       "      <td>1</td>\n",
       "      <td>9.7</td>\n",
       "      <td>0</td>\n",
       "      <td>0</td>\n",
       "      <td>0</td>\n",
       "      <td>0</td>\n",
       "      <td>0</td>\n",
       "      <td>0</td>\n",
       "      <td>0</td>\n",
       "      <td>0</td>\n",
       "      <td>0</td>\n",
       "      <td>1</td>\n",
       "      <td>0</td>\n",
       "    </tr>\n",
       "  </tbody>\n",
       "</table>\n",
       "<p>2306538 rows × 19 columns</p>\n",
       "</div>"
      ],
      "text/plain": [
       "         const  Escolaridade após 2005  Qtd Hora Contr  idadecent  Idade_quad  \\\n",
       "0          1.0                     1.0            44.0 -11.583958  134.188080   \n",
       "1          1.0                     1.0            44.0  -9.583958   91.852248   \n",
       "2          1.0                     2.0            44.0   1.416042    2.005175   \n",
       "3          1.0                     3.0            44.0  17.416042  303.318524   \n",
       "4          1.0                     4.0            44.0  16.416042  269.486439   \n",
       "...        ...                     ...             ...        ...         ...   \n",
       "2306533    1.0                    10.0            40.0  21.416042  458.646861   \n",
       "2306534    1.0                    10.0            40.0   8.416042   70.829765   \n",
       "2306535    1.0                    10.0            40.0   2.416042    5.837260   \n",
       "2306536    1.0                    10.0            40.0  -0.583958    0.341007   \n",
       "2306537    1.0                    10.0            40.0  16.416042  269.486439   \n",
       "\n",
       "         Brasileiro  Branco  Tempo Emprego  Sexo Trabalhador_Masculino  \\\n",
       "0                 1       0            4.7                           1   \n",
       "1                 1       0            2.3                           1   \n",
       "2                 1       0           77.9                           1   \n",
       "3                 1       0            0.3                           1   \n",
       "4                 1       1            0.1                           1   \n",
       "...             ...     ...            ...                         ...   \n",
       "2306533           1       1            8.9                           0   \n",
       "2306534           1       0            5.9                           0   \n",
       "2306535           1       1           23.6                           0   \n",
       "2306536           0       1            6.3                           0   \n",
       "2306537           1       1            9.7                           0   \n",
       "\n",
       "         Ano_2009  Ano_2010  Ano_2011  Ano_2012  Ano_2013  Ano_2014  Ano_2015  \\\n",
       "0               0         0         0         0         0         0         0   \n",
       "1               0         0         0         0         0         0         0   \n",
       "2               0         0         0         0         0         0         0   \n",
       "3               0         0         0         0         0         0         0   \n",
       "4               0         0         0         0         0         0         0   \n",
       "...           ...       ...       ...       ...       ...       ...       ...   \n",
       "2306533         0         0         0         0         0         0         0   \n",
       "2306534         0         0         0         0         0         0         0   \n",
       "2306535         0         0         0         0         0         0         0   \n",
       "2306536         0         0         0         0         0         0         0   \n",
       "2306537         0         0         0         0         0         0         0   \n",
       "\n",
       "         Ano_2016  Ano_2017  Ano_2018  \n",
       "0               0         0         0  \n",
       "1               0         0         0  \n",
       "2               0         0         0  \n",
       "3               0         0         0  \n",
       "4               0         0         0  \n",
       "...           ...       ...       ...  \n",
       "2306533         0         1         0  \n",
       "2306534         0         1         0  \n",
       "2306535         0         1         0  \n",
       "2306536         0         1         0  \n",
       "2306537         0         1         0  \n",
       "\n",
       "[2306538 rows x 19 columns]"
      ]
     },
     "execution_count": 10,
     "metadata": {},
     "output_type": "execute_result"
    }
   ],
   "source": [
    "X = add_constant(X)\n",
    "X"
   ]
  },
  {
   "cell_type": "markdown",
   "metadata": {},
   "source": [
    "### Teste de multicolinearidade"
   ]
  },
  {
   "cell_type": "code",
   "execution_count": 112,
   "metadata": {},
   "outputs": [
    {
     "name": "stdout",
     "output_type": "stream",
     "text": [
      "const:  293.0130813246426\n",
      "Escolaridade após 2005:  1.142430778024399\n",
      "Qtd Hora Contr:  1.2162289512587046\n",
      "idadecent:  1.8341047551652745\n",
      "Idade_quad:  1.7441398201969418\n",
      "Brasileiro:  1.0057330483414957\n",
      "Branco:  1.0366192092447886\n",
      "Tempo Emprego:  1.3782687459023062\n",
      "Sexo Trabalhador_Masculino:  1.018168063906884\n",
      "Ano_2009:  1.8767806339386877\n",
      "Ano_2010:  2.076176981105023\n",
      "Ano_2011:  2.145437825391867\n",
      "Ano_2012:  2.33346191292951\n",
      "Ano_2013:  2.3730276934947865\n",
      "Ano_2014:  2.420702822139912\n",
      "Ano_2015:  2.427072106436258\n",
      "Ano_2016:  2.3722569335661707\n",
      "Ano_2017:  2.345820562407771\n",
      "Ano_2018:  2.4789004121333575\n"
     ]
    }
   ],
   "source": [
    "for col in X.columns:\n",
    "    print(col + \": \", vif(X.values, X.columns.get_loc(col)))"
   ]
  },
  {
   "cell_type": "code",
   "execution_count": 11,
   "metadata": {},
   "outputs": [
    {
     "name": "stdout",
     "output_type": "stream",
     "text": [
      "                            OLS Regression Results                            \n",
      "==============================================================================\n",
      "Dep. Variable:           deflacionado   R-squared:                       0.436\n",
      "Model:                            OLS   Adj. R-squared:                  0.436\n",
      "Method:                 Least Squares   F-statistic:                 9.914e+04\n",
      "Date:                Mon, 24 Feb 2020   Prob (F-statistic):               0.00\n",
      "Time:                        23:50:59   Log-Likelihood:            -2.3038e+06\n",
      "No. Observations:             2306538   AIC:                         4.608e+06\n",
      "Df Residuals:                 2306519   BIC:                         4.608e+06\n",
      "Df Model:                          18                                         \n",
      "Covariance Type:            nonrobust                                         \n",
      "==============================================================================================\n",
      "                                 coef    std err          t      P>|t|      [0.025      0.975]\n",
      "----------------------------------------------------------------------------------------------\n",
      "const                          5.4047      0.007    729.898      0.000       5.390       5.419\n",
      "Escolaridade após 2005         0.3202      0.000    738.014      0.000       0.319       0.321\n",
      "Qtd Hora Contr                 0.0139   9.48e-05    146.876      0.000       0.014       0.014\n",
      "idadecent                      0.0363   6.14e-05    590.263      0.000       0.036       0.036\n",
      "Idade_quad                    -0.0011   3.73e-06   -290.928      0.000      -0.001      -0.001\n",
      "Brasileiro                    -0.3749      0.005    -72.759      0.000      -0.385      -0.365\n",
      "Branco                         0.1537      0.001    159.881      0.000       0.152       0.156\n",
      "Tempo Emprego                  0.0032   9.36e-06    339.784      0.000       0.003       0.003\n",
      "Sexo Trabalhador_Masculino     0.2417      0.001    264.109      0.000       0.240       0.244\n",
      "Ano_2009                       0.0056      0.002      2.282      0.022       0.001       0.010\n",
      "Ano_2010                      -0.0312      0.002    -13.458      0.000      -0.036      -0.027\n",
      "Ano_2011                       0.0401      0.002     17.545      0.000       0.036       0.045\n",
      "Ano_2012                       0.0353      0.002     15.985      0.000       0.031       0.040\n",
      "Ano_2013                       0.0725      0.002     32.795      0.000       0.068       0.077\n",
      "Ano_2014                       0.0629      0.002     28.575      0.000       0.059       0.067\n",
      "Ano_2015                       0.0227      0.002     10.299      0.000       0.018       0.027\n",
      "Ano_2016                      -0.0112      0.002     -5.016      0.000      -0.016      -0.007\n",
      "Ano_2017                       0.0211      0.002      9.392      0.000       0.017       0.025\n",
      "Ano_2018                      -0.0102      0.002     -4.642      0.000      -0.015      -0.006\n",
      "==============================================================================\n",
      "Omnibus:                    26376.540   Durbin-Watson:                   1.172\n",
      "Prob(Omnibus):                  0.000   Jarque-Bera (JB):            29291.654\n",
      "Skew:                           0.226   Prob(JB):                         0.00\n",
      "Kurtosis:                       3.318   Cond. No.                     3.60e+03\n",
      "==============================================================================\n",
      "\n",
      "Warnings:\n",
      "[1] Standard Errors assume that the covariance matrix of the errors is correctly specified.\n",
      "[2] The condition number is large, 3.6e+03. This might indicate that there are\n",
      "strong multicollinearity or other numerical problems.\n"
     ]
    }
   ],
   "source": [
    "regressao = sm.OLS(y, X).fit()\n",
    "print(regressao.summary())"
   ]
  },
  {
   "cell_type": "code",
   "execution_count": 11,
   "metadata": {},
   "outputs": [
    {
     "name": "stderr",
     "output_type": "stream",
     "text": [
      "C:\\Users\\Neylson\\Anaconda3\\lib\\site-packages\\scipy\\stats\\stats.py:2315: RuntimeWarning: invalid value encountered in true_divide\n",
      "  return (a - mns) / sstd\n"
     ]
    }
   ],
   "source": [
    "Xpad = X.apply(stats.zscore)\n",
    "\n",
    "Xpad = Xpad.drop(columns=\"const\")\n",
    "\n",
    "ypad = pd.DataFrame(y).apply(stats.zscore).deflacionado"
   ]
  },
  {
   "cell_type": "code",
   "execution_count": 12,
   "metadata": {},
   "outputs": [
    {
     "name": "stdout",
     "output_type": "stream",
     "text": [
      "                                 OLS Regression Results                                \n",
      "=======================================================================================\n",
      "Dep. Variable:           deflacionado   R-squared (uncentered):                   0.436\n",
      "Model:                            OLS   Adj. R-squared (uncentered):              0.436\n",
      "Method:                 Least Squares   F-statistic:                          9.914e+04\n",
      "Date:                Wed, 26 Feb 2020   Prob (F-statistic):                        0.00\n",
      "Time:                        11:25:49   Log-Likelihood:                     -2.6119e+06\n",
      "No. Observations:             2306538   AIC:                                  5.224e+06\n",
      "Df Residuals:                 2306520   BIC:                                  5.224e+06\n",
      "Df Model:                          18                                                  \n",
      "Covariance Type:            nonrobust                                                  \n",
      "==============================================================================================\n",
      "                                 coef    std err          t      P>|t|      [0.025      0.975]\n",
      "----------------------------------------------------------------------------------------------\n",
      "Escolaridade após 2005         0.3900      0.001    738.015      0.000       0.389       0.391\n",
      "Qtd Hora Contr                 0.0801      0.001    146.876      0.000       0.079       0.081\n",
      "idadecent                      0.3952      0.001    590.264      0.000       0.394       0.397\n",
      "Idade_quad                    -0.1900      0.001   -290.928      0.000      -0.191      -0.189\n",
      "Brasileiro                    -0.0361      0.000    -72.759      0.000      -0.037      -0.035\n",
      "Branco                         0.0805      0.001    159.881      0.000       0.079       0.081\n",
      "Tempo Emprego                  0.1972      0.001    339.784      0.000       0.196       0.198\n",
      "Sexo Trabalhador_Masculino     0.1318      0.000    264.109      0.000       0.131       0.133\n",
      "Ano_2009                       0.0015      0.001      2.282      0.022       0.000       0.003\n",
      "Ano_2010                      -0.0096      0.001    -13.458      0.000      -0.011      -0.008\n",
      "Ano_2011                       0.0127      0.001     17.545      0.000       0.011       0.014\n",
      "Ano_2012                       0.0121      0.001     15.985      0.000       0.011       0.014\n",
      "Ano_2013                       0.0250      0.001     32.795      0.000       0.023       0.026\n",
      "Ano_2014                       0.0220      0.001     28.575      0.000       0.020       0.023\n",
      "Ano_2015                       0.0079      0.001     10.299      0.000       0.006       0.009\n",
      "Ano_2016                      -0.0038      0.001     -5.016      0.000      -0.005      -0.002\n",
      "Ano_2017                       0.0071      0.001      9.392      0.000       0.006       0.009\n",
      "Ano_2018                      -0.0036      0.001     -4.642      0.000      -0.005      -0.002\n",
      "==============================================================================\n",
      "Omnibus:                    26376.540   Durbin-Watson:                   1.172\n",
      "Prob(Omnibus):                  0.000   Jarque-Bera (JB):            29291.654\n",
      "Skew:                           0.226   Prob(JB):                         0.00\n",
      "Kurtosis:                       3.318   Cond. No.                         5.59\n",
      "==============================================================================\n",
      "\n",
      "Warnings:\n",
      "[1] Standard Errors assume that the covariance matrix of the errors is correctly specified.\n"
     ]
    }
   ],
   "source": [
    "regpad = sm.OLS(ypad, Xpad).fit()\n",
    "print(regpad.summary())"
   ]
  },
  {
   "cell_type": "code",
   "execution_count": 15,
   "metadata": {},
   "outputs": [
    {
     "data": {
      "image/png": "[encoded data removed]",
      "text/plain": [
       "<Figure size 720x360 with 1 Axes>"
      ]
     },
     "metadata": {},
     "output_type": "display_data"
    }
   ],
   "source": [
    "# Comparando coeficientes\n",
    "bdregpad = pd.DataFrame({'cols':list(regpad.params.keys()), 'betas':regpad.params ** 2}).sort_values('betas',ascending=True)\n",
    "\n",
    "sns.set(style='whitegrid')\n",
    "\n",
    "from matplotlib import rc\n",
    "rc('text', usetex=False)\n",
    "plt.figure(figsize=(10,5))\n",
    "plt.barh(bdregpad.cols, bdregpad.betas)\n",
    "plt.suptitle(\"Standardized relative importances\", fontweight=\"bold\", fontsize=\"large\")\n",
    "plt.title(\"Fonte: RAIS 2008 a 2018 - Deflacionada com IPCA\", loc='left')\n",
    "rc('text', usetex=True)\n",
    "plt.xlabel(\"$\\\\beta^2$\")\n",
    "rc('text', usetex=False)\n",
    "plt.yticks(np.arange(0,18), ['Ano_2009', 'Ano_2018', 'Ano_2016', 'Ano_2017', 'Ano_2015',\n",
    "                           'Ano_2010', 'Ano_2012', 'Ano_2011', 'Ano_2014', 'Ano_2013',\n",
    "                           'Brasileiro', 'Qtd Hora Contr', 'Branco',\n",
    "                           'Sexo_Masculino', 'Idade Cent. ao quad.', 'Tempo Emprego',\n",
    "                           'Escolaridade após 2005', 'Idade Centralizada'])\n",
    "plt.show()"
   ]
  },
  {
   "cell_type": "markdown",
   "metadata": {},
   "source": [
    "---\n",
    "\n",
    "## Pooled Cross Sectional Regression\n",
    "\n",
    "### Interação de Ano e Sexo"
   ]
  },
  {
   "cell_type": "code",
   "execution_count": 52,
   "metadata": {},
   "outputs": [
    {
     "data": {
      "text/plain": [
       "Index(['const', 'Escolaridade após 2005', 'Qtd Hora Contr', 'idadecent',\n",
       "       'Idade_quad', 'Brasileiro', 'Branco', 'Tempo Emprego',\n",
       "       'Sexo Trabalhador_Masculino', 'Ano_2009', 'Ano_2010', 'Ano_2011',\n",
       "       'Ano_2012', 'Ano_2013', 'Ano_2014', 'Ano_2015', 'Ano_2016', 'Ano_2017',\n",
       "       'Ano_2018'],\n",
       "      dtype='object')"
      ]
     },
     "execution_count": 52,
     "metadata": {},
     "output_type": "execute_result"
    }
   ],
   "source": [
    "X.columns"
   ]
  },
  {
   "cell_type": "code",
   "execution_count": 53,
   "metadata": {},
   "outputs": [],
   "source": [
    "X_int_anosexo = X.assign(sexoM_2009 = lambda x: x['Sexo Trabalhador_Masculino'] * x.Ano_2009,\n",
    "                          sexoM_2010= lambda x: x['Sexo Trabalhador_Masculino'] * x.Ano_2010,\n",
    "                          sexoM_2011= lambda x: x['Sexo Trabalhador_Masculino'] * x.Ano_2011,\n",
    "                          sexoM_2012= lambda x: x['Sexo Trabalhador_Masculino'] * x.Ano_2012,\n",
    "                          sexoM_2013= lambda x: x['Sexo Trabalhador_Masculino'] * x.Ano_2013,\n",
    "                          sexoM_2014= lambda x: x['Sexo Trabalhador_Masculino'] * x.Ano_2014,\n",
    "                          sexoM_2015= lambda x: x['Sexo Trabalhador_Masculino'] * x.Ano_2015,\n",
    "                          sexoM_2016= lambda x: x['Sexo Trabalhador_Masculino'] * x.Ano_2016,\n",
    "                          sexoM_2017= lambda x: x['Sexo Trabalhador_Masculino'] * x.Ano_2017,\n",
    "                          sexoM_2018= lambda x: x['Sexo Trabalhador_Masculino'] * x.Ano_2018\n",
    "                         )"
   ]
  },
  {
   "cell_type": "code",
   "execution_count": 54,
   "metadata": {},
   "outputs": [
    {
     "name": "stdout",
     "output_type": "stream",
     "text": [
      "                            OLS Regression Results                            \n",
      "==============================================================================\n",
      "Dep. Variable:           deflacionado   R-squared:                       0.436\n",
      "Model:                            OLS   Adj. R-squared:                  0.436\n",
      "Method:                 Least Squares   F-statistic:                 6.374e+04\n",
      "Date:                Wed, 26 Feb 2020   Prob (F-statistic):               0.00\n",
      "Time:                        13:43:02   Log-Likelihood:            -2.3038e+06\n",
      "No. Observations:             2306538   AIC:                         4.608e+06\n",
      "Df Residuals:                 2306509   BIC:                         4.608e+06\n",
      "Df Model:                          28                                         \n",
      "Covariance Type:            nonrobust                                         \n",
      "==============================================================================================\n",
      "                                 coef    std err          t      P>|t|      [0.025      0.975]\n",
      "----------------------------------------------------------------------------------------------\n",
      "const                          5.3974      0.008    705.479      0.000       5.382       5.412\n",
      "Escolaridade após 2005         0.3202      0.000    737.875      0.000       0.319       0.321\n",
      "Qtd Hora Contr                 0.0139   9.48e-05    146.720      0.000       0.014       0.014\n",
      "idadecent                      0.0362   6.14e-05    590.193      0.000       0.036       0.036\n",
      "Idade_quad                    -0.0011   3.73e-06   -290.872      0.000      -0.001      -0.001\n",
      "Brasileiro                    -0.3749      0.005    -72.766      0.000      -0.385      -0.365\n",
      "Branco                         0.1537      0.001    159.853      0.000       0.152       0.156\n",
      "Tempo Emprego                  0.0032   9.36e-06    339.798      0.000       0.003       0.003\n",
      "Sexo Trabalhador_Masculino     0.2548      0.004     72.381      0.000       0.248       0.262\n",
      "Ano_2009                       0.0029      0.004      0.742      0.458      -0.005       0.011\n",
      "Ano_2010                      -0.0116      0.004     -3.070      0.002      -0.019      -0.004\n",
      "Ano_2011                       0.0619      0.004     16.565      0.000       0.055       0.069\n",
      "Ano_2012                       0.0451      0.004     12.559      0.000       0.038       0.052\n",
      "Ano_2013                       0.0842      0.004     23.470      0.000       0.077       0.091\n",
      "Ano_2014                       0.0702      0.004     19.692      0.000       0.063       0.077\n",
      "Ano_2015                       0.0290      0.004      8.109      0.000       0.022       0.036\n",
      "Ano_2016                      -0.0056      0.004     -1.539      0.124      -0.013       0.002\n",
      "Ano_2017                       0.0242      0.004      6.600      0.000       0.017       0.031\n",
      "Ano_2018                      -0.0068      0.004     -1.886      0.059      -0.014       0.000\n",
      "sexoM_2009                     0.0038      0.005      0.758      0.448      -0.006       0.014\n",
      "sexoM_2010                    -0.0312      0.005     -6.536      0.000      -0.041      -0.022\n",
      "sexoM_2011                    -0.0343      0.005     -7.280      0.000      -0.044      -0.025\n",
      "sexoM_2012                    -0.0159      0.005     -3.496      0.000      -0.025      -0.007\n",
      "sexoM_2013                    -0.0189      0.005     -4.164      0.000      -0.028      -0.010\n",
      "sexoM_2014                    -0.0121      0.004     -2.690      0.007      -0.021      -0.003\n",
      "sexoM_2015                    -0.0106      0.005     -2.359      0.018      -0.019      -0.002\n",
      "sexoM_2016                    -0.0096      0.005     -2.095      0.036      -0.018      -0.001\n",
      "sexoM_2017                    -0.0058      0.005     -1.260      0.208      -0.015       0.003\n",
      "sexoM_2018                    -0.0064      0.005     -1.419      0.156      -0.015       0.002\n",
      "==============================================================================\n",
      "Omnibus:                    26411.706   Durbin-Watson:                   1.172\n",
      "Prob(Omnibus):                  0.000   Jarque-Bera (JB):            29335.880\n",
      "Skew:                           0.226   Prob(JB):                         0.00\n",
      "Kurtosis:                       3.318   Cond. No.                     6.11e+03\n",
      "==============================================================================\n",
      "\n",
      "Warnings:\n",
      "[1] Standard Errors assume that the covariance matrix of the errors is correctly specified.\n",
      "[2] The condition number is large, 6.11e+03. This might indicate that there are\n",
      "strong multicollinearity or other numerical problems.\n"
     ]
    }
   ],
   "source": [
    "reg_int_anosexo = sm.OLS(y, X_int_anosexo).fit()\n",
    "print(reg_int_anosexo.summary())"
   ]
  },
  {
   "cell_type": "markdown",
   "metadata": {},
   "source": [
    "### Plotando a variação na diferença de salário (medida de desigualdade)"
   ]
  },
  {
   "cell_type": "code",
   "execution_count": 55,
   "metadata": {},
   "outputs": [
    {
     "data": {
      "image/png": "[encoded data removed]",
      "text/plain": [
       "<Figure size 720x360 with 1 Axes>"
      ]
     },
     "metadata": {},
     "output_type": "display_data"
    }
   ],
   "source": [
    "desigualdade = (np.array([reg_int_anosexo.params['Sexo Trabalhador_Masculino'],\n",
    "               reg_int_anosexo.params['Sexo Trabalhador_Masculino'],\n",
    "               reg_int_anosexo.params['Sexo Trabalhador_Masculino'] + reg_int_anosexo.params['sexoM_2010'],\n",
    "               reg_int_anosexo.params['Sexo Trabalhador_Masculino'] + reg_int_anosexo.params['sexoM_2011'],\n",
    "               reg_int_anosexo.params['Sexo Trabalhador_Masculino'] + reg_int_anosexo.params['sexoM_2012'],\n",
    "               reg_int_anosexo.params['Sexo Trabalhador_Masculino'] + reg_int_anosexo.params['sexoM_2013'],\n",
    "               reg_int_anosexo.params['Sexo Trabalhador_Masculino'] + reg_int_anosexo.params['sexoM_2014'],\n",
    "               reg_int_anosexo.params['Sexo Trabalhador_Masculino'] + reg_int_anosexo.params['sexoM_2015'],\n",
    "               reg_int_anosexo.params['Sexo Trabalhador_Masculino'] + reg_int_anosexo.params['sexoM_2016'],\n",
    "               reg_int_anosexo.params['Sexo Trabalhador_Masculino'],\n",
    "               reg_int_anosexo.params['Sexo Trabalhador_Masculino']]) * 100).round(4)\n",
    "\n",
    "plt.figure(figsize=(10,5))\n",
    "plt.plot(np.arange(2008, 2019), desigualdade)\n",
    "plt.suptitle(\"Medida de desigualdade de salário entre Homens e Mulheres\", fontweight=\"bold\", fontsize=\"large\")\n",
    "plt.title(\"Fonte: RAIS 2008 a 2018\", loc='left')\n",
    "plt.ylabel(\"Diferença de Salário por sexo (%)\")\n",
    "#plt.ylim(21.5, 26)\n",
    "plt.show()"
   ]
  },
  {
   "cell_type": "markdown",
   "metadata": {},
   "source": [
    "## Interação Ano * Idade (como *proxy* de Experiência)"
   ]
  },
  {
   "cell_type": "code",
   "execution_count": 56,
   "metadata": {},
   "outputs": [],
   "source": [
    "X_int_anoidade = Xpad.assign(idade_2009 = lambda x: x['idadecent'] * x.Ano_2009,\n",
    "                          idade_2010 = lambda x: x['idadecent'] * x.Ano_2010,\n",
    "                          idade_2011 = lambda x: x['idadecent'] * x.Ano_2011,\n",
    "                          idade_2012 = lambda x: x['idadecent'] * x.Ano_2012,\n",
    "                          idade_2013 = lambda x: x['idadecent'] * x.Ano_2013,\n",
    "                          idade_2014 = lambda x: x['idadecent'] * x.Ano_2014,\n",
    "                          idade_2015 = lambda x: x['idadecent'] * x.Ano_2015,\n",
    "                          idade_2016 = lambda x: x['idadecent'] * x.Ano_2016,\n",
    "                          idade_2017 = lambda x: x['idadecent'] * x.Ano_2017,\n",
    "                          idade_2018 = lambda x: x['idadecent'] * x.Ano_2018\n",
    "                         )"
   ]
  },
  {
   "cell_type": "code",
   "execution_count": 57,
   "metadata": {},
   "outputs": [
    {
     "name": "stdout",
     "output_type": "stream",
     "text": [
      "                                 OLS Regression Results                                \n",
      "=======================================================================================\n",
      "Dep. Variable:           deflacionado   R-squared (uncentered):                   0.437\n",
      "Model:                            OLS   Adj. R-squared (uncentered):              0.437\n",
      "Method:                 Least Squares   F-statistic:                          6.403e+04\n",
      "Date:                Wed, 26 Feb 2020   Prob (F-statistic):                        0.00\n",
      "Time:                        13:44:16   Log-Likelihood:                     -2.6096e+06\n",
      "No. Observations:             2306538   AIC:                                  5.219e+06\n",
      "Df Residuals:                 2306510   BIC:                                  5.220e+06\n",
      "Df Model:                          28                                                  \n",
      "Covariance Type:            nonrobust                                                  \n",
      "==============================================================================================\n",
      "                                 coef    std err          t      P>|t|      [0.025      0.975]\n",
      "----------------------------------------------------------------------------------------------\n",
      "Escolaridade após 2005         0.3904      0.001    739.395      0.000       0.389       0.391\n",
      "Qtd Hora Contr                 0.0829      0.001    151.408      0.000       0.082       0.084\n",
      "idadecent                      0.3972      0.001    592.901      0.000       0.396       0.399\n",
      "Idade_quad                    -0.1943      0.001   -296.005      0.000      -0.196      -0.193\n",
      "Brasileiro                    -0.0368      0.000    -74.194      0.000      -0.038      -0.036\n",
      "Branco                         0.0800      0.001    159.010      0.000       0.079       0.081\n",
      "Tempo Emprego                  0.1992      0.001    342.011      0.000       0.198       0.200\n",
      "Sexo Trabalhador_Masculino     0.1315      0.000    263.894      0.000       0.131       0.132\n",
      "Ano_2009                       0.0038      0.001      5.618      0.000       0.002       0.005\n",
      "Ano_2010                      -0.0070      0.001     -9.793      0.000      -0.008      -0.006\n",
      "Ano_2011                       0.0153      0.001     21.003      0.000       0.014       0.017\n",
      "Ano_2012                       0.0156      0.001     20.533      0.000       0.014       0.017\n",
      "Ano_2013                       0.0289      0.001     37.734      0.000       0.027       0.030\n",
      "Ano_2014                       0.0259      0.001     33.548      0.000       0.024       0.027\n",
      "Ano_2015                       0.0114      0.001     14.672      0.000       0.010       0.013\n",
      "Ano_2016                      -0.0010      0.001     -1.271      0.204      -0.002       0.001\n",
      "Ano_2017                       0.0095      0.001     12.475      0.000       0.008       0.011\n",
      "Ano_2018                      -0.0010      0.001     -1.274      0.203      -0.003       0.001\n",
      "idade_2009                     0.0102      0.001     15.143      0.000       0.009       0.011\n",
      "idade_2010                     0.0170      0.001     23.834      0.000       0.016       0.018\n",
      "idade_2011                     0.0172      0.001     23.366      0.000       0.016       0.019\n",
      "idade_2012                     0.0239      0.001     31.550      0.000       0.022       0.025\n",
      "idade_2013                     0.0281      0.001     36.872      0.000       0.027       0.030\n",
      "idade_2014                     0.0306      0.001     40.039      0.000       0.029       0.032\n",
      "idade_2015                     0.0344      0.001     45.163      0.000       0.033       0.036\n",
      "idade_2016                     0.0359      0.001     47.778      0.000       0.034       0.037\n",
      "idade_2017                     0.0360      0.001     48.274      0.000       0.035       0.037\n",
      "idade_2018                     0.0370      0.001     48.233      0.000       0.035       0.038\n",
      "==============================================================================\n",
      "Omnibus:                    26789.111   Durbin-Watson:                   1.174\n",
      "Prob(Omnibus):                  0.000   Jarque-Bera (JB):            29838.018\n",
      "Skew:                           0.227   Prob(JB):                         0.00\n",
      "Kurtosis:                       3.324   Cond. No.                         5.97\n",
      "==============================================================================\n",
      "\n",
      "Warnings:\n",
      "[1] Standard Errors assume that the covariance matrix of the errors is correctly specified.\n"
     ]
    }
   ],
   "source": [
    "reg_int_anoidade = sm.OLS(ypad, X_int_anoidade).fit()\n",
    "print(reg_int_anoidade.summary())"
   ]
  },
  {
   "cell_type": "markdown",
   "metadata": {},
   "source": [
    "### Plotando a variação no efeito da Experiência"
   ]
  },
  {
   "cell_type": "code",
   "execution_count": 70,
   "metadata": {},
   "outputs": [
    {
     "data": {
      "image/png": "[encoded data removed]",
      "text/plain": [
       "<Figure size 720x360 with 1 Axes>"
      ]
     },
     "metadata": {},
     "output_type": "display_data"
    }
   ],
   "source": [
    "efeito_idade = (np.array([reg_int_anoidade.params['idadecent'],\n",
    "                           reg_int_anoidade.params['idadecent'] + reg_int_anoidade.params['idade_2009'],\n",
    "                           reg_int_anoidade.params['idadecent'] + reg_int_anoidade.params['idade_2010'],\n",
    "                           reg_int_anoidade.params['idadecent'] + reg_int_anoidade.params['idade_2011'],\n",
    "                           reg_int_anoidade.params['idadecent'] + reg_int_anoidade.params['idade_2012'],\n",
    "                           reg_int_anoidade.params['idadecent'] + reg_int_anoidade.params['idade_2013'],\n",
    "                           reg_int_anoidade.params['idadecent'] + reg_int_anoidade.params['idade_2014'],\n",
    "                           reg_int_anoidade.params['idadecent'] + reg_int_anoidade.params['idade_2015'],\n",
    "                           reg_int_anoidade.params['idadecent'] + reg_int_anoidade.params['idade_2016'],\n",
    "                           reg_int_anoidade.params['idadecent'] + reg_int_anoidade.params['idade_2017'],\n",
    "                           reg_int_anoidade.params['idadecent'] + reg_int_anoidade.params['idade_2018'],\n",
    "                         ]))\n",
    "\n",
    "plt.figure(figsize=(10,5))\n",
    "plt.plot(np.arange(2008, 2019), efeito_idade, linestyle='--', marker='o', label='Efeito da Experiência')\n",
    "plt.axhline(np.mean(efeito_idade), c='r', label='Média do efeito')\n",
    "plt.suptitle(\"Efeito da Experiência (mensurada por idade como proxy)\", fontweight=\"bold\", fontsize=\"large\")\n",
    "plt.title(\"Fonte: RAIS 2008 a 2018\", loc='left')\n",
    "plt.ylabel(\"Variação na renda em desvios padrões\")\n",
    "plt.legend()\n",
    "plt.show()"
   ]
  },
  {
   "cell_type": "markdown",
   "metadata": {},
   "source": [
    "## Interação Ano * Escolaridade"
   ]
  },
  {
   "cell_type": "code",
   "execution_count": 65,
   "metadata": {},
   "outputs": [],
   "source": [
    "X_int_anoesco = Xpad.assign(esco_2009 = lambda x: x['Escolaridade após 2005'] * x.Ano_2009,\n",
    "                          esco_2010 = lambda x: x['Escolaridade após 2005'] * x.Ano_2010,\n",
    "                          esco_2011 = lambda x: x['Escolaridade após 2005'] * x.Ano_2011,\n",
    "                          esco_2012 = lambda x: x['Escolaridade após 2005'] * x.Ano_2012,\n",
    "                          esco_2013 = lambda x: x['Escolaridade após 2005'] * x.Ano_2013,\n",
    "                          esco_2014 = lambda x: x['Escolaridade após 2005'] * x.Ano_2014,\n",
    "                          esco_2015 = lambda x: x['Escolaridade após 2005'] * x.Ano_2015,\n",
    "                          esco_2016 = lambda x: x['Escolaridade após 2005'] * x.Ano_2016,\n",
    "                          esco_2017 = lambda x: x['Escolaridade após 2005'] * x.Ano_2017,\n",
    "                          esco_2018 = lambda x: x['Escolaridade após 2005'] * x.Ano_2018\n",
    "                         )"
   ]
  },
  {
   "cell_type": "code",
   "execution_count": 66,
   "metadata": {},
   "outputs": [
    {
     "name": "stdout",
     "output_type": "stream",
     "text": [
      "                                 OLS Regression Results                                \n",
      "=======================================================================================\n",
      "Dep. Variable:           deflacionado   R-squared (uncentered):                   0.437\n",
      "Model:                            OLS   Adj. R-squared (uncentered):              0.437\n",
      "Method:                 Least Squares   F-statistic:                          6.385e+04\n",
      "Date:                Wed, 26 Feb 2020   Prob (F-statistic):                        0.00\n",
      "Time:                        13:47:51   Log-Likelihood:                     -2.6110e+06\n",
      "No. Observations:             2306538   AIC:                                  5.222e+06\n",
      "Df Residuals:                 2306510   BIC:                                  5.222e+06\n",
      "Df Model:                          28                                                  \n",
      "Covariance Type:            nonrobust                                                  \n",
      "==============================================================================================\n",
      "                                 coef    std err          t      P>|t|      [0.025      0.975]\n",
      "----------------------------------------------------------------------------------------------\n",
      "Escolaridade após 2005         0.3941      0.001    727.209      0.000       0.393       0.395\n",
      "Qtd Hora Contr                 0.0808      0.001    148.007      0.000       0.080       0.082\n",
      "idadecent                      0.3945      0.001    589.274      0.000       0.393       0.396\n",
      "Idade_quad                    -0.1894      0.001   -290.039      0.000      -0.191      -0.188\n",
      "Brasileiro                    -0.0360      0.000    -72.618      0.000      -0.037      -0.035\n",
      "Branco                         0.0815      0.001    161.683      0.000       0.080       0.082\n",
      "Tempo Emprego                  0.1979      0.001    340.887      0.000       0.197       0.199\n",
      "Sexo Trabalhador_Masculino     0.1315      0.000    263.656      0.000       0.131       0.132\n",
      "Ano_2009                       0.0082      0.001     11.488      0.000       0.007       0.010\n",
      "Ano_2010                      -0.0017      0.001     -2.231      0.026      -0.003      -0.000\n",
      "Ano_2011                       0.0209      0.001     27.692      0.000       0.019       0.022\n",
      "Ano_2012                       0.0213      0.001     26.952      0.000       0.020       0.023\n",
      "Ano_2013                       0.0335      0.001     42.323      0.000       0.032       0.035\n",
      "Ano_2014                       0.0306      0.001     38.232      0.000       0.029       0.032\n",
      "Ano_2015                       0.0166      0.001     20.731      0.000       0.015       0.018\n",
      "Ano_2016                       0.0053      0.001      6.665      0.000       0.004       0.007\n",
      "Ano_2017                       0.0154      0.001     19.434      0.000       0.014       0.017\n",
      "Ano_2018                       0.0047      0.001      5.735      0.000       0.003       0.006\n",
      "esco_2009                      0.0110      0.001     19.965      0.000       0.010       0.012\n",
      "esco_2010                      0.0152      0.001     25.424      0.000       0.014       0.016\n",
      "esco_2011                      0.0160      0.001     26.257      0.000       0.015       0.017\n",
      "esco_2012                      0.0211      0.001     32.940      0.000       0.020       0.022\n",
      "esco_2013                      0.0211      0.001     32.513      0.000       0.020       0.022\n",
      "esco_2014                      0.0201      0.001     30.503      0.000       0.019       0.021\n",
      "esco_2015                      0.0176      0.001     26.408      0.000       0.016       0.019\n",
      "esco_2016                      0.0130      0.001     19.545      0.000       0.012       0.014\n",
      "esco_2017                      0.0172      0.001     25.496      0.000       0.016       0.019\n",
      "esco_2018                      0.0194      0.001     27.887      0.000       0.018       0.021\n",
      "==============================================================================\n",
      "Omnibus:                    26703.998   Durbin-Watson:                   1.172\n",
      "Prob(Omnibus):                  0.000   Jarque-Bera (JB):            29776.388\n",
      "Skew:                           0.226   Prob(JB):                         0.00\n",
      "Kurtosis:                       3.325   Cond. No.                         6.18\n",
      "==============================================================================\n",
      "\n",
      "Warnings:\n",
      "[1] Standard Errors assume that the covariance matrix of the errors is correctly specified.\n"
     ]
    }
   ],
   "source": [
    "reg_int_anoesco = sm.OLS(ypad, X_int_anoesco).fit()\n",
    "print(reg_int_anoesco.summary())"
   ]
  },
  {
   "cell_type": "markdown",
   "metadata": {},
   "source": [
    "### Plotando a variação no efeito da Escolaridade"
   ]
  },
  {
   "cell_type": "code",
   "execution_count": 69,
   "metadata": {},
   "outputs": [
    {
     "data": {
      "image/png": "[encoded data removed]",
      "text/plain": [
       "<Figure size 720x360 with 1 Axes>"
      ]
     },
     "metadata": {},
     "output_type": "display_data"
    }
   ],
   "source": [
    "efeito_esco = (np.array([reg_int_anoesco.params['Escolaridade após 2005'],\n",
    "                           reg_int_anoesco.params['Escolaridade após 2005'] + reg_int_anoesco.params['esco_2009'],\n",
    "                           reg_int_anoesco.params['Escolaridade após 2005'] + reg_int_anoesco.params['esco_2010'],\n",
    "                           reg_int_anoesco.params['Escolaridade após 2005'] + reg_int_anoesco.params['esco_2011'],\n",
    "                           reg_int_anoesco.params['Escolaridade após 2005'] + reg_int_anoesco.params['esco_2012'],\n",
    "                           reg_int_anoesco.params['Escolaridade após 2005'] + reg_int_anoesco.params['esco_2013'],\n",
    "                           reg_int_anoesco.params['Escolaridade após 2005'] + reg_int_anoesco.params['esco_2014'],\n",
    "                           reg_int_anoesco.params['Escolaridade após 2005'] + reg_int_anoesco.params['esco_2015'],\n",
    "                           reg_int_anoesco.params['Escolaridade após 2005'] + reg_int_anoesco.params['esco_2016'],\n",
    "                           reg_int_anoesco.params['Escolaridade após 2005'] + reg_int_anoesco.params['esco_2017'],\n",
    "                           reg_int_anoesco.params['Escolaridade após 2005'] + reg_int_anoesco.params['esco_2018'],\n",
    "                         ]))\n",
    "\n",
    "plt.figure(figsize=(10,5))\n",
    "plt.plot(np.arange(2008, 2019), efeito_esco, linestyle='--', marker='o', label='Efeito da Escolaridade')\n",
    "plt.axhline(np.mean(efeito_esco), c='r', label='Média do efeito')\n",
    "plt.suptitle(\"Efeito da Escolaridade\", fontweight=\"bold\", fontsize=\"large\")\n",
    "plt.title(\"Fonte: RAIS 2008 a 2018\", loc='left')\n",
    "plt.ylabel(\"Variação na renda em desvios padrões\")\n",
    "plt.legend()\n",
    "plt.show()"
   ]
  },
  {
   "cell_type": "markdown",
   "metadata": {},
   "source": [
    "---\n",
    "\n",
    "# Apresentando os efeitos interativos de Escolaridade e Idade"
   ]
  },
  {
   "cell_type": "code",
   "execution_count": null,
   "metadata": {},
   "outputs": [],
   "source": [
    "\"\"\"idadeesco = Xpad.assign(esco_2009 = lambda x: x['Escolaridade após 2005'] * x.Ano_2009,\n",
    "                          esco_2010 = lambda x: x['Escolaridade após 2005'] * x.Ano_2010,\n",
    "                          esco_2011 = lambda x: x['Escolaridade após 2005'] * x.Ano_2011,\n",
    "                          esco_2012 = lambda x: x['Escolaridade após 2005'] * x.Ano_2012,\n",
    "                          esco_2013 = lambda x: x['Escolaridade após 2005'] * x.Ano_2013,\n",
    "                          esco_2014 = lambda x: x['Escolaridade após 2005'] * x.Ano_2014,\n",
    "                          esco_2015 = lambda x: x['Escolaridade após 2005'] * x.Ano_2015,\n",
    "                          esco_2016 = lambda x: x['Escolaridade após 2005'] * x.Ano_2016,\n",
    "                          esco_2017 = lambda x: x['Escolaridade após 2005'] * x.Ano_2017,\n",
    "                          esco_2018 = lambda x: x['Escolaridade após 2005'] * x.Ano_2018,\n",
    "                        idade_2009 = lambda x: x['idadecent'] * x.Ano_2009,\n",
    "                          idade_2010 = lambda x: x['idadecent'] * x.Ano_2010,\n",
    "                          idade_2011 = lambda x: x['idadecent'] * x.Ano_2011,\n",
    "                          idade_2012 = lambda x: x['idadecent'] * x.Ano_2012,\n",
    "                          idade_2013 = lambda x: x['idadecent'] * x.Ano_2013,\n",
    "                          idade_2014 = lambda x: x['idadecent'] * x.Ano_2014,\n",
    "                          idade_2015 = lambda x: x['idadecent'] * x.Ano_2015,\n",
    "                          idade_2016 = lambda x: x['idadecent'] * x.Ano_2016,\n",
    "                          idade_2017 = lambda x: x['idadecent'] * x.Ano_2017,\n",
    "                          idade_2018 = lambda x: x['idadecent'] * x.Ano_2018\n",
    "                         )\n",
    "\"\"\""
   ]
  },
  {
   "cell_type": "code",
   "execution_count": null,
   "metadata": {},
   "outputs": [],
   "source": [
    "\"\"\"\n",
    "reg_int_idadeescopad = sm.OLS(y, idadeesco).fit()\n",
    "print(reg_int_idadeescopad.summary())\n",
    "\"\"\""
   ]
  },
  {
   "cell_type": "code",
   "execution_count": 101,
   "metadata": {},
   "outputs": [
    {
     "data": {
      "image/png": "[encoded data removed]",
      "text/plain": [
       "<Figure size 720x360 with 1 Axes>"
      ]
     },
     "metadata": {},
     "output_type": "display_data"
    }
   ],
   "source": [
    "\"\"\"efeito_escopad = (np.array([reg_int_idadeescopad.params['Escolaridade após 2005'],\n",
    "                           reg_int_idadeescopad.params['Escolaridade após 2005'] + reg_int_idadeescopad.params['esco_2009'],\n",
    "                           reg_int_idadeescopad.params['Escolaridade após 2005'] + reg_int_idadeescopad.params['esco_2010'],\n",
    "                           reg_int_idadeescopad.params['Escolaridade após 2005'] + reg_int_idadeescopad.params['esco_2011'],\n",
    "                           reg_int_idadeescopad.params['Escolaridade após 2005'] + reg_int_idadeescopad.params['esco_2012'],\n",
    "                           reg_int_idadeescopad.params['Escolaridade após 2005'] + reg_int_idadeescopad.params['esco_2013'],\n",
    "                           reg_int_idadeescopad.params['Escolaridade após 2005'] + reg_int_idadeescopad.params['esco_2014'],\n",
    "                           reg_int_idadeescopad.params['Escolaridade após 2005'] + reg_int_idadeescopad.params['esco_2015'],\n",
    "                           reg_int_idadeescopad.params['Escolaridade após 2005'] + reg_int_idadeescopad.params['esco_2016'],\n",
    "                           reg_int_idadeescopad.params['Escolaridade após 2005'] + reg_int_idadeescopad.params['esco_2017'],\n",
    "                           reg_int_idadeescopad.params['Escolaridade após 2005'] + reg_int_idadeescopad.params['esco_2018'],\n",
    "                         ])).round(6)\n",
    "\n",
    "efeito_idadepad = (np.array([reg_int_idadeescopad.params['idadecent'],\n",
    "                           reg_int_idadeescopad.params['idadecent'] + reg_int_idadeescopad.params['idade_2009'],\n",
    "                           reg_int_idadeescopad.params['idadecent'] + reg_int_idadeescopad.params['idade_2010'],\n",
    "                           reg_int_idadeescopad.params['idadecent'] + reg_int_idadeescopad.params['idade_2011'],\n",
    "                           reg_int_idadeescopad.params['idadecent'] + reg_int_idadeescopad.params['idade_2012'],\n",
    "                           reg_int_idadeescopad.params['idadecent'] + reg_int_idadeescopad.params['idade_2013'],\n",
    "                           reg_int_idadeescopad.params['idadecent'] + reg_int_idadeescopad.params['idade_2014'],\n",
    "                           reg_int_idadeescopad.params['idadecent'] + reg_int_idadeescopad.params['idade_2015'],\n",
    "                           reg_int_idadeescopad.params['idadecent'] + reg_int_idadeescopad.params['idade_2016'],\n",
    "                           reg_int_idadeescopad.params['idadecent'] + reg_int_idadeescopad.params['idade_2017'],\n",
    "                           reg_int_idadeescopad.params['idadecent'] + reg_int_idadeescopad.params['idade_2018'],\n",
    "                         ])).round(6)\n",
    "\"\"\"\n",
    "\n",
    "plt.figure(figsize=(10,5))\n",
    "plt.plot(np.arange(2008, 2019), efeito_esco, label = \"Escolaridade\")\n",
    "plt.plot(np.arange(2008, 2019), efeito_idade, label = \"Idade\")\n",
    "plt.suptitle(\"Efeitos de Escolaridade e Idade\", fontweight=\"bold\", fontsize=\"large\")\n",
    "plt.title(\"Fonte: RAIS 2008 a 2018\", loc='left')\n",
    "plt.ylabel(\"Variação na renda em desvios padrões\")\n",
    "plt.legend()\n",
    "plt.show()"
   ]
  },
  {
   "cell_type": "code",
   "execution_count": 117,
   "metadata": {},
   "outputs": [
    {
     "name": "stdout",
     "output_type": "stream",
     "text": [
      "\n",
      "==========================================================================\n",
      "                           deflacionado I deflacionado II deflacionado III\n",
      "--------------------------------------------------------------------------\n",
      "Ano_2009                   0.0029         0.0038***       0.0082***       \n",
      "                           (0.0039)       (0.0007)        (0.0007)        \n",
      "Ano_2010                   -0.0116***     -0.0070***      -0.0017**       \n",
      "                           (0.0038)       (0.0007)        (0.0007)        \n",
      "Ano_2011                   0.0619***      0.0153***       0.0209***       \n",
      "                           (0.0037)       (0.0007)        (0.0008)        \n",
      "Ano_2012                   0.0451***      0.0156***       0.0213***       \n",
      "                           (0.0036)       (0.0008)        (0.0008)        \n",
      "Ano_2013                   0.0842***      0.0289***       0.0335***       \n",
      "                           (0.0036)       (0.0008)        (0.0008)        \n",
      "Ano_2014                   0.0702***      0.0259***       0.0306***       \n",
      "                           (0.0036)       (0.0008)        (0.0008)        \n",
      "Ano_2015                   0.0290***      0.0114***       0.0166***       \n",
      "                           (0.0036)       (0.0008)        (0.0008)        \n",
      "Ano_2016                   -0.0056        -0.0010         0.0053***       \n",
      "                           (0.0036)       (0.0008)        (0.0008)        \n",
      "Ano_2017                   0.0242***      0.0095***       0.0154***       \n",
      "                           (0.0037)       (0.0008)        (0.0008)        \n",
      "Ano_2018                   -0.0068*       -0.0010         0.0047***       \n",
      "                           (0.0036)       (0.0008)        (0.0008)        \n",
      "Branco                     0.1537***      0.0800***       0.0815***       \n",
      "                           (0.0010)       (0.0005)        (0.0005)        \n",
      "Brasileiro                 -0.3749***     -0.0368***      -0.0360***      \n",
      "                           (0.0052)       (0.0005)        (0.0005)        \n",
      "Escolaridade após 2005     0.3202***      0.3904***       0.3941***       \n",
      "                           (0.0004)       (0.0005)        (0.0005)        \n",
      "Idade_quad                 -0.0011***     -0.1943***      -0.1894***      \n",
      "                           (0.0000)       (0.0007)        (0.0007)        \n",
      "Qtd Hora Contr             0.0139***      0.0829***       0.0808***       \n",
      "                           (0.0001)       (0.0005)        (0.0005)        \n",
      "Sexo Trabalhador_Masculino 0.2548***      0.1315***       0.1315***       \n",
      "                           (0.0035)       (0.0005)        (0.0005)        \n",
      "Tempo Emprego              0.0032***      0.1992***       0.1979***       \n",
      "                           (0.0000)       (0.0006)        (0.0006)        \n",
      "const                      5.3974***                                      \n",
      "                           (0.0077)                                       \n",
      "esco_2009                                                 0.0110***       \n",
      "                                                          (0.0006)        \n",
      "esco_2010                                                 0.0152***       \n",
      "                                                          (0.0006)        \n",
      "esco_2011                                                 0.0160***       \n",
      "                                                          (0.0006)        \n",
      "esco_2012                                                 0.0211***       \n",
      "                                                          (0.0006)        \n",
      "esco_2013                                                 0.0211***       \n",
      "                                                          (0.0006)        \n",
      "esco_2014                                                 0.0201***       \n",
      "                                                          (0.0007)        \n",
      "esco_2015                                                 0.0176***       \n",
      "                                                          (0.0007)        \n",
      "esco_2016                                                 0.0130***       \n",
      "                                                          (0.0007)        \n",
      "esco_2017                                                 0.0172***       \n",
      "                                                          (0.0007)        \n",
      "esco_2018                                                 0.0194***       \n",
      "                                                          (0.0007)        \n",
      "idade_2009                                0.0102***                       \n",
      "                                          (0.0007)                        \n",
      "idade_2010                                0.0170***                       \n",
      "                                          (0.0007)                        \n",
      "idade_2011                                0.0172***                       \n",
      "                                          (0.0007)                        \n",
      "idade_2012                                0.0239***                       \n",
      "                                          (0.0008)                        \n",
      "idade_2013                                0.0281***                       \n",
      "                                          (0.0008)                        \n",
      "idade_2014                                0.0306***                       \n",
      "                                          (0.0008)                        \n",
      "idade_2015                                0.0344***                       \n",
      "                                          (0.0008)                        \n",
      "idade_2016                                0.0359***                       \n",
      "                                          (0.0008)                        \n",
      "idade_2017                                0.0360***                       \n",
      "                                          (0.0007)                        \n",
      "idade_2018                                0.0370***                       \n",
      "                                          (0.0008)                        \n",
      "idadecent                  0.0362***      0.3972***       0.3945***       \n",
      "                           (0.0001)       (0.0007)        (0.0007)        \n",
      "sexoM_2009                 0.0038                                         \n",
      "                           (0.0050)                                       \n",
      "sexoM_2010                 -0.0312***                                     \n",
      "                           (0.0048)                                       \n",
      "sexoM_2011                 -0.0343***                                     \n",
      "                           (0.0047)                                       \n",
      "sexoM_2012                 -0.0159***                                     \n",
      "                           (0.0045)                                       \n",
      "sexoM_2013                 -0.0189***                                     \n",
      "                           (0.0045)                                       \n",
      "sexoM_2014                 -0.0121***                                     \n",
      "                           (0.0045)                                       \n",
      "sexoM_2015                 -0.0106**                                      \n",
      "                           (0.0045)                                       \n",
      "sexoM_2016                 -0.0096**                                      \n",
      "                           (0.0046)                                       \n",
      "sexoM_2017                 -0.0058                                        \n",
      "                           (0.0046)                                       \n",
      "sexoM_2018                 -0.0064                                        \n",
      "                           (0.0045)                                       \n",
      "==========================================================================\n",
      "Standard errors in parentheses.\n",
      "* p<.1, ** p<.05, ***p<.01\n"
     ]
    }
   ],
   "source": [
    "from statsmodels.iolib.summary2 import summary_col\n",
    "dfoutput = summary_col([reg_int_anosexo,reg_int_anoidade,reg_int_anoesco],stars=True)\n",
    "print(dfoutput)"
   ]
  },
  {
   "cell_type": "code",
   "execution_count": 16,
   "metadata": {},
   "outputs": [],
   "source": [
    "# Regressão para 2018\n",
    "X2018 = pd.get_dummies(sud.loc[sud.Ano == 2018,:][['Sexo Trabalhador',\n",
    "                       'Escolaridade após 2005', \n",
    "                       'Qtd Hora Contr', \n",
    "                       'idadecent', 'Idade_quad', \n",
    "                       'Brasileiro', \n",
    "                       'Branco', \n",
    "                       'Tempo Emprego'\n",
    "                      ]],\n",
    "                  drop_first=True).apply(stats.zscore)\n",
    "\n",
    "y2018 = pd.DataFrame(np.log(salarios.loc[salarios.Ano == '2018-11-01','deflacionado']))[['deflacionado']].apply(stats.zscore).values"
   ]
  },
  {
   "cell_type": "code",
   "execution_count": 17,
   "metadata": {},
   "outputs": [
    {
     "name": "stdout",
     "output_type": "stream",
     "text": [
      "                                 OLS Regression Results                                \n",
      "=======================================================================================\n",
      "Dep. Variable:                      y   R-squared (uncentered):                   0.408\n",
      "Model:                            OLS   Adj. R-squared (uncentered):              0.408\n",
      "Method:                 Least Squares   F-statistic:                          2.119e+04\n",
      "Date:                Wed, 26 Feb 2020   Prob (F-statistic):                        0.00\n",
      "Time:                        11:27:09   Log-Likelihood:                     -2.8506e+05\n",
      "No. Observations:              246355   AIC:                                  5.701e+05\n",
      "Df Residuals:                  246347   BIC:                                  5.702e+05\n",
      "Df Model:                           8                                                  \n",
      "Covariance Type:            nonrobust                                                  \n",
      "==============================================================================================\n",
      "                                 coef    std err          t      P>|t|      [0.025      0.975]\n",
      "----------------------------------------------------------------------------------------------\n",
      "Escolaridade após 2005         0.3499      0.002    217.289      0.000       0.347       0.353\n",
      "Qtd Hora Contr                 0.0637      0.002     36.580      0.000       0.060       0.067\n",
      "idadecent                      0.4370      0.002    198.421      0.000       0.433       0.441\n",
      "Idade_quad                    -0.2090      0.002    -95.466      0.000      -0.213      -0.205\n",
      "Brasileiro                    -0.0317      0.002    -20.391      0.000      -0.035      -0.029\n",
      "Branco                         0.0856      0.002     54.548      0.000       0.083       0.089\n",
      "Tempo Emprego                  0.2061      0.002    110.109      0.000       0.202       0.210\n",
      "Sexo Trabalhador_Masculino     0.1372      0.002     87.900      0.000       0.134       0.140\n",
      "==============================================================================\n",
      "Omnibus:                     2310.330   Durbin-Watson:                   1.266\n",
      "Prob(Omnibus):                  0.000   Jarque-Bera (JB):             2764.331\n",
      "Skew:                           0.175   Prob(JB):                         0.00\n",
      "Kurtosis:                       3.383   Cond. No.                         2.75\n",
      "==============================================================================\n",
      "\n",
      "Warnings:\n",
      "[1] Standard Errors assume that the covariance matrix of the errors is correctly specified.\n"
     ]
    }
   ],
   "source": [
    "reg2018 = sm.OLS(y2018, X2018).fit()\n",
    "print(reg2018.summary())"
   ]
  },
  {
   "cell_type": "markdown",
   "metadata": {},
   "source": [
    "---\n",
    "\n",
    "## Testar\n",
    "\n",
    "- termo interativo entre sexo e branco\n",
    "- termo interativo entre sexo e escolaridade\n",
    "- termo interativo entre sexo e idade (análise do efeito senioridade)"
   ]
  },
  {
   "cell_type": "code",
   "execution_count": 97,
   "metadata": {},
   "outputs": [
    {
     "data": {
      "image/png": "[encoded data removed]",
      "text/plain": [
       "<Figure size 720x360 with 1 Axes>"
      ]
     },
     "metadata": {},
     "output_type": "display_data"
    }
   ],
   "source": [
    "fig, ax = plt.subplots(figsize=(10,5))\n",
    "interaction_plot(sud['Branco'], sud[\"Sexo Trabalhador\"], sud[\"Vl Remun Média Nom\"], ax=ax)\n",
    "plt.title(\"Teste de Interação Sexo X Branco\")\n",
    "plt.show()"
   ]
  },
  {
   "cell_type": "code",
   "execution_count": 77,
   "metadata": {},
   "outputs": [
    {
     "data": {
      "image/png": "[encoded data removed]",
      "text/plain": [
       "<Figure size 720x360 with 1 Axes>"
      ]
     },
     "metadata": {},
     "output_type": "display_data"
    }
   ],
   "source": [
    "fig, ax = plt.subplots(figsize=(10,5))\n",
    "interaction_plot(sud[\"Escolaridade após 2005\"], sud[\"Sexo Trabalhador\"], sud[\"Vl Remun Média Nom\"], ax=ax)\n",
    "plt.title(\"Teste de Interação Sexo X Escolaridade\")\n",
    "plt.show()"
   ]
  },
  {
   "cell_type": "code",
   "execution_count": 126,
   "metadata": {},
   "outputs": [
    {
     "data": {
      "image/png": "[encoded data removed]",
      "text/plain": [
       "<Figure size 720x360 with 1 Axes>"
      ]
     },
     "metadata": {},
     "output_type": "display_data"
    }
   ],
   "source": [
    "fig, ax = plt.subplots(figsize=(10,5))\n",
    "interaction_plot(sud.Idade, sud[\"Sexo Trabalhador\"], sud[\"Vl Remun Média Nom\"], ax=ax)\n",
    "plt.title('Teste de Interação Sexo X Idade - Análise do efeito \"Senioridade\"')\n",
    "plt.show()"
   ]
  },
  {
   "cell_type": "markdown",
   "metadata": {},
   "source": [
    "---\n",
    "\n",
    "## Análise de resíduos"
   ]
  },
  {
   "cell_type": "code",
   "execution_count": 125,
   "metadata": {},
   "outputs": [
    {
     "data": {
      "text/plain": [
       "(array([1.150000e+02, 1.396000e+03, 3.718800e+04, 4.803340e+05,\n",
       "        1.077791e+06, 6.004200e+05, 9.916600e+04, 9.390000e+03,\n",
       "        6.990000e+02, 3.900000e+01]),\n",
       " array([-4.27290438, -3.34749562, -2.42208685, -1.49667809, -0.57126933,\n",
       "         0.35413943,  1.2795482 ,  2.20495696,  3.13036572,  4.05577449,\n",
       "         4.98118325]),\n",
       " <a list of 10 Patch objects>)"
      ]
     },
     "execution_count": 125,
     "metadata": {},
     "output_type": "execute_result"
    },
    {
     "data": {
      "image/png": "[encoded data removed]",
      "text/plain": [
       "<Figure size 432x288 with 1 Axes>"
      ]
     },
     "metadata": {},
     "output_type": "display_data"
    }
   ],
   "source": [
    "plt.hist(regpad.resid, edgecolor=\"black\")"
   ]
  },
  {
   "cell_type": "code",
   "execution_count": 126,
   "metadata": {},
   "outputs": [
    {
     "name": "stdout",
     "output_type": "stream",
     "text": [
      "LinregressResult(slope=-3.487930297003333e-13, intercept=9.413203800706553e-16, rvalue=-3.068025720820404e-13, pvalue=0.9999999996282259, stderr=0.0007485635610403669)\n"
     ]
    },
    {
     "data": {
      "image/png": "[encoded data removed]",
      "text/plain": [
       "<Figure size 432x288 with 1 Axes>"
      ]
     },
     "metadata": {},
     "output_type": "display_data"
    }
   ],
   "source": [
    "yhat = regpad.predict()\n",
    "from scipy.stats import linregress\n",
    "print(linregress(yhat, regpad.resid))\n",
    "plt.scatter(yhat, regpad.resid, alpha=.2)\n",
    "plt.show()"
   ]
  },
  {
   "cell_type": "code",
   "execution_count": 128,
   "metadata": {},
   "outputs": [
    {
     "data": {
      "text/plain": [
       "<matplotlib.collections.PathCollection at 0x220f9625548>"
      ]
     },
     "execution_count": 128,
     "metadata": {},
     "output_type": "execute_result"
    },
    {
     "data": {
      "image/png": "[encoded data removed]",
      "text/plain": [
       "<Figure size 432x288 with 1 Axes>"
      ]
     },
     "metadata": {},
     "output_type": "display_data"
    }
   ],
   "source": [
    "plt.scatter(y, yhat, alpha=.2)\n",
    "#plt.xlim((5, 12))\n",
    "#plt.ylim((5, 12))"
   ]
  },
  {
   "cell_type": "markdown",
   "metadata": {},
   "source": [
    "---\n",
    "\n",
    "# Modelo Hierárquico"
   ]
  },
  {
   "cell_type": "code",
   "execution_count": 18,
   "metadata": {},
   "outputs": [
    {
     "data": {
      "text/html": [
       "<div>\n",
       "<style scoped>\n",
       "    .dataframe tbody tr th:only-of-type {\n",
       "        vertical-align: middle;\n",
       "    }\n",
       "\n",
       "    .dataframe tbody tr th {\n",
       "        vertical-align: top;\n",
       "    }\n",
       "\n",
       "    .dataframe thead th {\n",
       "        text-align: right;\n",
       "    }\n",
       "</style>\n",
       "<table border=\"1\" class=\"dataframe\">\n",
       "  <thead>\n",
       "    <tr style=\"text-align: right;\">\n",
       "      <th></th>\n",
       "      <th>sexo</th>\n",
       "      <th>esco</th>\n",
       "      <th>qtd_hr_cont</th>\n",
       "      <th>idadecent</th>\n",
       "      <th>idade_quad</th>\n",
       "      <th>brasileiro</th>\n",
       "      <th>branco</th>\n",
       "      <th>tempo_emprego</th>\n",
       "      <th>ano</th>\n",
       "      <th>deflacionado</th>\n",
       "    </tr>\n",
       "  </thead>\n",
       "  <tbody>\n",
       "    <tr>\n",
       "      <th>0</th>\n",
       "      <td>Masculino</td>\n",
       "      <td>1.0</td>\n",
       "      <td>44.0</td>\n",
       "      <td>-11.583958</td>\n",
       "      <td>134.188080</td>\n",
       "      <td>1</td>\n",
       "      <td>0</td>\n",
       "      <td>4.7</td>\n",
       "      <td>2008</td>\n",
       "      <td>7.734660</td>\n",
       "    </tr>\n",
       "    <tr>\n",
       "      <th>1</th>\n",
       "      <td>Masculino</td>\n",
       "      <td>1.0</td>\n",
       "      <td>44.0</td>\n",
       "      <td>-9.583958</td>\n",
       "      <td>91.852248</td>\n",
       "      <td>1</td>\n",
       "      <td>0</td>\n",
       "      <td>2.3</td>\n",
       "      <td>2008</td>\n",
       "      <td>7.685339</td>\n",
       "    </tr>\n",
       "    <tr>\n",
       "      <th>2</th>\n",
       "      <td>Masculino</td>\n",
       "      <td>2.0</td>\n",
       "      <td>44.0</td>\n",
       "      <td>1.416042</td>\n",
       "      <td>2.005175</td>\n",
       "      <td>1</td>\n",
       "      <td>0</td>\n",
       "      <td>77.9</td>\n",
       "      <td>2008</td>\n",
       "      <td>8.113305</td>\n",
       "    </tr>\n",
       "    <tr>\n",
       "      <th>3</th>\n",
       "      <td>Masculino</td>\n",
       "      <td>3.0</td>\n",
       "      <td>44.0</td>\n",
       "      <td>17.416042</td>\n",
       "      <td>303.318524</td>\n",
       "      <td>1</td>\n",
       "      <td>0</td>\n",
       "      <td>0.3</td>\n",
       "      <td>2008</td>\n",
       "      <td>9.508792</td>\n",
       "    </tr>\n",
       "    <tr>\n",
       "      <th>4</th>\n",
       "      <td>Masculino</td>\n",
       "      <td>4.0</td>\n",
       "      <td>44.0</td>\n",
       "      <td>16.416042</td>\n",
       "      <td>269.486439</td>\n",
       "      <td>1</td>\n",
       "      <td>1</td>\n",
       "      <td>0.1</td>\n",
       "      <td>2008</td>\n",
       "      <td>7.545086</td>\n",
       "    </tr>\n",
       "    <tr>\n",
       "      <th>...</th>\n",
       "      <td>...</td>\n",
       "      <td>...</td>\n",
       "      <td>...</td>\n",
       "      <td>...</td>\n",
       "      <td>...</td>\n",
       "      <td>...</td>\n",
       "      <td>...</td>\n",
       "      <td>...</td>\n",
       "      <td>...</td>\n",
       "      <td>...</td>\n",
       "    </tr>\n",
       "    <tr>\n",
       "      <th>2306533</th>\n",
       "      <td>Feminino</td>\n",
       "      <td>10.0</td>\n",
       "      <td>40.0</td>\n",
       "      <td>21.416042</td>\n",
       "      <td>458.646861</td>\n",
       "      <td>1</td>\n",
       "      <td>1</td>\n",
       "      <td>8.9</td>\n",
       "      <td>2017</td>\n",
       "      <td>9.284459</td>\n",
       "    </tr>\n",
       "    <tr>\n",
       "      <th>2306534</th>\n",
       "      <td>Feminino</td>\n",
       "      <td>10.0</td>\n",
       "      <td>40.0</td>\n",
       "      <td>8.416042</td>\n",
       "      <td>70.829765</td>\n",
       "      <td>1</td>\n",
       "      <td>0</td>\n",
       "      <td>5.9</td>\n",
       "      <td>2017</td>\n",
       "      <td>8.025270</td>\n",
       "    </tr>\n",
       "    <tr>\n",
       "      <th>2306535</th>\n",
       "      <td>Feminino</td>\n",
       "      <td>10.0</td>\n",
       "      <td>40.0</td>\n",
       "      <td>2.416042</td>\n",
       "      <td>5.837260</td>\n",
       "      <td>1</td>\n",
       "      <td>1</td>\n",
       "      <td>23.6</td>\n",
       "      <td>2017</td>\n",
       "      <td>8.837602</td>\n",
       "    </tr>\n",
       "    <tr>\n",
       "      <th>2306536</th>\n",
       "      <td>Feminino</td>\n",
       "      <td>10.0</td>\n",
       "      <td>40.0</td>\n",
       "      <td>-0.583958</td>\n",
       "      <td>0.341007</td>\n",
       "      <td>0</td>\n",
       "      <td>1</td>\n",
       "      <td>6.3</td>\n",
       "      <td>2017</td>\n",
       "      <td>7.129497</td>\n",
       "    </tr>\n",
       "    <tr>\n",
       "      <th>2306537</th>\n",
       "      <td>Feminino</td>\n",
       "      <td>10.0</td>\n",
       "      <td>40.0</td>\n",
       "      <td>16.416042</td>\n",
       "      <td>269.486439</td>\n",
       "      <td>1</td>\n",
       "      <td>1</td>\n",
       "      <td>9.7</td>\n",
       "      <td>2017</td>\n",
       "      <td>8.724450</td>\n",
       "    </tr>\n",
       "  </tbody>\n",
       "</table>\n",
       "<p>2306538 rows × 10 columns</p>\n",
       "</div>"
      ],
      "text/plain": [
       "              sexo  esco  qtd_hr_cont  idadecent  idade_quad  brasileiro  \\\n",
       "0        Masculino   1.0         44.0 -11.583958  134.188080           1   \n",
       "1        Masculino   1.0         44.0  -9.583958   91.852248           1   \n",
       "2        Masculino   2.0         44.0   1.416042    2.005175           1   \n",
       "3        Masculino   3.0         44.0  17.416042  303.318524           1   \n",
       "4        Masculino   4.0         44.0  16.416042  269.486439           1   \n",
       "...            ...   ...          ...        ...         ...         ...   \n",
       "2306533   Feminino  10.0         40.0  21.416042  458.646861           1   \n",
       "2306534   Feminino  10.0         40.0   8.416042   70.829765           1   \n",
       "2306535   Feminino  10.0         40.0   2.416042    5.837260           1   \n",
       "2306536   Feminino  10.0         40.0  -0.583958    0.341007           0   \n",
       "2306537   Feminino  10.0         40.0  16.416042  269.486439           1   \n",
       "\n",
       "         branco  tempo_emprego   ano  deflacionado  \n",
       "0             0            4.7  2008      7.734660  \n",
       "1             0            2.3  2008      7.685339  \n",
       "2             0           77.9  2008      8.113305  \n",
       "3             0            0.3  2008      9.508792  \n",
       "4             1            0.1  2008      7.545086  \n",
       "...         ...            ...   ...           ...  \n",
       "2306533       1            8.9  2017      9.284459  \n",
       "2306534       0            5.9  2017      8.025270  \n",
       "2306535       1           23.6  2017      8.837602  \n",
       "2306536       1            6.3  2017      7.129497  \n",
       "2306537       1            9.7  2017      8.724450  \n",
       "\n",
       "[2306538 rows x 10 columns]"
      ]
     },
     "execution_count": 18,
     "metadata": {},
     "output_type": "execute_result"
    }
   ],
   "source": [
    "Xmixed = sud[['Sexo Trabalhador',\n",
    "               'Escolaridade após 2005', \n",
    "               'Qtd Hora Contr', \n",
    "               'idadecent', 'Idade_quad', \n",
    "               'Brasileiro', \n",
    "               'Branco', \n",
    "               'Tempo Emprego',\n",
    "               'Ano'\n",
    "              ]]\n",
    "Xmixed.columns = ['sexo', 'esco', 'qtd_hr_cont',\n",
    "                  'idadecent', 'idade_quad', 'brasileiro', 'branco', \n",
    "                  'tempo_emprego', 'ano']\n",
    "bdmixed = pd.concat([Xmixed, y], axis=1)\n",
    "bdmixed"
   ]
  },
  {
   "cell_type": "code",
   "execution_count": 131,
   "metadata": {},
   "outputs": [
    {
     "name": "stderr",
     "output_type": "stream",
     "text": [
      "C:\\Users\\Neylson\\Anaconda3\\lib\\site-packages\\statsmodels\\regression\\mixed_linear_model.py:2115: ConvergenceWarning: The Hessian matrix at the estimated parameter values is not positive definite.\n",
      "  warnings.warn(msg, ConvergenceWarning)\n"
     ]
    },
    {
     "name": "stdout",
     "output_type": "stream",
     "text": [
      "            Mixed Linear Model Regression Results\n",
      "==============================================================\n",
      "Model:              MixedLM  Dependent Variable: deflacionado \n",
      "No. Observations:   2306538  Method:             ML           \n",
      "No. Groups:         11       Scale:              0.4305       \n",
      "Min. group size:    145692   Likelihood:         -2301050.7425\n",
      "Max. group size:    246355   Converged:          Yes          \n",
      "Mean group size:    209685.3                                  \n",
      "--------------------------------------------------------------\n",
      "                  Coef.  Std.Err.    z     P>|z| [0.025 0.975]\n",
      "--------------------------------------------------------------\n",
      "Intercept          5.393    0.198   27.242 0.000  5.005  5.781\n",
      "sexo[T.Masculino]  0.241    0.001  263.576 0.000  0.239  0.243\n",
      "esco               0.322    0.198    1.626 0.104 -0.066  0.709\n",
      "qtd_hr_cont        0.014    0.000  151.905 0.000  0.014  0.015\n",
      "idadecent          0.036    0.198    0.181 0.856 -0.352  0.424\n",
      "idade_quad        -0.001    0.000 -295.117 0.000 -0.001 -0.001\n",
      "brasileiro        -0.381    0.005  -74.049 0.000 -0.391 -0.371\n",
      "branco             0.154    0.001  160.468 0.000  0.152  0.156\n",
      "tempo_emprego      0.003    0.000  342.539 0.000  0.003  0.003\n",
      "Group Var          0.430                                      \n",
      "esco Var           0.430                                      \n",
      "idadecent Var      0.430                                      \n",
      "==============================================================\n",
      "\n"
     ]
    }
   ],
   "source": [
    "vc_formula = {'esco': '0 + esco', 'idadecent': '0 + idadecent'}\n",
    "md = smf.mixedlm(\"deflacionado ~ sexo + esco + qtd_hr_cont + idadecent + idade_quad + brasileiro + branco + tempo_emprego\", \n",
    "                 bdmixed, groups=bdmixed[\"ano\"], re_formula=\"1\", vc_formula=vc_formula, use_sqrt=False)\n",
    "mdf = md.fit(reml=False)\n",
    "print(mdf.summary())"
   ]
  },
  {
   "cell_type": "code",
   "execution_count": 132,
   "metadata": {},
   "outputs": [
    {
     "name": "stdout",
     "output_type": "stream",
     "text": [
      "2008 \n",
      " Group                   0.223726\n",
      "esco[esco]             -0.036897\n",
      "idadecent[idadecent]   -0.006721\n",
      "dtype: float64\n",
      "\n",
      "2009 \n",
      " Group                   0.011565\n",
      "esco[esco]             -0.003267\n",
      "idadecent[idadecent]   -0.003798\n",
      "dtype: float64\n",
      "\n",
      "2010 \n",
      " Group                  -0.079348\n",
      "esco[esco]              0.004354\n",
      "idadecent[idadecent]   -0.001959\n",
      "dtype: float64\n",
      "\n",
      "2011 \n",
      " Group                  -0.017220\n",
      "esco[esco]              0.005602\n",
      "idadecent[idadecent]   -0.002075\n",
      "dtype: float64\n",
      "\n",
      "2012 \n",
      " Group                  -0.086670\n",
      "esco[esco]              0.014843\n",
      "idadecent[idadecent]   -0.000588\n",
      "dtype: float64\n",
      "\n",
      "2013 \n",
      " Group                  -0.036635\n",
      "esco[esco]              0.012957\n",
      "idadecent[idadecent]    0.000688\n",
      "dtype: float64\n",
      "\n",
      "2014 \n",
      " Group                  -0.014397\n",
      "esco[esco]              0.008581\n",
      "idadecent[idadecent]    0.001414\n",
      "dtype: float64\n",
      "\n",
      "2015 \n",
      " Group                   0.001540\n",
      "esco[esco]              0.000753\n",
      "idadecent[idadecent]    0.002668\n",
      "dtype: float64\n",
      "\n",
      "2016 \n",
      " Group                   0.059989\n",
      "esco[esco]             -0.011847\n",
      "idadecent[idadecent]    0.003520\n",
      "dtype: float64\n",
      "\n",
      "2017 \n",
      " Group                  -0.000910\n",
      "esco[esco]              0.000486\n",
      "idadecent[idadecent]    0.003551\n",
      "dtype: float64\n",
      "\n",
      "2018 \n",
      " Group                  -0.061640\n",
      "esco[esco]              0.004435\n",
      "idadecent[idadecent]    0.003299\n",
      "dtype: float64\n",
      "\n"
     ]
    }
   ],
   "source": [
    "u_esco = []\n",
    "u_idadecent = []\n",
    "u_intercept = []\n",
    "for i in np.arange(2008, 2019):\n",
    "    u_intercept.append(mdf.random_effects[i][0])\n",
    "    u_esco.append(mdf.random_effects[i][1])\n",
    "    u_idadecent.append(mdf.random_effects[i][2])\n",
    "    print(i, \"\\n\", mdf.random_effects[i], end='\\n\\n')"
   ]
  },
  {
   "cell_type": "code",
   "execution_count": 133,
   "metadata": {},
   "outputs": [],
   "source": [
    "variacao_esco = np.array(u_esco) + mdf.params['esco']\n",
    "variacao_idade = np.array(u_idadecent) + mdf.params['idadecent']"
   ]
  },
  {
   "cell_type": "code",
   "execution_count": 134,
   "metadata": {},
   "outputs": [
    {
     "data": {
      "image/png": "[encoded data removed]",
      "text/plain": [
       "<Figure size 432x288 with 1 Axes>"
      ]
     },
     "metadata": {},
     "output_type": "display_data"
    },
    {
     "data": {
      "image/png": "[encoded data removed]",
      "text/plain": [
       "<Figure size 432x288 with 1 Axes>"
      ]
     },
     "metadata": {},
     "output_type": "display_data"
    }
   ],
   "source": [
    "plt.plot(np.arange(2008, 2019), variacao_esco, label='Escolaridade', linestyle='--', marker='o')\n",
    "plt.axhline(mdf.params['esco'], c='r', linestyle='-')\n",
    "plt.legend()\n",
    "plt.show()\n",
    "\n",
    "plt.plot(np.arange(2008, 2019), variacao_idade, label='Experiência (idade)', linestyle='--', marker='o')\n",
    "plt.axhline(mdf.params['idadecent'], c='r', linestyle='-')\n",
    "plt.legend()\n",
    "plt.show()\n"
   ]
  },
  {
   "cell_type": "code",
   "execution_count": 135,
   "metadata": {},
   "outputs": [
    {
     "name": "stdout",
     "output_type": "stream",
     "text": [
      "2008 : 0.22372592334569194\n",
      "2009 : 0.011565232654321777\n",
      "2010 : -0.07934821306848218\n",
      "2011 : -0.017219996560578425\n",
      "2012 : -0.08666981004812058\n",
      "2013 : -0.036634957134243674\n",
      "2014 : -0.014397146054999248\n",
      "2015 : 0.0015401008465721307\n",
      "2016 : 0.05998862057979994\n",
      "2017 : -0.0009097525833937511\n",
      "2018 : -0.06163999748769866\n"
     ]
    }
   ],
   "source": [
    "randfx = []\n",
    "for key, value in mdf.random_effects.items():\n",
    "    randfx.append(mdf.random_effects[key].values[0])\n",
    "    print(key, \":\", mdf.random_effects[key].values[0])"
   ]
  },
  {
   "cell_type": "code",
   "execution_count": 136,
   "metadata": {},
   "outputs": [
    {
     "data": {
      "text/plain": [
       "array([5.61650963, 5.40434894, 5.31343549, 5.37556371, 5.3061139 ,\n",
       "       5.35614875, 5.37838656, 5.39432381, 5.45277233, 5.39187395,\n",
       "       5.33114371])"
      ]
     },
     "execution_count": 136,
     "metadata": {},
     "output_type": "execute_result"
    }
   ],
   "source": [
    "randfx = np.array(randfx) + mdf.params[0]\n",
    "randfx"
   ]
  },
  {
   "cell_type": "code",
   "execution_count": 137,
   "metadata": {},
   "outputs": [
    {
     "data": {
      "text/plain": [
       "<matplotlib.lines.Line2D at 0x220f5b3af48>"
      ]
     },
     "execution_count": 137,
     "metadata": {},
     "output_type": "execute_result"
    },
    {
     "data": {
      "image/png": "[encoded data removed]",
      "text/plain": [
       "<Figure size 432x288 with 1 Axes>"
      ]
     },
     "metadata": {},
     "output_type": "display_data"
    }
   ],
   "source": [
    "plt.plot(np.arange(2008, 2019), u_intercept + mdf.params[0], linestyle='--', marker='o')\n",
    "plt.axhline(y=mdf.params[0], c='r', linestyle='-')\n"
   ]
  }
 ],
 "metadata": {
  "kernelspec": {
   "display_name": "Python3",
   "language": "python",
   "name": "python3"
  },
  "language_info": {
   "codemirror_mode": {
    "name": "ipython",
    "version": 3
   },
   "file_extension": ".py",
   "mimetype": "text/x-python",
   "name": "python",
   "nbconvert_exporter": "python",
   "pygments_lexer": "ipython3",
   "version": "3.7.5"
  },
  "latex_envs": {
   "LaTeX_envs_menu_present": true,
   "autoclose": false,
   "autocomplete": true,
   "bibliofile": "biblio.bib",
   "cite_by": "apalike",
   "current_citInitial": 1,
   "eqLabelWithNumbers": true,
   "eqNumInitial": 1,
   "hotkeys": {
    "equation": "Ctrl-E",
    "itemize": "Ctrl-I"
   },
   "labels_anchors": false,
   "latex_user_defs": false,
   "report_style_numbering": false,
   "user_envs_cfg": false
  }
 },
 "nbformat": 4,
 "nbformat_minor": 4
}
