{
 "cells": [
  {
   "cell_type": "markdown",
   "metadata": {},
   "source": [
    "# Panorama da desigualdade de gênero no mercado de Inteligência Artificial no Brasil\n",
    "\n",
    "## Prof. Dr. Neylson Crepalde"
   ]
  },
  {
   "cell_type": "code",
   "execution_count": 1,
   "metadata": {},
   "outputs": [],
   "source": [
    "import pandas as pd\n",
    "import numpy as np\n",
    "import dask.dataframe as dd"
   ]
  },
  {
   "cell_type": "code",
   "execution_count": null,
   "metadata": {},
   "outputs": [],
   "source": [
    "sud = pd.read_csv(\"../RAIS_VINC_PUB_MG_ES_RJ/RAIS_VINC_PUB_MG_ES_RJ.txt\", sep=';', encoding='latin1')\n",
    "sud.head()\n",
    "\n",
    "sud.columns\n",
    "\n",
    "sud[\"CNAE 2.0 Classe\"].dtype\n",
    "\n",
    "sud = sud.loc[(sud[\"CNAE 2.0 Classe\"] >= 62000) & (sud[\"CNAE 2.0 Classe\"] < 62050) ,:]\n",
    "sud.shape\n",
    "\n",
    "sud.to_csv(\"../data/rais_mg_es_rj.csv\", sep=\"\\t\", index=False)\n",
    "\n",
    "del(sud)"
   ]
  },
  {
   "cell_type": "code",
   "execution_count": null,
   "metadata": {},
   "outputs": [],
   "source": [
    "sp = dd.read_csv(\"../RAIS_VINC_PUB_SP/RAIS_VINC_PUB_SP.txt\", sep=';', encoding=\"latin1\", dtype={'CBO Ocupação 2002': 'object'})\n",
    "sp = sp.loc[(sp[\"CNAE 2.0 Classe\"] >= 62000) & (sp[\"CNAE 2.0 Classe\"] < 62050) ,:]\n",
    "print(sp.shape)\n",
    "print(sp.columns)\n",
    "\n",
    "computed_sp = sp.compute()\n",
    "\n",
    "computed_sp.shape\n",
    "\n",
    "computed_sp.to_csv(\"../data/rais_sp.csv\", sep=\"\\t\", index=False)\n",
    "\n",
    "del(computed_sp)"
   ]
  },
  {
   "cell_type": "code",
   "execution_count": 94,
   "metadata": {},
   "outputs": [],
   "source": [
    "# Dar um merge de linhas nos dois bancos...\n",
    "sul = pd.concat([\n",
    "    pd.read_csv(\"../data/rais_mg_es_rj.csv\", sep='\\t', decimal=',', na_values=[\"{ñ class}\", \"{ñclass}\"]),\n",
    "    pd.read_csv(\"../data/rais_sp.csv\", sep='\\t', decimal=',', na_values=[\"{ñ class}\", \"{ñclass}\"])\n",
    "], axis=0)"
   ]
  },
  {
   "cell_type": "code",
   "execution_count": 95,
   "metadata": {},
   "outputs": [],
   "source": [
    "# Filtra apenas salário mensal\n",
    "sul = sul.loc[sul[\"Tipo Salário\"] == 1, :]"
   ]
  },
  {
   "cell_type": "code",
   "execution_count": 96,
   "metadata": {},
   "outputs": [],
   "source": [
    "# Filçtra apenas trabalhos não parciais\n",
    "sul = sul.loc[sul[\"Ind Trab Parcial\"] == 0, :]"
   ]
  },
  {
   "cell_type": "code",
   "execution_count": 97,
   "metadata": {},
   "outputs": [],
   "source": [
    "# Corrige grau de escolaridade para obter valor 0\n",
    "sul['Escolaridade após 2005'] -= 1"
   ]
  },
  {
   "cell_type": "code",
   "execution_count": 98,
   "metadata": {},
   "outputs": [
    {
     "name": "stdout",
     "output_type": "stream",
     "text": [
      "[ 0  1  3  4  5  6  7  8  9 10  2]\n"
     ]
    },
    {
     "data": {
      "text/plain": [
       "8     177215\n",
       "6      40281\n",
       "7      24173\n",
       "9       2967\n",
       "5       2409\n",
       "4       1522\n",
       "10       444\n",
       "3        393\n",
       "2        202\n",
       "1        201\n",
       "0         13\n",
       "Name: Escolaridade após 2005, dtype: int64"
      ]
     },
     "execution_count": 98,
     "metadata": {},
     "output_type": "execute_result"
    }
   ],
   "source": [
    "print(sul['Escolaridade após 2005'].unique())\n",
    "sul['Escolaridade após 2005'].value_counts()"
   ]
  },
  {
   "cell_type": "code",
   "execution_count": 99,
   "metadata": {},
   "outputs": [],
   "source": [
    "# Coloca label em sexo\n",
    "sul.loc[sul['Sexo Trabalhador'] == 1, 'Sexo Trabalhador'] = \"M\"\n",
    "sul.loc[sul['Sexo Trabalhador'] == 2, 'Sexo Trabalhador'] = \"F\""
   ]
  },
  {
   "cell_type": "code",
   "execution_count": 100,
   "metadata": {},
   "outputs": [
    {
     "data": {
      "text/plain": [
       "M    166632\n",
       "F     83188\n",
       "Name: Sexo Trabalhador, dtype: int64"
      ]
     },
     "execution_count": 100,
     "metadata": {},
     "output_type": "execute_result"
    }
   ],
   "source": [
    "sul['Sexo Trabalhador'].value_counts()"
   ]
  },
  {
   "cell_type": "code",
   "execution_count": 101,
   "metadata": {},
   "outputs": [],
   "source": [
    "# Filtra apenas quem Raça Cor não é 99\n",
    "sul = sul.loc[sul[\"Raça Cor\"] != 99,:]"
   ]
  },
  {
   "cell_type": "code",
   "execution_count": 103,
   "metadata": {},
   "outputs": [],
   "source": [
    "# Coloca label em raça\n",
    "sul.loc[sul[\"Raça Cor\"] == 1, 'Raça Cor'] = \"Indígena\"\n",
    "sul.loc[sul[\"Raça Cor\"] == 2, 'Raça Cor'] = \"Branca\"\n",
    "sul.loc[sul[\"Raça Cor\"] == 4, 'Raça Cor'] = \"Preta\"\n",
    "sul.loc[sul[\"Raça Cor\"] == 6, 'Raça Cor'] = \"Amarela\"\n",
    "sul.loc[sul[\"Raça Cor\"] == 8, 'Raça Cor'] = \"Parda\"\n",
    "sul.loc[sul[\"Raça Cor\"] == 9, 'Raça Cor'] = \"Não identificada\""
   ]
  },
  {
   "cell_type": "code",
   "execution_count": 104,
   "metadata": {},
   "outputs": [
    {
     "data": {
      "text/plain": [
       "Branca              159556\n",
       "Parda                54080\n",
       "Não identificada     21159\n",
       "Preta                10504\n",
       "Amarela               3829\n",
       "Indígena               687\n",
       "Name: Raça Cor, dtype: int64"
      ]
     },
     "execution_count": 104,
     "metadata": {},
     "output_type": "execute_result"
    }
   ],
   "source": [
    "sul['Raça Cor'].value_counts()"
   ]
  },
  {
   "cell_type": "code",
   "execution_count": 122,
   "metadata": {},
   "outputs": [],
   "source": [
    "sul['Brasileiro'] = sul['Nacionalidade'].apply(lambda x: 1 if (x == 10) else 0)"
   ]
  },
  {
   "cell_type": "code",
   "execution_count": 126,
   "metadata": {},
   "outputs": [
    {
     "data": {
      "text/plain": [
       "1    247948\n",
       "0      1867\n",
       "Name: Brasileiro, dtype: int64"
      ]
     },
     "execution_count": 126,
     "metadata": {},
     "output_type": "execute_result"
    }
   ],
   "source": [
    "sul.Brasileiro.value_counts()"
   ]
  },
  {
   "cell_type": "markdown",
   "metadata": {},
   "source": [
    "Muito pouco estrangeiro trabalhando na área. Talvez não seja uma variável interessante para modelar."
   ]
  },
  {
   "cell_type": "code",
   "execution_count": 129,
   "metadata": {},
   "outputs": [
    {
     "data": {
      "text/html": [
       "<div>\n",
       "<style scoped>\n",
       "    .dataframe tbody tr th:only-of-type {\n",
       "        vertical-align: middle;\n",
       "    }\n",
       "\n",
       "    .dataframe tbody tr th {\n",
       "        vertical-align: top;\n",
       "    }\n",
       "\n",
       "    .dataframe thead th {\n",
       "        text-align: right;\n",
       "    }\n",
       "</style>\n",
       "<table border=\"1\" class=\"dataframe\">\n",
       "  <thead>\n",
       "    <tr style=\"text-align: right;\">\n",
       "      <th></th>\n",
       "      <th>Vl Remun Média Nom</th>\n",
       "    </tr>\n",
       "    <tr>\n",
       "      <th>Brasileiro</th>\n",
       "      <th></th>\n",
       "    </tr>\n",
       "  </thead>\n",
       "  <tbody>\n",
       "    <tr>\n",
       "      <th>0</th>\n",
       "      <td>6977.45</td>\n",
       "    </tr>\n",
       "    <tr>\n",
       "      <th>1</th>\n",
       "      <td>3571.28</td>\n",
       "    </tr>\n",
       "  </tbody>\n",
       "</table>\n",
       "</div>"
      ],
      "text/plain": [
       "            Vl Remun Média Nom\n",
       "Brasileiro                    \n",
       "0                      6977.45\n",
       "1                      3571.28"
      ]
     },
     "execution_count": 129,
     "metadata": {},
     "output_type": "execute_result"
    }
   ],
   "source": [
    "sul.groupby(\"Brasileiro\").agg({\"Vl Remun Média Nom\": \"median\"})"
   ]
  },
  {
   "cell_type": "markdown",
   "metadata": {},
   "source": [
    "Mas a diferença salarial é gritante! Investiguemos."
   ]
  },
  {
   "cell_type": "code",
   "execution_count": 105,
   "metadata": {},
   "outputs": [
    {
     "data": {
      "text/plain": [
       "0           1.0\n",
       "1           2.9\n",
       "2           7.7\n",
       "3           2.9\n",
       "4           2.9\n",
       "          ...  \n",
       "180452     35.9\n",
       "180453    377.3\n",
       "180454    378.9\n",
       "180455    147.9\n",
       "180456      6.4\n",
       "Name: Tempo Emprego, Length: 249815, dtype: float64"
      ]
     },
     "execution_count": 105,
     "metadata": {},
     "output_type": "execute_result"
    }
   ],
   "source": [
    "sul['Tempo Emprego']"
   ]
  },
  {
   "cell_type": "code",
   "execution_count": 106,
   "metadata": {},
   "outputs": [
    {
     "data": {
      "text/plain": [
       "(249815, 62)"
      ]
     },
     "execution_count": 106,
     "metadata": {},
     "output_type": "execute_result"
    }
   ],
   "source": [
    "sul.shape"
   ]
  },
  {
   "cell_type": "code",
   "execution_count": 107,
   "metadata": {},
   "outputs": [
    {
     "data": {
      "text/plain": [
       "Index(['Bairros SP', 'Bairros Fortaleza', 'Bairros RJ', 'Causa Afastamento 1',\n",
       "       'Causa Afastamento 2', 'Causa Afastamento 3', 'Motivo Desligamento',\n",
       "       'CBO Ocupação 2002', 'CNAE 2.0 Classe', 'CNAE 95 Classe',\n",
       "       'Distritos SP', 'Vínculo Ativo 31/12', 'Faixa Etária',\n",
       "       'Faixa Hora Contrat', 'Faixa Remun Dezem (SM)',\n",
       "       'Faixa Remun Média (SM)', 'Faixa Tempo Emprego',\n",
       "       'Escolaridade após 2005', 'Qtd Hora Contr', 'Idade',\n",
       "       'Ind CEI Vinculado', 'Ind Simples', 'Mês Admissão', 'Mês Desligamento',\n",
       "       'Mun Trab', 'Município', 'Nacionalidade', 'Natureza Jurídica',\n",
       "       'Ind Portador Defic', 'Qtd Dias Afastamento', 'Raça Cor',\n",
       "       'Regiões Adm DF', 'Vl Remun Dezembro Nom', 'Vl Remun Dezembro (SM)',\n",
       "       'Vl Remun Média Nom', 'Vl Remun Média (SM)', 'CNAE 2.0 Subclasse',\n",
       "       'Sexo Trabalhador', 'Tamanho Estabelecimento', 'Tempo Emprego',\n",
       "       'Tipo Admissão', 'Tipo Estab', 'Tipo Estab.1', 'Tipo Defic',\n",
       "       'Tipo Vínculo', 'IBGE Subsetor', 'Vl Rem Janeiro CC',\n",
       "       'Vl Rem Fevereiro CC', 'Vl Rem Março CC', 'Vl Rem Abril CC',\n",
       "       'Vl Rem Maio CC', 'Vl Rem Junho CC', 'Vl Rem Julho CC',\n",
       "       'Vl Rem Agosto CC', 'Vl Rem Setembro CC', 'Vl Rem Outubro CC',\n",
       "       'Vl Rem Novembro CC', 'Ano Chegada Brasil', 'Ind Trab Intermitente',\n",
       "       'Ind Trab Parcial', 'Tipo Salário', 'Vl Salário Contratual'],\n",
       "      dtype='object')"
      ]
     },
     "execution_count": 107,
     "metadata": {},
     "output_type": "execute_result"
    }
   ],
   "source": [
    "sul.columns"
   ]
  },
  {
   "cell_type": "markdown",
   "metadata": {},
   "source": [
    "#### Variáveis de interesse para trabalhar\n",
    "\n",
    "- Sexo Trabalhador\n",
    "- Idade\n",
    "- Qtd Hora Contrat\n",
    "- Escolaridade após 2005\n",
    "- Município\n",
    "- Nacionalidade\n",
    "- Ind Portador Defic\n",
    "- Raça Cor\n",
    "- Vl Remun Dezembro Nom\n",
    "- Vl Remun Média Nom\n",
    "- Tamanho Estabelecimento\n",
    "- Tempo Emprego (em meses)\n",
    "- Ind Portador Defic\n",
    "- Brasileiro\n",
    "\n",
    "Verificar as categorias das variáveis e implementar cosntrução de labels."
   ]
  },
  {
   "cell_type": "markdown",
   "metadata": {},
   "source": [
    "---\n",
    "\n",
    "# Análise Exploratória de Dados\n",
    "\n",
    "## Sexo"
   ]
  },
  {
   "cell_type": "code",
   "execution_count": 108,
   "metadata": {},
   "outputs": [
    {
     "name": "stdout",
     "output_type": "stream",
     "text": [
      "M    166628\n",
      "F     83187\n",
      "Name: Sexo Trabalhador, dtype: int64\n",
      "M    66.7\n",
      "F    33.3\n",
      "Name: Sexo Trabalhador, dtype: float64\n"
     ]
    }
   ],
   "source": [
    "print(sul['Sexo Trabalhador'].value_counts())\n",
    "print(((sul['Sexo Trabalhador'].value_counts() / sul.shape[0] )*100).round(2))"
   ]
  },
  {
   "cell_type": "code",
   "execution_count": 109,
   "metadata": {},
   "outputs": [
    {
     "data": {
      "text/html": [
       "<div>\n",
       "<style scoped>\n",
       "    .dataframe tbody tr th:only-of-type {\n",
       "        vertical-align: middle;\n",
       "    }\n",
       "\n",
       "    .dataframe tbody tr th {\n",
       "        vertical-align: top;\n",
       "    }\n",
       "\n",
       "    .dataframe thead th {\n",
       "        text-align: right;\n",
       "    }\n",
       "</style>\n",
       "<table border=\"1\" class=\"dataframe\">\n",
       "  <thead>\n",
       "    <tr style=\"text-align: right;\">\n",
       "      <th>Faixa Hora Contrat</th>\n",
       "      <th>1</th>\n",
       "      <th>2</th>\n",
       "      <th>3</th>\n",
       "      <th>4</th>\n",
       "      <th>5</th>\n",
       "      <th>6</th>\n",
       "    </tr>\n",
       "    <tr>\n",
       "      <th>Sexo Trabalhador</th>\n",
       "      <th></th>\n",
       "      <th></th>\n",
       "      <th></th>\n",
       "      <th></th>\n",
       "      <th></th>\n",
       "      <th></th>\n",
       "    </tr>\n",
       "  </thead>\n",
       "  <tbody>\n",
       "    <tr>\n",
       "      <th>F</th>\n",
       "      <td>1534</td>\n",
       "      <td>35</td>\n",
       "      <td>519</td>\n",
       "      <td>2325</td>\n",
       "      <td>62895</td>\n",
       "      <td>15879</td>\n",
       "    </tr>\n",
       "    <tr>\n",
       "      <th>M</th>\n",
       "      <td>2188</td>\n",
       "      <td>29</td>\n",
       "      <td>548</td>\n",
       "      <td>1973</td>\n",
       "      <td>132414</td>\n",
       "      <td>29476</td>\n",
       "    </tr>\n",
       "  </tbody>\n",
       "</table>\n",
       "</div>"
      ],
      "text/plain": [
       "Faixa Hora Contrat     1   2    3     4       5      6\n",
       "Sexo Trabalhador                                      \n",
       "F                   1534  35  519  2325   62895  15879\n",
       "M                   2188  29  548  1973  132414  29476"
      ]
     },
     "execution_count": 109,
     "metadata": {},
     "output_type": "execute_result"
    }
   ],
   "source": [
    "pd.crosstab(sul[\"Sexo Trabalhador\"], sul[\"Faixa Hora Contrat\"])"
   ]
  },
  {
   "cell_type": "code",
   "execution_count": 110,
   "metadata": {},
   "outputs": [
    {
     "data": {
      "text/html": [
       "<div>\n",
       "<style scoped>\n",
       "    .dataframe tbody tr th:only-of-type {\n",
       "        vertical-align: middle;\n",
       "    }\n",
       "\n",
       "    .dataframe tbody tr th {\n",
       "        vertical-align: top;\n",
       "    }\n",
       "\n",
       "    .dataframe thead th {\n",
       "        text-align: right;\n",
       "    }\n",
       "</style>\n",
       "<table border=\"1\" class=\"dataframe\">\n",
       "  <thead>\n",
       "    <tr style=\"text-align: right;\">\n",
       "      <th>Faixa Remun Dezem (SM)</th>\n",
       "      <th>0</th>\n",
       "      <th>1</th>\n",
       "      <th>2</th>\n",
       "      <th>3</th>\n",
       "      <th>4</th>\n",
       "      <th>5</th>\n",
       "      <th>6</th>\n",
       "      <th>7</th>\n",
       "      <th>8</th>\n",
       "      <th>9</th>\n",
       "      <th>10</th>\n",
       "      <th>11</th>\n",
       "      <th>12</th>\n",
       "      <th>99</th>\n",
       "    </tr>\n",
       "    <tr>\n",
       "      <th>Sexo Trabalhador</th>\n",
       "      <th></th>\n",
       "      <th></th>\n",
       "      <th></th>\n",
       "      <th></th>\n",
       "      <th></th>\n",
       "      <th></th>\n",
       "      <th></th>\n",
       "      <th></th>\n",
       "      <th></th>\n",
       "      <th></th>\n",
       "      <th></th>\n",
       "      <th></th>\n",
       "      <th></th>\n",
       "      <th></th>\n",
       "    </tr>\n",
       "  </thead>\n",
       "  <tbody>\n",
       "    <tr>\n",
       "      <th>F</th>\n",
       "      <td>25271</td>\n",
       "      <td>200</td>\n",
       "      <td>1323</td>\n",
       "      <td>6587</td>\n",
       "      <td>7850</td>\n",
       "      <td>9958</td>\n",
       "      <td>6610</td>\n",
       "      <td>4918</td>\n",
       "      <td>6585</td>\n",
       "      <td>5572</td>\n",
       "      <td>3951</td>\n",
       "      <td>1680</td>\n",
       "      <td>1638</td>\n",
       "      <td>1044</td>\n",
       "    </tr>\n",
       "    <tr>\n",
       "      <th>M</th>\n",
       "      <td>50152</td>\n",
       "      <td>236</td>\n",
       "      <td>1037</td>\n",
       "      <td>4858</td>\n",
       "      <td>11503</td>\n",
       "      <td>17746</td>\n",
       "      <td>12603</td>\n",
       "      <td>9706</td>\n",
       "      <td>15311</td>\n",
       "      <td>16612</td>\n",
       "      <td>13423</td>\n",
       "      <td>5683</td>\n",
       "      <td>6137</td>\n",
       "      <td>1621</td>\n",
       "    </tr>\n",
       "  </tbody>\n",
       "</table>\n",
       "</div>"
      ],
      "text/plain": [
       "Faixa Remun Dezem (SM)     0    1     2     3      4      5      6     7   \\\n",
       "Sexo Trabalhador                                                            \n",
       "F                       25271  200  1323  6587   7850   9958   6610  4918   \n",
       "M                       50152  236  1037  4858  11503  17746  12603  9706   \n",
       "\n",
       "Faixa Remun Dezem (SM)     8      9      10    11    12    99  \n",
       "Sexo Trabalhador                                               \n",
       "F                        6585   5572   3951  1680  1638  1044  \n",
       "M                       15311  16612  13423  5683  6137  1621  "
      ]
     },
     "execution_count": 110,
     "metadata": {},
     "output_type": "execute_result"
    }
   ],
   "source": [
    "pd.crosstab(sul[\"Sexo Trabalhador\"], sul[\"Faixa Remun Dezem (SM)\"])"
   ]
  },
  {
   "cell_type": "code",
   "execution_count": 111,
   "metadata": {},
   "outputs": [
    {
     "data": {
      "text/html": [
       "<div>\n",
       "<style scoped>\n",
       "    .dataframe tbody tr th:only-of-type {\n",
       "        vertical-align: middle;\n",
       "    }\n",
       "\n",
       "    .dataframe tbody tr th {\n",
       "        vertical-align: top;\n",
       "    }\n",
       "\n",
       "    .dataframe thead th {\n",
       "        text-align: right;\n",
       "    }\n",
       "</style>\n",
       "<table border=\"1\" class=\"dataframe\">\n",
       "  <thead>\n",
       "    <tr style=\"text-align: right;\">\n",
       "      <th>Faixa Remun Média (SM)</th>\n",
       "      <th>0</th>\n",
       "      <th>1</th>\n",
       "      <th>2</th>\n",
       "      <th>3</th>\n",
       "      <th>4</th>\n",
       "      <th>5</th>\n",
       "      <th>6</th>\n",
       "      <th>7</th>\n",
       "      <th>8</th>\n",
       "      <th>9</th>\n",
       "      <th>10</th>\n",
       "      <th>11</th>\n",
       "      <th>99</th>\n",
       "    </tr>\n",
       "    <tr>\n",
       "      <th>Sexo Trabalhador</th>\n",
       "      <th></th>\n",
       "      <th></th>\n",
       "      <th></th>\n",
       "      <th></th>\n",
       "      <th></th>\n",
       "      <th></th>\n",
       "      <th></th>\n",
       "      <th></th>\n",
       "      <th></th>\n",
       "      <th></th>\n",
       "      <th></th>\n",
       "      <th></th>\n",
       "      <th></th>\n",
       "    </tr>\n",
       "  </thead>\n",
       "  <tbody>\n",
       "    <tr>\n",
       "      <th>F</th>\n",
       "      <td>294</td>\n",
       "      <td>2177</td>\n",
       "      <td>13093</td>\n",
       "      <td>12369</td>\n",
       "      <td>14061</td>\n",
       "      <td>9221</td>\n",
       "      <td>6551</td>\n",
       "      <td>8784</td>\n",
       "      <td>7093</td>\n",
       "      <td>4603</td>\n",
       "      <td>1915</td>\n",
       "      <td>1830</td>\n",
       "      <td>1196</td>\n",
       "    </tr>\n",
       "    <tr>\n",
       "      <th>M</th>\n",
       "      <td>339</td>\n",
       "      <td>1697</td>\n",
       "      <td>10646</td>\n",
       "      <td>19688</td>\n",
       "      <td>26462</td>\n",
       "      <td>17896</td>\n",
       "      <td>13788</td>\n",
       "      <td>21759</td>\n",
       "      <td>22317</td>\n",
       "      <td>16638</td>\n",
       "      <td>6585</td>\n",
       "      <td>6942</td>\n",
       "      <td>1871</td>\n",
       "    </tr>\n",
       "  </tbody>\n",
       "</table>\n",
       "</div>"
      ],
      "text/plain": [
       "Faixa Remun Média (SM)   0     1      2      3      4      5      6      7   \\\n",
       "Sexo Trabalhador                                                              \n",
       "F                       294  2177  13093  12369  14061   9221   6551   8784   \n",
       "M                       339  1697  10646  19688  26462  17896  13788  21759   \n",
       "\n",
       "Faixa Remun Média (SM)     8      9     10    11    99  \n",
       "Sexo Trabalhador                                        \n",
       "F                        7093   4603  1915  1830  1196  \n",
       "M                       22317  16638  6585  6942  1871  "
      ]
     },
     "execution_count": 111,
     "metadata": {},
     "output_type": "execute_result"
    }
   ],
   "source": [
    "pd.crosstab(sul[\"Sexo Trabalhador\"], sul[\"Faixa Remun Média (SM)\"])"
   ]
  },
  {
   "cell_type": "code",
   "execution_count": 112,
   "metadata": {},
   "outputs": [
    {
     "data": {
      "text/html": [
       "<div>\n",
       "<style scoped>\n",
       "    .dataframe tbody tr th:only-of-type {\n",
       "        vertical-align: middle;\n",
       "    }\n",
       "\n",
       "    .dataframe tbody tr th {\n",
       "        vertical-align: top;\n",
       "    }\n",
       "\n",
       "    .dataframe thead th {\n",
       "        text-align: right;\n",
       "    }\n",
       "</style>\n",
       "<table border=\"1\" class=\"dataframe\">\n",
       "  <thead>\n",
       "    <tr style=\"text-align: right;\">\n",
       "      <th>Faixa Tempo Emprego</th>\n",
       "      <th>1</th>\n",
       "      <th>2</th>\n",
       "      <th>3</th>\n",
       "      <th>4</th>\n",
       "      <th>5</th>\n",
       "      <th>6</th>\n",
       "      <th>7</th>\n",
       "      <th>8</th>\n",
       "      <th>99</th>\n",
       "    </tr>\n",
       "    <tr>\n",
       "      <th>Sexo Trabalhador</th>\n",
       "      <th></th>\n",
       "      <th></th>\n",
       "      <th></th>\n",
       "      <th></th>\n",
       "      <th></th>\n",
       "      <th></th>\n",
       "      <th></th>\n",
       "      <th></th>\n",
       "      <th></th>\n",
       "    </tr>\n",
       "  </thead>\n",
       "  <tbody>\n",
       "    <tr>\n",
       "      <th>F</th>\n",
       "      <td>11680</td>\n",
       "      <td>8087</td>\n",
       "      <td>13699</td>\n",
       "      <td>15400</td>\n",
       "      <td>8770</td>\n",
       "      <td>10838</td>\n",
       "      <td>9957</td>\n",
       "      <td>4665</td>\n",
       "      <td>91</td>\n",
       "    </tr>\n",
       "    <tr>\n",
       "      <th>M</th>\n",
       "      <td>20772</td>\n",
       "      <td>17873</td>\n",
       "      <td>27843</td>\n",
       "      <td>31188</td>\n",
       "      <td>17145</td>\n",
       "      <td>22544</td>\n",
       "      <td>21259</td>\n",
       "      <td>7842</td>\n",
       "      <td>162</td>\n",
       "    </tr>\n",
       "  </tbody>\n",
       "</table>\n",
       "</div>"
      ],
      "text/plain": [
       "Faixa Tempo Emprego     1      2      3      4      5      6      7     8   \\\n",
       "Sexo Trabalhador                                                             \n",
       "F                    11680   8087  13699  15400   8770  10838   9957  4665   \n",
       "M                    20772  17873  27843  31188  17145  22544  21259  7842   \n",
       "\n",
       "Faixa Tempo Emprego   99  \n",
       "Sexo Trabalhador          \n",
       "F                     91  \n",
       "M                    162  "
      ]
     },
     "execution_count": 112,
     "metadata": {},
     "output_type": "execute_result"
    }
   ],
   "source": [
    "pd.crosstab(sul[\"Sexo Trabalhador\"], sul[\"Faixa Tempo Emprego\"])"
   ]
  },
  {
   "cell_type": "code",
   "execution_count": 113,
   "metadata": {},
   "outputs": [
    {
     "data": {
      "text/html": [
       "<div>\n",
       "<style scoped>\n",
       "    .dataframe tbody tr th:only-of-type {\n",
       "        vertical-align: middle;\n",
       "    }\n",
       "\n",
       "    .dataframe tbody tr th {\n",
       "        vertical-align: top;\n",
       "    }\n",
       "\n",
       "    .dataframe thead th {\n",
       "        text-align: right;\n",
       "    }\n",
       "</style>\n",
       "<table border=\"1\" class=\"dataframe\">\n",
       "  <thead>\n",
       "    <tr style=\"text-align: right;\">\n",
       "      <th></th>\n",
       "      <th>Idade</th>\n",
       "    </tr>\n",
       "    <tr>\n",
       "      <th>Sexo Trabalhador</th>\n",
       "      <th></th>\n",
       "    </tr>\n",
       "  </thead>\n",
       "  <tbody>\n",
       "    <tr>\n",
       "      <th>F</th>\n",
       "      <td>33.558837</td>\n",
       "    </tr>\n",
       "    <tr>\n",
       "      <th>M</th>\n",
       "      <td>34.006998</td>\n",
       "    </tr>\n",
       "  </tbody>\n",
       "</table>\n",
       "</div>"
      ],
      "text/plain": [
       "                      Idade\n",
       "Sexo Trabalhador           \n",
       "F                 33.558837\n",
       "M                 34.006998"
      ]
     },
     "execution_count": 113,
     "metadata": {},
     "output_type": "execute_result"
    }
   ],
   "source": [
    "sul.groupby(\"Sexo Trabalhador\").agg({\"Idade\": \"mean\"})"
   ]
  },
  {
   "cell_type": "code",
   "execution_count": 114,
   "metadata": {},
   "outputs": [
    {
     "data": {
      "text/html": [
       "<div>\n",
       "<style scoped>\n",
       "    .dataframe tbody tr th:only-of-type {\n",
       "        vertical-align: middle;\n",
       "    }\n",
       "\n",
       "    .dataframe tbody tr th {\n",
       "        vertical-align: top;\n",
       "    }\n",
       "\n",
       "    .dataframe thead th {\n",
       "        text-align: right;\n",
       "    }\n",
       "</style>\n",
       "<table border=\"1\" class=\"dataframe\">\n",
       "  <thead>\n",
       "    <tr style=\"text-align: right;\">\n",
       "      <th></th>\n",
       "      <th>Vl Remun Média Nom</th>\n",
       "    </tr>\n",
       "    <tr>\n",
       "      <th>Sexo Trabalhador</th>\n",
       "      <th></th>\n",
       "    </tr>\n",
       "  </thead>\n",
       "  <tbody>\n",
       "    <tr>\n",
       "      <th>F</th>\n",
       "      <td>2727.070</td>\n",
       "    </tr>\n",
       "    <tr>\n",
       "      <th>M</th>\n",
       "      <td>4128.185</td>\n",
       "    </tr>\n",
       "  </tbody>\n",
       "</table>\n",
       "</div>"
      ],
      "text/plain": [
       "                  Vl Remun Média Nom\n",
       "Sexo Trabalhador                    \n",
       "F                           2727.070\n",
       "M                           4128.185"
      ]
     },
     "execution_count": 114,
     "metadata": {},
     "output_type": "execute_result"
    }
   ],
   "source": [
    "sul.groupby(\"Sexo Trabalhador\").agg({\"Vl Remun Média Nom\": \"median\"})"
   ]
  },
  {
   "cell_type": "code",
   "execution_count": 115,
   "metadata": {},
   "outputs": [
    {
     "data": {
      "text/html": [
       "<div>\n",
       "<style scoped>\n",
       "    .dataframe tbody tr th:only-of-type {\n",
       "        vertical-align: middle;\n",
       "    }\n",
       "\n",
       "    .dataframe tbody tr th {\n",
       "        vertical-align: top;\n",
       "    }\n",
       "\n",
       "    .dataframe thead th {\n",
       "        text-align: right;\n",
       "    }\n",
       "</style>\n",
       "<table border=\"1\" class=\"dataframe\">\n",
       "  <thead>\n",
       "    <tr style=\"text-align: right;\">\n",
       "      <th></th>\n",
       "      <th>Vl Remun Média Nom</th>\n",
       "    </tr>\n",
       "    <tr>\n",
       "      <th>Sexo Trabalhador</th>\n",
       "      <th></th>\n",
       "    </tr>\n",
       "  </thead>\n",
       "  <tbody>\n",
       "    <tr>\n",
       "      <th>F</th>\n",
       "      <td>4489.264065</td>\n",
       "    </tr>\n",
       "    <tr>\n",
       "      <th>M</th>\n",
       "      <td>6233.341422</td>\n",
       "    </tr>\n",
       "  </tbody>\n",
       "</table>\n",
       "</div>"
      ],
      "text/plain": [
       "                  Vl Remun Média Nom\n",
       "Sexo Trabalhador                    \n",
       "F                        4489.264065\n",
       "M                        6233.341422"
      ]
     },
     "execution_count": 115,
     "metadata": {},
     "output_type": "execute_result"
    }
   ],
   "source": [
    "sul.groupby(\"Sexo Trabalhador\").agg({\"Vl Remun Média Nom\": \"mean\"})"
   ]
  }
 ],
 "metadata": {
  "kernelspec": {
   "display_name": "Python3",
   "language": "python",
   "name": "python3"
  },
  "language_info": {
   "codemirror_mode": {
    "name": "ipython",
    "version": 3
   },
   "file_extension": ".py",
   "mimetype": "text/x-python",
   "name": "python",
   "nbconvert_exporter": "python",
   "pygments_lexer": "ipython3",
   "version": "3.7.5"
  }
 },
 "nbformat": 4,
 "nbformat_minor": 4
}
