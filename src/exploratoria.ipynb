{
 "cells": [
  {
   "cell_type": "markdown",
   "metadata": {},
   "source": [
    "# Panorama da desigualdade de gênero no mercado de Inteligência Artificial no Brasil\n",
    "\n",
    "## Prof. Dr. Neylson Crepalde"
   ]
  },
  {
   "cell_type": "code",
   "execution_count": 281,
   "metadata": {},
   "outputs": [],
   "source": [
    "import pandas as pd\n",
    "import numpy as np\n",
    "import dask.dataframe as dd\n",
    "from scipy import stats\n",
    "import statsmodels.api as sm\n",
    "import statsmodels.formula.api as smf\n",
    "from statsmodels.tools.tools import add_constant\n",
    "from statsmodels.graphics.factorplots import interaction_plot\n",
    "from statsmodels.stats.outliers_influence import variance_inflation_factor as vif\n",
    "import matplotlib.pyplot as plt\n",
    "import seaborn as sns"
   ]
  },
  {
   "cell_type": "raw",
   "metadata": {},
   "source": [
    "sud = pd.read_csv(\"../RAIS_VINC_PUB_MG_ES_RJ/RAIS_VINC_PUB_MG_ES_RJ.txt\", sep=';', encoding='latin1')\n",
    "sud.head()\n",
    "\n",
    "sud.columns\n",
    "\n",
    "sud[\"CNAE 2.0 Classe\"].dtype\n",
    "\n",
    "sud = sud.loc[(sud[\"CNAE 2.0 Classe\"] >= 62000) & (sud[\"CNAE 2.0 Classe\"] < 62050) ,:]\n",
    "sud.shape\n",
    "\n",
    "sud.to_csv(\"../data/rais_mg_es_rj.csv\", sep=\"\\t\", index=False)\n",
    "\n",
    "del(sud)"
   ]
  },
  {
   "cell_type": "raw",
   "metadata": {},
   "source": [
    "sp = dd.read_csv(\"../RAIS_VINC_PUB_SP/RAIS_VINC_PUB_SP.txt\", sep=';', encoding=\"latin1\", dtype={'CBO Ocupação 2002': 'object'})\n",
    "sp = sp.loc[(sp[\"CNAE 2.0 Classe\"] >= 62000) & (sp[\"CNAE 2.0 Classe\"] < 62050) ,:]\n",
    "print(sp.shape)\n",
    "print(sp.columns)\n",
    "\n",
    "computed_sp = sp.compute()\n",
    "\n",
    "computed_sp.shape\n",
    "\n",
    "computed_sp.to_csv(\"../data/rais_sp.csv\", sep=\"\\t\", index=False)\n",
    "\n",
    "del(computed_sp)"
   ]
  },
  {
   "cell_type": "code",
   "execution_count": 2,
   "metadata": {},
   "outputs": [
    {
     "name": "stderr",
     "output_type": "stream",
     "text": [
      "C:\\Users\\Neylson\\Anaconda3\\lib\\site-packages\\IPython\\core\\interactiveshell.py:3051: DtypeWarning: Columns (7) have mixed types. Specify dtype option on import or set low_memory=False.\n",
      "  interactivity=interactivity, compiler=compiler, result=result)\n"
     ]
    }
   ],
   "source": [
    "# Dar um merge de linhas nos dois bancos...\n",
    "sud = pd.concat([\n",
    "    pd.read_csv(\"../data/rais_mg_es_rj.csv\", sep='\\t', decimal=',', na_values=[\"{ñ class}\", \"{ñclass}\"]),\n",
    "    pd.read_csv(\"../data/rais_sp.csv\", sep='\\t', decimal=',', na_values=[\"{ñ class}\", \"{ñclass}\"])\n",
    "], axis=0)"
   ]
  },
  {
   "cell_type": "code",
   "execution_count": 3,
   "metadata": {},
   "outputs": [],
   "source": [
    "# Filtra apenas salário mensal\n",
    "sud = sud.loc[sud[\"Tipo Salário\"] == 1, :]"
   ]
  },
  {
   "cell_type": "code",
   "execution_count": 4,
   "metadata": {},
   "outputs": [],
   "source": [
    "# Filçtra apenas trabalhos não parciais\n",
    "sud = sud.loc[sud[\"Ind Trab Parcial\"] == 0, :]"
   ]
  },
  {
   "cell_type": "code",
   "execution_count": 5,
   "metadata": {},
   "outputs": [],
   "source": [
    "# Corrige grau de escolaridade para obter valor 0\n",
    "sud['Escolaridade após 2005'] -= 1"
   ]
  },
  {
   "cell_type": "code",
   "execution_count": 6,
   "metadata": {},
   "outputs": [
    {
     "name": "stdout",
     "output_type": "stream",
     "text": [
      "[ 0  1  3  4  5  6  7  8  9 10  2]\n"
     ]
    },
    {
     "data": {
      "text/plain": [
       "8     177215\n",
       "6      40281\n",
       "7      24173\n",
       "9       2967\n",
       "5       2409\n",
       "4       1522\n",
       "10       444\n",
       "3        393\n",
       "2        202\n",
       "1        201\n",
       "0         13\n",
       "Name: Escolaridade após 2005, dtype: int64"
      ]
     },
     "execution_count": 6,
     "metadata": {},
     "output_type": "execute_result"
    }
   ],
   "source": [
    "print(sud['Escolaridade após 2005'].unique())\n",
    "sud['Escolaridade após 2005'].value_counts()"
   ]
  },
  {
   "cell_type": "code",
   "execution_count": 7,
   "metadata": {},
   "outputs": [],
   "source": [
    "# Coloca label em sexo\n",
    "sud.loc[sud['Sexo Trabalhador'] == 1, 'Sexo Trabalhador'] = \"Masculino\"\n",
    "sud.loc[sud['Sexo Trabalhador'] == 2, 'Sexo Trabalhador'] = \"Feminino\""
   ]
  },
  {
   "cell_type": "code",
   "execution_count": 8,
   "metadata": {},
   "outputs": [
    {
     "data": {
      "text/plain": [
       "Masculino    166632\n",
       "Feminino      83188\n",
       "Name: Sexo Trabalhador, dtype: int64"
      ]
     },
     "execution_count": 8,
     "metadata": {},
     "output_type": "execute_result"
    }
   ],
   "source": [
    "sud['Sexo Trabalhador'].value_counts()"
   ]
  },
  {
   "cell_type": "code",
   "execution_count": 9,
   "metadata": {},
   "outputs": [],
   "source": [
    "# Filtra apenas quem Raça Cor não é 99\n",
    "sud = sud.loc[sud[\"Raça Cor\"] != 99,:]"
   ]
  },
  {
   "cell_type": "code",
   "execution_count": 10,
   "metadata": {
    "jupyter": {
     "source_hidden": true
    }
   },
   "outputs": [],
   "source": [
    "# Coloca label em raça\n",
    "sud.loc[sud[\"Raça Cor\"] == 1, 'Raça Cor'] = \"Indígena\"\n",
    "sud.loc[sud[\"Raça Cor\"] == 2, 'Raça Cor'] = \"Branca\"\n",
    "sud.loc[sud[\"Raça Cor\"] == 4, 'Raça Cor'] = \"Preta\"\n",
    "sud.loc[sud[\"Raça Cor\"] == 6, 'Raça Cor'] = \"Amarela\"\n",
    "sud.loc[sud[\"Raça Cor\"] == 8, 'Raça Cor'] = \"Parda\"\n",
    "sud.loc[sud[\"Raça Cor\"] == 9, 'Raça Cor'] = \"Não identificada\""
   ]
  },
  {
   "cell_type": "code",
   "execution_count": 11,
   "metadata": {},
   "outputs": [
    {
     "data": {
      "text/plain": [
       "Branca              159556\n",
       "Parda                54080\n",
       "Não identificada     21159\n",
       "Preta                10504\n",
       "Amarela               3829\n",
       "Indígena               687\n",
       "Name: Raça Cor, dtype: int64"
      ]
     },
     "execution_count": 11,
     "metadata": {},
     "output_type": "execute_result"
    }
   ],
   "source": [
    "sud['Raça Cor'].value_counts()"
   ]
  },
  {
   "cell_type": "code",
   "execution_count": 12,
   "metadata": {},
   "outputs": [],
   "source": [
    "sud['Brasileiro'] = sud['Nacionalidade'].apply(lambda x: 1 if (x == 10) else 0)"
   ]
  },
  {
   "cell_type": "code",
   "execution_count": 13,
   "metadata": {},
   "outputs": [
    {
     "data": {
      "text/plain": [
       "1    247948\n",
       "0      1867\n",
       "Name: Brasileiro, dtype: int64"
      ]
     },
     "execution_count": 13,
     "metadata": {},
     "output_type": "execute_result"
    }
   ],
   "source": [
    "sud.Brasileiro.value_counts()"
   ]
  },
  {
   "cell_type": "markdown",
   "metadata": {},
   "source": [
    "Muito pouco estrangeiro trabalhando na área. Talvez não seja uma variável interessante para modelar."
   ]
  },
  {
   "cell_type": "code",
   "execution_count": 14,
   "metadata": {},
   "outputs": [
    {
     "data": {
      "text/html": [
       "<div>\n",
       "<style scoped>\n",
       "    .dataframe tbody tr th:only-of-type {\n",
       "        vertical-align: middle;\n",
       "    }\n",
       "\n",
       "    .dataframe tbody tr th {\n",
       "        vertical-align: top;\n",
       "    }\n",
       "\n",
       "    .dataframe thead th {\n",
       "        text-align: right;\n",
       "    }\n",
       "</style>\n",
       "<table border=\"1\" class=\"dataframe\">\n",
       "  <thead>\n",
       "    <tr style=\"text-align: right;\">\n",
       "      <th></th>\n",
       "      <th>Vl Remun Média Nom</th>\n",
       "    </tr>\n",
       "    <tr>\n",
       "      <th>Brasileiro</th>\n",
       "      <th></th>\n",
       "    </tr>\n",
       "  </thead>\n",
       "  <tbody>\n",
       "    <tr>\n",
       "      <th>0</th>\n",
       "      <td>6977.45</td>\n",
       "    </tr>\n",
       "    <tr>\n",
       "      <th>1</th>\n",
       "      <td>3571.28</td>\n",
       "    </tr>\n",
       "  </tbody>\n",
       "</table>\n",
       "</div>"
      ],
      "text/plain": [
       "            Vl Remun Média Nom\n",
       "Brasileiro                    \n",
       "0                      6977.45\n",
       "1                      3571.28"
      ]
     },
     "execution_count": 14,
     "metadata": {},
     "output_type": "execute_result"
    }
   ],
   "source": [
    "sud.groupby(\"Brasileiro\").agg({\"Vl Remun Média Nom\": \"median\"})"
   ]
  },
  {
   "cell_type": "markdown",
   "metadata": {},
   "source": [
    "Mas a diferença salarial é gritante! Investiguemos."
   ]
  },
  {
   "cell_type": "code",
   "execution_count": 15,
   "metadata": {},
   "outputs": [
    {
     "data": {
      "text/plain": [
       "0           1.0\n",
       "1           2.9\n",
       "2           7.7\n",
       "3           2.9\n",
       "4           2.9\n",
       "          ...  \n",
       "180452     35.9\n",
       "180453    377.3\n",
       "180454    378.9\n",
       "180455    147.9\n",
       "180456      6.4\n",
       "Name: Tempo Emprego, Length: 249815, dtype: float64"
      ]
     },
     "execution_count": 15,
     "metadata": {},
     "output_type": "execute_result"
    }
   ],
   "source": [
    "sud['Tempo Emprego']"
   ]
  },
  {
   "cell_type": "code",
   "execution_count": 16,
   "metadata": {},
   "outputs": [
    {
     "data": {
      "text/plain": [
       "(249815, 63)"
      ]
     },
     "execution_count": 16,
     "metadata": {},
     "output_type": "execute_result"
    }
   ],
   "source": [
    "sud.shape"
   ]
  },
  {
   "cell_type": "code",
   "execution_count": 17,
   "metadata": {},
   "outputs": [
    {
     "data": {
      "text/plain": [
       "Index(['Bairros SP', 'Bairros Fortaleza', 'Bairros RJ', 'Causa Afastamento 1',\n",
       "       'Causa Afastamento 2', 'Causa Afastamento 3', 'Motivo Desligamento',\n",
       "       'CBO Ocupação 2002', 'CNAE 2.0 Classe', 'CNAE 95 Classe',\n",
       "       'Distritos SP', 'Vínculo Ativo 31/12', 'Faixa Etária',\n",
       "       'Faixa Hora Contrat', 'Faixa Remun Dezem (SM)',\n",
       "       'Faixa Remun Média (SM)', 'Faixa Tempo Emprego',\n",
       "       'Escolaridade após 2005', 'Qtd Hora Contr', 'Idade',\n",
       "       'Ind CEI Vinculado', 'Ind Simples', 'Mês Admissão', 'Mês Desligamento',\n",
       "       'Mun Trab', 'Município', 'Nacionalidade', 'Natureza Jurídica',\n",
       "       'Ind Portador Defic', 'Qtd Dias Afastamento', 'Raça Cor',\n",
       "       'Regiões Adm DF', 'Vl Remun Dezembro Nom', 'Vl Remun Dezembro (SM)',\n",
       "       'Vl Remun Média Nom', 'Vl Remun Média (SM)', 'CNAE 2.0 Subclasse',\n",
       "       'Sexo Trabalhador', 'Tamanho Estabelecimento', 'Tempo Emprego',\n",
       "       'Tipo Admissão', 'Tipo Estab', 'Tipo Estab.1', 'Tipo Defic',\n",
       "       'Tipo Vínculo', 'IBGE Subsetor', 'Vl Rem Janeiro CC',\n",
       "       'Vl Rem Fevereiro CC', 'Vl Rem Março CC', 'Vl Rem Abril CC',\n",
       "       'Vl Rem Maio CC', 'Vl Rem Junho CC', 'Vl Rem Julho CC',\n",
       "       'Vl Rem Agosto CC', 'Vl Rem Setembro CC', 'Vl Rem Outubro CC',\n",
       "       'Vl Rem Novembro CC', 'Ano Chegada Brasil', 'Ind Trab Intermitente',\n",
       "       'Ind Trab Parcial', 'Tipo Salário', 'Vl Salário Contratual',\n",
       "       'Brasileiro'],\n",
       "      dtype='object')"
      ]
     },
     "execution_count": 17,
     "metadata": {},
     "output_type": "execute_result"
    }
   ],
   "source": [
    "sud.columns"
   ]
  },
  {
   "cell_type": "markdown",
   "metadata": {},
   "source": [
    "#### Variáveis de interesse para trabalhar\n",
    "\n",
    "- Sexo Trabalhador\n",
    "- Idade\n",
    "- Qtd Hora Contrat\n",
    "- Escolaridade após 2005\n",
    "- Município\n",
    "- Nacionalidade\n",
    "- Ind Portador Defic\n",
    "- Raça Cor\n",
    "- Vl Remun Dezembro Nom\n",
    "- Vl Remun Média Nom\n",
    "- Tamanho Estabelecimento\n",
    "- Tempo Emprego (em meses)\n",
    "- Ind Portador Defic\n",
    "- Brasileiro\n",
    "\n",
    "Verificar as categorias das variáveis e implementar cosntrução de labels."
   ]
  },
  {
   "cell_type": "markdown",
   "metadata": {},
   "source": [
    "---\n",
    "\n",
    "# Análise Exploratória de Dados\n",
    "\n",
    "## Sexo\n",
    "\n",
    "Existem diferenças significativas nas principais variáveis elencadas por sexo?"
   ]
  },
  {
   "cell_type": "code",
   "execution_count": 18,
   "metadata": {},
   "outputs": [
    {
     "name": "stdout",
     "output_type": "stream",
     "text": [
      "Masculino    166628\n",
      "Feminino      83187\n",
      "Name: Sexo Trabalhador, dtype: int64\n",
      "Masculino    66.7\n",
      "Feminino     33.3\n",
      "Name: Sexo Trabalhador, dtype: float64\n"
     ]
    },
    {
     "data": {
      "image/png": "[encoded data removed]",
      "text/plain": [
       "<Figure size 720x360 with 1 Axes>"
      ]
     },
     "metadata": {},
     "output_type": "display_data"
    }
   ],
   "source": [
    "print(sud['Sexo Trabalhador'].value_counts())\n",
    "print(((sud['Sexo Trabalhador'].value_counts() / sud.shape[0] )*100).round(2))\n",
    "\n",
    "# Gráfico\n",
    "sns.set(style=\"dark\")\n",
    "\n",
    "plt.figure(figsize=(10,5))\n",
    "sns.countplot(\"Sexo Trabalhador\", data=sud)\n",
    "plt.title(\"Distribuição de Sexo\")\n",
    "plt.ylabel(\"\")\n",
    "plt.xlabel(\"\")\n",
    "plt.xticks([0,1],[\"Masculino\", \"Feminino\"])\n",
    "plt.show()"
   ]
  },
  {
   "cell_type": "markdown",
   "metadata": {},
   "source": [
    "## Idade"
   ]
  },
  {
   "cell_type": "code",
   "execution_count": 167,
   "metadata": {},
   "outputs": [
    {
     "data": {
      "text/plain": [
       "count    249815.000000\n",
       "mean         33.857763\n",
       "std           9.628421\n",
       "min          14.000000\n",
       "25%          27.000000\n",
       "50%          32.000000\n",
       "75%          39.000000\n",
       "max          99.000000\n",
       "Name: Idade, dtype: float64"
      ]
     },
     "execution_count": 167,
     "metadata": {},
     "output_type": "execute_result"
    }
   ],
   "source": [
    "sud.Idade.describe()"
   ]
  },
  {
   "cell_type": "code",
   "execution_count": 27,
   "metadata": {},
   "outputs": [
    {
     "data": {
      "text/html": [
       "<div>\n",
       "<style scoped>\n",
       "    .dataframe tbody tr th:only-of-type {\n",
       "        vertical-align: middle;\n",
       "    }\n",
       "\n",
       "    .dataframe tbody tr th {\n",
       "        vertical-align: top;\n",
       "    }\n",
       "\n",
       "    .dataframe thead th {\n",
       "        text-align: right;\n",
       "    }\n",
       "</style>\n",
       "<table border=\"1\" class=\"dataframe\">\n",
       "  <thead>\n",
       "    <tr style=\"text-align: right;\">\n",
       "      <th></th>\n",
       "      <th>Idade</th>\n",
       "    </tr>\n",
       "    <tr>\n",
       "      <th>Sexo Trabalhador</th>\n",
       "      <th></th>\n",
       "    </tr>\n",
       "  </thead>\n",
       "  <tbody>\n",
       "    <tr>\n",
       "      <th>Feminino</th>\n",
       "      <td>33.558837</td>\n",
       "    </tr>\n",
       "    <tr>\n",
       "      <th>Masculino</th>\n",
       "      <td>34.006998</td>\n",
       "    </tr>\n",
       "  </tbody>\n",
       "</table>\n",
       "</div>"
      ],
      "text/plain": [
       "                      Idade\n",
       "Sexo Trabalhador           \n",
       "Feminino          33.558837\n",
       "Masculino         34.006998"
      ]
     },
     "execution_count": 27,
     "metadata": {},
     "output_type": "execute_result"
    }
   ],
   "source": [
    "sud.groupby(\"Sexo Trabalhador\").agg({\"Idade\": \"mean\"})"
   ]
  },
  {
   "cell_type": "code",
   "execution_count": 20,
   "metadata": {},
   "outputs": [
    {
     "data": {
      "image/png": "[encoded data removed]",
      "text/plain": [
       "<Figure size 432x288 with 1 Axes>"
      ]
     },
     "metadata": {},
     "output_type": "display_data"
    }
   ],
   "source": [
    "sns.boxplot(x=\"Sexo Trabalhador\", y=\"Idade\", data=sud)\n",
    "plt.show()"
   ]
  },
  {
   "cell_type": "code",
   "execution_count": 45,
   "metadata": {},
   "outputs": [
    {
     "data": {
      "text/plain": [
       "Ttest_indResult(statistic=10.96666135910969, pvalue=5.609503711010635e-28)"
      ]
     },
     "execution_count": 45,
     "metadata": {},
     "output_type": "execute_result"
    }
   ],
   "source": [
    "stats.ttest_ind(sud.loc[sud[\"Sexo Trabalhador\"] == \"Masculino\",\"Idade\"], sud.loc[sud[\"Sexo Trabalhador\"] == \"Feminino\",\"Idade\"])"
   ]
  },
  {
   "cell_type": "markdown",
   "metadata": {},
   "source": [
    "Embora o teste T tenha dado significativo, há razões para desconfiar que o baixo p-valor se deve apenas ao fato de o $n$ ser enorme. Se o $n$ fosse menor, provavelmente essas diferenças não seriam significativas. Vamos testar com 5 mil casos aleatórios e bootstrap."
   ]
  },
  {
   "cell_type": "code",
   "execution_count": 71,
   "metadata": {},
   "outputs": [
    {
     "name": "stdout",
     "output_type": "stream",
     "text": [
      "Média dos p-valores:  0.052\n"
     ]
    }
   ],
   "source": [
    "pvalores = []\n",
    "for i in range(1000):\n",
    "    res = stats.ttest_ind(sud.loc[sud[\"Sexo Trabalhador\"] == \"Masculino\",\"Idade\"].sample(n=10000), \n",
    "                          sud.loc[sud[\"Sexo Trabalhador\"] == \"Feminino\",\"Idade\"].sample(n=5000))\n",
    "    pvalores.append(res.pvalue)\n",
    "print(\"Média dos p-valores: \", np.mean(pvalores).round(4))"
   ]
  },
  {
   "cell_type": "markdown",
   "metadata": {},
   "source": [
    "## Raça Cor"
   ]
  },
  {
   "cell_type": "code",
   "execution_count": 25,
   "metadata": {},
   "outputs": [
    {
     "data": {
      "text/html": [
       "<div>\n",
       "<style scoped>\n",
       "    .dataframe tbody tr th:only-of-type {\n",
       "        vertical-align: middle;\n",
       "    }\n",
       "\n",
       "    .dataframe tbody tr th {\n",
       "        vertical-align: top;\n",
       "    }\n",
       "\n",
       "    .dataframe thead th {\n",
       "        text-align: right;\n",
       "    }\n",
       "</style>\n",
       "<table border=\"1\" class=\"dataframe\">\n",
       "  <thead>\n",
       "    <tr style=\"text-align: right;\">\n",
       "      <th>Raça Cor</th>\n",
       "      <th>Amarela</th>\n",
       "      <th>Branca</th>\n",
       "      <th>Indígena</th>\n",
       "      <th>Não identificada</th>\n",
       "      <th>Parda</th>\n",
       "      <th>Preta</th>\n",
       "    </tr>\n",
       "    <tr>\n",
       "      <th>Sexo Trabalhador</th>\n",
       "      <th></th>\n",
       "      <th></th>\n",
       "      <th></th>\n",
       "      <th></th>\n",
       "      <th></th>\n",
       "      <th></th>\n",
       "    </tr>\n",
       "  </thead>\n",
       "  <tbody>\n",
       "    <tr>\n",
       "      <th>Feminino</th>\n",
       "      <td>1.606020</td>\n",
       "      <td>63.428180</td>\n",
       "      <td>0.293315</td>\n",
       "      <td>8.492914</td>\n",
       "      <td>21.581497</td>\n",
       "      <td>4.598074</td>\n",
       "    </tr>\n",
       "    <tr>\n",
       "      <th>Masculino</th>\n",
       "      <td>1.496147</td>\n",
       "      <td>64.090069</td>\n",
       "      <td>0.265862</td>\n",
       "      <td>8.458362</td>\n",
       "      <td>21.681230</td>\n",
       "      <td>4.008330</td>\n",
       "    </tr>\n",
       "  </tbody>\n",
       "</table>\n",
       "</div>"
      ],
      "text/plain": [
       "Raça Cor           Amarela     Branca  Indígena  Não identificada      Parda  \\\n",
       "Sexo Trabalhador                                                               \n",
       "Feminino          1.606020  63.428180  0.293315          8.492914  21.581497   \n",
       "Masculino         1.496147  64.090069  0.265862          8.458362  21.681230   \n",
       "\n",
       "Raça Cor             Preta  \n",
       "Sexo Trabalhador            \n",
       "Feminino          4.598074  \n",
       "Masculino         4.008330  "
      ]
     },
     "execution_count": 25,
     "metadata": {},
     "output_type": "execute_result"
    }
   ],
   "source": [
    "t = pd.crosstab(sud['Sexo Trabalhador'], sud['Raça Cor'])\n",
    "t.apply(lambda r: (r/r.sum()*100), axis=1)"
   ]
  },
  {
   "cell_type": "code",
   "execution_count": 22,
   "metadata": {},
   "outputs": [
    {
     "data": {
      "image/png": "[encoded data removed]",
      "text/plain": [
       "<Figure size 720x360 with 1 Axes>"
      ]
     },
     "metadata": {},
     "output_type": "display_data"
    }
   ],
   "source": [
    "t.apply(lambda r: (r/r.sum()*100), axis=1).plot(kind=\"bar\", figsize=(10,5))\n",
    "plt.xticks([0,1], ['Masculino', 'Feminino'], rotation=0)\n",
    "plt.xlabel(\"\")\n",
    "plt.ylabel(\"%\", rotation=0)\n",
    "plt.title(\"Distribuição de Raça Cor por Sexo\")\n",
    "plt.show()"
   ]
  },
  {
   "cell_type": "code",
   "execution_count": 64,
   "metadata": {},
   "outputs": [
    {
     "name": "stdout",
     "output_type": "stream",
     "text": [
      "Raça Cor          Amarela  Branca  Indígena  Não identificada  Parda  Preta\n",
      "Sexo Trabalhador                                                           \n",
      "Feminino             1336   52764       244              7065  17953   3825\n",
      "Masculino            2493  106792       443             14094  36127   6679\n"
     ]
    },
    {
     "data": {
      "text/plain": [
       "(55.92609721310422,\n",
       " 8.416363645985641e-11,\n",
       " 5,\n",
       " array([[  1275.03561836,  53131.25701819,    228.7671637 ,\n",
       "           7045.82884535,  18008.33801013,   3497.77334427],\n",
       "        [  2553.96438164, 106424.74298181,    458.2328363 ,\n",
       "          14113.17115465,  36071.66198987,   7006.22665573]]))"
      ]
     },
     "execution_count": 64,
     "metadata": {},
     "output_type": "execute_result"
    }
   ],
   "source": [
    "print(t)\n",
    "stats.chi2_contingency(t)"
   ]
  },
  {
   "cell_type": "markdown",
   "metadata": {},
   "source": [
    "Muito embora o teste $\\chi^2$ tenha dado significativo, ao observamos a tabela de valores observados e os valores esperados abaixo, vemos que eles estão bastante próximos. Poderíamos indagar se o $n$ fosse menor, esses valores não seriam significativos. Provavelmente não..."
   ]
  },
  {
   "cell_type": "code",
   "execution_count": 72,
   "metadata": {},
   "outputs": [
    {
     "name": "stdout",
     "output_type": "stream",
     "text": [
      "Média de p-valores chi2 para sexo e raça: 0.4261\n"
     ]
    }
   ],
   "source": [
    "pvalores_chi2 = []\n",
    "for i in range(1000):\n",
    "    subamostra = sud.sample(5000)\n",
    "    t1 = pd.crosstab(subamostra['Sexo Trabalhador'], subamostra['Raça Cor'])\n",
    "    pvalores_chi2.append(stats.chi2_contingency(t1)[1])\n",
    "print(\"Média de p-valores chi2 para sexo e raça:\", np.mean(pvalores_chi2).round(4))"
   ]
  },
  {
   "cell_type": "markdown",
   "metadata": {},
   "source": [
    "Utilizando bootstrap, o $\\chi^2$ não fica significativo.\n",
    "\n",
    "---"
   ]
  },
  {
   "cell_type": "code",
   "execution_count": 69,
   "metadata": {},
   "outputs": [
    {
     "data": {
      "text/html": [
       "<div>\n",
       "<style scoped>\n",
       "    .dataframe tbody tr th:only-of-type {\n",
       "        vertical-align: middle;\n",
       "    }\n",
       "\n",
       "    .dataframe tbody tr th {\n",
       "        vertical-align: top;\n",
       "    }\n",
       "\n",
       "    .dataframe thead th {\n",
       "        text-align: right;\n",
       "    }\n",
       "</style>\n",
       "<table border=\"1\" class=\"dataframe\">\n",
       "  <thead>\n",
       "    <tr style=\"text-align: right;\">\n",
       "      <th></th>\n",
       "      <th>Vl Remun Média Nom</th>\n",
       "      <th>Qtd Hora Contr</th>\n",
       "      <th>Escolaridade após 2005</th>\n",
       "      <th>Tempo Emprego</th>\n",
       "    </tr>\n",
       "    <tr>\n",
       "      <th>Sexo Trabalhador</th>\n",
       "      <th></th>\n",
       "      <th></th>\n",
       "      <th></th>\n",
       "      <th></th>\n",
       "    </tr>\n",
       "  </thead>\n",
       "  <tbody>\n",
       "    <tr>\n",
       "      <th>Feminino</th>\n",
       "      <td>2727.070</td>\n",
       "      <td>39.459026</td>\n",
       "      <td>7.388077</td>\n",
       "      <td>17.3</td>\n",
       "    </tr>\n",
       "    <tr>\n",
       "      <th>Masculino</th>\n",
       "      <td>4128.185</td>\n",
       "      <td>39.949582</td>\n",
       "      <td>7.592031</td>\n",
       "      <td>17.4</td>\n",
       "    </tr>\n",
       "  </tbody>\n",
       "</table>\n",
       "</div>"
      ],
      "text/plain": [
       "                  Vl Remun Média Nom  Qtd Hora Contr  Escolaridade após 2005  \\\n",
       "Sexo Trabalhador                                                               \n",
       "Feminino                    2727.070       39.459026                7.388077   \n",
       "Masculino                   4128.185       39.949582                7.592031   \n",
       "\n",
       "                  Tempo Emprego  \n",
       "Sexo Trabalhador                 \n",
       "Feminino                   17.3  \n",
       "Masculino                  17.4  "
      ]
     },
     "execution_count": 69,
     "metadata": {},
     "output_type": "execute_result"
    }
   ],
   "source": [
    "sud.groupby(\"Sexo Trabalhador\").agg({\"Vl Remun Média Nom\": \"median\", \n",
    "                                     \"Qtd Hora Contr\": \"mean\",\n",
    "                                     \"Escolaridade após 2005\": \"mean\",\n",
    "                                     \"Tempo Emprego\": \"median\"\n",
    "                                    })"
   ]
  },
  {
   "cell_type": "code",
   "execution_count": 75,
   "metadata": {},
   "outputs": [
    {
     "data": {
      "text/plain": [
       "Ttest_indResult(statistic=24.0160674960307, pvalue=2.6376067677565002e-127)"
      ]
     },
     "execution_count": 75,
     "metadata": {},
     "output_type": "execute_result"
    }
   ],
   "source": [
    "stats.ttest_ind(sud.loc[sud[\"Sexo Trabalhador\"] == \"Masculino\",\"Qtd Hora Contr\"],\n",
    "                        sud.loc[sud[\"Sexo Trabalhador\"] == \"Feminino\",\"Qtd Hora Contr\"])"
   ]
  },
  {
   "cell_type": "code",
   "execution_count": 78,
   "metadata": {},
   "outputs": [
    {
     "name": "stdout",
     "output_type": "stream",
     "text": [
      "Média dos p-valores para Qtd Hora Contr: 0.0\n"
     ]
    }
   ],
   "source": [
    "# Testa diferenças nas horas de contrato usando bootstrap\n",
    "pvalores_qtdhoracont = []\n",
    "for i in range(1000):\n",
    "    res = stats.ttest_ind(sud.loc[sud[\"Sexo Trabalhador\"] == \"Masculino\",\"Qtd Hora Contr\"].sample(n=10000),\n",
    "                          sud.loc[sud[\"Sexo Trabalhador\"] == \"Feminino\",\"Qtd Hora Contr\"].sample(n=5000))\n",
    "    pvalores_qtdhoracont.append(res.pvalue)\n",
    "print(\"Média dos p-valores para Qtd Hora Contr:\", np.mean(pvalores_qtdhoracont).round(4))"
   ]
  },
  {
   "cell_type": "code",
   "execution_count": 79,
   "metadata": {},
   "outputs": [
    {
     "name": "stdout",
     "output_type": "stream",
     "text": [
      "Média dos p-valores para Escolaridade: 0.0\n"
     ]
    }
   ],
   "source": [
    "# Testa diferenças de escolaridade usando bootstrap\n",
    "pvalores_esco = []\n",
    "for i in range(1000):\n",
    "    res = stats.ttest_ind(sud.loc[sud[\"Sexo Trabalhador\"] == \"Masculino\",\"Escolaridade após 2005\"].sample(n=10000),\n",
    "                          sud.loc[sud[\"Sexo Trabalhador\"] == \"Feminino\",\"Escolaridade após 2005\"].sample(n=5000))\n",
    "    pvalores_esco.append(res.pvalue)\n",
    "print(\"Média dos p-valores para Escolaridade:\", np.mean(pvalores_esco).round(4))"
   ]
  },
  {
   "cell_type": "code",
   "execution_count": 80,
   "metadata": {},
   "outputs": [
    {
     "name": "stdout",
     "output_type": "stream",
     "text": [
      "Média dos p-valores para Tempo de Emprego: 0.0413\n"
     ]
    }
   ],
   "source": [
    "# Testa diferenças de tempo de emprego usando bootstrap\n",
    "pvalores_tempoemprego = []\n",
    "for i in range(1000):\n",
    "    res = stats.ttest_ind(sud.loc[sud[\"Sexo Trabalhador\"] == \"Masculino\",\"Tempo Emprego\"].sample(n=10000),\n",
    "                          sud.loc[sud[\"Sexo Trabalhador\"] == \"Feminino\",\"Tempo Emprego\"].sample(n=5000))\n",
    "    pvalores_tempoemprego.append(res.pvalue)\n",
    "print(\"Média dos p-valores para Tempo de Emprego:\", np.mean(pvalores_tempoemprego).round(4))"
   ]
  },
  {
   "cell_type": "code",
   "execution_count": 81,
   "metadata": {},
   "outputs": [
    {
     "name": "stdout",
     "output_type": "stream",
     "text": [
      "Média dos p-valores para Salário médio: 0.0\n"
     ]
    }
   ],
   "source": [
    "# Testa diferenças de salário usando bootstrap\n",
    "pvalores_sal = []\n",
    "for i in range(1000):\n",
    "    res = stats.ttest_ind(sud.loc[sud[\"Sexo Trabalhador\"] == \"Masculino\",\"Vl Remun Média Nom\"].sample(n=10000),\n",
    "                          sud.loc[sud[\"Sexo Trabalhador\"] == \"Feminino\",\"Vl Remun Média Nom\"].sample(n=5000))\n",
    "    pvalores_sal.append(res.pvalue)\n",
    "print(\"Média dos p-valores para Salário médio:\", np.mean(pvalores_sal).round(4))"
   ]
  },
  {
   "cell_type": "markdown",
   "metadata": {},
   "source": [
    "É possível afirmar que as mulheres trabalham sistematicamente menos, possuem escolaridade mais baixa, tem menos tempo de emprego em seus trabalhos e possuem salário sistematicamente menor."
   ]
  },
  {
   "cell_type": "code",
   "execution_count": 23,
   "metadata": {},
   "outputs": [
    {
     "data": {
      "text/html": [
       "<div>\n",
       "<style scoped>\n",
       "    .dataframe tbody tr th:only-of-type {\n",
       "        vertical-align: middle;\n",
       "    }\n",
       "\n",
       "    .dataframe tbody tr th {\n",
       "        vertical-align: top;\n",
       "    }\n",
       "\n",
       "    .dataframe thead th {\n",
       "        text-align: right;\n",
       "    }\n",
       "</style>\n",
       "<table border=\"1\" class=\"dataframe\">\n",
       "  <thead>\n",
       "    <tr style=\"text-align: right;\">\n",
       "      <th></th>\n",
       "      <th>Vl Remun Média Nom</th>\n",
       "    </tr>\n",
       "    <tr>\n",
       "      <th>Sexo Trabalhador</th>\n",
       "      <th></th>\n",
       "    </tr>\n",
       "  </thead>\n",
       "  <tbody>\n",
       "    <tr>\n",
       "      <th>Feminino</th>\n",
       "      <td>4489.264065</td>\n",
       "    </tr>\n",
       "    <tr>\n",
       "      <th>Masculino</th>\n",
       "      <td>6233.341422</td>\n",
       "    </tr>\n",
       "  </tbody>\n",
       "</table>\n",
       "</div>"
      ],
      "text/plain": [
       "                  Vl Remun Média Nom\n",
       "Sexo Trabalhador                    \n",
       "Feminino                 4489.264065\n",
       "Masculino                6233.341422"
      ]
     },
     "execution_count": 23,
     "metadata": {},
     "output_type": "execute_result"
    }
   ],
   "source": [
    "sud.groupby(\"Sexo Trabalhador\").agg({\"Vl Remun Média Nom\": \"mean\"})"
   ]
  },
  {
   "cell_type": "markdown",
   "metadata": {},
   "source": [
    "---\n",
    "\n",
    "# Investigando a diferença de salário"
   ]
  },
  {
   "cell_type": "code",
   "execution_count": 96,
   "metadata": {},
   "outputs": [],
   "source": [
    "sud['salario'] = sud['Vl Remun Média Nom'] + 0.01"
   ]
  },
  {
   "cell_type": "code",
   "execution_count": 98,
   "metadata": {},
   "outputs": [
    {
     "data": {
      "text/plain": [
       "(array([  750.,  3899., 48057., 61089., 56263., 47864., 21416.,  5815.,\n",
       "         1443.,   152.]),\n",
       " array([ 5.66164016,  6.27073136,  6.87982255,  7.48891375,  8.09800494,\n",
       "         8.70709613,  9.31618733,  9.92527852, 10.53436971, 11.14346091,\n",
       "        11.7525521 ]),\n",
       " <a list of 10 Patch objects>)"
      ]
     },
     "execution_count": 98,
     "metadata": {},
     "output_type": "execute_result"
    },
    {
     "data": {
      "image/png": "[encoded data removed]",
      "text/plain": [
       "<Figure size 432x288 with 1 Axes>"
      ]
     },
     "metadata": {},
     "output_type": "display_data"
    }
   ],
   "source": [
    "plt.hist(np.log(sud.loc[sud[\"Vl Remun Média Nom\"] > 0,'Vl Remun Média Nom']), edgecolor=\"black\")"
   ]
  },
  {
   "cell_type": "code",
   "execution_count": 104,
   "metadata": {},
   "outputs": [
    {
     "data": {
      "text/plain": [
       "(array([  3067.,      0.,      0.,      0.,      0.,      0.,   3820.,\n",
       "        145304.,  92957.,   4667.]),\n",
       " array([-4.60517019, -2.96939795, -1.33362571,  0.30214652,  1.93791876,\n",
       "         3.573691  ,  5.20946323,  6.84523547,  8.48100771, 10.11677994,\n",
       "        11.75255218]),\n",
       " <a list of 10 Patch objects>)"
      ]
     },
     "execution_count": 104,
     "metadata": {},
     "output_type": "execute_result"
    },
    {
     "data": {
      "image/png": "[encoded data removed]",
      "text/plain": [
       "<Figure size 432x288 with 1 Axes>"
      ]
     },
     "metadata": {},
     "output_type": "display_data"
    }
   ],
   "source": [
    "plt.hist(np.log(sud.salario), edgecolor=\"black\")"
   ]
  },
  {
   "cell_type": "markdown",
   "metadata": {},
   "source": [
    "Vamos modelar apenas as pessoas que recebem algum tipo de salário."
   ]
  },
  {
   "cell_type": "code",
   "execution_count": 105,
   "metadata": {},
   "outputs": [
    {
     "data": {
      "text/html": [
       "<div>\n",
       "<style scoped>\n",
       "    .dataframe tbody tr th:only-of-type {\n",
       "        vertical-align: middle;\n",
       "    }\n",
       "\n",
       "    .dataframe tbody tr th {\n",
       "        vertical-align: top;\n",
       "    }\n",
       "\n",
       "    .dataframe thead th {\n",
       "        text-align: right;\n",
       "    }\n",
       "</style>\n",
       "<table border=\"1\" class=\"dataframe\">\n",
       "  <thead>\n",
       "    <tr style=\"text-align: right;\">\n",
       "      <th></th>\n",
       "      <th>Vl Remun Média Nom</th>\n",
       "    </tr>\n",
       "    <tr>\n",
       "      <th>Sexo Trabalhador</th>\n",
       "      <th></th>\n",
       "    </tr>\n",
       "  </thead>\n",
       "  <tbody>\n",
       "    <tr>\n",
       "      <th>Feminino</th>\n",
       "      <td>4554.748812</td>\n",
       "    </tr>\n",
       "    <tr>\n",
       "      <th>Masculino</th>\n",
       "      <td>6304.127985</td>\n",
       "    </tr>\n",
       "  </tbody>\n",
       "</table>\n",
       "</div>"
      ],
      "text/plain": [
       "                  Vl Remun Média Nom\n",
       "Sexo Trabalhador                    \n",
       "Feminino                 4554.748812\n",
       "Masculino                6304.127985"
      ]
     },
     "execution_count": 105,
     "metadata": {},
     "output_type": "execute_result"
    }
   ],
   "source": [
    "sud.loc[sud['Vl Remun Média Nom'] > 0,:].groupby(\"Sexo Trabalhador\").agg({\"Vl Remun Média Nom\": \"mean\"})"
   ]
  },
  {
   "cell_type": "code",
   "execution_count": 107,
   "metadata": {},
   "outputs": [
    {
     "data": {
      "text/plain": [
       "3067"
      ]
     },
     "execution_count": 107,
     "metadata": {},
     "output_type": "execute_result"
    }
   ],
   "source": [
    "sum(sud['Vl Remun Média Nom'] == 0)"
   ]
  },
  {
   "cell_type": "markdown",
   "metadata": {},
   "source": [
    "Não há muita diferença na média contendo quem tem salário zerado. De fato, quem tem salário zero são 3067 pessoas.\n",
    "\n",
    "Vamos filtrar apenas pessoas entre 18 e 80 anos."
   ]
  },
  {
   "cell_type": "code",
   "execution_count": 261,
   "metadata": {},
   "outputs": [],
   "source": [
    "bd = sud.loc[(sud['Vl Remun Média Nom'] > 0) & \n",
    "             (sud['Idade'] > 17) & (sud['Idade'] < 81)\n",
    "             ,:]"
   ]
  },
  {
   "cell_type": "code",
   "execution_count": 263,
   "metadata": {},
   "outputs": [
    {
     "data": {
      "text/plain": [
       "33.83107710417893"
      ]
     },
     "execution_count": 263,
     "metadata": {},
     "output_type": "execute_result"
    }
   ],
   "source": [
    "# Qual é a idade média do recorte selecionado?\n",
    "np.mean(bd.Idade)"
   ]
  },
  {
   "cell_type": "code",
   "execution_count": 262,
   "metadata": {},
   "outputs": [
    {
     "name": "stderr",
     "output_type": "stream",
     "text": [
      "C:\\Users\\Neylson\\Anaconda3\\lib\\site-packages\\ipykernel_launcher.py:1: SettingWithCopyWarning: \n",
      "A value is trying to be set on a copy of a slice from a DataFrame.\n",
      "Try using .loc[row_indexer,col_indexer] = value instead\n",
      "\n",
      "See the caveats in the documentation: http://pandas.pydata.org/pandas-docs/stable/user_guide/indexing.html#returning-a-view-versus-a-copy\n",
      "  \"\"\"Entry point for launching an IPython kernel.\n",
      "C:\\Users\\Neylson\\Anaconda3\\lib\\site-packages\\ipykernel_launcher.py:2: SettingWithCopyWarning: \n",
      "A value is trying to be set on a copy of a slice from a DataFrame.\n",
      "Try using .loc[row_indexer,col_indexer] = value instead\n",
      "\n",
      "See the caveats in the documentation: http://pandas.pydata.org/pandas-docs/stable/user_guide/indexing.html#returning-a-view-versus-a-copy\n",
      "  \n"
     ]
    }
   ],
   "source": [
    "bd['idadecent'] = bd.Idade - np.mean(bd.Idade)\n",
    "bd['Idade_quad'] = bd.idadecent ** 2"
   ]
  },
  {
   "cell_type": "code",
   "execution_count": 264,
   "metadata": {},
   "outputs": [
    {
     "name": "stderr",
     "output_type": "stream",
     "text": [
      "C:\\Users\\Neylson\\Anaconda3\\lib\\site-packages\\ipykernel_launcher.py:2: SettingWithCopyWarning: \n",
      "A value is trying to be set on a copy of a slice from a DataFrame.\n",
      "Try using .loc[row_indexer,col_indexer] = value instead\n",
      "\n",
      "See the caveats in the documentation: http://pandas.pydata.org/pandas-docs/stable/user_guide/indexing.html#returning-a-view-versus-a-copy\n",
      "  \n"
     ]
    }
   ],
   "source": [
    "# Cria dummy branco\n",
    "bd[\"Branco\"] = bd['Raça Cor'].apply(lambda x: 1 if x in ['Branca', 'Amarela'] else 0)"
   ]
  },
  {
   "cell_type": "code",
   "execution_count": 265,
   "metadata": {},
   "outputs": [
    {
     "data": {
      "text/html": [
       "<div>\n",
       "<style scoped>\n",
       "    .dataframe tbody tr th:only-of-type {\n",
       "        vertical-align: middle;\n",
       "    }\n",
       "\n",
       "    .dataframe tbody tr th {\n",
       "        vertical-align: top;\n",
       "    }\n",
       "\n",
       "    .dataframe thead th {\n",
       "        text-align: right;\n",
       "    }\n",
       "</style>\n",
       "<table border=\"1\" class=\"dataframe\">\n",
       "  <thead>\n",
       "    <tr style=\"text-align: right;\">\n",
       "      <th>Raça Cor</th>\n",
       "      <th>Amarela</th>\n",
       "      <th>Branca</th>\n",
       "      <th>Indígena</th>\n",
       "      <th>Não identificada</th>\n",
       "      <th>Parda</th>\n",
       "      <th>Preta</th>\n",
       "    </tr>\n",
       "    <tr>\n",
       "      <th>Branco</th>\n",
       "      <th></th>\n",
       "      <th></th>\n",
       "      <th></th>\n",
       "      <th></th>\n",
       "      <th></th>\n",
       "      <th></th>\n",
       "    </tr>\n",
       "  </thead>\n",
       "  <tbody>\n",
       "    <tr>\n",
       "      <th>0</th>\n",
       "      <td>0</td>\n",
       "      <td>0</td>\n",
       "      <td>676</td>\n",
       "      <td>20862</td>\n",
       "      <td>53332</td>\n",
       "      <td>10338</td>\n",
       "    </tr>\n",
       "    <tr>\n",
       "      <th>1</th>\n",
       "      <td>3800</td>\n",
       "      <td>157347</td>\n",
       "      <td>0</td>\n",
       "      <td>0</td>\n",
       "      <td>0</td>\n",
       "      <td>0</td>\n",
       "    </tr>\n",
       "  </tbody>\n",
       "</table>\n",
       "</div>"
      ],
      "text/plain": [
       "Raça Cor  Amarela  Branca  Indígena  Não identificada  Parda  Preta\n",
       "Branco                                                             \n",
       "0               0       0       676             20862  53332  10338\n",
       "1            3800  157347         0                 0      0      0"
      ]
     },
     "execution_count": 265,
     "metadata": {},
     "output_type": "execute_result"
    }
   ],
   "source": [
    "pd.crosstab(bd.Branco, bd[\"Raça Cor\"])"
   ]
  },
  {
   "cell_type": "code",
   "execution_count": 266,
   "metadata": {},
   "outputs": [
    {
     "data": {
      "text/plain": [
       "Index(['Bairros SP', 'Bairros Fortaleza', 'Bairros RJ', 'Causa Afastamento 1',\n",
       "       'Causa Afastamento 2', 'Causa Afastamento 3', 'Motivo Desligamento',\n",
       "       'CBO Ocupação 2002', 'CNAE 2.0 Classe', 'CNAE 95 Classe',\n",
       "       'Distritos SP', 'Vínculo Ativo 31/12', 'Faixa Etária',\n",
       "       'Faixa Hora Contrat', 'Faixa Remun Dezem (SM)',\n",
       "       'Faixa Remun Média (SM)', 'Faixa Tempo Emprego',\n",
       "       'Escolaridade após 2005', 'Qtd Hora Contr', 'Idade',\n",
       "       'Ind CEI Vinculado', 'Ind Simples', 'Mês Admissão', 'Mês Desligamento',\n",
       "       'Mun Trab', 'Município', 'Nacionalidade', 'Natureza Jurídica',\n",
       "       'Ind Portador Defic', 'Qtd Dias Afastamento', 'Raça Cor',\n",
       "       'Regiões Adm DF', 'Vl Remun Dezembro Nom', 'Vl Remun Dezembro (SM)',\n",
       "       'Vl Remun Média Nom', 'Vl Remun Média (SM)', 'CNAE 2.0 Subclasse',\n",
       "       'Sexo Trabalhador', 'Tamanho Estabelecimento', 'Tempo Emprego',\n",
       "       'Tipo Admissão', 'Tipo Estab', 'Tipo Estab.1', 'Tipo Defic',\n",
       "       'Tipo Vínculo', 'IBGE Subsetor', 'Vl Rem Janeiro CC',\n",
       "       'Vl Rem Fevereiro CC', 'Vl Rem Março CC', 'Vl Rem Abril CC',\n",
       "       'Vl Rem Maio CC', 'Vl Rem Junho CC', 'Vl Rem Julho CC',\n",
       "       'Vl Rem Agosto CC', 'Vl Rem Setembro CC', 'Vl Rem Outubro CC',\n",
       "       'Vl Rem Novembro CC', 'Ano Chegada Brasil', 'Ind Trab Intermitente',\n",
       "       'Ind Trab Parcial', 'Tipo Salário', 'Vl Salário Contratual',\n",
       "       'Brasileiro', 'salario', 'idadecent', 'Idade_quad', 'Branco'],\n",
       "      dtype='object')"
      ]
     },
     "execution_count": 266,
     "metadata": {},
     "output_type": "execute_result"
    }
   ],
   "source": [
    "bd.columns"
   ]
  },
  {
   "cell_type": "code",
   "execution_count": 268,
   "metadata": {},
   "outputs": [],
   "source": [
    "y = np.log(bd['Vl Remun Média Nom'])\n",
    "X = pd.get_dummies(bd[['Sexo Trabalhador',\n",
    "                       'Escolaridade após 2005', \n",
    "                       'Qtd Hora Contr', \n",
    "                       'idadecent', 'Idade_quad', \n",
    "                       'Brasileiro', \n",
    "                       'Branco', \n",
    "                       'Tempo Emprego'\n",
    "                      ]],\n",
    "                  drop_first=True)"
   ]
  },
  {
   "cell_type": "code",
   "execution_count": 269,
   "metadata": {},
   "outputs": [
    {
     "name": "stderr",
     "output_type": "stream",
     "text": [
      "C:\\Users\\Neylson\\Anaconda3\\lib\\site-packages\\numpy\\core\\fromnumeric.py:2495: FutureWarning: Method .ptp is deprecated and will be removed in a future version. Use numpy.ptp instead.\n",
      "  return ptp(axis=axis, out=out, **kwargs)\n"
     ]
    },
    {
     "data": {
      "text/html": [
       "<div>\n",
       "<style scoped>\n",
       "    .dataframe tbody tr th:only-of-type {\n",
       "        vertical-align: middle;\n",
       "    }\n",
       "\n",
       "    .dataframe tbody tr th {\n",
       "        vertical-align: top;\n",
       "    }\n",
       "\n",
       "    .dataframe thead th {\n",
       "        text-align: right;\n",
       "    }\n",
       "</style>\n",
       "<table border=\"1\" class=\"dataframe\">\n",
       "  <thead>\n",
       "    <tr style=\"text-align: right;\">\n",
       "      <th></th>\n",
       "      <th>const</th>\n",
       "      <th>Escolaridade após 2005</th>\n",
       "      <th>Qtd Hora Contr</th>\n",
       "      <th>idadecent</th>\n",
       "      <th>Idade_quad</th>\n",
       "      <th>Brasileiro</th>\n",
       "      <th>Branco</th>\n",
       "      <th>Tempo Emprego</th>\n",
       "      <th>Sexo Trabalhador_Masculino</th>\n",
       "    </tr>\n",
       "  </thead>\n",
       "  <tbody>\n",
       "    <tr>\n",
       "      <th>0</th>\n",
       "      <td>1.0</td>\n",
       "      <td>0</td>\n",
       "      <td>44</td>\n",
       "      <td>3.168923</td>\n",
       "      <td>10.042072</td>\n",
       "      <td>1</td>\n",
       "      <td>1</td>\n",
       "      <td>1.0</td>\n",
       "      <td>1</td>\n",
       "    </tr>\n",
       "    <tr>\n",
       "      <th>1</th>\n",
       "      <td>1.0</td>\n",
       "      <td>0</td>\n",
       "      <td>40</td>\n",
       "      <td>-3.831077</td>\n",
       "      <td>14.677152</td>\n",
       "      <td>1</td>\n",
       "      <td>0</td>\n",
       "      <td>2.9</td>\n",
       "      <td>1</td>\n",
       "    </tr>\n",
       "    <tr>\n",
       "      <th>2</th>\n",
       "      <td>1.0</td>\n",
       "      <td>1</td>\n",
       "      <td>44</td>\n",
       "      <td>6.168923</td>\n",
       "      <td>38.055610</td>\n",
       "      <td>1</td>\n",
       "      <td>0</td>\n",
       "      <td>7.7</td>\n",
       "      <td>1</td>\n",
       "    </tr>\n",
       "    <tr>\n",
       "      <th>3</th>\n",
       "      <td>1.0</td>\n",
       "      <td>1</td>\n",
       "      <td>40</td>\n",
       "      <td>-6.831077</td>\n",
       "      <td>46.663614</td>\n",
       "      <td>1</td>\n",
       "      <td>0</td>\n",
       "      <td>2.9</td>\n",
       "      <td>1</td>\n",
       "    </tr>\n",
       "    <tr>\n",
       "      <th>4</th>\n",
       "      <td>1.0</td>\n",
       "      <td>1</td>\n",
       "      <td>40</td>\n",
       "      <td>-6.831077</td>\n",
       "      <td>46.663614</td>\n",
       "      <td>1</td>\n",
       "      <td>0</td>\n",
       "      <td>2.9</td>\n",
       "      <td>1</td>\n",
       "    </tr>\n",
       "    <tr>\n",
       "      <th>...</th>\n",
       "      <td>...</td>\n",
       "      <td>...</td>\n",
       "      <td>...</td>\n",
       "      <td>...</td>\n",
       "      <td>...</td>\n",
       "      <td>...</td>\n",
       "      <td>...</td>\n",
       "      <td>...</td>\n",
       "      <td>...</td>\n",
       "    </tr>\n",
       "    <tr>\n",
       "      <th>180452</th>\n",
       "      <td>1.0</td>\n",
       "      <td>10</td>\n",
       "      <td>40</td>\n",
       "      <td>9.168923</td>\n",
       "      <td>84.069147</td>\n",
       "      <td>1</td>\n",
       "      <td>1</td>\n",
       "      <td>35.9</td>\n",
       "      <td>0</td>\n",
       "    </tr>\n",
       "    <tr>\n",
       "      <th>180453</th>\n",
       "      <td>1.0</td>\n",
       "      <td>10</td>\n",
       "      <td>8</td>\n",
       "      <td>26.168923</td>\n",
       "      <td>684.812526</td>\n",
       "      <td>1</td>\n",
       "      <td>1</td>\n",
       "      <td>377.3</td>\n",
       "      <td>0</td>\n",
       "    </tr>\n",
       "    <tr>\n",
       "      <th>180454</th>\n",
       "      <td>1.0</td>\n",
       "      <td>10</td>\n",
       "      <td>8</td>\n",
       "      <td>25.168923</td>\n",
       "      <td>633.474680</td>\n",
       "      <td>1</td>\n",
       "      <td>0</td>\n",
       "      <td>378.9</td>\n",
       "      <td>0</td>\n",
       "    </tr>\n",
       "    <tr>\n",
       "      <th>180455</th>\n",
       "      <td>1.0</td>\n",
       "      <td>10</td>\n",
       "      <td>8</td>\n",
       "      <td>13.168923</td>\n",
       "      <td>173.420530</td>\n",
       "      <td>1</td>\n",
       "      <td>1</td>\n",
       "      <td>147.9</td>\n",
       "      <td>0</td>\n",
       "    </tr>\n",
       "    <tr>\n",
       "      <th>180456</th>\n",
       "      <td>1.0</td>\n",
       "      <td>10</td>\n",
       "      <td>40</td>\n",
       "      <td>2.168923</td>\n",
       "      <td>4.704227</td>\n",
       "      <td>1</td>\n",
       "      <td>1</td>\n",
       "      <td>6.4</td>\n",
       "      <td>0</td>\n",
       "    </tr>\n",
       "  </tbody>\n",
       "</table>\n",
       "<p>246355 rows × 9 columns</p>\n",
       "</div>"
      ],
      "text/plain": [
       "        const  Escolaridade após 2005  Qtd Hora Contr  idadecent  Idade_quad  \\\n",
       "0         1.0                       0              44   3.168923   10.042072   \n",
       "1         1.0                       0              40  -3.831077   14.677152   \n",
       "2         1.0                       1              44   6.168923   38.055610   \n",
       "3         1.0                       1              40  -6.831077   46.663614   \n",
       "4         1.0                       1              40  -6.831077   46.663614   \n",
       "...       ...                     ...             ...        ...         ...   \n",
       "180452    1.0                      10              40   9.168923   84.069147   \n",
       "180453    1.0                      10               8  26.168923  684.812526   \n",
       "180454    1.0                      10               8  25.168923  633.474680   \n",
       "180455    1.0                      10               8  13.168923  173.420530   \n",
       "180456    1.0                      10              40   2.168923    4.704227   \n",
       "\n",
       "        Brasileiro  Branco  Tempo Emprego  Sexo Trabalhador_Masculino  \n",
       "0                1       1            1.0                           1  \n",
       "1                1       0            2.9                           1  \n",
       "2                1       0            7.7                           1  \n",
       "3                1       0            2.9                           1  \n",
       "4                1       0            2.9                           1  \n",
       "...            ...     ...            ...                         ...  \n",
       "180452           1       1           35.9                           0  \n",
       "180453           1       1          377.3                           0  \n",
       "180454           1       0          378.9                           0  \n",
       "180455           1       1          147.9                           0  \n",
       "180456           1       1            6.4                           0  \n",
       "\n",
       "[246355 rows x 9 columns]"
      ]
     },
     "execution_count": 269,
     "metadata": {},
     "output_type": "execute_result"
    }
   ],
   "source": [
    "X = add_constant(X)\n",
    "X"
   ]
  },
  {
   "cell_type": "markdown",
   "metadata": {},
   "source": [
    "### Teste de multicolinearidade"
   ]
  },
  {
   "cell_type": "code",
   "execution_count": 270,
   "metadata": {},
   "outputs": [
    {
     "name": "stdout",
     "output_type": "stream",
     "text": [
      "const:  308.93929290203357\n",
      "Escolaridade após 2005:  1.0785504010904856\n",
      "Qtd Hora Contr:  1.2622354622944212\n",
      "idadecent:  1.7040447028147596\n",
      "Idade_quad:  1.6562700984501002\n",
      "Brasileiro:  1.0030666749766268\n",
      "Branco:  1.0246210517947478\n",
      "Tempo Emprego:  1.4565388318549866\n",
      "Sexo Trabalhador_Masculino:  1.0134422418046194\n"
     ]
    }
   ],
   "source": [
    "for col in X.columns:\n",
    "    print(col + \": \", vif(X.values, X.columns.get_loc(col)))"
   ]
  },
  {
   "cell_type": "code",
   "execution_count": 271,
   "metadata": {},
   "outputs": [
    {
     "name": "stdout",
     "output_type": "stream",
     "text": [
      "                            OLS Regression Results                            \n",
      "==============================================================================\n",
      "Dep. Variable:     Vl Remun Média Nom   R-squared:                       0.408\n",
      "Model:                            OLS   Adj. R-squared:                  0.408\n",
      "Method:                 Least Squares   F-statistic:                 2.119e+04\n",
      "Date:                Mon, 10 Feb 2020   Prob (F-statistic):               0.00\n",
      "Time:                        15:48:35   Log-Likelihood:            -2.4426e+05\n",
      "No. Observations:              246355   AIC:                         4.885e+05\n",
      "Df Residuals:                  246346   BIC:                         4.886e+05\n",
      "Df Model:                           8                                         \n",
      "Covariance Type:            nonrobust                                         \n",
      "==============================================================================================\n",
      "                                 coef    std err          t      P>|t|      [0.025      0.975]\n",
      "----------------------------------------------------------------------------------------------\n",
      "const                          5.3749      0.023    232.728      0.000       5.330       5.420\n",
      "Escolaridade após 2005         0.3282      0.002    217.288      0.000       0.325       0.331\n",
      "Qtd Hora Contr                 0.0113      0.000     36.580      0.000       0.011       0.012\n",
      "idadecent                      0.0361      0.000    201.302      0.000       0.036       0.036\n",
      "Idade_quad                    -0.0010    1.1e-05    -95.465      0.000      -0.001      -0.001\n",
      "Brasileiro                    -0.3115      0.015    -20.390      0.000      -0.341      -0.282\n",
      "Branco                         0.1525      0.003     54.548      0.000       0.147       0.158\n",
      "Tempo Emprego                  0.0030   2.74e-05    110.109      0.000       0.003       0.003\n",
      "Sexo Trabalhador_Masculino     0.2469      0.003     87.900      0.000       0.241       0.252\n",
      "==============================================================================\n",
      "Omnibus:                     2310.330   Durbin-Watson:                   1.266\n",
      "Prob(Omnibus):                  0.000   Jarque-Bera (JB):             2764.331\n",
      "Skew:                           0.175   Prob(JB):                         0.00\n",
      "Kurtosis:                       3.383   Cond. No.                     3.62e+03\n",
      "==============================================================================\n",
      "\n",
      "Warnings:\n",
      "[1] Standard Errors assume that the covariance matrix of the errors is correctly specified.\n",
      "[2] The condition number is large, 3.62e+03. This might indicate that there are\n",
      "strong multicollinearity or other numerical problems.\n"
     ]
    }
   ],
   "source": [
    "regressao = sm.OLS(y, X).fit()\n",
    "print(regressao.summary())"
   ]
  },
  {
   "cell_type": "code",
   "execution_count": 272,
   "metadata": {},
   "outputs": [
    {
     "name": "stderr",
     "output_type": "stream",
     "text": [
      "C:\\Users\\Neylson\\Anaconda3\\lib\\site-packages\\scipy\\stats\\stats.py:2315: RuntimeWarning: invalid value encountered in true_divide\n",
      "  return (a - mns) / sstd\n"
     ]
    }
   ],
   "source": [
    "Xpad = X.apply(stats.zscore)"
   ]
  },
  {
   "cell_type": "code",
   "execution_count": 273,
   "metadata": {},
   "outputs": [],
   "source": [
    "Xpad = Xpad.drop(columns=\"const\")"
   ]
  },
  {
   "cell_type": "code",
   "execution_count": 274,
   "metadata": {},
   "outputs": [
    {
     "name": "stdout",
     "output_type": "stream",
     "text": [
      "                                 OLS Regression Results                                \n",
      "=======================================================================================\n",
      "Dep. Variable:     Vl Remun Média Nom   R-squared (uncentered):                   0.004\n",
      "Model:                            OLS   Adj. R-squared (uncentered):              0.004\n",
      "Method:                 Least Squares   F-statistic:                              131.1\n",
      "Date:                Mon, 10 Feb 2020   Prob (F-statistic):                   1.49e-220\n",
      "Time:                        15:48:52   Log-Likelihood:                     -8.7068e+05\n",
      "No. Observations:              246355   AIC:                                  1.741e+06\n",
      "Df Residuals:                  246347   BIC:                                  1.741e+06\n",
      "Df Model:                           8                                                  \n",
      "Covariance Type:            nonrobust                                                  \n",
      "==============================================================================================\n",
      "                                 coef    std err          t      P>|t|      [0.025      0.975]\n",
      "----------------------------------------------------------------------------------------------\n",
      "Escolaridade após 2005         0.2965      0.017     17.089      0.000       0.263       0.331\n",
      "Qtd Hora Contr                 0.0540      0.019      2.877      0.004       0.017       0.091\n",
      "idadecent                      0.3453      0.022     15.832      0.000       0.303       0.388\n",
      "Idade_quad                    -0.1614      0.022     -7.508      0.000      -0.204      -0.119\n",
      "Brasileiro                    -0.0268      0.017     -1.604      0.109      -0.060       0.006\n",
      "Branco                         0.0726      0.017      4.290      0.000       0.039       0.106\n",
      "Tempo Emprego                  0.1746      0.020      8.660      0.000       0.135       0.214\n",
      "Sexo Trabalhador_Masculino     0.1163      0.017      6.913      0.000       0.083       0.149\n",
      "==============================================================================\n",
      "Omnibus:                     2310.330   Durbin-Watson:                   0.008\n",
      "Prob(Omnibus):                  0.000   Jarque-Bera (JB):             2764.331\n",
      "Skew:                           0.175   Prob(JB):                         0.00\n",
      "Kurtosis:                       3.383   Cond. No.                         2.44\n",
      "==============================================================================\n",
      "\n",
      "Warnings:\n",
      "[1] Standard Errors assume that the covariance matrix of the errors is correctly specified.\n"
     ]
    }
   ],
   "source": [
    "regpad = sm.OLS(y, Xpad).fit()\n",
    "print(regpad.summary())"
   ]
  },
  {
   "cell_type": "markdown",
   "metadata": {},
   "source": [
    "---\n",
    "\n",
    "## Testar\n",
    "\n",
    "- termo interativo entre sexo e branco\n",
    "- termo interativo entre sexo e escolaridade\n",
    "- termo interativo entre sexo e idade (análise do efeito senioridade)"
   ]
  },
  {
   "cell_type": "code",
   "execution_count": 297,
   "metadata": {},
   "outputs": [
    {
     "data": {
      "image/png": "[encoded data removed]",
      "text/plain": [
       "<Figure size 720x360 with 1 Axes>"
      ]
     },
     "metadata": {},
     "output_type": "display_data"
    }
   ],
   "source": [
    "fig, ax = plt.subplots(figsize=(10,5))\n",
    "interaction_plot(bd.Branco, bd[\"Sexo Trabalhador\"], bd[\"Vl Remun Média Nom\"], ax=ax)\n",
    "plt.title(\"Teste de Interação Sexo X Branco\")\n",
    "plt.show()"
   ]
  },
  {
   "cell_type": "code",
   "execution_count": 293,
   "metadata": {},
   "outputs": [
    {
     "data": {
      "image/png": "[encoded data removed]",
      "text/plain": [
       "<Figure size 720x360 with 1 Axes>"
      ]
     },
     "metadata": {},
     "output_type": "display_data"
    }
   ],
   "source": [
    "fig, ax = plt.subplots(figsize=(10,5))\n",
    "interaction_plot(bd[\"Escolaridade após 2005\"], bd[\"Sexo Trabalhador\"], bd[\"Vl Remun Média Nom\"], ax=ax)\n",
    "plt.title(\"Teste de Interação Sexo X Escolaridade\")\n",
    "plt.show()"
   ]
  },
  {
   "cell_type": "code",
   "execution_count": 299,
   "metadata": {},
   "outputs": [
    {
     "data": {
      "image/png": "[encoded data removed]",
      "text/plain": [
       "<Figure size 720x360 with 1 Axes>"
      ]
     },
     "metadata": {},
     "output_type": "display_data"
    }
   ],
   "source": [
    "fig, ax = plt.subplots(figsize=(10,5))\n",
    "interaction_plot(bd.Idade, bd[\"Sexo Trabalhador\"], bd[\"Vl Remun Média Nom\"], ax=ax)\n",
    "plt.title('Teste de Interação Sexo X Idade - Análise do efeito \"Senioridade\"')\n",
    "plt.show()"
   ]
  },
  {
   "cell_type": "code",
   "execution_count": 280,
   "metadata": {},
   "outputs": [
    {
     "ename": "SyntaxError",
     "evalue": "invalid syntax (<unknown>, line 1)",
     "output_type": "error",
     "traceback": [
      "Traceback \u001b[1;36m(most recent call last)\u001b[0m:\n",
      "  File \u001b[0;32m\"C:\\Users\\Neylson\\Anaconda3\\lib\\site-packages\\IPython\\core\\interactiveshell.py\"\u001b[0m, line \u001b[0;32m3319\u001b[0m, in \u001b[0;35mrun_code\u001b[0m\n    exec(code_obj, self.user_global_ns, self.user_ns)\n",
      "  File \u001b[0;32m\"<ipython-input-280-616afb347dd6>\"\u001b[0m, line \u001b[0;32m2\u001b[0m, in \u001b[0;35m<module>\u001b[0m\n    Qtd Hora Contr + idadecent + Idade_quad + Brasileiro + Branco + Tempo Emprego\", data=bd).fit()\n",
      "  File \u001b[0;32m\"C:\\Users\\Neylson\\Anaconda3\\lib\\site-packages\\statsmodels\\base\\model.py\"\u001b[0m, line \u001b[0;32m159\u001b[0m, in \u001b[0;35mfrom_formula\u001b[0m\n    missing=missing)\n",
      "  File \u001b[0;32m\"C:\\Users\\Neylson\\Anaconda3\\lib\\site-packages\\statsmodels\\formula\\formulatools.py\"\u001b[0m, line \u001b[0;32m65\u001b[0m, in \u001b[0;35mhandle_formula_data\u001b[0m\n    NA_action=na_action)\n",
      "  File \u001b[0;32m\"C:\\Users\\Neylson\\Anaconda3\\lib\\site-packages\\patsy\\highlevel.py\"\u001b[0m, line \u001b[0;32m310\u001b[0m, in \u001b[0;35mdmatrices\u001b[0m\n    NA_action, return_type)\n",
      "  File \u001b[0;32m\"C:\\Users\\Neylson\\Anaconda3\\lib\\site-packages\\patsy\\highlevel.py\"\u001b[0m, line \u001b[0;32m165\u001b[0m, in \u001b[0;35m_do_highlevel_design\u001b[0m\n    NA_action)\n",
      "  File \u001b[0;32m\"C:\\Users\\Neylson\\Anaconda3\\lib\\site-packages\\patsy\\highlevel.py\"\u001b[0m, line \u001b[0;32m70\u001b[0m, in \u001b[0;35m_try_incr_builders\u001b[0m\n    NA_action)\n",
      "  File \u001b[0;32m\"C:\\Users\\Neylson\\Anaconda3\\lib\\site-packages\\patsy\\build.py\"\u001b[0m, line \u001b[0;32m689\u001b[0m, in \u001b[0;35mdesign_matrix_builders\u001b[0m\n    factor_states = _factors_memorize(all_factors, data_iter_maker, eval_env)\n",
      "  File \u001b[0;32m\"C:\\Users\\Neylson\\Anaconda3\\lib\\site-packages\\patsy\\build.py\"\u001b[0m, line \u001b[0;32m354\u001b[0m, in \u001b[0;35m_factors_memorize\u001b[0m\n    which_pass = factor.memorize_passes_needed(state, eval_env)\n",
      "  File \u001b[0;32m\"C:\\Users\\Neylson\\Anaconda3\\lib\\site-packages\\patsy\\eval.py\"\u001b[0m, line \u001b[0;32m474\u001b[0m, in \u001b[0;35mmemorize_passes_needed\u001b[0m\n    subset_names = [name for name in ast_names(self.code)\n",
      "  File \u001b[0;32m\"C:\\Users\\Neylson\\Anaconda3\\lib\\site-packages\\patsy\\eval.py\"\u001b[0m, line \u001b[0;32m474\u001b[0m, in \u001b[0;35m<listcomp>\u001b[0m\n    subset_names = [name for name in ast_names(self.code)\n",
      "  File \u001b[0;32m\"C:\\Users\\Neylson\\Anaconda3\\lib\\site-packages\\patsy\\eval.py\"\u001b[0m, line \u001b[0;32m105\u001b[0m, in \u001b[0;35mast_names\u001b[0m\n    for node in ast.walk(ast.parse(code)):\n",
      "\u001b[1;36m  File \u001b[1;32m\"C:\\Users\\Neylson\\Anaconda3\\lib\\ast.py\"\u001b[1;36m, line \u001b[1;32m35\u001b[1;36m, in \u001b[1;35mparse\u001b[1;36m\u001b[0m\n\u001b[1;33m    return compile(source, filename, mode, PyCF_ONLY_AST)\u001b[0m\n",
      "\u001b[1;36m  File \u001b[1;32m\"<unknown>\"\u001b[1;36m, line \u001b[1;32m1\u001b[0m\n\u001b[1;33m    Qtd Hora Contr\u001b[0m\n\u001b[1;37m           ^\u001b[0m\n\u001b[1;31mSyntaxError\u001b[0m\u001b[1;31m:\u001b[0m invalid syntax\n"
     ]
    }
   ],
   "source": [
    "regressao1 = smf.ols(formula=\"np.log(Vl Remun Média Nom) ~ Sexo Trabalhador + Escolaridade após 2005 +\\\n",
    "                            Qtd Hora Contr + idadecent + Idade_quad + Brasileiro + Branco + Tempo Emprego\", data=bd).fit()\n",
    "print(regressao1.summary())"
   ]
  },
  {
   "cell_type": "markdown",
   "metadata": {},
   "source": [
    "---\n",
    "\n",
    "## Análise de resíduos"
   ]
  },
  {
   "cell_type": "code",
   "execution_count": 298,
   "metadata": {},
   "outputs": [
    {
     "data": {
      "text/plain": [
       "(array([1.2000e+01, 1.1000e+02, 1.3650e+03, 2.4253e+04, 9.0470e+04,\n",
       "        9.5579e+04, 2.9926e+04, 4.1610e+03, 4.5000e+02, 2.9000e+01]),\n",
       " array([-3.78243298, -3.03753544, -2.29263791, -1.54774037, -0.80284283,\n",
       "        -0.0579453 ,  0.68695224,  1.43184977,  2.17674731,  2.92164484,\n",
       "         3.66654238]),\n",
       " <a list of 10 Patch objects>)"
      ]
     },
     "execution_count": 298,
     "metadata": {},
     "output_type": "execute_result"
    },
    {
     "data": {
      "image/png": "[encoded data removed]",
      "text/plain": [
       "<Figure size 432x288 with 1 Axes>"
      ]
     },
     "metadata": {},
     "output_type": "display_data"
    }
   ],
   "source": [
    "plt.hist(regressao.resid, edgecolor=\"black\")"
   ]
  },
  {
   "cell_type": "code",
   "execution_count": 276,
   "metadata": {},
   "outputs": [
    {
     "data": {
      "text/plain": [
       "<matplotlib.collections.PathCollection at 0x28217fc1488>"
      ]
     },
     "execution_count": 276,
     "metadata": {},
     "output_type": "execute_result"
    },
    {
     "data": {
      "image/png": "[encoded data removed]",
      "text/plain": [
       "<Figure size 432x288 with 1 Axes>"
      ]
     },
     "metadata": {},
     "output_type": "display_data"
    }
   ],
   "source": [
    "yhat = regressao.predict()\n",
    "plt.scatter(yhat, regressao.resid, alpha=.2)"
   ]
  },
  {
   "cell_type": "code",
   "execution_count": 277,
   "metadata": {},
   "outputs": [
    {
     "data": {
      "text/plain": [
       "(5, 12)"
      ]
     },
     "execution_count": 277,
     "metadata": {},
     "output_type": "execute_result"
    },
    {
     "data": {
      "image/png": "[encoded data removed]",
      "text/plain": [
       "<Figure size 432x288 with 1 Axes>"
      ]
     },
     "metadata": {},
     "output_type": "display_data"
    }
   ],
   "source": [
    "plt.scatter(y, yhat, alpha=.2)\n",
    "plt.xlim((5, 12))\n",
    "plt.ylim((5, 12))"
   ]
  }
 ],
 "metadata": {
  "kernelspec": {
   "display_name": "Python3",
   "language": "python",
   "name": "python3"
  },
  "language_info": {
   "codemirror_mode": {
    "name": "ipython",
    "version": 3
   },
   "file_extension": ".py",
   "mimetype": "text/x-python",
   "name": "python",
   "nbconvert_exporter": "python",
   "pygments_lexer": "ipython3",
   "version": "3.7.5"
  }
 },
 "nbformat": 4,
 "nbformat_minor": 4
}
