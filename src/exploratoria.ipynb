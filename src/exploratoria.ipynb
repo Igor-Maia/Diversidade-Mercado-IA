{
 "cells": [
  {
   "cell_type": "markdown",
   "metadata": {},
   "source": [
    "# Panorama da desigualdade de gênero no mercado de Inteligência Artificial no Brasil\n",
    "\n",
    "## Prof. Dr. Neylson Crepalde"
   ]
  },
  {
   "cell_type": "code",
   "execution_count": 1,
   "metadata": {},
   "outputs": [],
   "source": [
    "import pandas as pd\n",
    "import numpy as np\n",
    "import dask.dataframe as dd\n",
    "from scipy import stats\n",
    "import statsmodels.api as sm\n",
    "import statsmodels.formula.api as smf\n",
    "from statsmodels.tools.tools import add_constant\n",
    "from statsmodels.graphics.factorplots import interaction_plot\n",
    "from statsmodels.stats.outliers_influence import variance_inflation_factor as vif\n",
    "import matplotlib.pyplot as plt\n",
    "import seaborn as sns"
   ]
  },
  {
   "cell_type": "code",
   "execution_count": 63,
   "metadata": {},
   "outputs": [
    {
     "name": "stderr",
     "output_type": "stream",
     "text": [
      "C:\\Users\\Neylson\\Anaconda3\\lib\\site-packages\\IPython\\core\\interactiveshell.py:3051: DtypeWarning: Columns (6,14) have mixed types. Specify dtype option on import or set low_memory=False.\n",
      "  interactivity=interactivity, compiler=compiler, result=result)\n"
     ]
    },
    {
     "data": {
      "text/html": [
       "<div>\n",
       "<style scoped>\n",
       "    .dataframe tbody tr th:only-of-type {\n",
       "        vertical-align: middle;\n",
       "    }\n",
       "\n",
       "    .dataframe tbody tr th {\n",
       "        vertical-align: top;\n",
       "    }\n",
       "\n",
       "    .dataframe thead th {\n",
       "        text-align: right;\n",
       "    }\n",
       "</style>\n",
       "<table border=\"1\" class=\"dataframe\">\n",
       "  <thead>\n",
       "    <tr style=\"text-align: right;\">\n",
       "      <th></th>\n",
       "      <th>Ano</th>\n",
       "      <th>CNAE 2.0 Classe</th>\n",
       "      <th>Escolaridade após 2005</th>\n",
       "      <th>Qtd Hora Contr</th>\n",
       "      <th>Idade</th>\n",
       "      <th>Ind Simples</th>\n",
       "      <th>Mun Trab</th>\n",
       "      <th>Município</th>\n",
       "      <th>Nacionalidade</th>\n",
       "      <th>Brasileiro</th>\n",
       "      <th>...</th>\n",
       "      <th>Vl Remun Média Nom</th>\n",
       "      <th>Vl Remun Média (SM)</th>\n",
       "      <th>CNAE 2.0 Subclasse</th>\n",
       "      <th>Sexo Trabalhador</th>\n",
       "      <th>Tamanho Estabelecimento</th>\n",
       "      <th>Tempo Emprego</th>\n",
       "      <th>Tipo Admissão</th>\n",
       "      <th>Tipo Defic</th>\n",
       "      <th>Tipo Salário</th>\n",
       "      <th>Tipo Vínculo</th>\n",
       "    </tr>\n",
       "  </thead>\n",
       "  <tbody>\n",
       "    <tr>\n",
       "      <th>0</th>\n",
       "      <td>2008</td>\n",
       "      <td>62015.0</td>\n",
       "      <td>1.0</td>\n",
       "      <td>44.0</td>\n",
       "      <td>21.0</td>\n",
       "      <td>0.0</td>\n",
       "      <td>0000-1</td>\n",
       "      <td>320530.0</td>\n",
       "      <td>10.0</td>\n",
       "      <td>1</td>\n",
       "      <td>...</td>\n",
       "      <td>1232.62</td>\n",
       "      <td>2.96</td>\n",
       "      <td>6201500.0</td>\n",
       "      <td>Masculino</td>\n",
       "      <td>4.0</td>\n",
       "      <td>4.7</td>\n",
       "      <td>2.0</td>\n",
       "      <td>0.0</td>\n",
       "      <td>NaN</td>\n",
       "      <td>10.0</td>\n",
       "    </tr>\n",
       "    <tr>\n",
       "      <th>1</th>\n",
       "      <td>2008</td>\n",
       "      <td>62015.0</td>\n",
       "      <td>1.0</td>\n",
       "      <td>44.0</td>\n",
       "      <td>23.0</td>\n",
       "      <td>0.0</td>\n",
       "      <td>0000-1</td>\n",
       "      <td>320530.0</td>\n",
       "      <td>10.0</td>\n",
       "      <td>1</td>\n",
       "      <td>...</td>\n",
       "      <td>1173.30</td>\n",
       "      <td>2.82</td>\n",
       "      <td>6201500.0</td>\n",
       "      <td>Masculino</td>\n",
       "      <td>4.0</td>\n",
       "      <td>2.3</td>\n",
       "      <td>1.0</td>\n",
       "      <td>0.0</td>\n",
       "      <td>NaN</td>\n",
       "      <td>10.0</td>\n",
       "    </tr>\n",
       "    <tr>\n",
       "      <th>2</th>\n",
       "      <td>2008</td>\n",
       "      <td>62031.0</td>\n",
       "      <td>2.0</td>\n",
       "      <td>44.0</td>\n",
       "      <td>34.0</td>\n",
       "      <td>0.0</td>\n",
       "      <td>0000-1</td>\n",
       "      <td>320530.0</td>\n",
       "      <td>10.0</td>\n",
       "      <td>1</td>\n",
       "      <td>...</td>\n",
       "      <td>1800.00</td>\n",
       "      <td>4.44</td>\n",
       "      <td>6203100.0</td>\n",
       "      <td>Masculino</td>\n",
       "      <td>5.0</td>\n",
       "      <td>77.9</td>\n",
       "      <td>0.0</td>\n",
       "      <td>0.0</td>\n",
       "      <td>NaN</td>\n",
       "      <td>10.0</td>\n",
       "    </tr>\n",
       "    <tr>\n",
       "      <th>3</th>\n",
       "      <td>2008</td>\n",
       "      <td>62040.0</td>\n",
       "      <td>3.0</td>\n",
       "      <td>44.0</td>\n",
       "      <td>50.0</td>\n",
       "      <td>0.0</td>\n",
       "      <td>320060</td>\n",
       "      <td>320060.0</td>\n",
       "      <td>10.0</td>\n",
       "      <td>1</td>\n",
       "      <td>...</td>\n",
       "      <td>7266.49</td>\n",
       "      <td>19.11</td>\n",
       "      <td>6204000.0</td>\n",
       "      <td>Masculino</td>\n",
       "      <td>5.0</td>\n",
       "      <td>0.3</td>\n",
       "      <td>2.0</td>\n",
       "      <td>0.0</td>\n",
       "      <td>NaN</td>\n",
       "      <td>10.0</td>\n",
       "    </tr>\n",
       "    <tr>\n",
       "      <th>4</th>\n",
       "      <td>2008</td>\n",
       "      <td>62040.0</td>\n",
       "      <td>4.0</td>\n",
       "      <td>44.0</td>\n",
       "      <td>49.0</td>\n",
       "      <td>0.0</td>\n",
       "      <td>320060</td>\n",
       "      <td>320060.0</td>\n",
       "      <td>10.0</td>\n",
       "      <td>1</td>\n",
       "      <td>...</td>\n",
       "      <td>1019.76</td>\n",
       "      <td>2.45</td>\n",
       "      <td>6204000.0</td>\n",
       "      <td>Masculino</td>\n",
       "      <td>5.0</td>\n",
       "      <td>0.1</td>\n",
       "      <td>2.0</td>\n",
       "      <td>0.0</td>\n",
       "      <td>NaN</td>\n",
       "      <td>10.0</td>\n",
       "    </tr>\n",
       "    <tr>\n",
       "      <th>...</th>\n",
       "      <td>...</td>\n",
       "      <td>...</td>\n",
       "      <td>...</td>\n",
       "      <td>...</td>\n",
       "      <td>...</td>\n",
       "      <td>...</td>\n",
       "      <td>...</td>\n",
       "      <td>...</td>\n",
       "      <td>...</td>\n",
       "      <td>...</td>\n",
       "      <td>...</td>\n",
       "      <td>...</td>\n",
       "      <td>...</td>\n",
       "      <td>...</td>\n",
       "      <td>...</td>\n",
       "      <td>...</td>\n",
       "      <td>...</td>\n",
       "      <td>...</td>\n",
       "      <td>...</td>\n",
       "      <td>...</td>\n",
       "      <td>...</td>\n",
       "    </tr>\n",
       "    <tr>\n",
       "      <th>2306533</th>\n",
       "      <td>2017</td>\n",
       "      <td>62015.0</td>\n",
       "      <td>10.0</td>\n",
       "      <td>40.0</td>\n",
       "      <td>54.0</td>\n",
       "      <td>0.0</td>\n",
       "      <td>355030</td>\n",
       "      <td>355030.0</td>\n",
       "      <td>10.0</td>\n",
       "      <td>1</td>\n",
       "      <td>...</td>\n",
       "      <td>9860.01</td>\n",
       "      <td>10.52</td>\n",
       "      <td>6201501.0</td>\n",
       "      <td>Feminino</td>\n",
       "      <td>10.0</td>\n",
       "      <td>8.9</td>\n",
       "      <td>2.0</td>\n",
       "      <td>0.0</td>\n",
       "      <td>NaN</td>\n",
       "      <td>10.0</td>\n",
       "    </tr>\n",
       "    <tr>\n",
       "      <th>2306534</th>\n",
       "      <td>2017</td>\n",
       "      <td>62040.0</td>\n",
       "      <td>10.0</td>\n",
       "      <td>40.0</td>\n",
       "      <td>41.0</td>\n",
       "      <td>0.0</td>\n",
       "      <td>0</td>\n",
       "      <td>355030.0</td>\n",
       "      <td>10.0</td>\n",
       "      <td>1</td>\n",
       "      <td>...</td>\n",
       "      <td>2799.10</td>\n",
       "      <td>2.98</td>\n",
       "      <td>6204000.0</td>\n",
       "      <td>Feminino</td>\n",
       "      <td>4.0</td>\n",
       "      <td>5.9</td>\n",
       "      <td>2.0</td>\n",
       "      <td>0.0</td>\n",
       "      <td>NaN</td>\n",
       "      <td>10.0</td>\n",
       "    </tr>\n",
       "    <tr>\n",
       "      <th>2306535</th>\n",
       "      <td>2017</td>\n",
       "      <td>62015.0</td>\n",
       "      <td>10.0</td>\n",
       "      <td>40.0</td>\n",
       "      <td>35.0</td>\n",
       "      <td>0.0</td>\n",
       "      <td>355030</td>\n",
       "      <td>355030.0</td>\n",
       "      <td>10.0</td>\n",
       "      <td>1</td>\n",
       "      <td>...</td>\n",
       "      <td>6306.81</td>\n",
       "      <td>6.72</td>\n",
       "      <td>6201501.0</td>\n",
       "      <td>Feminino</td>\n",
       "      <td>10.0</td>\n",
       "      <td>23.6</td>\n",
       "      <td>0.0</td>\n",
       "      <td>0.0</td>\n",
       "      <td>NaN</td>\n",
       "      <td>10.0</td>\n",
       "    </tr>\n",
       "    <tr>\n",
       "      <th>2306536</th>\n",
       "      <td>2017</td>\n",
       "      <td>62015.0</td>\n",
       "      <td>10.0</td>\n",
       "      <td>40.0</td>\n",
       "      <td>32.0</td>\n",
       "      <td>0.0</td>\n",
       "      <td>0</td>\n",
       "      <td>350570.0</td>\n",
       "      <td>27.0</td>\n",
       "      <td>0</td>\n",
       "      <td>...</td>\n",
       "      <td>1142.85</td>\n",
       "      <td>1.21</td>\n",
       "      <td>6201501.0</td>\n",
       "      <td>Feminino</td>\n",
       "      <td>7.0</td>\n",
       "      <td>6.3</td>\n",
       "      <td>1.0</td>\n",
       "      <td>0.0</td>\n",
       "      <td>NaN</td>\n",
       "      <td>10.0</td>\n",
       "    </tr>\n",
       "    <tr>\n",
       "      <th>2306537</th>\n",
       "      <td>2017</td>\n",
       "      <td>62015.0</td>\n",
       "      <td>10.0</td>\n",
       "      <td>40.0</td>\n",
       "      <td>49.0</td>\n",
       "      <td>0.0</td>\n",
       "      <td>355030</td>\n",
       "      <td>355030.0</td>\n",
       "      <td>10.0</td>\n",
       "      <td>1</td>\n",
       "      <td>...</td>\n",
       "      <td>5632.08</td>\n",
       "      <td>6.00</td>\n",
       "      <td>6201501.0</td>\n",
       "      <td>Feminino</td>\n",
       "      <td>10.0</td>\n",
       "      <td>9.7</td>\n",
       "      <td>2.0</td>\n",
       "      <td>0.0</td>\n",
       "      <td>NaN</td>\n",
       "      <td>10.0</td>\n",
       "    </tr>\n",
       "  </tbody>\n",
       "</table>\n",
       "<p>2306538 rows × 27 columns</p>\n",
       "</div>"
      ],
      "text/plain": [
       "          Ano  CNAE 2.0 Classe  Escolaridade após 2005  Qtd Hora Contr  Idade  \\\n",
       "0        2008          62015.0                     1.0            44.0   21.0   \n",
       "1        2008          62015.0                     1.0            44.0   23.0   \n",
       "2        2008          62031.0                     2.0            44.0   34.0   \n",
       "3        2008          62040.0                     3.0            44.0   50.0   \n",
       "4        2008          62040.0                     4.0            44.0   49.0   \n",
       "...       ...              ...                     ...             ...    ...   \n",
       "2306533  2017          62015.0                    10.0            40.0   54.0   \n",
       "2306534  2017          62040.0                    10.0            40.0   41.0   \n",
       "2306535  2017          62015.0                    10.0            40.0   35.0   \n",
       "2306536  2017          62015.0                    10.0            40.0   32.0   \n",
       "2306537  2017          62015.0                    10.0            40.0   49.0   \n",
       "\n",
       "         Ind Simples Mun Trab  Município  Nacionalidade  Brasileiro  ...  \\\n",
       "0                0.0   0000-1   320530.0           10.0           1  ...   \n",
       "1                0.0   0000-1   320530.0           10.0           1  ...   \n",
       "2                0.0   0000-1   320530.0           10.0           1  ...   \n",
       "3                0.0   320060   320060.0           10.0           1  ...   \n",
       "4                0.0   320060   320060.0           10.0           1  ...   \n",
       "...              ...      ...        ...            ...         ...  ...   \n",
       "2306533          0.0   355030   355030.0           10.0           1  ...   \n",
       "2306534          0.0        0   355030.0           10.0           1  ...   \n",
       "2306535          0.0   355030   355030.0           10.0           1  ...   \n",
       "2306536          0.0        0   350570.0           27.0           0  ...   \n",
       "2306537          0.0   355030   355030.0           10.0           1  ...   \n",
       "\n",
       "         Vl Remun Média Nom  Vl Remun Média (SM)  CNAE 2.0 Subclasse  \\\n",
       "0                   1232.62                 2.96           6201500.0   \n",
       "1                   1173.30                 2.82           6201500.0   \n",
       "2                   1800.00                 4.44           6203100.0   \n",
       "3                   7266.49                19.11           6204000.0   \n",
       "4                   1019.76                 2.45           6204000.0   \n",
       "...                     ...                  ...                 ...   \n",
       "2306533             9860.01                10.52           6201501.0   \n",
       "2306534             2799.10                 2.98           6204000.0   \n",
       "2306535             6306.81                 6.72           6201501.0   \n",
       "2306536             1142.85                 1.21           6201501.0   \n",
       "2306537             5632.08                 6.00           6201501.0   \n",
       "\n",
       "        Sexo Trabalhador Tamanho Estabelecimento  Tempo Emprego  \\\n",
       "0              Masculino                     4.0            4.7   \n",
       "1              Masculino                     4.0            2.3   \n",
       "2              Masculino                     5.0           77.9   \n",
       "3              Masculino                     5.0            0.3   \n",
       "4              Masculino                     5.0            0.1   \n",
       "...                  ...                     ...            ...   \n",
       "2306533         Feminino                    10.0            8.9   \n",
       "2306534         Feminino                     4.0            5.9   \n",
       "2306535         Feminino                    10.0           23.6   \n",
       "2306536         Feminino                     7.0            6.3   \n",
       "2306537         Feminino                    10.0            9.7   \n",
       "\n",
       "         Tipo Admissão  Tipo Defic  Tipo Salário  Tipo Vínculo  \n",
       "0                  2.0         0.0           NaN          10.0  \n",
       "1                  1.0         0.0           NaN          10.0  \n",
       "2                  0.0         0.0           NaN          10.0  \n",
       "3                  2.0         0.0           NaN          10.0  \n",
       "4                  2.0         0.0           NaN          10.0  \n",
       "...                ...         ...           ...           ...  \n",
       "2306533            2.0         0.0           NaN          10.0  \n",
       "2306534            2.0         0.0           NaN          10.0  \n",
       "2306535            0.0         0.0           NaN          10.0  \n",
       "2306536            1.0         0.0           NaN          10.0  \n",
       "2306537            2.0         0.0           NaN          10.0  \n",
       "\n",
       "[2306538 rows x 27 columns]"
      ]
     },
     "execution_count": 63,
     "metadata": {},
     "output_type": "execute_result"
    }
   ],
   "source": [
    "sud = pd.read_csv(\"../data/processed/rais_2008_2018.csv\", sep='\\t')\n",
    "sud"
   ]
  },
  {
   "cell_type": "code",
   "execution_count": 64,
   "metadata": {},
   "outputs": [
    {
     "name": "stdout",
     "output_type": "stream",
     "text": [
      "(2306538, 27)\n"
     ]
    },
    {
     "data": {
      "text/html": [
       "<div>\n",
       "<style scoped>\n",
       "    .dataframe tbody tr th:only-of-type {\n",
       "        vertical-align: middle;\n",
       "    }\n",
       "\n",
       "    .dataframe tbody tr th {\n",
       "        vertical-align: top;\n",
       "    }\n",
       "\n",
       "    .dataframe thead th {\n",
       "        text-align: right;\n",
       "    }\n",
       "</style>\n",
       "<table border=\"1\" class=\"dataframe\">\n",
       "  <thead>\n",
       "    <tr style=\"text-align: right;\">\n",
       "      <th></th>\n",
       "      <th>count</th>\n",
       "      <th>unique</th>\n",
       "      <th>top</th>\n",
       "      <th>freq</th>\n",
       "      <th>mean</th>\n",
       "      <th>std</th>\n",
       "      <th>min</th>\n",
       "      <th>25%</th>\n",
       "      <th>50%</th>\n",
       "      <th>75%</th>\n",
       "      <th>max</th>\n",
       "    </tr>\n",
       "  </thead>\n",
       "  <tbody>\n",
       "    <tr>\n",
       "      <th>Ano</th>\n",
       "      <td>2.30654e+06</td>\n",
       "      <td>NaN</td>\n",
       "      <td>NaN</td>\n",
       "      <td>NaN</td>\n",
       "      <td>2013.46</td>\n",
       "      <td>3.02507</td>\n",
       "      <td>2008</td>\n",
       "      <td>2011</td>\n",
       "      <td>2014</td>\n",
       "      <td>2016</td>\n",
       "      <td>2018</td>\n",
       "    </tr>\n",
       "    <tr>\n",
       "      <th>CNAE 2.0 Classe</th>\n",
       "      <td>2.30654e+06</td>\n",
       "      <td>NaN</td>\n",
       "      <td>NaN</td>\n",
       "      <td>NaN</td>\n",
       "      <td>62027.3</td>\n",
       "      <td>10.9053</td>\n",
       "      <td>62015</td>\n",
       "      <td>62015</td>\n",
       "      <td>62031</td>\n",
       "      <td>62040</td>\n",
       "      <td>62040</td>\n",
       "    </tr>\n",
       "    <tr>\n",
       "      <th>Escolaridade após 2005</th>\n",
       "      <td>2.30654e+06</td>\n",
       "      <td>NaN</td>\n",
       "      <td>NaN</td>\n",
       "      <td>NaN</td>\n",
       "      <td>7.29578</td>\n",
       "      <td>1.06575</td>\n",
       "      <td>0</td>\n",
       "      <td>6</td>\n",
       "      <td>8</td>\n",
       "      <td>8</td>\n",
       "      <td>10</td>\n",
       "    </tr>\n",
       "    <tr>\n",
       "      <th>Qtd Hora Contr</th>\n",
       "      <td>2.30654e+06</td>\n",
       "      <td>NaN</td>\n",
       "      <td>NaN</td>\n",
       "      <td>NaN</td>\n",
       "      <td>40.5478</td>\n",
       "      <td>5.03444</td>\n",
       "      <td>1</td>\n",
       "      <td>40</td>\n",
       "      <td>40</td>\n",
       "      <td>44</td>\n",
       "      <td>44</td>\n",
       "    </tr>\n",
       "    <tr>\n",
       "      <th>Idade</th>\n",
       "      <td>2.30654e+06</td>\n",
       "      <td>NaN</td>\n",
       "      <td>NaN</td>\n",
       "      <td>NaN</td>\n",
       "      <td>32.584</td>\n",
       "      <td>9.53904</td>\n",
       "      <td>18</td>\n",
       "      <td>26</td>\n",
       "      <td>30</td>\n",
       "      <td>37</td>\n",
       "      <td>80</td>\n",
       "    </tr>\n",
       "    <tr>\n",
       "      <th>Ind Simples</th>\n",
       "      <td>2.30654e+06</td>\n",
       "      <td>NaN</td>\n",
       "      <td>NaN</td>\n",
       "      <td>NaN</td>\n",
       "      <td>0.063281</td>\n",
       "      <td>0.243468</td>\n",
       "      <td>0</td>\n",
       "      <td>0</td>\n",
       "      <td>0</td>\n",
       "      <td>0</td>\n",
       "      <td>1</td>\n",
       "    </tr>\n",
       "    <tr>\n",
       "      <th>Mun Trab</th>\n",
       "      <td>2.30654e+06</td>\n",
       "      <td>1235</td>\n",
       "      <td>355030</td>\n",
       "      <td>587693</td>\n",
       "      <td>NaN</td>\n",
       "      <td>NaN</td>\n",
       "      <td>NaN</td>\n",
       "      <td>NaN</td>\n",
       "      <td>NaN</td>\n",
       "      <td>NaN</td>\n",
       "      <td>NaN</td>\n",
       "    </tr>\n",
       "    <tr>\n",
       "      <th>Município</th>\n",
       "      <td>2.30654e+06</td>\n",
       "      <td>NaN</td>\n",
       "      <td>NaN</td>\n",
       "      <td>NaN</td>\n",
       "      <td>344058</td>\n",
       "      <td>15727.5</td>\n",
       "      <td>310010</td>\n",
       "      <td>330455</td>\n",
       "      <td>354340</td>\n",
       "      <td>355030</td>\n",
       "      <td>355730</td>\n",
       "    </tr>\n",
       "    <tr>\n",
       "      <th>Nacionalidade</th>\n",
       "      <td>2.30654e+06</td>\n",
       "      <td>NaN</td>\n",
       "      <td>NaN</td>\n",
       "      <td>NaN</td>\n",
       "      <td>10.1947</td>\n",
       "      <td>2.60638</td>\n",
       "      <td>10</td>\n",
       "      <td>10</td>\n",
       "      <td>10</td>\n",
       "      <td>10</td>\n",
       "      <td>80</td>\n",
       "    </tr>\n",
       "    <tr>\n",
       "      <th>Brasileiro</th>\n",
       "      <td>2.30654e+06</td>\n",
       "      <td>NaN</td>\n",
       "      <td>NaN</td>\n",
       "      <td>NaN</td>\n",
       "      <td>0.992859</td>\n",
       "      <td>0.0841997</td>\n",
       "      <td>0</td>\n",
       "      <td>1</td>\n",
       "      <td>1</td>\n",
       "      <td>1</td>\n",
       "      <td>1</td>\n",
       "    </tr>\n",
       "    <tr>\n",
       "      <th>Natureza Jurídica</th>\n",
       "      <td>2.30654e+06</td>\n",
       "      <td>NaN</td>\n",
       "      <td>NaN</td>\n",
       "      <td>NaN</td>\n",
       "      <td>2074.49</td>\n",
       "      <td>92.868</td>\n",
       "      <td>1015</td>\n",
       "      <td>2054</td>\n",
       "      <td>2062</td>\n",
       "      <td>2062</td>\n",
       "      <td>4120</td>\n",
       "    </tr>\n",
       "    <tr>\n",
       "      <th>Ind Portador Defic</th>\n",
       "      <td>2.30654e+06</td>\n",
       "      <td>NaN</td>\n",
       "      <td>NaN</td>\n",
       "      <td>NaN</td>\n",
       "      <td>0.00770896</td>\n",
       "      <td>0.0874616</td>\n",
       "      <td>0</td>\n",
       "      <td>0</td>\n",
       "      <td>0</td>\n",
       "      <td>0</td>\n",
       "      <td>1</td>\n",
       "    </tr>\n",
       "    <tr>\n",
       "      <th>Qtd Dias Afastamento</th>\n",
       "      <td>2.30654e+06</td>\n",
       "      <td>NaN</td>\n",
       "      <td>NaN</td>\n",
       "      <td>NaN</td>\n",
       "      <td>2.45484</td>\n",
       "      <td>18.87</td>\n",
       "      <td>0</td>\n",
       "      <td>0</td>\n",
       "      <td>0</td>\n",
       "      <td>0</td>\n",
       "      <td>366</td>\n",
       "    </tr>\n",
       "    <tr>\n",
       "      <th>Raça Cor</th>\n",
       "      <td>2306446</td>\n",
       "      <td>6</td>\n",
       "      <td>Branca</td>\n",
       "      <td>1583407</td>\n",
       "      <td>NaN</td>\n",
       "      <td>NaN</td>\n",
       "      <td>NaN</td>\n",
       "      <td>NaN</td>\n",
       "      <td>NaN</td>\n",
       "      <td>NaN</td>\n",
       "      <td>NaN</td>\n",
       "    </tr>\n",
       "    <tr>\n",
       "      <th>Regiões Adm DF</th>\n",
       "      <td>2.30654e+06</td>\n",
       "      <td>3</td>\n",
       "      <td>0</td>\n",
       "      <td>1.94609e+06</td>\n",
       "      <td>NaN</td>\n",
       "      <td>NaN</td>\n",
       "      <td>NaN</td>\n",
       "      <td>NaN</td>\n",
       "      <td>NaN</td>\n",
       "      <td>NaN</td>\n",
       "      <td>NaN</td>\n",
       "    </tr>\n",
       "    <tr>\n",
       "      <th>Vl Remun Dezembro Nom</th>\n",
       "      <td>2.30654e+06</td>\n",
       "      <td>NaN</td>\n",
       "      <td>NaN</td>\n",
       "      <td>NaN</td>\n",
       "      <td>3345.09</td>\n",
       "      <td>5356.41</td>\n",
       "      <td>0</td>\n",
       "      <td>0</td>\n",
       "      <td>1641.01</td>\n",
       "      <td>4325.66</td>\n",
       "      <td>141601</td>\n",
       "    </tr>\n",
       "    <tr>\n",
       "      <th>Vl Remun Dezembro (SM)</th>\n",
       "      <td>2.30654e+06</td>\n",
       "      <td>NaN</td>\n",
       "      <td>NaN</td>\n",
       "      <td>NaN</td>\n",
       "      <td>4.69926</td>\n",
       "      <td>7.33713</td>\n",
       "      <td>0</td>\n",
       "      <td>0</td>\n",
       "      <td>2.38</td>\n",
       "      <td>6.12</td>\n",
       "      <td>149.79</td>\n",
       "    </tr>\n",
       "    <tr>\n",
       "      <th>Vl Remun Média Nom</th>\n",
       "      <td>2.30654e+06</td>\n",
       "      <td>NaN</td>\n",
       "      <td>NaN</td>\n",
       "      <td>NaN</td>\n",
       "      <td>4272.8</td>\n",
       "      <td>5183.47</td>\n",
       "      <td>117.88</td>\n",
       "      <td>1354.06</td>\n",
       "      <td>2503.87</td>\n",
       "      <td>5316.23</td>\n",
       "      <td>133506</td>\n",
       "    </tr>\n",
       "    <tr>\n",
       "      <th>Vl Remun Média (SM)</th>\n",
       "      <td>2.30654e+06</td>\n",
       "      <td>NaN</td>\n",
       "      <td>NaN</td>\n",
       "      <td>NaN</td>\n",
       "      <td>6.03632</td>\n",
       "      <td>7.12183</td>\n",
       "      <td>0.3</td>\n",
       "      <td>1.96</td>\n",
       "      <td>3.61</td>\n",
       "      <td>7.51</td>\n",
       "      <td>149.56</td>\n",
       "    </tr>\n",
       "    <tr>\n",
       "      <th>CNAE 2.0 Subclasse</th>\n",
       "      <td>2.30654e+06</td>\n",
       "      <td>NaN</td>\n",
       "      <td>NaN</td>\n",
       "      <td>NaN</td>\n",
       "      <td>6.20273e+06</td>\n",
       "      <td>1090.36</td>\n",
       "      <td>6.2015e+06</td>\n",
       "      <td>6.2015e+06</td>\n",
       "      <td>6.2031e+06</td>\n",
       "      <td>6.204e+06</td>\n",
       "      <td>6.204e+06</td>\n",
       "    </tr>\n",
       "    <tr>\n",
       "      <th>Sexo Trabalhador</th>\n",
       "      <td>2306538</td>\n",
       "      <td>2</td>\n",
       "      <td>Masculino</td>\n",
       "      <td>1499793</td>\n",
       "      <td>NaN</td>\n",
       "      <td>NaN</td>\n",
       "      <td>NaN</td>\n",
       "      <td>NaN</td>\n",
       "      <td>NaN</td>\n",
       "      <td>NaN</td>\n",
       "      <td>NaN</td>\n",
       "    </tr>\n",
       "    <tr>\n",
       "      <th>Tamanho Estabelecimento</th>\n",
       "      <td>2.30654e+06</td>\n",
       "      <td>NaN</td>\n",
       "      <td>NaN</td>\n",
       "      <td>NaN</td>\n",
       "      <td>6.88176</td>\n",
       "      <td>2.44406</td>\n",
       "      <td>1</td>\n",
       "      <td>5</td>\n",
       "      <td>7</td>\n",
       "      <td>9</td>\n",
       "      <td>10</td>\n",
       "    </tr>\n",
       "    <tr>\n",
       "      <th>Tempo Emprego</th>\n",
       "      <td>2.30654e+06</td>\n",
       "      <td>NaN</td>\n",
       "      <td>NaN</td>\n",
       "      <td>NaN</td>\n",
       "      <td>31.2701</td>\n",
       "      <td>54.2468</td>\n",
       "      <td>0</td>\n",
       "      <td>5.9</td>\n",
       "      <td>15.2</td>\n",
       "      <td>34.8</td>\n",
       "      <td>597.7</td>\n",
       "    </tr>\n",
       "    <tr>\n",
       "      <th>Tipo Admissão</th>\n",
       "      <td>2.30654e+06</td>\n",
       "      <td>NaN</td>\n",
       "      <td>NaN</td>\n",
       "      <td>NaN</td>\n",
       "      <td>0.814918</td>\n",
       "      <td>1.15275</td>\n",
       "      <td>0</td>\n",
       "      <td>0</td>\n",
       "      <td>0</td>\n",
       "      <td>2</td>\n",
       "      <td>9</td>\n",
       "    </tr>\n",
       "    <tr>\n",
       "      <th>Tipo Defic</th>\n",
       "      <td>2.30654e+06</td>\n",
       "      <td>NaN</td>\n",
       "      <td>NaN</td>\n",
       "      <td>NaN</td>\n",
       "      <td>0.0154248</td>\n",
       "      <td>0.209627</td>\n",
       "      <td>0</td>\n",
       "      <td>0</td>\n",
       "      <td>0</td>\n",
       "      <td>0</td>\n",
       "      <td>6</td>\n",
       "    </tr>\n",
       "    <tr>\n",
       "      <th>Tipo Salário</th>\n",
       "      <td>246355</td>\n",
       "      <td>NaN</td>\n",
       "      <td>NaN</td>\n",
       "      <td>NaN</td>\n",
       "      <td>1</td>\n",
       "      <td>0</td>\n",
       "      <td>1</td>\n",
       "      <td>1</td>\n",
       "      <td>1</td>\n",
       "      <td>1</td>\n",
       "      <td>1</td>\n",
       "    </tr>\n",
       "    <tr>\n",
       "      <th>Tipo Vínculo</th>\n",
       "      <td>2.30654e+06</td>\n",
       "      <td>NaN</td>\n",
       "      <td>NaN</td>\n",
       "      <td>NaN</td>\n",
       "      <td>12.5498</td>\n",
       "      <td>13.3533</td>\n",
       "      <td>10</td>\n",
       "      <td>10</td>\n",
       "      <td>10</td>\n",
       "      <td>10</td>\n",
       "      <td>97</td>\n",
       "    </tr>\n",
       "  </tbody>\n",
       "</table>\n",
       "</div>"
      ],
      "text/plain": [
       "                               count unique        top         freq  \\\n",
       "Ano                      2.30654e+06    NaN        NaN          NaN   \n",
       "CNAE 2.0 Classe          2.30654e+06    NaN        NaN          NaN   \n",
       "Escolaridade após 2005   2.30654e+06    NaN        NaN          NaN   \n",
       "Qtd Hora Contr           2.30654e+06    NaN        NaN          NaN   \n",
       "Idade                    2.30654e+06    NaN        NaN          NaN   \n",
       "Ind Simples              2.30654e+06    NaN        NaN          NaN   \n",
       "Mun Trab                 2.30654e+06   1235     355030       587693   \n",
       "Município                2.30654e+06    NaN        NaN          NaN   \n",
       "Nacionalidade            2.30654e+06    NaN        NaN          NaN   \n",
       "Brasileiro               2.30654e+06    NaN        NaN          NaN   \n",
       "Natureza Jurídica        2.30654e+06    NaN        NaN          NaN   \n",
       "Ind Portador Defic       2.30654e+06    NaN        NaN          NaN   \n",
       "Qtd Dias Afastamento     2.30654e+06    NaN        NaN          NaN   \n",
       "Raça Cor                     2306446      6     Branca      1583407   \n",
       "Regiões Adm DF           2.30654e+06      3          0  1.94609e+06   \n",
       "Vl Remun Dezembro Nom    2.30654e+06    NaN        NaN          NaN   \n",
       "Vl Remun Dezembro (SM)   2.30654e+06    NaN        NaN          NaN   \n",
       "Vl Remun Média Nom       2.30654e+06    NaN        NaN          NaN   \n",
       "Vl Remun Média (SM)      2.30654e+06    NaN        NaN          NaN   \n",
       "CNAE 2.0 Subclasse       2.30654e+06    NaN        NaN          NaN   \n",
       "Sexo Trabalhador             2306538      2  Masculino      1499793   \n",
       "Tamanho Estabelecimento  2.30654e+06    NaN        NaN          NaN   \n",
       "Tempo Emprego            2.30654e+06    NaN        NaN          NaN   \n",
       "Tipo Admissão            2.30654e+06    NaN        NaN          NaN   \n",
       "Tipo Defic               2.30654e+06    NaN        NaN          NaN   \n",
       "Tipo Salário                  246355    NaN        NaN          NaN   \n",
       "Tipo Vínculo             2.30654e+06    NaN        NaN          NaN   \n",
       "\n",
       "                                mean        std         min         25%  \\\n",
       "Ano                          2013.46    3.02507        2008        2011   \n",
       "CNAE 2.0 Classe              62027.3    10.9053       62015       62015   \n",
       "Escolaridade após 2005       7.29578    1.06575           0           6   \n",
       "Qtd Hora Contr               40.5478    5.03444           1          40   \n",
       "Idade                         32.584    9.53904          18          26   \n",
       "Ind Simples                 0.063281   0.243468           0           0   \n",
       "Mun Trab                         NaN        NaN         NaN         NaN   \n",
       "Município                     344058    15727.5      310010      330455   \n",
       "Nacionalidade                10.1947    2.60638          10          10   \n",
       "Brasileiro                  0.992859  0.0841997           0           1   \n",
       "Natureza Jurídica            2074.49     92.868        1015        2054   \n",
       "Ind Portador Defic        0.00770896  0.0874616           0           0   \n",
       "Qtd Dias Afastamento         2.45484      18.87           0           0   \n",
       "Raça Cor                         NaN        NaN         NaN         NaN   \n",
       "Regiões Adm DF                   NaN        NaN         NaN         NaN   \n",
       "Vl Remun Dezembro Nom        3345.09    5356.41           0           0   \n",
       "Vl Remun Dezembro (SM)       4.69926    7.33713           0           0   \n",
       "Vl Remun Média Nom            4272.8    5183.47      117.88     1354.06   \n",
       "Vl Remun Média (SM)          6.03632    7.12183         0.3        1.96   \n",
       "CNAE 2.0 Subclasse       6.20273e+06    1090.36  6.2015e+06  6.2015e+06   \n",
       "Sexo Trabalhador                 NaN        NaN         NaN         NaN   \n",
       "Tamanho Estabelecimento      6.88176    2.44406           1           5   \n",
       "Tempo Emprego                31.2701    54.2468           0         5.9   \n",
       "Tipo Admissão               0.814918    1.15275           0           0   \n",
       "Tipo Defic                 0.0154248   0.209627           0           0   \n",
       "Tipo Salário                       1          0           1           1   \n",
       "Tipo Vínculo                 12.5498    13.3533          10          10   \n",
       "\n",
       "                                50%        75%        max  \n",
       "Ano                            2014       2016       2018  \n",
       "CNAE 2.0 Classe               62031      62040      62040  \n",
       "Escolaridade após 2005            8          8         10  \n",
       "Qtd Hora Contr                   40         44         44  \n",
       "Idade                            30         37         80  \n",
       "Ind Simples                       0          0          1  \n",
       "Mun Trab                        NaN        NaN        NaN  \n",
       "Município                    354340     355030     355730  \n",
       "Nacionalidade                    10         10         80  \n",
       "Brasileiro                        1          1          1  \n",
       "Natureza Jurídica              2062       2062       4120  \n",
       "Ind Portador Defic                0          0          1  \n",
       "Qtd Dias Afastamento              0          0        366  \n",
       "Raça Cor                        NaN        NaN        NaN  \n",
       "Regiões Adm DF                  NaN        NaN        NaN  \n",
       "Vl Remun Dezembro Nom       1641.01    4325.66     141601  \n",
       "Vl Remun Dezembro (SM)         2.38       6.12     149.79  \n",
       "Vl Remun Média Nom          2503.87    5316.23     133506  \n",
       "Vl Remun Média (SM)            3.61       7.51     149.56  \n",
       "CNAE 2.0 Subclasse       6.2031e+06  6.204e+06  6.204e+06  \n",
       "Sexo Trabalhador                NaN        NaN        NaN  \n",
       "Tamanho Estabelecimento           7          9         10  \n",
       "Tempo Emprego                  15.2       34.8      597.7  \n",
       "Tipo Admissão                     0          2          9  \n",
       "Tipo Defic                        0          0          6  \n",
       "Tipo Salário                      1          1          1  \n",
       "Tipo Vínculo                     10         10         97  "
      ]
     },
     "execution_count": 64,
     "metadata": {},
     "output_type": "execute_result"
    }
   ],
   "source": [
    "print(sud.shape)\n",
    "sud.describe(include=\"all\").transpose()"
   ]
  },
  {
   "cell_type": "code",
   "execution_count": 65,
   "metadata": {},
   "outputs": [
    {
     "name": "stdout",
     "output_type": "stream",
     "text": [
      "[ 1.  2.  3.  4.  5.  6.  7.  8.  9.  0. 10.]\n"
     ]
    },
    {
     "data": {
      "text/plain": [
       "8.0     1389010\n",
       "6.0      506168\n",
       "7.0      308677\n",
       "5.0       31581\n",
       "4.0       27126\n",
       "9.0       18274\n",
       "3.0       16086\n",
       "2.0        4306\n",
       "10.0       2813\n",
       "1.0        2295\n",
       "0.0         202\n",
       "Name: Escolaridade após 2005, dtype: int64"
      ]
     },
     "execution_count": 65,
     "metadata": {},
     "output_type": "execute_result"
    }
   ],
   "source": [
    "print(sud['Escolaridade após 2005'].unique())\n",
    "sud['Escolaridade após 2005'].value_counts()"
   ]
  },
  {
   "cell_type": "code",
   "execution_count": 66,
   "metadata": {},
   "outputs": [
    {
     "data": {
      "text/plain": [
       "Masculino    1499793\n",
       "Feminino      806745\n",
       "Name: Sexo Trabalhador, dtype: int64"
      ]
     },
     "execution_count": 66,
     "metadata": {},
     "output_type": "execute_result"
    }
   ],
   "source": [
    "sud['Sexo Trabalhador'].value_counts()"
   ]
  },
  {
   "cell_type": "code",
   "execution_count": 67,
   "metadata": {},
   "outputs": [
    {
     "data": {
      "text/plain": [
       "Branca              1583407\n",
       "Parda                467188\n",
       "Não identificada     131076\n",
       "Preta                 85997\n",
       "Amarela               32415\n",
       "Indígena               6363\n",
       "Name: Raça Cor, dtype: int64"
      ]
     },
     "execution_count": 67,
     "metadata": {},
     "output_type": "execute_result"
    }
   ],
   "source": [
    "sud['Raça Cor'].value_counts()"
   ]
  },
  {
   "cell_type": "code",
   "execution_count": 68,
   "metadata": {},
   "outputs": [
    {
     "data": {
      "text/plain": [
       "1    2290068\n",
       "0      16470\n",
       "Name: Brasileiro, dtype: int64"
      ]
     },
     "execution_count": 68,
     "metadata": {},
     "output_type": "execute_result"
    }
   ],
   "source": [
    "sud.Brasileiro.value_counts()"
   ]
  },
  {
   "cell_type": "markdown",
   "metadata": {},
   "source": [
    "Muito pouco estrangeiro trabalhando na área. Talvez não seja uma variável interessante para modelar."
   ]
  },
  {
   "cell_type": "code",
   "execution_count": 69,
   "metadata": {},
   "outputs": [
    {
     "data": {
      "text/html": [
       "<div>\n",
       "<style scoped>\n",
       "    .dataframe tbody tr th:only-of-type {\n",
       "        vertical-align: middle;\n",
       "    }\n",
       "\n",
       "    .dataframe tbody tr th {\n",
       "        vertical-align: top;\n",
       "    }\n",
       "\n",
       "    .dataframe thead th {\n",
       "        text-align: right;\n",
       "    }\n",
       "</style>\n",
       "<table border=\"1\" class=\"dataframe\">\n",
       "  <thead>\n",
       "    <tr style=\"text-align: right;\">\n",
       "      <th></th>\n",
       "      <th>Vl Remun Média Nom</th>\n",
       "    </tr>\n",
       "    <tr>\n",
       "      <th>Brasileiro</th>\n",
       "      <th></th>\n",
       "    </tr>\n",
       "  </thead>\n",
       "  <tbody>\n",
       "    <tr>\n",
       "      <th>0</th>\n",
       "      <td>6298.29</td>\n",
       "    </tr>\n",
       "    <tr>\n",
       "      <th>1</th>\n",
       "      <td>2500.00</td>\n",
       "    </tr>\n",
       "  </tbody>\n",
       "</table>\n",
       "</div>"
      ],
      "text/plain": [
       "            Vl Remun Média Nom\n",
       "Brasileiro                    \n",
       "0                      6298.29\n",
       "1                      2500.00"
      ]
     },
     "execution_count": 69,
     "metadata": {},
     "output_type": "execute_result"
    }
   ],
   "source": [
    "sud.groupby(\"Brasileiro\").agg({\"Vl Remun Média Nom\": \"median\"})"
   ]
  },
  {
   "cell_type": "markdown",
   "metadata": {},
   "source": [
    "Mas a diferença salarial é gritante! Investiguemos."
   ]
  },
  {
   "cell_type": "code",
   "execution_count": 70,
   "metadata": {},
   "outputs": [
    {
     "data": {
      "text/plain": [
       "0           4.7\n",
       "1           2.3\n",
       "2          77.9\n",
       "3           0.3\n",
       "4           0.1\n",
       "           ... \n",
       "2306533     8.9\n",
       "2306534     5.9\n",
       "2306535    23.6\n",
       "2306536     6.3\n",
       "2306537     9.7\n",
       "Name: Tempo Emprego, Length: 2306538, dtype: float64"
      ]
     },
     "execution_count": 70,
     "metadata": {},
     "output_type": "execute_result"
    }
   ],
   "source": [
    "sud['Tempo Emprego']"
   ]
  },
  {
   "cell_type": "code",
   "execution_count": 71,
   "metadata": {},
   "outputs": [
    {
     "data": {
      "text/plain": [
       "(2306538, 27)"
      ]
     },
     "execution_count": 71,
     "metadata": {},
     "output_type": "execute_result"
    }
   ],
   "source": [
    "sud.shape"
   ]
  },
  {
   "cell_type": "code",
   "execution_count": 72,
   "metadata": {},
   "outputs": [
    {
     "data": {
      "text/plain": [
       "Index(['Ano', 'CNAE 2.0 Classe', 'Escolaridade após 2005', 'Qtd Hora Contr',\n",
       "       'Idade', 'Ind Simples', 'Mun Trab', 'Município', 'Nacionalidade',\n",
       "       'Brasileiro', 'Natureza Jurídica', 'Ind Portador Defic',\n",
       "       'Qtd Dias Afastamento', 'Raça Cor', 'Regiões Adm DF',\n",
       "       'Vl Remun Dezembro Nom', 'Vl Remun Dezembro (SM)', 'Vl Remun Média Nom',\n",
       "       'Vl Remun Média (SM)', 'CNAE 2.0 Subclasse', 'Sexo Trabalhador',\n",
       "       'Tamanho Estabelecimento', 'Tempo Emprego', 'Tipo Admissão',\n",
       "       'Tipo Defic', 'Tipo Salário', 'Tipo Vínculo'],\n",
       "      dtype='object')"
      ]
     },
     "execution_count": 72,
     "metadata": {},
     "output_type": "execute_result"
    }
   ],
   "source": [
    "sud.columns"
   ]
  },
  {
   "cell_type": "markdown",
   "metadata": {},
   "source": [
    "#### Variáveis de interesse para trabalhar\n",
    "\n",
    "- Sexo Trabalhador\n",
    "- Idade\n",
    "- Qtd Hora Contrat\n",
    "- Escolaridade após 2005\n",
    "- Município\n",
    "- Nacionalidade\n",
    "- Raça Cor\n",
    "- Vl Remun Dezembro Nom\n",
    "- Vl Remun Média Nom\n",
    "- Tamanho Estabelecimento\n",
    "- Tempo Emprego (em meses)\n",
    "- Brasileiro\n",
    "\n",
    "Verificar as categorias das variáveis e implementar cosntrução de labels."
   ]
  },
  {
   "cell_type": "markdown",
   "metadata": {},
   "source": [
    "---\n",
    "\n",
    "# Análise Exploratória de Dados\n",
    "\n",
    "## Sexo\n",
    "\n",
    "Existem diferenças significativas nas principais variáveis elencadas por sexo?"
   ]
  },
  {
   "cell_type": "code",
   "execution_count": 121,
   "metadata": {},
   "outputs": [
    {
     "name": "stdout",
     "output_type": "stream",
     "text": [
      "Masculino    1499793\n",
      "Feminino      806745\n",
      "Name: Sexo Trabalhador, dtype: int64\n",
      "Masculino    65.02\n",
      "Feminino     34.98\n",
      "Name: Sexo Trabalhador, dtype: float64\n"
     ]
    },
    {
     "data": {
      "image/png": "[encoded data removed]",
      "text/plain": [
       "<Figure size 720x360 with 1 Axes>"
      ]
     },
     "metadata": {},
     "output_type": "display_data"
    }
   ],
   "source": [
    "print(sud['Sexo Trabalhador'].value_counts())\n",
    "print(((sud['Sexo Trabalhador'].value_counts() / sud.shape[0] )*100).round(2))\n",
    "\n",
    "# Gráfico\n",
    "sns.set(style=\"white\")\n",
    "\n",
    "plt.figure(figsize=(10,5))\n",
    "sns.countplot(sud.loc[sud.Ano == 2018,'Sexo Trabalhador'])\n",
    "plt.title(\"Distribuição de Sexo - 2018\")\n",
    "plt.ylabel(\"\")\n",
    "plt.xlabel(\"\")\n",
    "plt.xticks([0,1],[\"Masculino\", \"Feminino\"])\n",
    "plt.show()"
   ]
  },
  {
   "cell_type": "code",
   "execution_count": 77,
   "metadata": {},
   "outputs": [],
   "source": [
    "dist_sexom = []\n",
    "dist_sexof = []\n",
    "for ano in range(2008, 2019):\n",
    "    dist_sexom.append(sud.loc[(sud.Ano == ano), 'Sexo Trabalhador'].value_counts()[0])\n",
    "    dist_sexof.append(sud.loc[(sud.Ano == ano), 'Sexo Trabalhador'].value_counts()[1])"
   ]
  },
  {
   "cell_type": "code",
   "execution_count": 122,
   "metadata": {},
   "outputs": [
    {
     "data": {
      "image/png": "[encoded data removed]",
      "text/plain": [
       "<Figure size 720x360 with 1 Axes>"
      ]
     },
     "metadata": {},
     "output_type": "display_data"
    }
   ],
   "source": [
    "sns.set(style=\"whitegrid\")\n",
    "plt.figure(figsize=(10,5))\n",
    "plt.plot(np.array(list(range(2008, 2019))), dist_sexom, c='blue', label='Masculino')\n",
    "plt.plot(np.array(list(range(2008, 2019))), dist_sexof, c='red', label='Feminino')\n",
    "plt.title(\"Número de profissionais por sexo - 2008 a 2018\")\n",
    "plt.ylabel(\"Frequência\")\n",
    "plt.legend()\n",
    "plt.xticks(np.array(list(range(2008, 2019))))\n",
    "plt.show()"
   ]
  },
  {
   "cell_type": "code",
   "execution_count": 89,
   "metadata": {},
   "outputs": [],
   "source": [
    "prop_sexom = []\n",
    "prop_sexof = []\n",
    "for ano in range(2008, 2019):\n",
    "    prop_sexom.append((sud.loc[(sud.Ano == ano), 'Sexo Trabalhador'].value_counts()[0] / sud.loc[(sud.Ano == ano), 'Sexo Trabalhador'].value_counts().sum())*100)\n",
    "    prop_sexof.append((sud.loc[(sud.Ano == ano), 'Sexo Trabalhador'].value_counts()[1] / sud.loc[(sud.Ano == ano), 'Sexo Trabalhador'].value_counts().sum())*100)"
   ]
  },
  {
   "cell_type": "code",
   "execution_count": 123,
   "metadata": {},
   "outputs": [
    {
     "data": {
      "image/png": "[encoded data removed]",
      "text/plain": [
       "<Figure size 720x360 with 1 Axes>"
      ]
     },
     "metadata": {},
     "output_type": "display_data"
    }
   ],
   "source": [
    "plt.figure(figsize=(10,5))\n",
    "plt.plot(np.array(list(range(2008, 2019))), prop_sexom, c='blue', label='Masculino')\n",
    "plt.plot(np.array(list(range(2008, 2019))), prop_sexof, c='red', label='Feminino')\n",
    "plt.suptitle(\"Proporção de profissionais trabalhando com IA por sexo - 2008 a 2018\", fontweight=\"bold\", fontsize=\"large\")\n",
    "plt.title(\"Fonte: RAIS 2008 a 2018\", loc='left')\n",
    "plt.ylabel(\"%\")\n",
    "plt.legend()\n",
    "plt.xticks(np.array(list(range(2008, 2019))))\n",
    "#plt.ylim((0,100))\n",
    "plt.show()"
   ]
  },
  {
   "cell_type": "markdown",
   "metadata": {},
   "source": [
    "## Idade"
   ]
  },
  {
   "cell_type": "code",
   "execution_count": 93,
   "metadata": {},
   "outputs": [
    {
     "data": {
      "text/plain": [
       "count    246355.000000\n",
       "mean         33.831077\n",
       "std           9.568180\n",
       "min          18.000000\n",
       "25%          27.000000\n",
       "50%          32.000000\n",
       "75%          39.000000\n",
       "max          80.000000\n",
       "Name: Idade, dtype: float64"
      ]
     },
     "execution_count": 93,
     "metadata": {},
     "output_type": "execute_result"
    }
   ],
   "source": [
    "sud.loc[sud.Ano == 2018,\"Idade\"].describe()"
   ]
  },
  {
   "cell_type": "code",
   "execution_count": 95,
   "metadata": {},
   "outputs": [
    {
     "data": {
      "text/html": [
       "<div>\n",
       "<style scoped>\n",
       "    .dataframe tbody tr th:only-of-type {\n",
       "        vertical-align: middle;\n",
       "    }\n",
       "\n",
       "    .dataframe tbody tr th {\n",
       "        vertical-align: top;\n",
       "    }\n",
       "\n",
       "    .dataframe thead th {\n",
       "        text-align: right;\n",
       "    }\n",
       "</style>\n",
       "<table border=\"1\" class=\"dataframe\">\n",
       "  <thead>\n",
       "    <tr style=\"text-align: right;\">\n",
       "      <th></th>\n",
       "      <th>Idade</th>\n",
       "    </tr>\n",
       "    <tr>\n",
       "      <th>Sexo Trabalhador</th>\n",
       "      <th></th>\n",
       "    </tr>\n",
       "  </thead>\n",
       "  <tbody>\n",
       "    <tr>\n",
       "      <th>Feminino</th>\n",
       "      <td>33.536469</td>\n",
       "    </tr>\n",
       "    <tr>\n",
       "      <th>Masculino</th>\n",
       "      <td>33.977516</td>\n",
       "    </tr>\n",
       "  </tbody>\n",
       "</table>\n",
       "</div>"
      ],
      "text/plain": [
       "                      Idade\n",
       "Sexo Trabalhador           \n",
       "Feminino          33.536469\n",
       "Masculino         33.977516"
      ]
     },
     "execution_count": 95,
     "metadata": {},
     "output_type": "execute_result"
    }
   ],
   "source": [
    "sud.loc[sud.Ano == 2018,:].groupby(\"Sexo Trabalhador\").agg({\"Idade\": \"mean\"})"
   ]
  },
  {
   "cell_type": "code",
   "execution_count": 96,
   "metadata": {},
   "outputs": [
    {
     "data": {
      "image/png": "[encoded data removed]",
      "text/plain": [
       "<Figure size 432x288 with 1 Axes>"
      ]
     },
     "metadata": {},
     "output_type": "display_data"
    }
   ],
   "source": [
    "sns.boxplot(x=\"Sexo Trabalhador\", y=\"Idade\", data=sud.loc[sud.Ano == 2018,:])\n",
    "plt.show()"
   ]
  },
  {
   "cell_type": "code",
   "execution_count": 97,
   "metadata": {},
   "outputs": [
    {
     "data": {
      "text/plain": [
       "Ttest_indResult(statistic=10.77712897706621, pvalue=4.476375552602861e-27)"
      ]
     },
     "execution_count": 97,
     "metadata": {},
     "output_type": "execute_result"
    }
   ],
   "source": [
    "stats.ttest_ind(sud.loc[(sud[\"Sexo Trabalhador\"] == \"Masculino\") & (sud.Ano == 2018),\"Idade\"], \n",
    "                sud.loc[(sud[\"Sexo Trabalhador\"] == \"Feminino\") & (sud.Ano == 2018),\"Idade\"])"
   ]
  },
  {
   "cell_type": "markdown",
   "metadata": {},
   "source": [
    "Embora o teste T tenha dado significativo, há razões para desconfiar que o baixo p-valor se deve apenas ao fato de o $n$ ser enorme. Se o $n$ fosse menor, provavelmente essas diferenças não seriam significativas. Vamos testar com 5 mil casos aleatórios e bootstrap."
   ]
  },
  {
   "cell_type": "code",
   "execution_count": 98,
   "metadata": {},
   "outputs": [
    {
     "name": "stdout",
     "output_type": "stream",
     "text": [
      "Média dos p-valores:  0.5029\n"
     ]
    }
   ],
   "source": [
    "pvalores = []\n",
    "for i in range(1000):\n",
    "    res = stats.ttest_ind(sud.loc[(sud[\"Sexo Trabalhador\"] == \"Masculino\") & (sud.Ano == 2018),\"Idade\"].sample(n=10000), \n",
    "                          sud.loc[(sud[\"Sexo Trabalhador\"] == \"Masculino\") & (sud.Ano == 2018),\"Idade\"].sample(n=5000))\n",
    "    pvalores.append(res.pvalue)\n",
    "print(\"Média dos p-valores: \", np.mean(pvalores).round(4))"
   ]
  },
  {
   "cell_type": "code",
   "execution_count": null,
   "metadata": {},
   "outputs": [],
   "source": [
    "# Médias de Idade no tempo"
   ]
  },
  {
   "cell_type": "markdown",
   "metadata": {},
   "source": [
    "## Raça Cor"
   ]
  },
  {
   "cell_type": "code",
   "execution_count": 124,
   "metadata": {},
   "outputs": [
    {
     "data": {
      "text/html": [
       "<div>\n",
       "<style scoped>\n",
       "    .dataframe tbody tr th:only-of-type {\n",
       "        vertical-align: middle;\n",
       "    }\n",
       "\n",
       "    .dataframe tbody tr th {\n",
       "        vertical-align: top;\n",
       "    }\n",
       "\n",
       "    .dataframe thead th {\n",
       "        text-align: right;\n",
       "    }\n",
       "</style>\n",
       "<table border=\"1\" class=\"dataframe\">\n",
       "  <thead>\n",
       "    <tr style=\"text-align: right;\">\n",
       "      <th>Raça Cor</th>\n",
       "      <th>Amarela</th>\n",
       "      <th>Branca</th>\n",
       "      <th>Indígena</th>\n",
       "      <th>Não identificada</th>\n",
       "      <th>Parda</th>\n",
       "      <th>Preta</th>\n",
       "    </tr>\n",
       "    <tr>\n",
       "      <th>Sexo Trabalhador</th>\n",
       "      <th></th>\n",
       "      <th></th>\n",
       "      <th></th>\n",
       "      <th></th>\n",
       "      <th></th>\n",
       "      <th></th>\n",
       "    </tr>\n",
       "  </thead>\n",
       "  <tbody>\n",
       "    <tr>\n",
       "      <th>Feminino</th>\n",
       "      <td>1.617439</td>\n",
       "      <td>63.466429</td>\n",
       "      <td>0.293413</td>\n",
       "      <td>8.491858</td>\n",
       "      <td>21.543841</td>\n",
       "      <td>4.587021</td>\n",
       "    </tr>\n",
       "    <tr>\n",
       "      <th>Masculino</th>\n",
       "      <td>1.505235</td>\n",
       "      <td>64.070637</td>\n",
       "      <td>0.264951</td>\n",
       "      <td>8.456541</td>\n",
       "      <td>21.700424</td>\n",
       "      <td>4.002212</td>\n",
       "    </tr>\n",
       "  </tbody>\n",
       "</table>\n",
       "</div>"
      ],
      "text/plain": [
       "Raça Cor           Amarela     Branca  Indígena  Não identificada      Parda  \\\n",
       "Sexo Trabalhador                                                               \n",
       "Feminino          1.617439  63.466429  0.293413          8.491858  21.543841   \n",
       "Masculino         1.505235  64.070637  0.264951          8.456541  21.700424   \n",
       "\n",
       "Raça Cor             Preta  \n",
       "Sexo Trabalhador            \n",
       "Feminino          4.587021  \n",
       "Masculino         4.002212  "
      ]
     },
     "execution_count": 124,
     "metadata": {},
     "output_type": "execute_result"
    }
   ],
   "source": [
    "t = pd.crosstab(sud.loc[sud.Ano == 2018,'Sexo Trabalhador'], sud.loc[sud.Ano == 2018,'Raça Cor'])\n",
    "t.apply(lambda r: (r/r.sum()*100), axis=1)"
   ]
  },
  {
   "cell_type": "code",
   "execution_count": 128,
   "metadata": {},
   "outputs": [
    {
     "data": {
      "image/png": "[encoded data removed]",
      "text/plain": [
       "<Figure size 720x360 with 1 Axes>"
      ]
     },
     "metadata": {},
     "output_type": "display_data"
    }
   ],
   "source": [
    "sns.set(style=\"whitegrid\")\n",
    "t.apply(lambda r: (r/r.sum()*100), axis=1).plot(kind=\"bar\", figsize=(10,5))\n",
    "plt.xticks([0,1], ['Masculino', 'Feminino'], rotation=0)\n",
    "plt.xlabel(\"\")\n",
    "plt.ylabel(\"%\", rotation=0)\n",
    "plt.title(\"Distribuição de Raça Cor por Sexo - 2018\")\n",
    "plt.show()"
   ]
  },
  {
   "cell_type": "code",
   "execution_count": 129,
   "metadata": {},
   "outputs": [
    {
     "name": "stdout",
     "output_type": "stream",
     "text": [
      "Raça Cor          Amarela  Branca  Indígena  Não identificada  Parda  Preta\n",
      "Sexo Trabalhador                                                           \n",
      "Feminino             1323   51913       240              6946  17622   3752\n",
      "Masculino            2477  105434       436             13916  35710   6586\n"
     ]
    },
    {
     "data": {
      "text/plain": [
       "(54.42405595521234,\n",
       " 1.714683446183853e-10,\n",
       " 5,\n",
       " array([[  1261.69470886,  52243.12561953,    224.44884821,\n",
       "           6926.70395161,  17707.55321386,   3432.47365793],\n",
       "        [  2538.30529114, 105103.87438047,    451.55115179,\n",
       "          13935.29604839,  35624.44678614,   6905.52634207]]))"
      ]
     },
     "execution_count": 129,
     "metadata": {},
     "output_type": "execute_result"
    }
   ],
   "source": [
    "print(t)\n",
    "stats.chi2_contingency(t)"
   ]
  },
  {
   "cell_type": "markdown",
   "metadata": {},
   "source": [
    "Muito embora o teste $\\chi^2$ tenha dado significativo, ao observamos a tabela de valores observados e os valores esperados abaixo, vemos que eles estão bastante próximos. Poderíamos indagar se o $n$ fosse menor, esses valores não seriam significativos. Provavelmente não..."
   ]
  },
  {
   "cell_type": "code",
   "execution_count": 130,
   "metadata": {},
   "outputs": [
    {
     "name": "stdout",
     "output_type": "stream",
     "text": [
      "Média de p-valores chi2 para sexo e raça: 0.4114\n"
     ]
    }
   ],
   "source": [
    "pvalores_chi2 = []\n",
    "for i in range(1000):\n",
    "    subamostra = sud.loc[sud.Ano == 2018,:].sample(5000)\n",
    "    t1 = pd.crosstab(subamostra['Sexo Trabalhador'], subamostra['Raça Cor'])\n",
    "    pvalores_chi2.append(stats.chi2_contingency(t1)[1])\n",
    "print(\"Média de p-valores chi2 para sexo e raça:\", np.mean(pvalores_chi2).round(4))"
   ]
  },
  {
   "cell_type": "markdown",
   "metadata": {},
   "source": [
    "Utilizando bootstrap, o $\\chi^2$ não fica significativo.\n",
    "\n",
    "---"
   ]
  },
  {
   "cell_type": "code",
   "execution_count": 184,
   "metadata": {},
   "outputs": [
    {
     "data": {
      "text/html": [
       "<div>\n",
       "<style scoped>\n",
       "    .dataframe tbody tr th:only-of-type {\n",
       "        vertical-align: middle;\n",
       "    }\n",
       "\n",
       "    .dataframe tbody tr th {\n",
       "        vertical-align: top;\n",
       "    }\n",
       "\n",
       "    .dataframe thead th {\n",
       "        text-align: right;\n",
       "    }\n",
       "</style>\n",
       "<table border=\"1\" class=\"dataframe\">\n",
       "  <thead>\n",
       "    <tr style=\"text-align: right;\">\n",
       "      <th></th>\n",
       "      <th>Ano</th>\n",
       "      <th>Sexo Trabalhador</th>\n",
       "      <th>Vl Remun Média Nom</th>\n",
       "      <th>Qtd Hora Contr</th>\n",
       "      <th>Escolaridade após 2005</th>\n",
       "      <th>Tempo Emprego</th>\n",
       "    </tr>\n",
       "  </thead>\n",
       "  <tbody>\n",
       "    <tr>\n",
       "      <th>1</th>\n",
       "      <td>2008</td>\n",
       "      <td>Masculino</td>\n",
       "      <td>1630.740</td>\n",
       "      <td>41.810856</td>\n",
       "      <td>6.842117</td>\n",
       "      <td>10.7</td>\n",
       "    </tr>\n",
       "    <tr>\n",
       "      <th>3</th>\n",
       "      <td>2009</td>\n",
       "      <td>Masculino</td>\n",
       "      <td>1928.425</td>\n",
       "      <td>42.015594</td>\n",
       "      <td>7.131497</td>\n",
       "      <td>11.9</td>\n",
       "    </tr>\n",
       "    <tr>\n",
       "      <th>5</th>\n",
       "      <td>2010</td>\n",
       "      <td>Masculino</td>\n",
       "      <td>1900.800</td>\n",
       "      <td>42.333273</td>\n",
       "      <td>7.226032</td>\n",
       "      <td>11.3</td>\n",
       "    </tr>\n",
       "    <tr>\n",
       "      <th>7</th>\n",
       "      <td>2011</td>\n",
       "      <td>Masculino</td>\n",
       "      <td>2215.060</td>\n",
       "      <td>41.947421</td>\n",
       "      <td>7.253288</td>\n",
       "      <td>12.5</td>\n",
       "    </tr>\n",
       "    <tr>\n",
       "      <th>9</th>\n",
       "      <td>2012</td>\n",
       "      <td>Masculino</td>\n",
       "      <td>2348.640</td>\n",
       "      <td>41.262517</td>\n",
       "      <td>7.278653</td>\n",
       "      <td>12.9</td>\n",
       "    </tr>\n",
       "    <tr>\n",
       "      <th>11</th>\n",
       "      <td>2013</td>\n",
       "      <td>Masculino</td>\n",
       "      <td>2833.355</td>\n",
       "      <td>40.499064</td>\n",
       "      <td>7.429470</td>\n",
       "      <td>15.5</td>\n",
       "    </tr>\n",
       "    <tr>\n",
       "      <th>13</th>\n",
       "      <td>2014</td>\n",
       "      <td>Masculino</td>\n",
       "      <td>3085.970</td>\n",
       "      <td>40.199681</td>\n",
       "      <td>7.464672</td>\n",
       "      <td>15.9</td>\n",
       "    </tr>\n",
       "    <tr>\n",
       "      <th>15</th>\n",
       "      <td>2015</td>\n",
       "      <td>Masculino</td>\n",
       "      <td>3469.200</td>\n",
       "      <td>40.045082</td>\n",
       "      <td>7.507881</td>\n",
       "      <td>17.9</td>\n",
       "    </tr>\n",
       "    <tr>\n",
       "      <th>17</th>\n",
       "      <td>2016</td>\n",
       "      <td>Masculino</td>\n",
       "      <td>3765.260</td>\n",
       "      <td>39.966575</td>\n",
       "      <td>7.542795</td>\n",
       "      <td>20.6</td>\n",
       "    </tr>\n",
       "    <tr>\n",
       "      <th>19</th>\n",
       "      <td>2017</td>\n",
       "      <td>Masculino</td>\n",
       "      <td>4143.380</td>\n",
       "      <td>39.969880</td>\n",
       "      <td>7.574324</td>\n",
       "      <td>21.0</td>\n",
       "    </tr>\n",
       "    <tr>\n",
       "      <th>21</th>\n",
       "      <td>2018</td>\n",
       "      <td>Masculino</td>\n",
       "      <td>4200.000</td>\n",
       "      <td>39.966419</td>\n",
       "      <td>7.596491</td>\n",
       "      <td>17.4</td>\n",
       "    </tr>\n",
       "  </tbody>\n",
       "</table>\n",
       "</div>"
      ],
      "text/plain": [
       "     Ano Sexo Trabalhador  Vl Remun Média Nom  Qtd Hora Contr  \\\n",
       "1   2008        Masculino            1630.740       41.810856   \n",
       "3   2009        Masculino            1928.425       42.015594   \n",
       "5   2010        Masculino            1900.800       42.333273   \n",
       "7   2011        Masculino            2215.060       41.947421   \n",
       "9   2012        Masculino            2348.640       41.262517   \n",
       "11  2013        Masculino            2833.355       40.499064   \n",
       "13  2014        Masculino            3085.970       40.199681   \n",
       "15  2015        Masculino            3469.200       40.045082   \n",
       "17  2016        Masculino            3765.260       39.966575   \n",
       "19  2017        Masculino            4143.380       39.969880   \n",
       "21  2018        Masculino            4200.000       39.966419   \n",
       "\n",
       "    Escolaridade após 2005  Tempo Emprego  \n",
       "1                 6.842117           10.7  \n",
       "3                 7.131497           11.9  \n",
       "5                 7.226032           11.3  \n",
       "7                 7.253288           12.5  \n",
       "9                 7.278653           12.9  \n",
       "11                7.429470           15.5  \n",
       "13                7.464672           15.9  \n",
       "15                7.507881           17.9  \n",
       "17                7.542795           20.6  \n",
       "19                7.574324           21.0  \n",
       "21                7.596491           17.4  "
      ]
     },
     "execution_count": 184,
     "metadata": {},
     "output_type": "execute_result"
    }
   ],
   "source": [
    "ddd = sud.groupby([\"Ano\", \"Sexo Trabalhador\"]).agg({\"Vl Remun Média Nom\": \"median\", \n",
    "                                     \"Qtd Hora Contr\": \"mean\",\n",
    "                                     \"Escolaridade após 2005\": \"mean\",\n",
    "                                     \"Tempo Emprego\": \"median\"\n",
    "                                    }).reset_index()\n",
    "ddd.loc[ddd['Sexo Trabalhador'] == 'Masculino',:]"
   ]
  },
  {
   "cell_type": "code",
   "execution_count": 162,
   "metadata": {},
   "outputs": [],
   "source": [
    "import requests\n",
    "import json\n",
    "import pandas as pd\n",
    "import numpy as np\n",
    "from io import StringIO\n",
    "datas = ['2008-12-01', '2009-12-01', '2010-12-01', '2011-12-01', '2012-12-01',\n",
    "        '2013-12-01', '2014-12-01', '2015-12-01', '2016-12-01', '2017-12-01', '2018-12-01']\n",
    "def deflate(nominal_values, nominal_dates, real_date, index='ipca'):\n",
    "    nominal_values = np.array(nominal_values)\n",
    "    if index == 'ipca':\n",
    "        res = requests.get(\"http://ipeadata.gov.br/api/odata4/ValoresSerie(SERCODIGO='PRECOS12_IPCA12')\")\n",
    "        indice = pd.DataFrame.from_dict(json.load(StringIO(res.text))['value'])\n",
    "        indice['VALDATA'] = pd.to_datetime(indice['VALDATA'], utc=True).dt.date.astype(str)\n",
    "        \n",
    "    # Calculate changes in prices\n",
    "    indice['indx'] = indice.VALVALOR[indice.VALDATA == real_date].values / indice.VALVALOR.values\n",
    "    \n",
    "    return (indice.loc[indice.VALDATA.isin(nominal_dates),'indx'] * nominal_values).values"
   ]
  },
  {
   "cell_type": "code",
   "execution_count": 185,
   "metadata": {},
   "outputs": [],
   "source": [
    "sal_m = deflate(ddd.loc[ddd['Sexo Trabalhador'] == 'Masculino', 'Vl Remun Média Nom'], datas, '2020-01-01')\n",
    "sal_f = deflate(ddd.loc[ddd['Sexo Trabalhador'] == 'Feminino', 'Vl Remun Média Nom'], datas, '2020-01-01')"
   ]
  },
  {
   "cell_type": "code",
   "execution_count": 186,
   "metadata": {},
   "outputs": [
    {
     "data": {
      "image/png": "[encoded data removed]",
      "text/plain": [
       "<Figure size 720x360 with 1 Axes>"
      ]
     },
     "metadata": {},
     "output_type": "display_data"
    }
   ],
   "source": [
    "plt.figure(figsize=(10,5))\n",
    "plt.plot(list(range(2008, 2019)), sal_m, label='Masculino', c='blue')\n",
    "plt.plot(list(range(2008, 2019)), sal_f, label='Faminino', c='red')\n",
    "plt.xticks(np.array(range(2008, 2019)))\n",
    "plt.suptitle(\"Mediana de Salário por Sexo\", fontweight=\"bold\", fontsize=\"large\")\n",
    "plt.title(\"Fonte: RAIS 2008 a 2018 - Deflacionada com IPCA\", loc='left')\n",
    "plt.ylabel(\"Salário em BRL\")\n",
    "plt.legend()\n",
    "plt.show()"
   ]
  },
  {
   "cell_type": "code",
   "execution_count": 75,
   "metadata": {},
   "outputs": [
    {
     "data": {
      "text/plain": [
       "Ttest_indResult(statistic=24.0160674960307, pvalue=2.6376067677565002e-127)"
      ]
     },
     "execution_count": 75,
     "metadata": {},
     "output_type": "execute_result"
    }
   ],
   "source": [
    "stats.ttest_ind(sud.loc[sud[\"Sexo Trabalhador\"] == \"Masculino\",\"Qtd Hora Contr\"],\n",
    "                        sud.loc[sud[\"Sexo Trabalhador\"] == \"Feminino\",\"Qtd Hora Contr\"])"
   ]
  },
  {
   "cell_type": "code",
   "execution_count": 78,
   "metadata": {},
   "outputs": [
    {
     "name": "stdout",
     "output_type": "stream",
     "text": [
      "Média dos p-valores para Qtd Hora Contr: 0.0\n"
     ]
    }
   ],
   "source": [
    "# Testa diferenças nas horas de contrato usando bootstrap\n",
    "pvalores_qtdhoracont = []\n",
    "for i in range(1000):\n",
    "    res = stats.ttest_ind(sud.loc[sud[\"Sexo Trabalhador\"] == \"Masculino\",\"Qtd Hora Contr\"].sample(n=10000),\n",
    "                          sud.loc[sud[\"Sexo Trabalhador\"] == \"Feminino\",\"Qtd Hora Contr\"].sample(n=5000))\n",
    "    pvalores_qtdhoracont.append(res.pvalue)\n",
    "print(\"Média dos p-valores para Qtd Hora Contr:\", np.mean(pvalores_qtdhoracont).round(4))"
   ]
  },
  {
   "cell_type": "code",
   "execution_count": 79,
   "metadata": {},
   "outputs": [
    {
     "name": "stdout",
     "output_type": "stream",
     "text": [
      "Média dos p-valores para Escolaridade: 0.0\n"
     ]
    }
   ],
   "source": [
    "# Testa diferenças de escolaridade usando bootstrap\n",
    "pvalores_esco = []\n",
    "for i in range(1000):\n",
    "    res = stats.ttest_ind(sud.loc[sud[\"Sexo Trabalhador\"] == \"Masculino\",\"Escolaridade após 2005\"].sample(n=10000),\n",
    "                          sud.loc[sud[\"Sexo Trabalhador\"] == \"Feminino\",\"Escolaridade após 2005\"].sample(n=5000))\n",
    "    pvalores_esco.append(res.pvalue)\n",
    "print(\"Média dos p-valores para Escolaridade:\", np.mean(pvalores_esco).round(4))"
   ]
  },
  {
   "cell_type": "code",
   "execution_count": 80,
   "metadata": {},
   "outputs": [
    {
     "name": "stdout",
     "output_type": "stream",
     "text": [
      "Média dos p-valores para Tempo de Emprego: 0.0413\n"
     ]
    }
   ],
   "source": [
    "# Testa diferenças de tempo de emprego usando bootstrap\n",
    "pvalores_tempoemprego = []\n",
    "for i in range(1000):\n",
    "    res = stats.ttest_ind(sud.loc[sud[\"Sexo Trabalhador\"] == \"Masculino\",\"Tempo Emprego\"].sample(n=10000),\n",
    "                          sud.loc[sud[\"Sexo Trabalhador\"] == \"Feminino\",\"Tempo Emprego\"].sample(n=5000))\n",
    "    pvalores_tempoemprego.append(res.pvalue)\n",
    "print(\"Média dos p-valores para Tempo de Emprego:\", np.mean(pvalores_tempoemprego).round(4))"
   ]
  },
  {
   "cell_type": "code",
   "execution_count": 81,
   "metadata": {},
   "outputs": [
    {
     "name": "stdout",
     "output_type": "stream",
     "text": [
      "Média dos p-valores para Salário médio: 0.0\n"
     ]
    }
   ],
   "source": [
    "# Testa diferenças de salário usando bootstrap\n",
    "pvalores_sal = []\n",
    "for i in range(1000):\n",
    "    res = stats.ttest_ind(sud.loc[sud[\"Sexo Trabalhador\"] == \"Masculino\",\"Vl Remun Média Nom\"].sample(n=10000),\n",
    "                          sud.loc[sud[\"Sexo Trabalhador\"] == \"Feminino\",\"Vl Remun Média Nom\"].sample(n=5000))\n",
    "    pvalores_sal.append(res.pvalue)\n",
    "print(\"Média dos p-valores para Salário médio:\", np.mean(pvalores_sal).round(4))"
   ]
  },
  {
   "cell_type": "markdown",
   "metadata": {},
   "source": [
    "É possível afirmar que as mulheres trabalham sistematicamente menos, possuem escolaridade mais baixa, tem menos tempo de emprego em seus trabalhos e possuem salário sistematicamente menor."
   ]
  },
  {
   "cell_type": "code",
   "execution_count": 23,
   "metadata": {},
   "outputs": [
    {
     "data": {
      "text/html": [
       "<div>\n",
       "<style scoped>\n",
       "    .dataframe tbody tr th:only-of-type {\n",
       "        vertical-align: middle;\n",
       "    }\n",
       "\n",
       "    .dataframe tbody tr th {\n",
       "        vertical-align: top;\n",
       "    }\n",
       "\n",
       "    .dataframe thead th {\n",
       "        text-align: right;\n",
       "    }\n",
       "</style>\n",
       "<table border=\"1\" class=\"dataframe\">\n",
       "  <thead>\n",
       "    <tr style=\"text-align: right;\">\n",
       "      <th></th>\n",
       "      <th>Vl Remun Média Nom</th>\n",
       "    </tr>\n",
       "    <tr>\n",
       "      <th>Sexo Trabalhador</th>\n",
       "      <th></th>\n",
       "    </tr>\n",
       "  </thead>\n",
       "  <tbody>\n",
       "    <tr>\n",
       "      <th>Feminino</th>\n",
       "      <td>4489.264065</td>\n",
       "    </tr>\n",
       "    <tr>\n",
       "      <th>Masculino</th>\n",
       "      <td>6233.341422</td>\n",
       "    </tr>\n",
       "  </tbody>\n",
       "</table>\n",
       "</div>"
      ],
      "text/plain": [
       "                  Vl Remun Média Nom\n",
       "Sexo Trabalhador                    \n",
       "Feminino                 4489.264065\n",
       "Masculino                6233.341422"
      ]
     },
     "execution_count": 23,
     "metadata": {},
     "output_type": "execute_result"
    }
   ],
   "source": [
    "sud.groupby(\"Sexo Trabalhador\").agg({\"Vl Remun Média Nom\": \"mean\"})"
   ]
  },
  {
   "cell_type": "markdown",
   "metadata": {},
   "source": [
    "---\n",
    "\n",
    "# Investigando a diferença de salário"
   ]
  },
  {
   "cell_type": "code",
   "execution_count": 96,
   "metadata": {},
   "outputs": [],
   "source": [
    "sud['salario'] = sud['Vl Remun Média Nom'] + 0.01"
   ]
  },
  {
   "cell_type": "code",
   "execution_count": 98,
   "metadata": {},
   "outputs": [
    {
     "data": {
      "text/plain": [
       "(array([  750.,  3899., 48057., 61089., 56263., 47864., 21416.,  5815.,\n",
       "         1443.,   152.]),\n",
       " array([ 5.66164016,  6.27073136,  6.87982255,  7.48891375,  8.09800494,\n",
       "         8.70709613,  9.31618733,  9.92527852, 10.53436971, 11.14346091,\n",
       "        11.7525521 ]),\n",
       " <a list of 10 Patch objects>)"
      ]
     },
     "execution_count": 98,
     "metadata": {},
     "output_type": "execute_result"
    },
    {
     "data": {
      "image/png": "[encoded data removed]",
      "text/plain": [
       "<Figure size 432x288 with 1 Axes>"
      ]
     },
     "metadata": {},
     "output_type": "display_data"
    }
   ],
   "source": [
    "plt.hist(np.log(sud.loc[sud[\"Vl Remun Média Nom\"] > 0,'Vl Remun Média Nom']), edgecolor=\"black\")"
   ]
  },
  {
   "cell_type": "code",
   "execution_count": 104,
   "metadata": {},
   "outputs": [
    {
     "data": {
      "text/plain": [
       "(array([  3067.,      0.,      0.,      0.,      0.,      0.,   3820.,\n",
       "        145304.,  92957.,   4667.]),\n",
       " array([-4.60517019, -2.96939795, -1.33362571,  0.30214652,  1.93791876,\n",
       "         3.573691  ,  5.20946323,  6.84523547,  8.48100771, 10.11677994,\n",
       "        11.75255218]),\n",
       " <a list of 10 Patch objects>)"
      ]
     },
     "execution_count": 104,
     "metadata": {},
     "output_type": "execute_result"
    },
    {
     "data": {
      "image/png": "[encoded data removed]",
      "text/plain": [
       "<Figure size 432x288 with 1 Axes>"
      ]
     },
     "metadata": {},
     "output_type": "display_data"
    }
   ],
   "source": [
    "plt.hist(np.log(sud.salario), edgecolor=\"black\")"
   ]
  },
  {
   "cell_type": "markdown",
   "metadata": {},
   "source": [
    "Vamos modelar apenas as pessoas que recebem algum tipo de salário."
   ]
  },
  {
   "cell_type": "code",
   "execution_count": 105,
   "metadata": {},
   "outputs": [
    {
     "data": {
      "text/html": [
       "<div>\n",
       "<style scoped>\n",
       "    .dataframe tbody tr th:only-of-type {\n",
       "        vertical-align: middle;\n",
       "    }\n",
       "\n",
       "    .dataframe tbody tr th {\n",
       "        vertical-align: top;\n",
       "    }\n",
       "\n",
       "    .dataframe thead th {\n",
       "        text-align: right;\n",
       "    }\n",
       "</style>\n",
       "<table border=\"1\" class=\"dataframe\">\n",
       "  <thead>\n",
       "    <tr style=\"text-align: right;\">\n",
       "      <th></th>\n",
       "      <th>Vl Remun Média Nom</th>\n",
       "    </tr>\n",
       "    <tr>\n",
       "      <th>Sexo Trabalhador</th>\n",
       "      <th></th>\n",
       "    </tr>\n",
       "  </thead>\n",
       "  <tbody>\n",
       "    <tr>\n",
       "      <th>Feminino</th>\n",
       "      <td>4554.748812</td>\n",
       "    </tr>\n",
       "    <tr>\n",
       "      <th>Masculino</th>\n",
       "      <td>6304.127985</td>\n",
       "    </tr>\n",
       "  </tbody>\n",
       "</table>\n",
       "</div>"
      ],
      "text/plain": [
       "                  Vl Remun Média Nom\n",
       "Sexo Trabalhador                    \n",
       "Feminino                 4554.748812\n",
       "Masculino                6304.127985"
      ]
     },
     "execution_count": 105,
     "metadata": {},
     "output_type": "execute_result"
    }
   ],
   "source": [
    "sud.loc[sud['Vl Remun Média Nom'] > 0,:].groupby(\"Sexo Trabalhador\").agg({\"Vl Remun Média Nom\": \"mean\"})"
   ]
  },
  {
   "cell_type": "code",
   "execution_count": 107,
   "metadata": {},
   "outputs": [
    {
     "data": {
      "text/plain": [
       "3067"
      ]
     },
     "execution_count": 107,
     "metadata": {},
     "output_type": "execute_result"
    }
   ],
   "source": [
    "sum(sud['Vl Remun Média Nom'] == 0)"
   ]
  },
  {
   "cell_type": "markdown",
   "metadata": {},
   "source": [
    "Não há muita diferença na média contendo quem tem salário zerado. De fato, quem tem salário zero são 3067 pessoas.\n",
    "\n",
    "Vamos filtrar apenas pessoas entre 18 e 80 anos."
   ]
  },
  {
   "cell_type": "code",
   "execution_count": 261,
   "metadata": {},
   "outputs": [],
   "source": [
    "bd = sud.loc[(sud['Vl Remun Média Nom'] > 0) & \n",
    "             (sud['Idade'] > 17) & (sud['Idade'] < 81)\n",
    "             ,:]"
   ]
  },
  {
   "cell_type": "code",
   "execution_count": 263,
   "metadata": {},
   "outputs": [
    {
     "data": {
      "text/plain": [
       "33.83107710417893"
      ]
     },
     "execution_count": 263,
     "metadata": {},
     "output_type": "execute_result"
    }
   ],
   "source": [
    "# Qual é a idade média do recorte selecionado?\n",
    "np.mean(bd.Idade)"
   ]
  },
  {
   "cell_type": "code",
   "execution_count": 262,
   "metadata": {},
   "outputs": [
    {
     "name": "stderr",
     "output_type": "stream",
     "text": [
      "C:\\Users\\Neylson\\Anaconda3\\lib\\site-packages\\ipykernel_launcher.py:1: SettingWithCopyWarning: \n",
      "A value is trying to be set on a copy of a slice from a DataFrame.\n",
      "Try using .loc[row_indexer,col_indexer] = value instead\n",
      "\n",
      "See the caveats in the documentation: http://pandas.pydata.org/pandas-docs/stable/user_guide/indexing.html#returning-a-view-versus-a-copy\n",
      "  \"\"\"Entry point for launching an IPython kernel.\n",
      "C:\\Users\\Neylson\\Anaconda3\\lib\\site-packages\\ipykernel_launcher.py:2: SettingWithCopyWarning: \n",
      "A value is trying to be set on a copy of a slice from a DataFrame.\n",
      "Try using .loc[row_indexer,col_indexer] = value instead\n",
      "\n",
      "See the caveats in the documentation: http://pandas.pydata.org/pandas-docs/stable/user_guide/indexing.html#returning-a-view-versus-a-copy\n",
      "  \n"
     ]
    }
   ],
   "source": [
    "bd['idadecent'] = bd.Idade - np.mean(bd.Idade)\n",
    "bd['Idade_quad'] = bd.idadecent ** 2"
   ]
  },
  {
   "cell_type": "code",
   "execution_count": 264,
   "metadata": {},
   "outputs": [
    {
     "name": "stderr",
     "output_type": "stream",
     "text": [
      "C:\\Users\\Neylson\\Anaconda3\\lib\\site-packages\\ipykernel_launcher.py:2: SettingWithCopyWarning: \n",
      "A value is trying to be set on a copy of a slice from a DataFrame.\n",
      "Try using .loc[row_indexer,col_indexer] = value instead\n",
      "\n",
      "See the caveats in the documentation: http://pandas.pydata.org/pandas-docs/stable/user_guide/indexing.html#returning-a-view-versus-a-copy\n",
      "  \n"
     ]
    }
   ],
   "source": [
    "# Cria dummy branco\n",
    "bd[\"Branco\"] = bd['Raça Cor'].apply(lambda x: 1 if x in ['Branca', 'Amarela'] else 0)"
   ]
  },
  {
   "cell_type": "code",
   "execution_count": 265,
   "metadata": {},
   "outputs": [
    {
     "data": {
      "text/html": [
       "<div>\n",
       "<style scoped>\n",
       "    .dataframe tbody tr th:only-of-type {\n",
       "        vertical-align: middle;\n",
       "    }\n",
       "\n",
       "    .dataframe tbody tr th {\n",
       "        vertical-align: top;\n",
       "    }\n",
       "\n",
       "    .dataframe thead th {\n",
       "        text-align: right;\n",
       "    }\n",
       "</style>\n",
       "<table border=\"1\" class=\"dataframe\">\n",
       "  <thead>\n",
       "    <tr style=\"text-align: right;\">\n",
       "      <th>Raça Cor</th>\n",
       "      <th>Amarela</th>\n",
       "      <th>Branca</th>\n",
       "      <th>Indígena</th>\n",
       "      <th>Não identificada</th>\n",
       "      <th>Parda</th>\n",
       "      <th>Preta</th>\n",
       "    </tr>\n",
       "    <tr>\n",
       "      <th>Branco</th>\n",
       "      <th></th>\n",
       "      <th></th>\n",
       "      <th></th>\n",
       "      <th></th>\n",
       "      <th></th>\n",
       "      <th></th>\n",
       "    </tr>\n",
       "  </thead>\n",
       "  <tbody>\n",
       "    <tr>\n",
       "      <th>0</th>\n",
       "      <td>0</td>\n",
       "      <td>0</td>\n",
       "      <td>676</td>\n",
       "      <td>20862</td>\n",
       "      <td>53332</td>\n",
       "      <td>10338</td>\n",
       "    </tr>\n",
       "    <tr>\n",
       "      <th>1</th>\n",
       "      <td>3800</td>\n",
       "      <td>157347</td>\n",
       "      <td>0</td>\n",
       "      <td>0</td>\n",
       "      <td>0</td>\n",
       "      <td>0</td>\n",
       "    </tr>\n",
       "  </tbody>\n",
       "</table>\n",
       "</div>"
      ],
      "text/plain": [
       "Raça Cor  Amarela  Branca  Indígena  Não identificada  Parda  Preta\n",
       "Branco                                                             \n",
       "0               0       0       676             20862  53332  10338\n",
       "1            3800  157347         0                 0      0      0"
      ]
     },
     "execution_count": 265,
     "metadata": {},
     "output_type": "execute_result"
    }
   ],
   "source": [
    "pd.crosstab(bd.Branco, bd[\"Raça Cor\"])"
   ]
  },
  {
   "cell_type": "code",
   "execution_count": 266,
   "metadata": {},
   "outputs": [
    {
     "data": {
      "text/plain": [
       "Index(['Bairros SP', 'Bairros Fortaleza', 'Bairros RJ', 'Causa Afastamento 1',\n",
       "       'Causa Afastamento 2', 'Causa Afastamento 3', 'Motivo Desligamento',\n",
       "       'CBO Ocupação 2002', 'CNAE 2.0 Classe', 'CNAE 95 Classe',\n",
       "       'Distritos SP', 'Vínculo Ativo 31/12', 'Faixa Etária',\n",
       "       'Faixa Hora Contrat', 'Faixa Remun Dezem (SM)',\n",
       "       'Faixa Remun Média (SM)', 'Faixa Tempo Emprego',\n",
       "       'Escolaridade após 2005', 'Qtd Hora Contr', 'Idade',\n",
       "       'Ind CEI Vinculado', 'Ind Simples', 'Mês Admissão', 'Mês Desligamento',\n",
       "       'Mun Trab', 'Município', 'Nacionalidade', 'Natureza Jurídica',\n",
       "       'Ind Portador Defic', 'Qtd Dias Afastamento', 'Raça Cor',\n",
       "       'Regiões Adm DF', 'Vl Remun Dezembro Nom', 'Vl Remun Dezembro (SM)',\n",
       "       'Vl Remun Média Nom', 'Vl Remun Média (SM)', 'CNAE 2.0 Subclasse',\n",
       "       'Sexo Trabalhador', 'Tamanho Estabelecimento', 'Tempo Emprego',\n",
       "       'Tipo Admissão', 'Tipo Estab', 'Tipo Estab.1', 'Tipo Defic',\n",
       "       'Tipo Vínculo', 'IBGE Subsetor', 'Vl Rem Janeiro CC',\n",
       "       'Vl Rem Fevereiro CC', 'Vl Rem Março CC', 'Vl Rem Abril CC',\n",
       "       'Vl Rem Maio CC', 'Vl Rem Junho CC', 'Vl Rem Julho CC',\n",
       "       'Vl Rem Agosto CC', 'Vl Rem Setembro CC', 'Vl Rem Outubro CC',\n",
       "       'Vl Rem Novembro CC', 'Ano Chegada Brasil', 'Ind Trab Intermitente',\n",
       "       'Ind Trab Parcial', 'Tipo Salário', 'Vl Salário Contratual',\n",
       "       'Brasileiro', 'salario', 'idadecent', 'Idade_quad', 'Branco'],\n",
       "      dtype='object')"
      ]
     },
     "execution_count": 266,
     "metadata": {},
     "output_type": "execute_result"
    }
   ],
   "source": [
    "bd.columns"
   ]
  },
  {
   "cell_type": "code",
   "execution_count": 268,
   "metadata": {},
   "outputs": [],
   "source": [
    "y = np.log(bd['Vl Remun Média Nom'])\n",
    "X = pd.get_dummies(bd[['Sexo Trabalhador',\n",
    "                       'Escolaridade após 2005', \n",
    "                       'Qtd Hora Contr', \n",
    "                       'idadecent', 'Idade_quad', \n",
    "                       'Brasileiro', \n",
    "                       'Branco', \n",
    "                       'Tempo Emprego'\n",
    "                      ]],\n",
    "                  drop_first=True)"
   ]
  },
  {
   "cell_type": "code",
   "execution_count": 269,
   "metadata": {},
   "outputs": [
    {
     "name": "stderr",
     "output_type": "stream",
     "text": [
      "C:\\Users\\Neylson\\Anaconda3\\lib\\site-packages\\numpy\\core\\fromnumeric.py:2495: FutureWarning: Method .ptp is deprecated and will be removed in a future version. Use numpy.ptp instead.\n",
      "  return ptp(axis=axis, out=out, **kwargs)\n"
     ]
    },
    {
     "data": {
      "text/html": [
       "<div>\n",
       "<style scoped>\n",
       "    .dataframe tbody tr th:only-of-type {\n",
       "        vertical-align: middle;\n",
       "    }\n",
       "\n",
       "    .dataframe tbody tr th {\n",
       "        vertical-align: top;\n",
       "    }\n",
       "\n",
       "    .dataframe thead th {\n",
       "        text-align: right;\n",
       "    }\n",
       "</style>\n",
       "<table border=\"1\" class=\"dataframe\">\n",
       "  <thead>\n",
       "    <tr style=\"text-align: right;\">\n",
       "      <th></th>\n",
       "      <th>const</th>\n",
       "      <th>Escolaridade após 2005</th>\n",
       "      <th>Qtd Hora Contr</th>\n",
       "      <th>idadecent</th>\n",
       "      <th>Idade_quad</th>\n",
       "      <th>Brasileiro</th>\n",
       "      <th>Branco</th>\n",
       "      <th>Tempo Emprego</th>\n",
       "      <th>Sexo Trabalhador_Masculino</th>\n",
       "    </tr>\n",
       "  </thead>\n",
       "  <tbody>\n",
       "    <tr>\n",
       "      <th>0</th>\n",
       "      <td>1.0</td>\n",
       "      <td>0</td>\n",
       "      <td>44</td>\n",
       "      <td>3.168923</td>\n",
       "      <td>10.042072</td>\n",
       "      <td>1</td>\n",
       "      <td>1</td>\n",
       "      <td>1.0</td>\n",
       "      <td>1</td>\n",
       "    </tr>\n",
       "    <tr>\n",
       "      <th>1</th>\n",
       "      <td>1.0</td>\n",
       "      <td>0</td>\n",
       "      <td>40</td>\n",
       "      <td>-3.831077</td>\n",
       "      <td>14.677152</td>\n",
       "      <td>1</td>\n",
       "      <td>0</td>\n",
       "      <td>2.9</td>\n",
       "      <td>1</td>\n",
       "    </tr>\n",
       "    <tr>\n",
       "      <th>2</th>\n",
       "      <td>1.0</td>\n",
       "      <td>1</td>\n",
       "      <td>44</td>\n",
       "      <td>6.168923</td>\n",
       "      <td>38.055610</td>\n",
       "      <td>1</td>\n",
       "      <td>0</td>\n",
       "      <td>7.7</td>\n",
       "      <td>1</td>\n",
       "    </tr>\n",
       "    <tr>\n",
       "      <th>3</th>\n",
       "      <td>1.0</td>\n",
       "      <td>1</td>\n",
       "      <td>40</td>\n",
       "      <td>-6.831077</td>\n",
       "      <td>46.663614</td>\n",
       "      <td>1</td>\n",
       "      <td>0</td>\n",
       "      <td>2.9</td>\n",
       "      <td>1</td>\n",
       "    </tr>\n",
       "    <tr>\n",
       "      <th>4</th>\n",
       "      <td>1.0</td>\n",
       "      <td>1</td>\n",
       "      <td>40</td>\n",
       "      <td>-6.831077</td>\n",
       "      <td>46.663614</td>\n",
       "      <td>1</td>\n",
       "      <td>0</td>\n",
       "      <td>2.9</td>\n",
       "      <td>1</td>\n",
       "    </tr>\n",
       "    <tr>\n",
       "      <th>...</th>\n",
       "      <td>...</td>\n",
       "      <td>...</td>\n",
       "      <td>...</td>\n",
       "      <td>...</td>\n",
       "      <td>...</td>\n",
       "      <td>...</td>\n",
       "      <td>...</td>\n",
       "      <td>...</td>\n",
       "      <td>...</td>\n",
       "    </tr>\n",
       "    <tr>\n",
       "      <th>180452</th>\n",
       "      <td>1.0</td>\n",
       "      <td>10</td>\n",
       "      <td>40</td>\n",
       "      <td>9.168923</td>\n",
       "      <td>84.069147</td>\n",
       "      <td>1</td>\n",
       "      <td>1</td>\n",
       "      <td>35.9</td>\n",
       "      <td>0</td>\n",
       "    </tr>\n",
       "    <tr>\n",
       "      <th>180453</th>\n",
       "      <td>1.0</td>\n",
       "      <td>10</td>\n",
       "      <td>8</td>\n",
       "      <td>26.168923</td>\n",
       "      <td>684.812526</td>\n",
       "      <td>1</td>\n",
       "      <td>1</td>\n",
       "      <td>377.3</td>\n",
       "      <td>0</td>\n",
       "    </tr>\n",
       "    <tr>\n",
       "      <th>180454</th>\n",
       "      <td>1.0</td>\n",
       "      <td>10</td>\n",
       "      <td>8</td>\n",
       "      <td>25.168923</td>\n",
       "      <td>633.474680</td>\n",
       "      <td>1</td>\n",
       "      <td>0</td>\n",
       "      <td>378.9</td>\n",
       "      <td>0</td>\n",
       "    </tr>\n",
       "    <tr>\n",
       "      <th>180455</th>\n",
       "      <td>1.0</td>\n",
       "      <td>10</td>\n",
       "      <td>8</td>\n",
       "      <td>13.168923</td>\n",
       "      <td>173.420530</td>\n",
       "      <td>1</td>\n",
       "      <td>1</td>\n",
       "      <td>147.9</td>\n",
       "      <td>0</td>\n",
       "    </tr>\n",
       "    <tr>\n",
       "      <th>180456</th>\n",
       "      <td>1.0</td>\n",
       "      <td>10</td>\n",
       "      <td>40</td>\n",
       "      <td>2.168923</td>\n",
       "      <td>4.704227</td>\n",
       "      <td>1</td>\n",
       "      <td>1</td>\n",
       "      <td>6.4</td>\n",
       "      <td>0</td>\n",
       "    </tr>\n",
       "  </tbody>\n",
       "</table>\n",
       "<p>246355 rows × 9 columns</p>\n",
       "</div>"
      ],
      "text/plain": [
       "        const  Escolaridade após 2005  Qtd Hora Contr  idadecent  Idade_quad  \\\n",
       "0         1.0                       0              44   3.168923   10.042072   \n",
       "1         1.0                       0              40  -3.831077   14.677152   \n",
       "2         1.0                       1              44   6.168923   38.055610   \n",
       "3         1.0                       1              40  -6.831077   46.663614   \n",
       "4         1.0                       1              40  -6.831077   46.663614   \n",
       "...       ...                     ...             ...        ...         ...   \n",
       "180452    1.0                      10              40   9.168923   84.069147   \n",
       "180453    1.0                      10               8  26.168923  684.812526   \n",
       "180454    1.0                      10               8  25.168923  633.474680   \n",
       "180455    1.0                      10               8  13.168923  173.420530   \n",
       "180456    1.0                      10              40   2.168923    4.704227   \n",
       "\n",
       "        Brasileiro  Branco  Tempo Emprego  Sexo Trabalhador_Masculino  \n",
       "0                1       1            1.0                           1  \n",
       "1                1       0            2.9                           1  \n",
       "2                1       0            7.7                           1  \n",
       "3                1       0            2.9                           1  \n",
       "4                1       0            2.9                           1  \n",
       "...            ...     ...            ...                         ...  \n",
       "180452           1       1           35.9                           0  \n",
       "180453           1       1          377.3                           0  \n",
       "180454           1       0          378.9                           0  \n",
       "180455           1       1          147.9                           0  \n",
       "180456           1       1            6.4                           0  \n",
       "\n",
       "[246355 rows x 9 columns]"
      ]
     },
     "execution_count": 269,
     "metadata": {},
     "output_type": "execute_result"
    }
   ],
   "source": [
    "X = add_constant(X)\n",
    "X"
   ]
  },
  {
   "cell_type": "markdown",
   "metadata": {},
   "source": [
    "### Teste de multicolinearidade"
   ]
  },
  {
   "cell_type": "code",
   "execution_count": 270,
   "metadata": {},
   "outputs": [
    {
     "name": "stdout",
     "output_type": "stream",
     "text": [
      "const:  308.93929290203357\n",
      "Escolaridade após 2005:  1.0785504010904856\n",
      "Qtd Hora Contr:  1.2622354622944212\n",
      "idadecent:  1.7040447028147596\n",
      "Idade_quad:  1.6562700984501002\n",
      "Brasileiro:  1.0030666749766268\n",
      "Branco:  1.0246210517947478\n",
      "Tempo Emprego:  1.4565388318549866\n",
      "Sexo Trabalhador_Masculino:  1.0134422418046194\n"
     ]
    }
   ],
   "source": [
    "for col in X.columns:\n",
    "    print(col + \": \", vif(X.values, X.columns.get_loc(col)))"
   ]
  },
  {
   "cell_type": "code",
   "execution_count": 271,
   "metadata": {},
   "outputs": [
    {
     "name": "stdout",
     "output_type": "stream",
     "text": [
      "                            OLS Regression Results                            \n",
      "==============================================================================\n",
      "Dep. Variable:     Vl Remun Média Nom   R-squared:                       0.408\n",
      "Model:                            OLS   Adj. R-squared:                  0.408\n",
      "Method:                 Least Squares   F-statistic:                 2.119e+04\n",
      "Date:                Mon, 10 Feb 2020   Prob (F-statistic):               0.00\n",
      "Time:                        15:48:35   Log-Likelihood:            -2.4426e+05\n",
      "No. Observations:              246355   AIC:                         4.885e+05\n",
      "Df Residuals:                  246346   BIC:                         4.886e+05\n",
      "Df Model:                           8                                         \n",
      "Covariance Type:            nonrobust                                         \n",
      "==============================================================================================\n",
      "                                 coef    std err          t      P>|t|      [0.025      0.975]\n",
      "----------------------------------------------------------------------------------------------\n",
      "const                          5.3749      0.023    232.728      0.000       5.330       5.420\n",
      "Escolaridade após 2005         0.3282      0.002    217.288      0.000       0.325       0.331\n",
      "Qtd Hora Contr                 0.0113      0.000     36.580      0.000       0.011       0.012\n",
      "idadecent                      0.0361      0.000    201.302      0.000       0.036       0.036\n",
      "Idade_quad                    -0.0010    1.1e-05    -95.465      0.000      -0.001      -0.001\n",
      "Brasileiro                    -0.3115      0.015    -20.390      0.000      -0.341      -0.282\n",
      "Branco                         0.1525      0.003     54.548      0.000       0.147       0.158\n",
      "Tempo Emprego                  0.0030   2.74e-05    110.109      0.000       0.003       0.003\n",
      "Sexo Trabalhador_Masculino     0.2469      0.003     87.900      0.000       0.241       0.252\n",
      "==============================================================================\n",
      "Omnibus:                     2310.330   Durbin-Watson:                   1.266\n",
      "Prob(Omnibus):                  0.000   Jarque-Bera (JB):             2764.331\n",
      "Skew:                           0.175   Prob(JB):                         0.00\n",
      "Kurtosis:                       3.383   Cond. No.                     3.62e+03\n",
      "==============================================================================\n",
      "\n",
      "Warnings:\n",
      "[1] Standard Errors assume that the covariance matrix of the errors is correctly specified.\n",
      "[2] The condition number is large, 3.62e+03. This might indicate that there are\n",
      "strong multicollinearity or other numerical problems.\n"
     ]
    }
   ],
   "source": [
    "regressao = sm.OLS(y, X).fit()\n",
    "print(regressao.summary())"
   ]
  },
  {
   "cell_type": "code",
   "execution_count": 272,
   "metadata": {},
   "outputs": [
    {
     "name": "stderr",
     "output_type": "stream",
     "text": [
      "C:\\Users\\Neylson\\Anaconda3\\lib\\site-packages\\scipy\\stats\\stats.py:2315: RuntimeWarning: invalid value encountered in true_divide\n",
      "  return (a - mns) / sstd\n"
     ]
    }
   ],
   "source": [
    "Xpad = X.apply(stats.zscore)"
   ]
  },
  {
   "cell_type": "code",
   "execution_count": 273,
   "metadata": {},
   "outputs": [],
   "source": [
    "Xpad = Xpad.drop(columns=\"const\")"
   ]
  },
  {
   "cell_type": "code",
   "execution_count": 274,
   "metadata": {},
   "outputs": [
    {
     "name": "stdout",
     "output_type": "stream",
     "text": [
      "                                 OLS Regression Results                                \n",
      "=======================================================================================\n",
      "Dep. Variable:     Vl Remun Média Nom   R-squared (uncentered):                   0.004\n",
      "Model:                            OLS   Adj. R-squared (uncentered):              0.004\n",
      "Method:                 Least Squares   F-statistic:                              131.1\n",
      "Date:                Mon, 10 Feb 2020   Prob (F-statistic):                   1.49e-220\n",
      "Time:                        15:48:52   Log-Likelihood:                     -8.7068e+05\n",
      "No. Observations:              246355   AIC:                                  1.741e+06\n",
      "Df Residuals:                  246347   BIC:                                  1.741e+06\n",
      "Df Model:                           8                                                  \n",
      "Covariance Type:            nonrobust                                                  \n",
      "==============================================================================================\n",
      "                                 coef    std err          t      P>|t|      [0.025      0.975]\n",
      "----------------------------------------------------------------------------------------------\n",
      "Escolaridade após 2005         0.2965      0.017     17.089      0.000       0.263       0.331\n",
      "Qtd Hora Contr                 0.0540      0.019      2.877      0.004       0.017       0.091\n",
      "idadecent                      0.3453      0.022     15.832      0.000       0.303       0.388\n",
      "Idade_quad                    -0.1614      0.022     -7.508      0.000      -0.204      -0.119\n",
      "Brasileiro                    -0.0268      0.017     -1.604      0.109      -0.060       0.006\n",
      "Branco                         0.0726      0.017      4.290      0.000       0.039       0.106\n",
      "Tempo Emprego                  0.1746      0.020      8.660      0.000       0.135       0.214\n",
      "Sexo Trabalhador_Masculino     0.1163      0.017      6.913      0.000       0.083       0.149\n",
      "==============================================================================\n",
      "Omnibus:                     2310.330   Durbin-Watson:                   0.008\n",
      "Prob(Omnibus):                  0.000   Jarque-Bera (JB):             2764.331\n",
      "Skew:                           0.175   Prob(JB):                         0.00\n",
      "Kurtosis:                       3.383   Cond. No.                         2.44\n",
      "==============================================================================\n",
      "\n",
      "Warnings:\n",
      "[1] Standard Errors assume that the covariance matrix of the errors is correctly specified.\n"
     ]
    }
   ],
   "source": [
    "regpad = sm.OLS(y, Xpad).fit()\n",
    "print(regpad.summary())"
   ]
  },
  {
   "cell_type": "markdown",
   "metadata": {},
   "source": [
    "---\n",
    "\n",
    "## Testar\n",
    "\n",
    "- termo interativo entre sexo e branco\n",
    "- termo interativo entre sexo e escolaridade\n",
    "- termo interativo entre sexo e idade (análise do efeito senioridade)"
   ]
  },
  {
   "cell_type": "code",
   "execution_count": 297,
   "metadata": {},
   "outputs": [
    {
     "data": {
      "image/png": "[encoded data removed]",
      "text/plain": [
       "<Figure size 720x360 with 1 Axes>"
      ]
     },
     "metadata": {},
     "output_type": "display_data"
    }
   ],
   "source": [
    "fig, ax = plt.subplots(figsize=(10,5))\n",
    "interaction_plot(bd.Branco, bd[\"Sexo Trabalhador\"], bd[\"Vl Remun Média Nom\"], ax=ax)\n",
    "plt.title(\"Teste de Interação Sexo X Branco\")\n",
    "plt.show()"
   ]
  },
  {
   "cell_type": "code",
   "execution_count": 293,
   "metadata": {},
   "outputs": [
    {
     "data": {
      "image/png": "[encoded data removed]",
      "text/plain": [
       "<Figure size 720x360 with 1 Axes>"
      ]
     },
     "metadata": {},
     "output_type": "display_data"
    }
   ],
   "source": [
    "fig, ax = plt.subplots(figsize=(10,5))\n",
    "interaction_plot(bd[\"Escolaridade após 2005\"], bd[\"Sexo Trabalhador\"], bd[\"Vl Remun Média Nom\"], ax=ax)\n",
    "plt.title(\"Teste de Interação Sexo X Escolaridade\")\n",
    "plt.show()"
   ]
  },
  {
   "cell_type": "code",
   "execution_count": 299,
   "metadata": {},
   "outputs": [
    {
     "data": {
      "image/png": "[encoded data removed]",
      "text/plain": [
       "<Figure size 720x360 with 1 Axes>"
      ]
     },
     "metadata": {},
     "output_type": "display_data"
    }
   ],
   "source": [
    "fig, ax = plt.subplots(figsize=(10,5))\n",
    "interaction_plot(bd.Idade, bd[\"Sexo Trabalhador\"], bd[\"Vl Remun Média Nom\"], ax=ax)\n",
    "plt.title('Teste de Interação Sexo X Idade - Análise do efeito \"Senioridade\"')\n",
    "plt.show()"
   ]
  },
  {
   "cell_type": "code",
   "execution_count": 280,
   "metadata": {},
   "outputs": [
    {
     "ename": "SyntaxError",
     "evalue": "invalid syntax (<unknown>, line 1)",
     "output_type": "error",
     "traceback": [
      "Traceback \u001b[1;36m(most recent call last)\u001b[0m:\n",
      "  File \u001b[0;32m\"C:\\Users\\Neylson\\Anaconda3\\lib\\site-packages\\IPython\\core\\interactiveshell.py\"\u001b[0m, line \u001b[0;32m3319\u001b[0m, in \u001b[0;35mrun_code\u001b[0m\n    exec(code_obj, self.user_global_ns, self.user_ns)\n",
      "  File \u001b[0;32m\"<ipython-input-280-616afb347dd6>\"\u001b[0m, line \u001b[0;32m2\u001b[0m, in \u001b[0;35m<module>\u001b[0m\n    Qtd Hora Contr + idadecent + Idade_quad + Brasileiro + Branco + Tempo Emprego\", data=bd).fit()\n",
      "  File \u001b[0;32m\"C:\\Users\\Neylson\\Anaconda3\\lib\\site-packages\\statsmodels\\base\\model.py\"\u001b[0m, line \u001b[0;32m159\u001b[0m, in \u001b[0;35mfrom_formula\u001b[0m\n    missing=missing)\n",
      "  File \u001b[0;32m\"C:\\Users\\Neylson\\Anaconda3\\lib\\site-packages\\statsmodels\\formula\\formulatools.py\"\u001b[0m, line \u001b[0;32m65\u001b[0m, in \u001b[0;35mhandle_formula_data\u001b[0m\n    NA_action=na_action)\n",
      "  File \u001b[0;32m\"C:\\Users\\Neylson\\Anaconda3\\lib\\site-packages\\patsy\\highlevel.py\"\u001b[0m, line \u001b[0;32m310\u001b[0m, in \u001b[0;35mdmatrices\u001b[0m\n    NA_action, return_type)\n",
      "  File \u001b[0;32m\"C:\\Users\\Neylson\\Anaconda3\\lib\\site-packages\\patsy\\highlevel.py\"\u001b[0m, line \u001b[0;32m165\u001b[0m, in \u001b[0;35m_do_highlevel_design\u001b[0m\n    NA_action)\n",
      "  File \u001b[0;32m\"C:\\Users\\Neylson\\Anaconda3\\lib\\site-packages\\patsy\\highlevel.py\"\u001b[0m, line \u001b[0;32m70\u001b[0m, in \u001b[0;35m_try_incr_builders\u001b[0m\n    NA_action)\n",
      "  File \u001b[0;32m\"C:\\Users\\Neylson\\Anaconda3\\lib\\site-packages\\patsy\\build.py\"\u001b[0m, line \u001b[0;32m689\u001b[0m, in \u001b[0;35mdesign_matrix_builders\u001b[0m\n    factor_states = _factors_memorize(all_factors, data_iter_maker, eval_env)\n",
      "  File \u001b[0;32m\"C:\\Users\\Neylson\\Anaconda3\\lib\\site-packages\\patsy\\build.py\"\u001b[0m, line \u001b[0;32m354\u001b[0m, in \u001b[0;35m_factors_memorize\u001b[0m\n    which_pass = factor.memorize_passes_needed(state, eval_env)\n",
      "  File \u001b[0;32m\"C:\\Users\\Neylson\\Anaconda3\\lib\\site-packages\\patsy\\eval.py\"\u001b[0m, line \u001b[0;32m474\u001b[0m, in \u001b[0;35mmemorize_passes_needed\u001b[0m\n    subset_names = [name for name in ast_names(self.code)\n",
      "  File \u001b[0;32m\"C:\\Users\\Neylson\\Anaconda3\\lib\\site-packages\\patsy\\eval.py\"\u001b[0m, line \u001b[0;32m474\u001b[0m, in \u001b[0;35m<listcomp>\u001b[0m\n    subset_names = [name for name in ast_names(self.code)\n",
      "  File \u001b[0;32m\"C:\\Users\\Neylson\\Anaconda3\\lib\\site-packages\\patsy\\eval.py\"\u001b[0m, line \u001b[0;32m105\u001b[0m, in \u001b[0;35mast_names\u001b[0m\n    for node in ast.walk(ast.parse(code)):\n",
      "\u001b[1;36m  File \u001b[1;32m\"C:\\Users\\Neylson\\Anaconda3\\lib\\ast.py\"\u001b[1;36m, line \u001b[1;32m35\u001b[1;36m, in \u001b[1;35mparse\u001b[1;36m\u001b[0m\n\u001b[1;33m    return compile(source, filename, mode, PyCF_ONLY_AST)\u001b[0m\n",
      "\u001b[1;36m  File \u001b[1;32m\"<unknown>\"\u001b[1;36m, line \u001b[1;32m1\u001b[0m\n\u001b[1;33m    Qtd Hora Contr\u001b[0m\n\u001b[1;37m           ^\u001b[0m\n\u001b[1;31mSyntaxError\u001b[0m\u001b[1;31m:\u001b[0m invalid syntax\n"
     ]
    }
   ],
   "source": [
    "regressao1 = smf.ols(formula=\"np.log(Vl Remun Média Nom) ~ Sexo Trabalhador + Escolaridade após 2005 +\\\n",
    "                            Qtd Hora Contr + idadecent + Idade_quad + Brasileiro + Branco + Tempo Emprego\", data=bd).fit()\n",
    "print(regressao1.summary())"
   ]
  },
  {
   "cell_type": "markdown",
   "metadata": {},
   "source": [
    "---\n",
    "\n",
    "## Análise de resíduos"
   ]
  },
  {
   "cell_type": "code",
   "execution_count": 298,
   "metadata": {},
   "outputs": [
    {
     "data": {
      "text/plain": [
       "(array([1.2000e+01, 1.1000e+02, 1.3650e+03, 2.4253e+04, 9.0470e+04,\n",
       "        9.5579e+04, 2.9926e+04, 4.1610e+03, 4.5000e+02, 2.9000e+01]),\n",
       " array([-3.78243298, -3.03753544, -2.29263791, -1.54774037, -0.80284283,\n",
       "        -0.0579453 ,  0.68695224,  1.43184977,  2.17674731,  2.92164484,\n",
       "         3.66654238]),\n",
       " <a list of 10 Patch objects>)"
      ]
     },
     "execution_count": 298,
     "metadata": {},
     "output_type": "execute_result"
    },
    {
     "data": {
      "image/png": "[encoded data removed]",
      "text/plain": [
       "<Figure size 432x288 with 1 Axes>"
      ]
     },
     "metadata": {},
     "output_type": "display_data"
    }
   ],
   "source": [
    "plt.hist(regressao.resid, edgecolor=\"black\")"
   ]
  },
  {
   "cell_type": "code",
   "execution_count": 276,
   "metadata": {},
   "outputs": [
    {
     "data": {
      "text/plain": [
       "<matplotlib.collections.PathCollection at 0x28217fc1488>"
      ]
     },
     "execution_count": 276,
     "metadata": {},
     "output_type": "execute_result"
    },
    {
     "data": {
      "image/png": "[encoded data removed]",
      "text/plain": [
       "<Figure size 432x288 with 1 Axes>"
      ]
     },
     "metadata": {},
     "output_type": "display_data"
    }
   ],
   "source": [
    "yhat = regressao.predict()\n",
    "plt.scatter(yhat, regressao.resid, alpha=.2)"
   ]
  },
  {
   "cell_type": "code",
   "execution_count": 277,
   "metadata": {},
   "outputs": [
    {
     "data": {
      "text/plain": [
       "(5, 12)"
      ]
     },
     "execution_count": 277,
     "metadata": {},
     "output_type": "execute_result"
    },
    {
     "data": {
      "image/png": "[encoded data removed]",
      "text/plain": [
       "<Figure size 432x288 with 1 Axes>"
      ]
     },
     "metadata": {},
     "output_type": "display_data"
    }
   ],
   "source": [
    "plt.scatter(y, yhat, alpha=.2)\n",
    "plt.xlim((5, 12))\n",
    "plt.ylim((5, 12))"
   ]
  }
 ],
 "metadata": {
  "kernelspec": {
   "display_name": "Python3",
   "language": "python",
   "name": "python3"
  },
  "language_info": {
   "codemirror_mode": {
    "name": "ipython",
    "version": 3
   },
   "file_extension": ".py",
   "mimetype": "text/x-python",
   "name": "python",
   "nbconvert_exporter": "python",
   "pygments_lexer": "ipython3",
   "version": "3.7.5"
  }
 },
 "nbformat": 4,
 "nbformat_minor": 4
}
