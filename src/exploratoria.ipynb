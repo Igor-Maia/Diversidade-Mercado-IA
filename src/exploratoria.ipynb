{
 "cells": [
  {
   "cell_type": "markdown",
   "metadata": {},
   "source": [
    "# Panorama da desigualdade de gênero no mercado de Inteligência Artificial no Brasil\n",
    "\n",
    "## Prof. Dr. Neylson Crepalde"
   ]
  },
  {
   "cell_type": "code",
   "execution_count": 1,
   "metadata": {},
   "outputs": [],
   "source": [
    "import pandas as pd\n",
    "import numpy as np\n",
    "import dask.dataframe as dd"
   ]
  },
  {
   "cell_type": "code",
   "execution_count": null,
   "metadata": {},
   "outputs": [],
   "source": [
    "sud = pd.read_csv(\"../RAIS_VINC_PUB_MG_ES_RJ/RAIS_VINC_PUB_MG_ES_RJ.txt\", sep=';', encoding='latin1')\n",
    "sud.head()\n",
    "\n",
    "sud.columns\n",
    "\n",
    "sud[\"CNAE 2.0 Classe\"].dtype\n",
    "\n",
    "sud = sud.loc[(sud[\"CNAE 2.0 Classe\"] >= 62000) & (sud[\"CNAE 2.0 Classe\"] < 62050) ,:]\n",
    "sud.shape\n",
    "\n",
    "sud.to_csv(\"../data/rais_mg_es_rj.csv\", sep=\"\\t\", index=False)\n",
    "\n",
    "del(sud)"
   ]
  },
  {
   "cell_type": "code",
   "execution_count": null,
   "metadata": {},
   "outputs": [],
   "source": [
    "sp = dd.read_csv(\"../RAIS_VINC_PUB_SP/RAIS_VINC_PUB_SP.txt\", sep=';', encoding=\"latin1\", dtype={'CBO Ocupação 2002': 'object'})\n",
    "sp = sp.loc[(sp[\"CNAE 2.0 Classe\"] >= 62000) & (sp[\"CNAE 2.0 Classe\"] < 62050) ,:]\n",
    "print(sp.shape)\n",
    "print(sp.columns)\n",
    "\n",
    "computed_sp = sp.compute()\n",
    "\n",
    "computed_sp.shape\n",
    "\n",
    "computed_sp.to_csv(\"../data/rais_sp.csv\", sep=\"\\t\", index=False)\n",
    "\n",
    "del(computed_sp)"
   ]
  },
  {
   "cell_type": "code",
   "execution_count": 2,
   "metadata": {},
   "outputs": [
    {
     "name": "stderr",
     "output_type": "stream",
     "text": [
      "C:\\Users\\Neylson\\Anaconda3\\lib\\site-packages\\IPython\\core\\interactiveshell.py:3051: DtypeWarning: Columns (7) have mixed types. Specify dtype option on import or set low_memory=False.\n",
      "  interactivity=interactivity, compiler=compiler, result=result)\n"
     ]
    }
   ],
   "source": [
    "# Dar um merge de linhas nos dois bancos...\n",
    "sul = pd.concat([\n",
    "    pd.read_csv(\"../data/rais_mg_es_rj.csv\", sep='\\t'),\n",
    "    pd.read_csv(\"../data/rais_sp.csv\", sep='\\t')\n",
    "], axis=0)"
   ]
  },
  {
   "cell_type": "code",
   "execution_count": 3,
   "metadata": {},
   "outputs": [
    {
     "data": {
      "text/plain": [
       "(250621, 62)"
      ]
     },
     "execution_count": 3,
     "metadata": {},
     "output_type": "execute_result"
    }
   ],
   "source": [
    "sul.shape"
   ]
  },
  {
   "cell_type": "code",
   "execution_count": 4,
   "metadata": {},
   "outputs": [
    {
     "data": {
      "text/plain": [
       "Index(['Bairros SP', 'Bairros Fortaleza', 'Bairros RJ', 'Causa Afastamento 1',\n",
       "       'Causa Afastamento 2', 'Causa Afastamento 3', 'Motivo Desligamento',\n",
       "       'CBO Ocupação 2002', 'CNAE 2.0 Classe', 'CNAE 95 Classe',\n",
       "       'Distritos SP', 'Vínculo Ativo 31/12', 'Faixa Etária',\n",
       "       'Faixa Hora Contrat', 'Faixa Remun Dezem (SM)',\n",
       "       'Faixa Remun Média (SM)', 'Faixa Tempo Emprego',\n",
       "       'Escolaridade após 2005', 'Qtd Hora Contr', 'Idade',\n",
       "       'Ind CEI Vinculado', 'Ind Simples', 'Mês Admissão', 'Mês Desligamento',\n",
       "       'Mun Trab', 'Município', 'Nacionalidade', 'Natureza Jurídica',\n",
       "       'Ind Portador Defic', 'Qtd Dias Afastamento', 'Raça Cor',\n",
       "       'Regiões Adm DF', 'Vl Remun Dezembro Nom', 'Vl Remun Dezembro (SM)',\n",
       "       'Vl Remun Média Nom', 'Vl Remun Média (SM)', 'CNAE 2.0 Subclasse',\n",
       "       'Sexo Trabalhador', 'Tamanho Estabelecimento', 'Tempo Emprego',\n",
       "       'Tipo Admissão', 'Tipo Estab', 'Tipo Estab.1', 'Tipo Defic',\n",
       "       'Tipo Vínculo', 'IBGE Subsetor', 'Vl Rem Janeiro CC',\n",
       "       'Vl Rem Fevereiro CC', 'Vl Rem Março CC', 'Vl Rem Abril CC',\n",
       "       'Vl Rem Maio CC', 'Vl Rem Junho CC', 'Vl Rem Julho CC',\n",
       "       'Vl Rem Agosto CC', 'Vl Rem Setembro CC', 'Vl Rem Outubro CC',\n",
       "       'Vl Rem Novembro CC', 'Ano Chegada Brasil', 'Ind Trab Intermitente',\n",
       "       'Ind Trab Parcial', 'Tipo Salário', 'Vl Salário Contratual'],\n",
       "      dtype='object')"
      ]
     },
     "execution_count": 4,
     "metadata": {},
     "output_type": "execute_result"
    }
   ],
   "source": [
    "sul.columns"
   ]
  },
  {
   "cell_type": "markdown",
   "metadata": {},
   "source": [
    "---\n",
    "\n",
    "# Análise Exploratória de Dados\n",
    "\n",
    "## Sexo"
   ]
  },
  {
   "cell_type": "code",
   "execution_count": 7,
   "metadata": {},
   "outputs": [
    {
     "name": "stdout",
     "output_type": "stream",
     "text": [
      "1    167055\n",
      "2     83566\n",
      "Name: Sexo Trabalhador, dtype: int64\n",
      "1    66.66\n",
      "2    33.34\n",
      "Name: Sexo Trabalhador, dtype: float64\n"
     ]
    }
   ],
   "source": [
    "print(sul['Sexo Trabalhador'].value_counts())\n",
    "print(((sul['Sexo Trabalhador'].value_counts() / sul.shape[0] )*100).round(2))"
   ]
  },
  {
   "cell_type": "code",
   "execution_count": 8,
   "metadata": {},
   "outputs": [
    {
     "data": {
      "text/html": [
       "<div>\n",
       "<style scoped>\n",
       "    .dataframe tbody tr th:only-of-type {\n",
       "        vertical-align: middle;\n",
       "    }\n",
       "\n",
       "    .dataframe tbody tr th {\n",
       "        vertical-align: top;\n",
       "    }\n",
       "\n",
       "    .dataframe thead th {\n",
       "        text-align: right;\n",
       "    }\n",
       "</style>\n",
       "<table border=\"1\" class=\"dataframe\">\n",
       "  <thead>\n",
       "    <tr style=\"text-align: right;\">\n",
       "      <th>Faixa Hora Contrat</th>\n",
       "      <th>1</th>\n",
       "      <th>2</th>\n",
       "      <th>3</th>\n",
       "      <th>4</th>\n",
       "      <th>5</th>\n",
       "      <th>6</th>\n",
       "    </tr>\n",
       "    <tr>\n",
       "      <th>Sexo Trabalhador</th>\n",
       "      <th></th>\n",
       "      <th></th>\n",
       "      <th></th>\n",
       "      <th></th>\n",
       "      <th></th>\n",
       "      <th></th>\n",
       "    </tr>\n",
       "  </thead>\n",
       "  <tbody>\n",
       "    <tr>\n",
       "      <th>1</th>\n",
       "      <td>2281</td>\n",
       "      <td>36</td>\n",
       "      <td>584</td>\n",
       "      <td>2107</td>\n",
       "      <td>132507</td>\n",
       "      <td>29540</td>\n",
       "    </tr>\n",
       "    <tr>\n",
       "      <th>2</th>\n",
       "      <td>1617</td>\n",
       "      <td>44</td>\n",
       "      <td>588</td>\n",
       "      <td>2430</td>\n",
       "      <td>62958</td>\n",
       "      <td>15929</td>\n",
       "    </tr>\n",
       "  </tbody>\n",
       "</table>\n",
       "</div>"
      ],
      "text/plain": [
       "Faixa Hora Contrat     1   2    3     4       5      6\n",
       "Sexo Trabalhador                                      \n",
       "1                   2281  36  584  2107  132507  29540\n",
       "2                   1617  44  588  2430   62958  15929"
      ]
     },
     "execution_count": 8,
     "metadata": {},
     "output_type": "execute_result"
    }
   ],
   "source": [
    "pd.crosstab(sul[\"Sexo Trabalhador\"], sul[\"Faixa Hora Contrat\"])"
   ]
  },
  {
   "cell_type": "code",
   "execution_count": 9,
   "metadata": {},
   "outputs": [
    {
     "data": {
      "text/html": [
       "<div>\n",
       "<style scoped>\n",
       "    .dataframe tbody tr th:only-of-type {\n",
       "        vertical-align: middle;\n",
       "    }\n",
       "\n",
       "    .dataframe tbody tr th {\n",
       "        vertical-align: top;\n",
       "    }\n",
       "\n",
       "    .dataframe thead th {\n",
       "        text-align: right;\n",
       "    }\n",
       "</style>\n",
       "<table border=\"1\" class=\"dataframe\">\n",
       "  <thead>\n",
       "    <tr style=\"text-align: right;\">\n",
       "      <th>Faixa Remun Dezem (SM)</th>\n",
       "      <th>0</th>\n",
       "      <th>1</th>\n",
       "      <th>2</th>\n",
       "      <th>3</th>\n",
       "      <th>4</th>\n",
       "      <th>5</th>\n",
       "      <th>6</th>\n",
       "      <th>7</th>\n",
       "      <th>8</th>\n",
       "      <th>9</th>\n",
       "      <th>10</th>\n",
       "      <th>11</th>\n",
       "      <th>12</th>\n",
       "      <th>99</th>\n",
       "    </tr>\n",
       "    <tr>\n",
       "      <th>Sexo Trabalhador</th>\n",
       "      <th></th>\n",
       "      <th></th>\n",
       "      <th></th>\n",
       "      <th></th>\n",
       "      <th></th>\n",
       "      <th></th>\n",
       "      <th></th>\n",
       "      <th></th>\n",
       "      <th></th>\n",
       "      <th></th>\n",
       "      <th></th>\n",
       "      <th></th>\n",
       "      <th></th>\n",
       "      <th></th>\n",
       "    </tr>\n",
       "  </thead>\n",
       "  <tbody>\n",
       "    <tr>\n",
       "      <th>1</th>\n",
       "      <td>50294</td>\n",
       "      <td>252</td>\n",
       "      <td>1081</td>\n",
       "      <td>4907</td>\n",
       "      <td>11549</td>\n",
       "      <td>17772</td>\n",
       "      <td>12618</td>\n",
       "      <td>9715</td>\n",
       "      <td>15323</td>\n",
       "      <td>16623</td>\n",
       "      <td>13429</td>\n",
       "      <td>5685</td>\n",
       "      <td>6139</td>\n",
       "      <td>1668</td>\n",
       "    </tr>\n",
       "    <tr>\n",
       "      <th>2</th>\n",
       "      <td>25382</td>\n",
       "      <td>226</td>\n",
       "      <td>1407</td>\n",
       "      <td>6630</td>\n",
       "      <td>7872</td>\n",
       "      <td>9973</td>\n",
       "      <td>6617</td>\n",
       "      <td>4920</td>\n",
       "      <td>6593</td>\n",
       "      <td>5574</td>\n",
       "      <td>3955</td>\n",
       "      <td>1682</td>\n",
       "      <td>1639</td>\n",
       "      <td>1096</td>\n",
       "    </tr>\n",
       "  </tbody>\n",
       "</table>\n",
       "</div>"
      ],
      "text/plain": [
       "Faixa Remun Dezem (SM)     0    1     2     3      4      5      6     7   \\\n",
       "Sexo Trabalhador                                                            \n",
       "1                       50294  252  1081  4907  11549  17772  12618  9715   \n",
       "2                       25382  226  1407  6630   7872   9973   6617  4920   \n",
       "\n",
       "Faixa Remun Dezem (SM)     8      9      10    11    12    99  \n",
       "Sexo Trabalhador                                               \n",
       "1                       15323  16623  13429  5685  6139  1668  \n",
       "2                        6593   5574   3955  1682  1639  1096  "
      ]
     },
     "execution_count": 9,
     "metadata": {},
     "output_type": "execute_result"
    }
   ],
   "source": [
    "pd.crosstab(sul[\"Sexo Trabalhador\"], sul[\"Faixa Remun Dezem (SM)\"])"
   ]
  },
  {
   "cell_type": "code",
   "execution_count": 10,
   "metadata": {},
   "outputs": [
    {
     "data": {
      "text/html": [
       "<div>\n",
       "<style scoped>\n",
       "    .dataframe tbody tr th:only-of-type {\n",
       "        vertical-align: middle;\n",
       "    }\n",
       "\n",
       "    .dataframe tbody tr th {\n",
       "        vertical-align: top;\n",
       "    }\n",
       "\n",
       "    .dataframe thead th {\n",
       "        text-align: right;\n",
       "    }\n",
       "</style>\n",
       "<table border=\"1\" class=\"dataframe\">\n",
       "  <thead>\n",
       "    <tr style=\"text-align: right;\">\n",
       "      <th>Faixa Remun Média (SM)</th>\n",
       "      <th>0</th>\n",
       "      <th>1</th>\n",
       "      <th>2</th>\n",
       "      <th>3</th>\n",
       "      <th>4</th>\n",
       "      <th>5</th>\n",
       "      <th>6</th>\n",
       "      <th>7</th>\n",
       "      <th>8</th>\n",
       "      <th>9</th>\n",
       "      <th>10</th>\n",
       "      <th>11</th>\n",
       "      <th>99</th>\n",
       "    </tr>\n",
       "    <tr>\n",
       "      <th>Sexo Trabalhador</th>\n",
       "      <th></th>\n",
       "      <th></th>\n",
       "      <th></th>\n",
       "      <th></th>\n",
       "      <th></th>\n",
       "      <th></th>\n",
       "      <th></th>\n",
       "      <th></th>\n",
       "      <th></th>\n",
       "      <th></th>\n",
       "      <th></th>\n",
       "      <th></th>\n",
       "      <th></th>\n",
       "    </tr>\n",
       "  </thead>\n",
       "  <tbody>\n",
       "    <tr>\n",
       "      <th>1</th>\n",
       "      <td>380</td>\n",
       "      <td>1770</td>\n",
       "      <td>10711</td>\n",
       "      <td>19751</td>\n",
       "      <td>26515</td>\n",
       "      <td>17919</td>\n",
       "      <td>13809</td>\n",
       "      <td>21772</td>\n",
       "      <td>22332</td>\n",
       "      <td>16645</td>\n",
       "      <td>6586</td>\n",
       "      <td>6946</td>\n",
       "      <td>1919</td>\n",
       "    </tr>\n",
       "    <tr>\n",
       "      <th>2</th>\n",
       "      <td>344</td>\n",
       "      <td>2301</td>\n",
       "      <td>13164</td>\n",
       "      <td>12402</td>\n",
       "      <td>14082</td>\n",
       "      <td>9232</td>\n",
       "      <td>6554</td>\n",
       "      <td>8792</td>\n",
       "      <td>7098</td>\n",
       "      <td>4607</td>\n",
       "      <td>1917</td>\n",
       "      <td>1830</td>\n",
       "      <td>1243</td>\n",
       "    </tr>\n",
       "  </tbody>\n",
       "</table>\n",
       "</div>"
      ],
      "text/plain": [
       "Faixa Remun Média (SM)   0     1      2      3      4      5      6      7   \\\n",
       "Sexo Trabalhador                                                              \n",
       "1                       380  1770  10711  19751  26515  17919  13809  21772   \n",
       "2                       344  2301  13164  12402  14082   9232   6554   8792   \n",
       "\n",
       "Faixa Remun Média (SM)     8      9     10    11    99  \n",
       "Sexo Trabalhador                                        \n",
       "1                       22332  16645  6586  6946  1919  \n",
       "2                        7098   4607  1917  1830  1243  "
      ]
     },
     "execution_count": 10,
     "metadata": {},
     "output_type": "execute_result"
    }
   ],
   "source": [
    "pd.crosstab(sul[\"Sexo Trabalhador\"], sul[\"Faixa Remun Média (SM)\"])"
   ]
  },
  {
   "cell_type": "code",
   "execution_count": 20,
   "metadata": {},
   "outputs": [
    {
     "data": {
      "text/html": [
       "<div>\n",
       "<style scoped>\n",
       "    .dataframe tbody tr th:only-of-type {\n",
       "        vertical-align: middle;\n",
       "    }\n",
       "\n",
       "    .dataframe tbody tr th {\n",
       "        vertical-align: top;\n",
       "    }\n",
       "\n",
       "    .dataframe thead th {\n",
       "        text-align: right;\n",
       "    }\n",
       "</style>\n",
       "<table border=\"1\" class=\"dataframe\">\n",
       "  <thead>\n",
       "    <tr style=\"text-align: right;\">\n",
       "      <th>Faixa Tempo Emprego</th>\n",
       "      <th>1</th>\n",
       "      <th>2</th>\n",
       "      <th>3</th>\n",
       "      <th>4</th>\n",
       "      <th>5</th>\n",
       "      <th>6</th>\n",
       "      <th>7</th>\n",
       "      <th>8</th>\n",
       "      <th>99</th>\n",
       "    </tr>\n",
       "    <tr>\n",
       "      <th>Sexo Trabalhador</th>\n",
       "      <th></th>\n",
       "      <th></th>\n",
       "      <th></th>\n",
       "      <th></th>\n",
       "      <th></th>\n",
       "      <th></th>\n",
       "      <th></th>\n",
       "      <th></th>\n",
       "      <th></th>\n",
       "    </tr>\n",
       "  </thead>\n",
       "  <tbody>\n",
       "    <tr>\n",
       "      <th>1</th>\n",
       "      <td>20846</td>\n",
       "      <td>17929</td>\n",
       "      <td>27948</td>\n",
       "      <td>31247</td>\n",
       "      <td>17180</td>\n",
       "      <td>22580</td>\n",
       "      <td>21302</td>\n",
       "      <td>7861</td>\n",
       "      <td>162</td>\n",
       "    </tr>\n",
       "    <tr>\n",
       "      <th>2</th>\n",
       "      <td>11746</td>\n",
       "      <td>8154</td>\n",
       "      <td>13771</td>\n",
       "      <td>15452</td>\n",
       "      <td>8804</td>\n",
       "      <td>10873</td>\n",
       "      <td>9991</td>\n",
       "      <td>4684</td>\n",
       "      <td>91</td>\n",
       "    </tr>\n",
       "  </tbody>\n",
       "</table>\n",
       "</div>"
      ],
      "text/plain": [
       "Faixa Tempo Emprego     1      2      3      4      5      6      7     8   \\\n",
       "Sexo Trabalhador                                                             \n",
       "1                    20846  17929  27948  31247  17180  22580  21302  7861   \n",
       "2                    11746   8154  13771  15452   8804  10873   9991  4684   \n",
       "\n",
       "Faixa Tempo Emprego   99  \n",
       "Sexo Trabalhador          \n",
       "1                    162  \n",
       "2                     91  "
      ]
     },
     "execution_count": 20,
     "metadata": {},
     "output_type": "execute_result"
    }
   ],
   "source": [
    "pd.crosstab(sul[\"Sexo Trabalhador\"], sul[\"Faixa Tempo Emprego\"])"
   ]
  },
  {
   "cell_type": "code",
   "execution_count": 22,
   "metadata": {},
   "outputs": [
    {
     "data": {
      "text/html": [
       "<div>\n",
       "<style scoped>\n",
       "    .dataframe tbody tr th:only-of-type {\n",
       "        vertical-align: middle;\n",
       "    }\n",
       "\n",
       "    .dataframe tbody tr th {\n",
       "        vertical-align: top;\n",
       "    }\n",
       "\n",
       "    .dataframe thead th {\n",
       "        text-align: right;\n",
       "    }\n",
       "</style>\n",
       "<table border=\"1\" class=\"dataframe\">\n",
       "  <thead>\n",
       "    <tr style=\"text-align: right;\">\n",
       "      <th></th>\n",
       "      <th>Idade</th>\n",
       "    </tr>\n",
       "    <tr>\n",
       "      <th>Sexo Trabalhador</th>\n",
       "      <th></th>\n",
       "    </tr>\n",
       "  </thead>\n",
       "  <tbody>\n",
       "    <tr>\n",
       "      <th>1</th>\n",
       "      <td>34.004927</td>\n",
       "    </tr>\n",
       "    <tr>\n",
       "      <th>2</th>\n",
       "      <td>33.562669</td>\n",
       "    </tr>\n",
       "  </tbody>\n",
       "</table>\n",
       "</div>"
      ],
      "text/plain": [
       "                      Idade\n",
       "Sexo Trabalhador           \n",
       "1                 34.004927\n",
       "2                 33.562669"
      ]
     },
     "execution_count": 22,
     "metadata": {},
     "output_type": "execute_result"
    }
   ],
   "source": [
    "sul.groupby(\"Sexo Trabalhador\").agg({\"Idade\": \"mean\"})"
   ]
  }
 ],
 "metadata": {
  "kernelspec": {
   "display_name": "Python3",
   "language": "python",
   "name": "python3"
  },
  "language_info": {
   "codemirror_mode": {
    "name": "ipython",
    "version": 3
   },
   "file_extension": ".py",
   "mimetype": "text/x-python",
   "name": "python",
   "nbconvert_exporter": "python",
   "pygments_lexer": "ipython3",
   "version": "3.7.5"
  }
 },
 "nbformat": 4,
 "nbformat_minor": 4
}
