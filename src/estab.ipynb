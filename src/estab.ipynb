{
 "cells": [
  {
   "cell_type": "markdown",
   "metadata": {},
   "source": [
    "# Conta estabelecimentos\n"
   ]
  },
  {
   "cell_type": "code",
   "execution_count": 1,
   "metadata": {},
   "outputs": [],
   "source": [
    "import dask.dataframe as dd\n",
    "import numpy as np\n",
    "import pandas as pd"
   ]
  },
  {
   "cell_type": "code",
   "execution_count": 4,
   "metadata": {},
   "outputs": [
    {
     "data": {
      "text/plain": [
       "Index(['Bairros SP', 'Bairros Fortaleza', 'Bairros RJ', 'CNAE 2.0 Classe',\n",
       "       'CNAE 95 Classe', 'Distritos SP', 'Qtd Vínculos CLT',\n",
       "       'Qtd Vínculos Ativos', 'Qtd Vínculos Estatutários', 'Ind Atividade Ano',\n",
       "       'Ind CEI Vinculado', 'Ind Estab Participa PAT', 'Ind Rais Negativa',\n",
       "       'Ind Simples', 'Município', 'Natureza Jurídica', 'Regiões Adm DF',\n",
       "       'CNAE 2.0 Subclasse', 'Tamanho Estabelecimento', 'Tipo Estab',\n",
       "       'Tipo Estab.1', 'UF', 'IBGE Subsetor', 'CEP Estab'],\n",
       "      dtype='object')"
      ]
     },
     "execution_count": 4,
     "metadata": {},
     "output_type": "execute_result"
    }
   ],
   "source": [
    "estab = dd.read_csv('../data/raw/RAIS_ESTAB_PUB.txt',sep=';', encoding=\"latin1\", assume_missing=True)\n",
    "estab.columns"
   ]
  },
  {
   "cell_type": "code",
   "execution_count": 6,
   "metadata": {},
   "outputs": [
    {
     "data": {
      "text/plain": [
       "Bairros SP                    object\n",
       "Bairros Fortaleza             object\n",
       "Bairros RJ                    object\n",
       "CNAE 2.0 Classe              float64\n",
       "CNAE 95 Classe               float64\n",
       "Distritos SP                  object\n",
       "Qtd Vínculos CLT             float64\n",
       "Qtd Vínculos Ativos          float64\n",
       "Qtd Vínculos Estatutários    float64\n",
       "Ind Atividade Ano            float64\n",
       "Ind CEI Vinculado            float64\n",
       "Ind Estab Participa PAT      float64\n",
       "Ind Rais Negativa            float64\n",
       "Ind Simples                  float64\n",
       "Município                    float64\n",
       "Natureza Jurídica            float64\n",
       "Regiões Adm DF               float64\n",
       "CNAE 2.0 Subclasse           float64\n",
       "Tamanho Estabelecimento      float64\n",
       "Tipo Estab                   float64\n",
       "Tipo Estab.1                  object\n",
       "UF                           float64\n",
       "IBGE Subsetor                float64\n",
       "CEP Estab                    float64\n",
       "dtype: object"
      ]
     },
     "execution_count": 6,
     "metadata": {},
     "output_type": "execute_result"
    }
   ],
   "source": [
    "estab.dtypes"
   ]
  },
  {
   "cell_type": "code",
   "execution_count": 12,
   "metadata": {},
   "outputs": [
    {
     "data": {
      "text/plain": [
       "(42130, 3)"
      ]
     },
     "execution_count": 12,
     "metadata": {},
     "output_type": "execute_result"
    }
   ],
   "source": [
    "ufs = [31,32, 33, 35]\n",
    "estab = estab.loc[(estab.UF.isin(ufs)) & \n",
    "                  (estab[\"CNAE 2.0 Classe\"] >= 62000) & \n",
    "                  (estab[\"CNAE 2.0 Classe\"] < 62050) ,\n",
    "                  ['CNAE 2.0 Classe', 'UF', 'Natureza Jurídica']]\n",
    "estab_computed = estab.compute()\n",
    "estab_computed.shape"
   ]
  },
  {
   "cell_type": "code",
   "execution_count": 14,
   "metadata": {},
   "outputs": [
    {
     "data": {
      "text/plain": [
       "35.0    30772\n",
       "33.0     5947\n",
       "31.0     4757\n",
       "32.0      654\n",
       "Name: UF, dtype: int64"
      ]
     },
     "execution_count": 14,
     "metadata": {},
     "output_type": "execute_result"
    }
   ],
   "source": [
    "estab_computed.UF.value_counts()"
   ]
  },
  {
   "cell_type": "code",
   "execution_count": 15,
   "metadata": {},
   "outputs": [
    {
     "data": {
      "text/plain": [
       "62015.0    17019\n",
       "62040.0    14794\n",
       "62023.0     5415\n",
       "62031.0     4902\n",
       "Name: CNAE 2.0 Classe, dtype: int64"
      ]
     },
     "execution_count": 15,
     "metadata": {},
     "output_type": "execute_result"
    }
   ],
   "source": [
    "estab_computed['CNAE 2.0 Classe'].value_counts()"
   ]
  }
 ],
 "metadata": {
  "kernelspec": {
   "display_name": "Python3",
   "language": "python",
   "name": "python3"
  },
  "language_info": {
   "codemirror_mode": {
    "name": "ipython",
    "version": 3
   },
   "file_extension": ".py",
   "mimetype": "text/x-python",
   "name": "python",
   "nbconvert_exporter": "python",
   "pygments_lexer": "ipython3",
   "version": "3.7.5"
  }
 },
 "nbformat": 4,
 "nbformat_minor": 4
}
